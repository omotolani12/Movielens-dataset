{
 "cells": [
  {
   "cell_type": "markdown",
   "source": "### LOAD&nbsp;DATA",
   "metadata": {
    "cell_id": "8fd23dd9da814b2dbb5d01835b0c1da6",
    "tags": [],
    "is_collapsed": false,
    "formattedRanges": [],
    "deepnote_cell_type": "text-cell-h3"
   }
  },
  {
   "cell_type": "code",
   "metadata": {
    "tags": [],
    "cell_id": "6e7c2f12-b8c7-4b0e-aff9-57ada9bf8455",
    "deepnote_to_be_reexecuted": false,
    "source_hash": "c0dcce01",
    "execution_start": 1658154807090,
    "execution_millis": 1313,
    "deepnote_cell_type": "code",
    "deepnote_cell_height": 333
   },
   "source": "# Importing all neccessary libraries\nimport numpy as np\nimport pandas as pd\nfrom scipy.sparse import csr_matrix\nfrom sklearn.neighbors import NearestNeighbors\nimport matplotlib.pyplot as plot\nimport seaborn as snsg \n%matplotlib inline\nimport random\nimport seaborn as sns\nimport matplotlib.pyplot as plt\nfrom datetime import datetime\nimport warnings\nwarnings.filterwarnings('ignore')\nimport networkx as nx",
   "execution_count": 1,
   "outputs": []
  },
  {
   "cell_type": "code",
   "metadata": {
    "cell_id": "8d9139828a8f4b3289e6d7c89feb0d2b",
    "tags": [],
    "deepnote_to_be_reexecuted": false,
    "source_hash": "8d15ffd0",
    "execution_start": 1658154808425,
    "execution_millis": 42,
    "deepnote_cell_type": "code",
    "deepnote_cell_height": 81
   },
   "source": "from sklearn.metrics.pairwise import cosine_similarity,cosine_distances",
   "execution_count": 2,
   "outputs": []
  },
  {
   "cell_type": "code",
   "metadata": {
    "cell_id": "ca94b60ce15b459fbebbff2cb8b17e0a",
    "tags": [],
    "deepnote_to_be_reexecuted": false,
    "source_hash": "1c4d7496",
    "execution_start": 1658154808468,
    "execution_millis": 45,
    "deepnote_cell_type": "code",
    "deepnote_cell_height": 153
   },
   "source": "#reading of all movielens dataset(small data)\ndf_rating = pd.read_csv('ratings.csv')\ndf_tags = pd.read_csv('tags.csv')\ndf_movie = pd.read_csv('movies.csv')\ndf_links = pd.read_csv('links.csv')",
   "execution_count": 3,
   "outputs": []
  },
  {
   "cell_type": "markdown",
   "source": "### EXPLORATORY ANALYSIS",
   "metadata": {
    "cell_id": "05bbdaeb79104418a1e6ee1eb2547fbb",
    "tags": [],
    "is_collapsed": false,
    "formattedRanges": [],
    "deepnote_cell_type": "text-cell-h3"
   }
  },
  {
   "cell_type": "code",
   "metadata": {
    "cell_id": "f3bcad86137647a7a68a4eac5a3845e0",
    "tags": [],
    "deepnote_to_be_reexecuted": false,
    "source_hash": "e2765b76",
    "execution_start": 1658154808513,
    "execution_millis": 7,
    "deepnote_cell_type": "code",
    "deepnote_cell_height": 99
   },
   "source": "#Extracting release year from the title\ndf_movie['release_year'] = df_movie.title.str.extract(\"\\((\\d{4})\\)\", expand=True).astype(str)",
   "execution_count": 4,
   "outputs": []
  },
  {
   "cell_type": "code",
   "metadata": {
    "cell_id": "05ca2ee6cf2c4865a1dfba5dc620bb72",
    "tags": [],
    "deepnote_to_be_reexecuted": false,
    "source_hash": "158e29be",
    "execution_start": 1658154808561,
    "execution_millis": 0,
    "deepnote_cell_type": "code",
    "deepnote_cell_height": 135
   },
   "source": "#converting release year to a Datetime Object\ndf_movie['release_year'] = pd.to_datetime(df_movie.release_year, format='%Y')\ndf_movie['release_year'] = df_movie.release_year.dt.year\ndf_movie['title'] = df_movie.title.str[:-7]",
   "execution_count": 5,
   "outputs": []
  },
  {
   "cell_type": "code",
   "metadata": {
    "cell_id": "cb9dcb180a11471f8ac583b5c88ca3ab",
    "tags": [],
    "deepnote_to_be_reexecuted": false,
    "source_hash": "b9a633fa",
    "execution_start": 1658154808562,
    "execution_millis": 738,
    "deepnote_cell_type": "code",
    "deepnote_cell_height": 323.25
   },
   "source": "#Printing out the unique release year in the movie dataset\ntemp = df_movie.release_year.unique()\ntemp.sort()\nprint(temp)",
   "execution_count": 6,
   "outputs": [
    {
     "name": "stdout",
     "text": "[1902. 1903. 1908. 1915. 1916. 1917. 1919. 1920. 1921. 1922. 1923. 1924.\n 1925. 1926. 1927. 1928. 1929. 1930. 1931. 1932. 1933. 1934. 1935. 1936.\n 1937. 1938. 1939. 1940. 1941. 1942. 1943. 1944. 1945. 1946. 1947. 1948.\n 1949. 1950. 1951. 1952. 1953. 1954. 1955. 1956. 1957. 1958. 1959. 1960.\n 1961. 1962. 1963. 1964. 1965. 1966. 1967. 1968. 1969. 1970. 1971. 1972.\n 1973. 1974. 1975. 1976. 1977. 1978. 1979. 1980. 1981. 1982. 1983. 1984.\n 1985. 1986. 1987. 1988. 1989. 1990. 1991. 1992. 1993. 1994. 1995. 1996.\n 1997. 1998. 1999. 2000. 2001. 2002. 2003. 2004. 2005. 2006. 2007. 2008.\n 2009. 2010. 2011. 2012. 2013. 2014. 2015. 2016. 2017. 2018.   nan]\n",
     "output_type": "stream"
    }
   ]
  },
  {
   "cell_type": "code",
   "metadata": {
    "cell_id": "0c6b330075444725a200600fe49b89d3",
    "tags": [],
    "deepnote_to_be_reexecuted": false,
    "source_hash": "ada2a4cb",
    "execution_start": 1658154808564,
    "execution_millis": 5,
    "deepnote_cell_type": "code",
    "deepnote_cell_height": 755
   },
   "source": "#Printing out the genres in the movie dataset\ntemp = df_movie.genres.unique()\ntemp.sort()\nprint(temp)",
   "execution_count": 7,
   "outputs": [
    {
     "name": "stdout",
     "text": "['(no genres listed)' 'Action' 'Action|Adventure'\n 'Action|Adventure|Animation' 'Action|Adventure|Animation|Children'\n 'Action|Adventure|Animation|Children|Comedy'\n 'Action|Adventure|Animation|Children|Comedy|Fantasy'\n 'Action|Adventure|Animation|Children|Comedy|IMAX'\n 'Action|Adventure|Animation|Children|Comedy|Romance'\n 'Action|Adventure|Animation|Children|Comedy|Sci-Fi'\n 'Action|Adventure|Animation|Children|Comedy|Sci-Fi|IMAX'\n 'Action|Adventure|Animation|Children|Comedy|Western'\n 'Action|Adventure|Animation|Children|Fantasy'\n 'Action|Adventure|Animation|Children|Fantasy|Sci-Fi'\n 'Action|Adventure|Animation|Children|Sci-Fi'\n 'Action|Adventure|Animation|Comedy'\n 'Action|Adventure|Animation|Comedy|Crime|Mystery'\n 'Action|Adventure|Animation|Comedy|Fantasy|Mystery|Sci-Fi'\n 'Action|Adventure|Animation|Comedy|Fantasy|Sci-Fi'\n 'Action|Adventure|Animation|Comedy|Sci-Fi'\n 'Action|Adventure|Animation|Comedy|Thriller'\n 'Action|Adventure|Animation|Crime|Fantasy'\n 'Action|Adventure|Animation|Drama'\n 'Action|Adventure|Animation|Drama|Fantasy'\n 'Action|Adventure|Animation|Drama|Fantasy|Sci-Fi'\n 'Action|Adventure|Animation|Fantasy'\n 'Action|Adventure|Animation|Fantasy|IMAX'\n 'Action|Adventure|Animation|Fantasy|Sci-Fi'\n 'Action|Adventure|Animation|Horror'\n 'Action|Adventure|Animation|Horror|Sci-Fi'\n 'Action|Adventure|Animation|Sci-Fi'\n 'Action|Adventure|Animation|Sci-Fi|Thriller' 'Action|Adventure|Children'\n 'Action|Adventure|Children|Comedy'\n 'Action|Adventure|Children|Comedy|Crime'\n 'Action|Adventure|Children|Comedy|Fantasy'\n 'Action|Adventure|Children|Comedy|Fantasy|Sci-Fi'\n 'Action|Adventure|Children|Comedy|Mystery'\n 'Action|Adventure|Children|Comedy|Sci-Fi'\n 'Action|Adventure|Children|Crime|Mystery|Thriller'\n 'Action|Adventure|Children|Drama' 'Action|Adventure|Children|Fantasy'\n 'Action|Adventure|Children|Fantasy|Mystery|Thriller'\n 'Action|Adventure|Children|IMAX'\n 'Action|Adventure|Children|Mystery|Sci-Fi'\n 'Action|Adventure|Children|Sci-Fi' 'Action|Adventure|Comedy'\n 'Action|Adventure|Comedy|Crime' 'Action|Adventure|Comedy|Crime|Drama'\n 'Action|Adventure|Comedy|Crime|Drama|Film-Noir|Horror|Mystery|Thriller|Western'\n 'Action|Adventure|Comedy|Crime|Fantasy'\n 'Action|Adventure|Comedy|Crime|Mystery|Thriller'\n 'Action|Adventure|Comedy|Crime|Romance|Thriller'\n 'Action|Adventure|Comedy|Crime|Thriller'\n 'Action|Adventure|Comedy|Documentary|Fantasy'\n 'Action|Adventure|Comedy|Drama'\n 'Action|Adventure|Comedy|Drama|Fantasy|Thriller'\n 'Action|Adventure|Comedy|Drama|Romance'\n 'Action|Adventure|Comedy|Drama|Romance|Thriller'\n 'Action|Adventure|Comedy|Drama|Romance|War'\n 'Action|Adventure|Comedy|Drama|Thriller'\n 'Action|Adventure|Comedy|Drama|War' 'Action|Adventure|Comedy|Fantasy'\n 'Action|Adventure|Comedy|Fantasy|Horror'\n 'Action|Adventure|Comedy|Fantasy|Horror|Thriller'\n 'Action|Adventure|Comedy|Fantasy|Mystery'\n 'Action|Adventure|Comedy|Fantasy|Romance'\n 'Action|Adventure|Comedy|Fantasy|Sci-Fi'\n 'Action|Adventure|Comedy|Fantasy|Sci-Fi|Thriller'\n 'Action|Adventure|Comedy|Horror' 'Action|Adventure|Comedy|Romance'\n 'Action|Adventure|Comedy|Romance|Thriller'\n 'Action|Adventure|Comedy|Sci-Fi' 'Action|Adventure|Comedy|Sci-Fi|IMAX'\n 'Action|Adventure|Comedy|Sci-Fi|Thriller'\n 'Action|Adventure|Comedy|Thriller' 'Action|Adventure|Comedy|War'\n 'Action|Adventure|Comedy|Western' 'Action|Adventure|Crime'\n 'Action|Adventure|Crime|Drama'\n 'Action|Adventure|Crime|Drama|Romance|Thriller'\n 'Action|Adventure|Crime|Drama|Thriller'\n 'Action|Adventure|Crime|Drama|Thriller|War'\n 'Action|Adventure|Crime|Horror|Thriller' 'Action|Adventure|Crime|IMAX'\n 'Action|Adventure|Crime|Sci-Fi|Thriller'\n 'Action|Adventure|Crime|Thriller' 'Action|Adventure|Drama'\n 'Action|Adventure|Drama|Fantasy' 'Action|Adventure|Drama|Fantasy|IMAX'\n 'Action|Adventure|Drama|Fantasy|Mystery|IMAX'\n 'Action|Adventure|Drama|Fantasy|Romance'\n 'Action|Adventure|Drama|Fantasy|Romance|Sci-Fi|Thriller'\n 'Action|Adventure|Drama|Fantasy|Thriller'\n 'Action|Adventure|Drama|Mystery|Thriller'\n 'Action|Adventure|Drama|Romance'\n 'Action|Adventure|Drama|Romance|Thriller'\n 'Action|Adventure|Drama|Romance|Thriller|Western'\n 'Action|Adventure|Drama|Romance|War' 'Action|Adventure|Drama|Sci-Fi'\n 'Action|Adventure|Drama|Sci-Fi|Thriller'\n 'Action|Adventure|Drama|Thriller' 'Action|Adventure|Drama|Thriller|IMAX'\n 'Action|Adventure|Drama|Thriller|Western' 'Action|Adventure|Drama|War'\n 'Action|Adventure|Drama|Western' 'Action|Adventure|Fantasy'\n 'Action|Adventure|Fantasy|Horror'\n 'Action|Adventure|Fantasy|Horror|Thriller'\n 'Action|Adventure|Fantasy|IMAX' 'Action|Adventure|Fantasy|Mystery'\n 'Action|Adventure|Fantasy|Romance'\n 'Action|Adventure|Fantasy|Romance|IMAX' 'Action|Adventure|Fantasy|Sci-Fi'\n 'Action|Adventure|Fantasy|Sci-Fi|IMAX'\n 'Action|Adventure|Fantasy|Thriller' 'Action|Adventure|Fantasy|War'\n 'Action|Adventure|Horror'\n 'Action|Adventure|Horror|Mystery|Sci-Fi|Thriller'\n 'Action|Adventure|Horror|Sci-Fi'\n 'Action|Adventure|Horror|Sci-Fi|Thriller'\n 'Action|Adventure|Mystery|Romance|Thriller'\n 'Action|Adventure|Mystery|Sci-Fi' 'Action|Adventure|Mystery|Thriller'\n 'Action|Adventure|Romance' 'Action|Adventure|Romance|Sci-Fi'\n 'Action|Adventure|Romance|Thriller' 'Action|Adventure|Sci-Fi'\n 'Action|Adventure|Sci-Fi|IMAX' 'Action|Adventure|Sci-Fi|Thriller'\n 'Action|Adventure|Sci-Fi|Thriller|IMAX'\n 'Action|Adventure|Sci-Fi|Thriller|War' 'Action|Adventure|Sci-Fi|War|IMAX'\n 'Action|Adventure|Thriller' 'Action|Adventure|Thriller|IMAX'\n 'Action|Adventure|Thriller|War' 'Action|Adventure|War'\n 'Action|Adventure|Western' 'Action|Adventure|Western|IMAX'\n 'Action|Animation' 'Action|Animation|Children'\n 'Action|Animation|Children|Comedy'\n 'Action|Animation|Children|Comedy|IMAX'\n 'Action|Animation|Children|Comedy|Musical'\n 'Action|Animation|Children|Comedy|Sci-Fi|IMAX'\n 'Action|Animation|Children|Crime' 'Action|Animation|Children|Fantasy'\n 'Action|Animation|Children|Sci-Fi' 'Action|Animation|Comedy'\n 'Action|Animation|Comedy|Crime|Drama|Romance|Thriller'\n 'Action|Animation|Comedy|Fantasy' 'Action|Animation|Comedy|Horror'\n 'Action|Animation|Comedy|Horror|Thriller'\n 'Action|Animation|Comedy|Romance|Sci-Fi' 'Action|Animation|Comedy|Sci-Fi'\n 'Action|Animation|Crime' 'Action|Animation|Crime|Drama'\n 'Action|Animation|Crime|Drama|Film-Noir|Mystery|Sci-Fi|Thriller'\n 'Action|Animation|Crime|Sci-Fi' 'Action|Animation|Crime|Sci-Fi|Thriller'\n 'Action|Animation|Crime|Thriller' 'Action|Animation|Drama'\n 'Action|Animation|Drama|Fantasy|Sci-Fi' 'Action|Animation|Drama|Sci-Fi'\n 'Action|Animation|Drama|Sci-Fi|Thriller' 'Action|Animation|Fantasy'\n 'Action|Animation|Fantasy|IMAX' 'Action|Animation|Fantasy|Sci-Fi'\n 'Action|Animation|Film-Noir|Sci-Fi|Thriller' 'Action|Animation|Horror'\n 'Action|Animation|Mystery' 'Action|Animation|Mystery|IMAX'\n 'Action|Animation|Mystery|Sci-Fi' 'Action|Animation|Sci-Fi'\n 'Action|Animation|Sci-Fi|Thriller' 'Action|Children'\n 'Action|Children|Comedy' 'Action|Children|Comedy|Fantasy|Sci-Fi'\n 'Action|Children|Drama' 'Action|Children|Fantasy'\n 'Action|Children|Romance' 'Action|Children|Sci-Fi|IMAX' 'Action|Comedy'\n 'Action|Comedy|Crime' 'Action|Comedy|Crime|Drama'\n 'Action|Comedy|Crime|Drama|Horror|Thriller'\n 'Action|Comedy|Crime|Drama|Sci-Fi' 'Action|Comedy|Crime|Drama|Thriller'\n 'Action|Comedy|Crime|Fantasy' 'Action|Comedy|Crime|Fantasy|Thriller'\n 'Action|Comedy|Crime|Fantasy|Thriller|IMAX' 'Action|Comedy|Crime|Horror'\n 'Action|Comedy|Crime|Mystery' 'Action|Comedy|Crime|Romance'\n 'Action|Comedy|Crime|Thriller' 'Action|Comedy|Crime|Western'\n 'Action|Comedy|Documentary' 'Action|Comedy|Drama'\n 'Action|Comedy|Drama|Horror' 'Action|Comedy|Drama|Horror|Thriller'\n 'Action|Comedy|Drama|Romance' 'Action|Comedy|Drama|Thriller'\n 'Action|Comedy|Drama|War' 'Action|Comedy|Fantasy'\n 'Action|Comedy|Fantasy|Horror' 'Action|Comedy|Fantasy|Horror|Thriller'\n 'Action|Comedy|Fantasy|IMAX' 'Action|Comedy|Fantasy|Musical|Romance'\n 'Action|Comedy|Fantasy|Sci-Fi' 'Action|Comedy|Fantasy|Thriller'\n 'Action|Comedy|Horror' 'Action|Comedy|Horror|Musical'\n 'Action|Comedy|Horror|Sci-Fi'\n 'Action|Comedy|Horror|Sci-Fi|Thriller|Western'\n 'Action|Comedy|Horror|Thriller' 'Action|Comedy|IMAX'\n 'Action|Comedy|Musical' 'Action|Comedy|Romance'\n 'Action|Comedy|Romance|Thriller' 'Action|Comedy|Romance|War'\n 'Action|Comedy|Sci-Fi' 'Action|Comedy|Sci-Fi|IMAX'\n 'Action|Comedy|Sci-Fi|Thriller' 'Action|Comedy|Sci-Fi|Western'\n 'Action|Comedy|Thriller' 'Action|Comedy|War' 'Action|Comedy|Western'\n 'Action|Crime' 'Action|Crime|Drama' 'Action|Crime|Drama|Horror'\n 'Action|Crime|Drama|Horror|Thriller' 'Action|Crime|Drama|IMAX'\n 'Action|Crime|Drama|Mystery|Sci-Fi|Thriller'\n 'Action|Crime|Drama|Mystery|Sci-Fi|Thriller|IMAX'\n 'Action|Crime|Drama|Mystery|Thriller' 'Action|Crime|Drama|Sci-Fi'\n 'Action|Crime|Drama|Sci-Fi|Thriller' 'Action|Crime|Drama|Thriller'\n 'Action|Crime|Drama|Thriller|IMAX' 'Action|Crime|Drama|Thriller|War'\n 'Action|Crime|Drama|War' 'Action|Crime|Drama|Western'\n 'Action|Crime|Fantasy' 'Action|Crime|Fantasy|Sci-Fi|Thriller'\n 'Action|Crime|Fantasy|Thriller' 'Action|Crime|Film-Noir'\n 'Action|Crime|Film-Noir|Mystery|Thriller' 'Action|Crime|Horror'\n 'Action|Crime|Horror|Mystery|Thriller'\n 'Action|Crime|Horror|Sci-Fi|Thriller' 'Action|Crime|Horror|Thriller'\n 'Action|Crime|IMAX' 'Action|Crime|Mystery'\n 'Action|Crime|Mystery|Romance|Thriller'\n 'Action|Crime|Mystery|Sci-Fi|Thriller' 'Action|Crime|Mystery|Thriller'\n 'Action|Crime|Romance|Thriller' 'Action|Crime|Sci-Fi'\n 'Action|Crime|Sci-Fi|IMAX' 'Action|Crime|Sci-Fi|Thriller'\n 'Action|Crime|Thriller' 'Action|Crime|Thriller|IMAX'\n 'Action|Crime|Thriller|Western' 'Action|Documentary|Drama|Thriller'\n 'Action|Drama' 'Action|Drama|Fantasy'\n 'Action|Drama|Fantasy|Horror|Mystery|Sci-Fi|Thriller'\n 'Action|Drama|Fantasy|Sci-Fi' 'Action|Drama|Horror'\n 'Action|Drama|Horror|IMAX' 'Action|Drama|Horror|Sci-Fi|Thriller'\n 'Action|Drama|Horror|Thriller' 'Action|Drama|IMAX' 'Action|Drama|Mystery'\n 'Action|Drama|Mystery|Romance|Thriller'\n 'Action|Drama|Mystery|Sci-Fi|Thriller'\n 'Action|Drama|Mystery|Sci-Fi|Thriller|IMAX'\n 'Action|Drama|Mystery|Thriller' 'Action|Drama|Romance'\n 'Action|Drama|Romance|Sci-Fi' 'Action|Drama|Romance|Thriller'\n 'Action|Drama|Romance|War' 'Action|Drama|Romance|Western'\n 'Action|Drama|Sci-Fi' 'Action|Drama|Sci-Fi|IMAX'\n 'Action|Drama|Sci-Fi|Thriller' 'Action|Drama|Thriller'\n 'Action|Drama|Thriller|IMAX' 'Action|Drama|Thriller|War'\n 'Action|Drama|Thriller|Western' 'Action|Drama|War'\n 'Action|Drama|War|IMAX' 'Action|Drama|War|Western' 'Action|Drama|Western'\n 'Action|Fantasy' 'Action|Fantasy|Horror' 'Action|Fantasy|Horror|IMAX'\n 'Action|Fantasy|Horror|Mystery|Sci-Fi|Thriller'\n 'Action|Fantasy|Horror|Mystery|Thriller' 'Action|Fantasy|Horror|Romance'\n 'Action|Fantasy|Horror|Sci-Fi|Thriller' 'Action|Fantasy|Horror|Thriller'\n 'Action|Fantasy|Mystery' 'Action|Fantasy|Sci-Fi'\n 'Action|Fantasy|Sci-Fi|IMAX' 'Action|Fantasy|Sci-Fi|Thriller'\n 'Action|Fantasy|Sci-Fi|Thriller|War' 'Action|Fantasy|Thriller'\n 'Action|Fantasy|Thriller|IMAX' 'Action|Fantasy|War|IMAX'\n 'Action|Fantasy|Western' 'Action|Horror' 'Action|Horror|Mystery|Sci-Fi'\n 'Action|Horror|Mystery|Thriller' 'Action|Horror|Sci-Fi'\n 'Action|Horror|Sci-Fi|IMAX' 'Action|Horror|Sci-Fi|Thriller'\n 'Action|Horror|Sci-Fi|Thriller|IMAX' 'Action|Horror|Sci-Fi|War'\n 'Action|Horror|Thriller' 'Action|IMAX' 'Action|Mystery'\n 'Action|Mystery|Sci-Fi' 'Action|Mystery|Sci-Fi|Thriller'\n 'Action|Mystery|Thriller' 'Action|Romance'\n 'Action|Romance|Sci-Fi|Thriller' 'Action|Romance|Thriller'\n 'Action|Romance|War|Western' 'Action|Romance|Western' 'Action|Sci-Fi'\n 'Action|Sci-Fi|IMAX' 'Action|Sci-Fi|Thriller'\n 'Action|Sci-Fi|Thriller|IMAX' 'Action|Sci-Fi|Thriller|Western'\n 'Action|Sci-Fi|Thriller|Western|IMAX' 'Action|Sci-Fi|War'\n 'Action|Thriller' 'Action|Thriller|War' 'Action|Thriller|Western'\n 'Action|War' 'Action|Western' 'Adventure' 'Adventure|Animation'\n 'Adventure|Animation|Children' 'Adventure|Animation|Children|Comedy'\n 'Adventure|Animation|Children|Comedy|Crime'\n 'Adventure|Animation|Children|Comedy|Crime|Fantasy|Mystery'\n 'Adventure|Animation|Children|Comedy|Drama|Fantasy'\n 'Adventure|Animation|Children|Comedy|Drama|Musical|Romance'\n 'Adventure|Animation|Children|Comedy|Drama|Romance'\n 'Adventure|Animation|Children|Comedy|Fantasy'\n 'Adventure|Animation|Children|Comedy|Fantasy|IMAX'\n 'Adventure|Animation|Children|Comedy|Fantasy|Musical|Romance'\n 'Adventure|Animation|Children|Comedy|Fantasy|Romance'\n 'Adventure|Animation|Children|Comedy|Fantasy|Sci-Fi'\n 'Adventure|Animation|Children|Comedy|Fantasy|Sci-Fi|IMAX'\n 'Adventure|Animation|Children|Comedy|Fantasy|War'\n 'Adventure|Animation|Children|Comedy|IMAX'\n 'Adventure|Animation|Children|Comedy|Musical'\n 'Adventure|Animation|Children|Comedy|Musical|Romance'\n 'Adventure|Animation|Children|Comedy|Sci-Fi'\n 'Adventure|Animation|Children|Crime|Drama'\n 'Adventure|Animation|Children|Drama'\n 'Adventure|Animation|Children|Drama|Fantasy'\n 'Adventure|Animation|Children|Drama|Musical'\n 'Adventure|Animation|Children|Drama|Musical|IMAX'\n 'Adventure|Animation|Children|Drama|Sci-Fi'\n 'Adventure|Animation|Children|Fantasy'\n 'Adventure|Animation|Children|Fantasy|IMAX'\n 'Adventure|Animation|Children|Fantasy|Musical'\n 'Adventure|Animation|Children|Fantasy|Musical|Romance'\n 'Adventure|Animation|Children|Fantasy|Sci-Fi'\n 'Adventure|Animation|Children|Musical'\n 'Adventure|Animation|Children|Musical|Romance'\n 'Adventure|Animation|Children|Musical|Western'\n 'Adventure|Animation|Children|Romance|Sci-Fi'\n 'Adventure|Animation|Children|Sci-Fi'\n 'Adventure|Animation|Children|Sci-Fi|IMAX'\n 'Adventure|Animation|Children|Western' 'Adventure|Animation|Comedy'\n 'Adventure|Animation|Comedy|Crime' 'Adventure|Animation|Comedy|Fantasy'\n 'Adventure|Animation|Comedy|Fantasy|IMAX'\n 'Adventure|Animation|Comedy|Fantasy|Musical'\n 'Adventure|Animation|Comedy|Fantasy|Musical|Romance'\n 'Adventure|Animation|Comedy|Fantasy|Romance'\n 'Adventure|Animation|Comedy|Fantasy|Romance|Sci-Fi'\n 'Adventure|Animation|Comedy|Sci-Fi' 'Adventure|Animation|Drama'\n 'Adventure|Animation|Drama|Fantasy|Sci-Fi'\n 'Adventure|Animation|Drama|Horror' 'Adventure|Animation|Fantasy'\n 'Adventure|Animation|Fantasy|Horror|Sci-Fi'\n 'Adventure|Animation|Fantasy|IMAX' 'Adventure|Animation|Fantasy|Romance'\n 'Adventure|Animation|Fantasy|Sci-Fi' 'Adventure|Animation|Romance'\n 'Adventure|Animation|Sci-Fi' 'Adventure|Children'\n 'Adventure|Children|Comedy' 'Adventure|Children|Comedy|Drama'\n 'Adventure|Children|Comedy|Drama|Fantasy|Sci-Fi'\n 'Adventure|Children|Comedy|Fantasy'\n 'Adventure|Children|Comedy|Fantasy|IMAX'\n 'Adventure|Children|Comedy|Fantasy|Musical'\n 'Adventure|Children|Comedy|Fantasy|Mystery'\n 'Adventure|Children|Comedy|Fantasy|Romance'\n 'Adventure|Children|Comedy|Fantasy|Sci-Fi'\n 'Adventure|Children|Comedy|Musical' 'Adventure|Children|Comedy|Mystery'\n 'Adventure|Children|Comedy|Romance|Sci-Fi'\n 'Adventure|Children|Comedy|Sci-Fi' 'Adventure|Children|Drama'\n 'Adventure|Children|Drama|Fantasy'\n 'Adventure|Children|Drama|Fantasy|IMAX' 'Adventure|Children|Drama|Sci-Fi'\n 'Adventure|Children|Fantasy' 'Adventure|Children|Fantasy|Musical'\n 'Adventure|Children|Fantasy|Sci-Fi'\n 'Adventure|Children|Fantasy|Sci-Fi|Thriller'\n 'Adventure|Children|Fantasy|Western' 'Adventure|Children|Musical'\n 'Adventure|Children|Romance' 'Adventure|Children|Sci-Fi'\n 'Adventure|Comedy' 'Adventure|Comedy|Crime'\n 'Adventure|Comedy|Crime|Drama|Mystery|Thriller'\n 'Adventure|Comedy|Crime|Drama|Romance' 'Adventure|Comedy|Crime|Mystery'\n 'Adventure|Comedy|Crime|Romance' 'Adventure|Comedy|Crime|Thriller'\n 'Adventure|Comedy|Documentary' 'Adventure|Comedy|Drama'\n 'Adventure|Comedy|Drama|Fantasy'\n 'Adventure|Comedy|Drama|Fantasy|Mystery|Sci-Fi|Thriller'\n 'Adventure|Comedy|Drama|Fantasy|Romance' 'Adventure|Comedy|Drama|Romance'\n 'Adventure|Comedy|Fantasy' 'Adventure|Comedy|Fantasy|Horror'\n 'Adventure|Comedy|Fantasy|Musical' 'Adventure|Comedy|Fantasy|Romance'\n 'Adventure|Comedy|Fantasy|Romance|IMAX' 'Adventure|Comedy|Fantasy|Sci-Fi'\n 'Adventure|Comedy|Horror' 'Adventure|Comedy|Horror|Romance'\n 'Adventure|Comedy|Musical' 'Adventure|Comedy|Musical|Sci-Fi'\n 'Adventure|Comedy|Mystery' 'Adventure|Comedy|Mystery|Romance'\n 'Adventure|Comedy|Romance' 'Adventure|Comedy|Romance|War'\n 'Adventure|Comedy|Sci-Fi' 'Adventure|Comedy|Sci-Fi|Thriller'\n 'Adventure|Comedy|Sci-Fi|Western' 'Adventure|Comedy|Thriller'\n 'Adventure|Comedy|War' 'Adventure|Comedy|Western' 'Adventure|Crime|Drama'\n 'Adventure|Crime|Drama|Romance' 'Adventure|Crime|Drama|Thriller'\n 'Adventure|Crime|Thriller' 'Adventure|Documentary'\n 'Adventure|Documentary|IMAX' 'Adventure|Documentary|Western'\n 'Adventure|Drama' 'Adventure|Drama|Fantasy'\n 'Adventure|Drama|Fantasy|Horror|Sci-Fi' 'Adventure|Drama|Fantasy|IMAX'\n 'Adventure|Drama|Fantasy|Mystery|Sci-Fi'\n 'Adventure|Drama|Fantasy|Romance' 'Adventure|Drama|Fantasy|Romance|IMAX'\n 'Adventure|Drama|Fantasy|Sci-Fi'\n 'Adventure|Drama|Horror|Mystery|Thriller'\n 'Adventure|Drama|Horror|Sci-Fi|Thriller'\n 'Adventure|Drama|Horror|Thriller' 'Adventure|Drama|IMAX'\n 'Adventure|Drama|Mystery' 'Adventure|Drama|Mystery|Thriller'\n 'Adventure|Drama|Romance' 'Adventure|Drama|Romance|Sci-Fi'\n 'Adventure|Drama|Romance|Thriller|War' 'Adventure|Drama|Romance|War'\n 'Adventure|Drama|Sci-Fi' 'Adventure|Drama|Sci-Fi|Thriller'\n 'Adventure|Drama|Thriller' 'Adventure|Drama|Thriller|IMAX'\n 'Adventure|Drama|War' 'Adventure|Drama|War|Western'\n 'Adventure|Drama|Western' 'Adventure|Fantasy' 'Adventure|Fantasy|IMAX'\n 'Adventure|Fantasy|Musical' 'Adventure|Fantasy|Musical|Romance'\n 'Adventure|Fantasy|Mystery|Romance|IMAX' 'Adventure|Fantasy|Romance'\n 'Adventure|Fantasy|Romance|Sci-Fi|Thriller' 'Adventure|Fantasy|Sci-Fi'\n 'Adventure|Fantasy|Thriller' 'Adventure|Fantasy|Thriller|IMAX'\n 'Adventure|Film-Noir|Sci-Fi|Thriller' 'Adventure|Horror|Sci-Fi'\n 'Adventure|Mystery|Sci-Fi|Thriller' 'Adventure|Mystery|Thriller'\n 'Adventure|Romance' 'Adventure|Romance|Sci-Fi'\n 'Adventure|Romance|Sci-Fi|IMAX' 'Adventure|Romance|Thriller'\n 'Adventure|Sci-Fi' 'Adventure|Sci-Fi|Thriller' 'Adventure|Thriller'\n 'Adventure|Thriller|Western' 'Adventure|War' 'Adventure|War|Western'\n 'Adventure|Western' 'Animation' 'Animation|Children'\n 'Animation|Children|Comedy' 'Animation|Children|Comedy|Crime'\n 'Animation|Children|Comedy|Drama'\n 'Animation|Children|Comedy|Drama|Fantasy'\n 'Animation|Children|Comedy|Drama|Romance'\n 'Animation|Children|Comedy|Fantasy'\n 'Animation|Children|Comedy|Fantasy|Musical'\n 'Animation|Children|Comedy|Fantasy|Musical|Romance'\n 'Animation|Children|Comedy|Fantasy|Musical|Romance|IMAX'\n 'Animation|Children|Comedy|Horror' 'Animation|Children|Comedy|IMAX'\n 'Animation|Children|Comedy|Musical'\n 'Animation|Children|Comedy|Musical|Romance'\n 'Animation|Children|Comedy|Musical|Sci-Fi'\n 'Animation|Children|Comedy|Romance' 'Animation|Children|Drama'\n 'Animation|Children|Drama|Fantasy'\n 'Animation|Children|Drama|Fantasy|IMAX'\n 'Animation|Children|Drama|Fantasy|Musical'\n 'Animation|Children|Drama|Musical'\n 'Animation|Children|Drama|Musical|Romance' 'Animation|Children|Fantasy'\n 'Animation|Children|Fantasy|IMAX' 'Animation|Children|Fantasy|Musical'\n 'Animation|Children|Fantasy|Musical|Romance'\n 'Animation|Children|Fantasy|Musical|Romance|IMAX'\n 'Animation|Children|Fantasy|Mystery' 'Animation|Children|Fantasy|War'\n 'Animation|Children|Musical' 'Animation|Children|Musical|IMAX'\n 'Animation|Children|Mystery' 'Animation|Comedy' 'Animation|Comedy|Drama'\n 'Animation|Comedy|Drama|Fantasy' 'Animation|Comedy|Drama|Fantasy|Sci-Fi'\n 'Animation|Comedy|Drama|Romance' 'Animation|Comedy|Drama|Romance|Sci-Fi'\n 'Animation|Comedy|Fantasy' 'Animation|Comedy|Fantasy|Musical'\n 'Animation|Comedy|Fantasy|Musical|Romance'\n 'Animation|Comedy|Fantasy|Sci-Fi' 'Animation|Comedy|Horror|IMAX'\n 'Animation|Comedy|Horror|Musical' 'Animation|Comedy|Musical'\n 'Animation|Comedy|Romance' 'Animation|Comedy|Sci-Fi'\n 'Animation|Comedy|War' 'Animation|Crime|Drama' 'Animation|Documentary'\n 'Animation|Documentary|Drama|War' 'Animation|Drama'\n 'Animation|Drama|Fantasy' 'Animation|Drama|Fantasy|Mystery'\n 'Animation|Drama|Fantasy|Romance'\n 'Animation|Drama|Mystery|Sci-Fi|Thriller' 'Animation|Drama|Romance'\n 'Animation|Drama|Romance|Sci-Fi' 'Animation|Drama|Sci-Fi'\n 'Animation|Drama|Sci-Fi|IMAX' 'Animation|Drama|Sci-Fi|War'\n 'Animation|Drama|War' 'Animation|Fantasy' 'Animation|Fantasy|Horror'\n 'Animation|Fantasy|Horror|Mystery' 'Animation|Fantasy|Horror|Sci-Fi'\n 'Animation|Fantasy|Musical|IMAX' 'Animation|Fantasy|Mystery'\n 'Animation|Fantasy|Sci-Fi|Thriller' 'Animation|Fantasy|Sci-Fi|War'\n 'Animation|Fantasy|Thriller' 'Animation|Horror|Mystery'\n 'Animation|Horror|Mystery|Thriller' 'Animation|Musical'\n 'Animation|Mystery|Sci-Fi' 'Animation|Romance' 'Animation|Sci-Fi'\n 'Animation|Sci-Fi|IMAX' 'Children' 'Children|Comedy'\n 'Children|Comedy|Crime|Drama|Fantasy' 'Children|Comedy|Crime|Musical'\n 'Children|Comedy|Drama' 'Children|Comedy|Drama|Fantasy'\n 'Children|Comedy|Drama|Musical|Romance' 'Children|Comedy|Drama|Mystery'\n 'Children|Comedy|Fantasy' 'Children|Comedy|Fantasy|Horror'\n 'Children|Comedy|Fantasy|Musical' 'Children|Comedy|Fantasy|Romance'\n 'Children|Comedy|Fantasy|Sci-Fi' 'Children|Comedy|Musical'\n 'Children|Comedy|Musical|Romance' 'Children|Comedy|Mystery'\n 'Children|Comedy|Romance' 'Children|Comedy|Romance|Sci-Fi'\n 'Children|Comedy|Sci-Fi' 'Children|Comedy|Western' 'Children|Crime|Drama'\n 'Children|Documentary' 'Children|Drama' 'Children|Drama|Fantasy'\n 'Children|Drama|Fantasy|Mystery'\n 'Children|Drama|Fantasy|Mystery|Thriller'\n 'Children|Drama|Fantasy|Romance' 'Children|Drama|Musical'\n 'Children|Drama|Mystery' 'Children|Drama|Romance' 'Children|Drama|Sci-Fi'\n 'Children|Drama|War' 'Children|Fantasy' 'Children|Fantasy|Musical'\n 'Children|Fantasy|Musical|Romance' 'Children|Horror|Mystery|Thriller'\n 'Children|Horror|Sci-Fi' 'Children|Musical' 'Children|Musical|Mystery'\n 'Children|Sci-Fi' 'Comedy' 'Comedy|Crime' 'Comedy|Crime|Drama'\n 'Comedy|Crime|Drama|Fantasy' 'Comedy|Crime|Drama|Horror'\n 'Comedy|Crime|Drama|Horror|Mystery' 'Comedy|Crime|Drama|Musical'\n 'Comedy|Crime|Drama|Musical|Mystery|Romance' 'Comedy|Crime|Drama|Mystery'\n 'Comedy|Crime|Drama|Mystery|Romance'\n 'Comedy|Crime|Drama|Mystery|Thriller' 'Comedy|Crime|Drama|Romance'\n 'Comedy|Crime|Drama|Romance|Thriller'\n 'Comedy|Crime|Drama|Sci-Fi|Thriller' 'Comedy|Crime|Drama|Thriller'\n 'Comedy|Crime|Drama|War' 'Comedy|Crime|Drama|Western'\n 'Comedy|Crime|Fantasy' 'Comedy|Crime|Horror'\n 'Comedy|Crime|Horror|Mystery|Thriller' 'Comedy|Crime|Horror|Thriller'\n 'Comedy|Crime|Musical' 'Comedy|Crime|Musical|Mystery'\n 'Comedy|Crime|Mystery' 'Comedy|Crime|Mystery|Romance'\n 'Comedy|Crime|Mystery|Romance|Thriller' 'Comedy|Crime|Mystery|Thriller'\n 'Comedy|Crime|Romance' 'Comedy|Crime|Romance|Thriller'\n 'Comedy|Crime|Sci-Fi' 'Comedy|Crime|Thriller' 'Comedy|Documentary'\n 'Comedy|Documentary|Drama' 'Comedy|Documentary|Drama|Romance'\n 'Comedy|Documentary|Musical' 'Comedy|Documentary|Romance' 'Comedy|Drama'\n 'Comedy|Drama|Fantasy' 'Comedy|Drama|Fantasy|Mystery'\n 'Comedy|Drama|Fantasy|Mystery|Romance' 'Comedy|Drama|Fantasy|Romance'\n 'Comedy|Drama|Fantasy|Romance|Thriller' 'Comedy|Drama|Fantasy|Sci-Fi'\n 'Comedy|Drama|Film-Noir' 'Comedy|Drama|Horror'\n 'Comedy|Drama|Horror|Sci-Fi|Thriller' 'Comedy|Drama|Musical'\n 'Comedy|Drama|Musical|IMAX' 'Comedy|Drama|Musical|Romance'\n 'Comedy|Drama|Musical|Sci-Fi' 'Comedy|Drama|Mystery'\n 'Comedy|Drama|Mystery|Romance' 'Comedy|Drama|Mystery|Thriller'\n 'Comedy|Drama|Romance' 'Comedy|Drama|Romance|Sci-Fi'\n 'Comedy|Drama|Romance|Thriller' 'Comedy|Drama|Romance|War'\n 'Comedy|Drama|Romance|Western' 'Comedy|Drama|Sci-Fi'\n 'Comedy|Drama|Sci-Fi|Thriller' 'Comedy|Drama|Sci-Fi|War'\n 'Comedy|Drama|Thriller' 'Comedy|Drama|War' 'Comedy|Fantasy'\n 'Comedy|Fantasy|Horror' 'Comedy|Fantasy|Horror|Musical|Thriller'\n 'Comedy|Fantasy|Horror|Sci-Fi' 'Comedy|Fantasy|Horror|Thriller'\n 'Comedy|Fantasy|Musical' 'Comedy|Fantasy|Mystery'\n 'Comedy|Fantasy|Mystery|Sci-Fi' 'Comedy|Fantasy|Romance'\n 'Comedy|Fantasy|Romance|Sci-Fi' 'Comedy|Fantasy|Sci-Fi'\n 'Comedy|Fantasy|Thriller' 'Comedy|Horror' 'Comedy|Horror|IMAX'\n 'Comedy|Horror|Musical' 'Comedy|Horror|Musical|Sci-Fi'\n 'Comedy|Horror|Mystery' 'Comedy|Horror|Mystery|Thriller'\n 'Comedy|Horror|Romance' 'Comedy|Horror|Romance|Thriller'\n 'Comedy|Horror|Sci-Fi' 'Comedy|Horror|Sci-Fi|Thriller'\n 'Comedy|Horror|Thriller' 'Comedy|Musical' 'Comedy|Musical|Romance'\n 'Comedy|Musical|Romance|Western' 'Comedy|Musical|Sci-Fi'\n 'Comedy|Musical|Sci-Fi|Western' 'Comedy|Musical|War'\n 'Comedy|Musical|Western' 'Comedy|Mystery' 'Comedy|Mystery|Romance'\n 'Comedy|Mystery|Romance|Thriller' 'Comedy|Mystery|Sci-Fi'\n 'Comedy|Mystery|Thriller' 'Comedy|Romance' 'Comedy|Romance|Sci-Fi'\n 'Comedy|Romance|Sci-Fi|Thriller' 'Comedy|Romance|Thriller'\n 'Comedy|Romance|Western' 'Comedy|Sci-Fi' 'Comedy|Sci-Fi|Thriller'\n 'Comedy|Sci-Fi|War' 'Comedy|Thriller' 'Comedy|War' 'Comedy|War|Western'\n 'Comedy|Western' 'Crime' 'Crime|Documentary' 'Crime|Documentary|War'\n 'Crime|Drama' 'Crime|Drama|Fantasy'\n 'Crime|Drama|Fantasy|Film-Noir|Mystery|Romance'\n 'Crime|Drama|Fantasy|Horror|Thriller'\n 'Crime|Drama|Fantasy|Mystery|Thriller' 'Crime|Drama|Fantasy|Thriller'\n 'Crime|Drama|Film-Noir' 'Crime|Drama|Film-Noir|Mystery'\n 'Crime|Drama|Film-Noir|Mystery|Thriller' 'Crime|Drama|Film-Noir|Romance'\n 'Crime|Drama|Film-Noir|Romance|Thriller' 'Crime|Drama|Film-Noir|Thriller'\n 'Crime|Drama|Horror' 'Crime|Drama|Horror|Mystery'\n 'Crime|Drama|Horror|Mystery|Thriller' 'Crime|Drama|Horror|Thriller'\n 'Crime|Drama|Musical' 'Crime|Drama|Musical|Thriller'\n 'Crime|Drama|Mystery' 'Crime|Drama|Mystery|Romance|Thriller'\n 'Crime|Drama|Mystery|Thriller' 'Crime|Drama|Mystery|Thriller|War'\n 'Crime|Drama|Romance' 'Crime|Drama|Romance|Thriller'\n 'Crime|Drama|Romance|War' 'Crime|Drama|Sci-Fi|Thriller'\n 'Crime|Drama|Thriller' 'Crime|Drama|Thriller|War' 'Crime|Drama|War'\n 'Crime|Drama|Western' 'Crime|Fantasy|Horror' 'Crime|Film-Noir'\n 'Crime|Film-Noir|Mystery' 'Crime|Film-Noir|Mystery|Thriller'\n 'Crime|Film-Noir|Thriller' 'Crime|Horror' 'Crime|Horror|Mystery'\n 'Crime|Horror|Mystery|Thriller' 'Crime|Horror|Sci-Fi'\n 'Crime|Horror|Thriller' 'Crime|Musical' 'Crime|Mystery'\n 'Crime|Mystery|Romance|Thriller' 'Crime|Mystery|Thriller' 'Crime|Romance'\n 'Crime|Romance|Thriller' 'Crime|Sci-Fi' 'Crime|Sci-Fi|Thriller'\n 'Crime|Thriller' 'Crime|Thriller|War' 'Crime|Thriller|Western'\n 'Crime|Western' 'Documentary' 'Documentary|Drama'\n 'Documentary|Drama|Musical' 'Documentary|Drama|Mystery'\n 'Documentary|Drama|Thriller' 'Documentary|Drama|War'\n 'Documentary|Fantasy' 'Documentary|Horror' 'Documentary|IMAX'\n 'Documentary|Musical' 'Documentary|Musical|IMAX' 'Documentary|Mystery'\n 'Documentary|War' 'Drama' 'Drama|Fantasy' 'Drama|Fantasy|Horror'\n 'Drama|Fantasy|Horror|Mystery|Sci-Fi|Thriller'\n 'Drama|Fantasy|Horror|Mystery|Thriller' 'Drama|Fantasy|Horror|Romance'\n 'Drama|Fantasy|Horror|Romance|Thriller' 'Drama|Fantasy|Horror|Thriller'\n 'Drama|Fantasy|Horror|Thriller|War' 'Drama|Fantasy|Musical'\n 'Drama|Fantasy|Musical|Mystery|Sci-Fi' 'Drama|Fantasy|Musical|Romance'\n 'Drama|Fantasy|Mystery' 'Drama|Fantasy|Mystery|Romance'\n 'Drama|Fantasy|Mystery|Romance|Thriller' 'Drama|Fantasy|Mystery|Sci-Fi'\n 'Drama|Fantasy|Mystery|Thriller' 'Drama|Fantasy|Romance'\n 'Drama|Fantasy|Romance|Sci-Fi' 'Drama|Fantasy|Romance|Thriller'\n 'Drama|Fantasy|Sci-Fi' 'Drama|Fantasy|Sci-Fi|Thriller'\n 'Drama|Fantasy|Thriller' 'Drama|Fantasy|Thriller|War' 'Drama|Film-Noir'\n 'Drama|Film-Noir|Mystery' 'Drama|Film-Noir|Mystery|Romance'\n 'Drama|Film-Noir|Mystery|Thriller' 'Drama|Film-Noir|Romance'\n 'Drama|Film-Noir|Thriller' 'Drama|Horror' 'Drama|Horror|Musical|Thriller'\n 'Drama|Horror|Mystery' 'Drama|Horror|Mystery|Romance|Thriller'\n 'Drama|Horror|Mystery|Sci-Fi|Thriller' 'Drama|Horror|Mystery|Thriller'\n 'Drama|Horror|Romance' 'Drama|Horror|Romance|Thriller'\n 'Drama|Horror|Sci-Fi' 'Drama|Horror|Sci-Fi|Thriller'\n 'Drama|Horror|Thriller' 'Drama|Horror|War' 'Drama|Musical'\n 'Drama|Musical|Mystery' 'Drama|Musical|Romance'\n 'Drama|Musical|Romance|IMAX' 'Drama|Mystery' 'Drama|Mystery|Romance'\n 'Drama|Mystery|Romance|Sci-Fi|Thriller' 'Drama|Mystery|Romance|Thriller'\n 'Drama|Mystery|Romance|War' 'Drama|Mystery|Sci-Fi'\n 'Drama|Mystery|Sci-Fi|Thriller' 'Drama|Mystery|Thriller'\n 'Drama|Mystery|War' 'Drama|Mystery|Western' 'Drama|Romance'\n 'Drama|Romance|Sci-Fi' 'Drama|Romance|Sci-Fi|Thriller'\n 'Drama|Romance|Thriller' 'Drama|Romance|Thriller|War' 'Drama|Romance|War'\n 'Drama|Romance|War|Western' 'Drama|Romance|Western' 'Drama|Sci-Fi'\n 'Drama|Sci-Fi|IMAX' 'Drama|Sci-Fi|Thriller' 'Drama|Sci-Fi|Thriller|IMAX'\n 'Drama|Sci-Fi|War' 'Drama|Thriller' 'Drama|Thriller|War'\n 'Drama|Thriller|Western' 'Drama|War' 'Drama|War|Western' 'Drama|Western'\n 'Fantasy' 'Fantasy|Horror' 'Fantasy|Horror|Mystery'\n 'Fantasy|Horror|Mystery|Romance' 'Fantasy|Horror|Mystery|Thriller'\n 'Fantasy|Horror|Romance|Thriller' 'Fantasy|Horror|Sci-Fi|Thriller'\n 'Fantasy|Horror|Sci-Fi|Western' 'Fantasy|Horror|Thriller'\n 'Fantasy|Musical|Romance' 'Fantasy|Mystery|Romance|Thriller'\n 'Fantasy|Mystery|Thriller' 'Fantasy|Mystery|Western' 'Fantasy|Romance'\n 'Fantasy|Romance|Thriller|IMAX' 'Fantasy|Sci-Fi' 'Fantasy|Western'\n 'Film-Noir' 'Film-Noir|Horror|Mystery|Thriller' 'Film-Noir|Mystery'\n 'Film-Noir|Mystery|Thriller' 'Film-Noir|Romance|Thriller'\n 'Film-Noir|Thriller' 'Horror' 'Horror|IMAX' 'Horror|Mystery'\n 'Horror|Mystery|Sci-Fi' 'Horror|Mystery|Sci-Fi|Thriller'\n 'Horror|Mystery|Thriller' 'Horror|Romance' 'Horror|Romance|Sci-Fi'\n 'Horror|Romance|Thriller' 'Horror|Sci-Fi' 'Horror|Sci-Fi|Thriller'\n 'Horror|Sci-Fi|Western' 'Horror|Thriller' 'Horror|Thriller|IMAX'\n 'Horror|Thriller|Western' 'Horror|Western' 'Musical' 'Musical|Romance'\n 'Musical|Romance|War' 'Musical|Romance|Western' 'Musical|Western'\n 'Mystery' 'Mystery|Romance|Sci-Fi|Thriller' 'Mystery|Romance|Thriller'\n 'Mystery|Sci-Fi' 'Mystery|Sci-Fi|Thriller' 'Mystery|Sci-Fi|Thriller|IMAX'\n 'Mystery|Thriller' 'Romance' 'Romance|Sci-Fi' 'Romance|Sci-Fi|Thriller'\n 'Romance|Thriller' 'Romance|War' 'Romance|Western' 'Sci-Fi' 'Sci-Fi|IMAX'\n 'Sci-Fi|Thriller' 'Sci-Fi|Thriller|IMAX' 'Thriller' 'War' 'Western']\n",
     "output_type": "stream"
    }
   ]
  },
  {
   "cell_type": "code",
   "metadata": {
    "cell_id": "46bd1b6ee94448c89429ef329a7c5d7b",
    "tags": [],
    "deepnote_to_be_reexecuted": false,
    "source_hash": "702a9373",
    "execution_start": 1658154808615,
    "execution_millis": 700,
    "deepnote_cell_type": "code",
    "deepnote_cell_height": 205.078125
   },
   "source": "# Printing unique genres. This is also given in the dataset description file\ngenres_unique = pd.DataFrame(df_movie.genres.str.split('|').tolist()).stack().unique()\nprint('Unique genres', genres_unique)\ngenres_unique = pd.DataFrame(genres_unique, columns=['genres'])",
   "execution_count": 8,
   "outputs": [
    {
     "name": "stdout",
     "text": "Unique genres ['Adventure' 'Animation' 'Children' 'Comedy' 'Fantasy' 'Romance' 'Drama'\n 'Action' 'Crime' 'Thriller' 'Horror' 'Mystery' 'Sci-Fi' 'War' 'Musical'\n 'Documentary' 'IMAX' 'Western' 'Film-Noir' '(no genres listed)']\n",
     "output_type": "stream"
    }
   ]
  },
  {
   "cell_type": "code",
   "metadata": {
    "cell_id": "63438dc4566f471dacf4c2a6d175dccd",
    "tags": [],
    "deepnote_to_be_reexecuted": false,
    "source_hash": "34eddbec",
    "execution_start": 1658154808660,
    "execution_millis": 2550,
    "deepnote_cell_type": "code",
    "deepnote_cell_height": 395
   },
   "source": "df_movie.head()",
   "execution_count": 9,
   "outputs": [
    {
     "output_type": "execute_result",
     "execution_count": 9,
     "data": {
      "application/vnd.deepnote.dataframe.v3+json": {
       "column_count": 4,
       "row_count": 5,
       "columns": [
        {
         "name": "movieId",
         "dtype": "int64",
         "stats": {
          "unique_count": 5,
          "nan_count": 0,
          "min": "1",
          "max": "5",
          "histogram": [
           {
            "bin_start": 1,
            "bin_end": 1.4,
            "count": 1
           },
           {
            "bin_start": 1.4,
            "bin_end": 1.8,
            "count": 0
           },
           {
            "bin_start": 1.8,
            "bin_end": 2.2,
            "count": 1
           },
           {
            "bin_start": 2.2,
            "bin_end": 2.6,
            "count": 0
           },
           {
            "bin_start": 2.6,
            "bin_end": 3,
            "count": 0
           },
           {
            "bin_start": 3,
            "bin_end": 3.4000000000000004,
            "count": 1
           },
           {
            "bin_start": 3.4000000000000004,
            "bin_end": 3.8000000000000003,
            "count": 0
           },
           {
            "bin_start": 3.8000000000000003,
            "bin_end": 4.2,
            "count": 1
           },
           {
            "bin_start": 4.2,
            "bin_end": 4.6,
            "count": 0
           },
           {
            "bin_start": 4.6,
            "bin_end": 5,
            "count": 1
           }
          ]
         }
        },
        {
         "name": "title",
         "dtype": "object",
         "stats": {
          "unique_count": 5,
          "nan_count": 0,
          "categories": [
           {
            "name": "Toy Story",
            "count": 1
           },
           {
            "name": "Jumanji",
            "count": 1
           },
           {
            "name": "3 others",
            "count": 3
           }
          ]
         }
        },
        {
         "name": "genres",
         "dtype": "object",
         "stats": {
          "unique_count": 5,
          "nan_count": 0,
          "categories": [
           {
            "name": "Adventure|Animation|Children|Comedy|Fantasy",
            "count": 1
           },
           {
            "name": "Adventure|Children|Fantasy",
            "count": 1
           },
           {
            "name": "3 others",
            "count": 3
           }
          ]
         }
        },
        {
         "name": "release_year",
         "dtype": "float64",
         "stats": {
          "unique_count": 1,
          "nan_count": 0,
          "min": "1995.0",
          "max": "1995.0",
          "histogram": [
           {
            "bin_start": 1994.5,
            "bin_end": 1994.6,
            "count": 0
           },
           {
            "bin_start": 1994.6,
            "bin_end": 1994.7,
            "count": 0
           },
           {
            "bin_start": 1994.7,
            "bin_end": 1994.8,
            "count": 0
           },
           {
            "bin_start": 1994.8,
            "bin_end": 1994.9,
            "count": 0
           },
           {
            "bin_start": 1994.9,
            "bin_end": 1995,
            "count": 0
           },
           {
            "bin_start": 1995,
            "bin_end": 1995.1,
            "count": 5
           },
           {
            "bin_start": 1995.1,
            "bin_end": 1995.2,
            "count": 0
           },
           {
            "bin_start": 1995.2,
            "bin_end": 1995.3,
            "count": 0
           },
           {
            "bin_start": 1995.3,
            "bin_end": 1995.4,
            "count": 0
           },
           {
            "bin_start": 1995.4,
            "bin_end": 1995.5,
            "count": 0
           }
          ]
         }
        },
        {
         "name": "_deepnote_index_column",
         "dtype": "int64"
        }
       ],
       "rows": [
        {
         "movieId": 1,
         "title": "Toy Story",
         "genres": "Adventure|Animation|Children|Comedy|Fantasy",
         "release_year": 1995,
         "_deepnote_index_column": 0
        },
        {
         "movieId": 2,
         "title": "Jumanji",
         "genres": "Adventure|Children|Fantasy",
         "release_year": 1995,
         "_deepnote_index_column": 1
        },
        {
         "movieId": 3,
         "title": "Grumpier Old Men",
         "genres": "Comedy|Romance",
         "release_year": 1995,
         "_deepnote_index_column": 2
        },
        {
         "movieId": 4,
         "title": "Waiting to Exhale",
         "genres": "Comedy|Drama|Romance",
         "release_year": 1995,
         "_deepnote_index_column": 3
        },
        {
         "movieId": 5,
         "title": "Father of the Bride Part II",
         "genres": "Comedy",
         "release_year": 1995,
         "_deepnote_index_column": 4
        }
       ]
      },
      "text/plain": "   movieId                        title  \\\n0        1                    Toy Story   \n1        2                      Jumanji   \n2        3             Grumpier Old Men   \n3        4            Waiting to Exhale   \n4        5  Father of the Bride Part II   \n\n                                        genres  release_year  \n0  Adventure|Animation|Children|Comedy|Fantasy        1995.0  \n1                   Adventure|Children|Fantasy        1995.0  \n2                               Comedy|Romance        1995.0  \n3                         Comedy|Drama|Romance        1995.0  \n4                                       Comedy        1995.0  ",
      "text/html": "<div>\n<style scoped>\n    .dataframe tbody tr th:only-of-type {\n        vertical-align: middle;\n    }\n\n    .dataframe tbody tr th {\n        vertical-align: top;\n    }\n\n    .dataframe thead th {\n        text-align: right;\n    }\n</style>\n<table border=\"1\" class=\"dataframe\">\n  <thead>\n    <tr style=\"text-align: right;\">\n      <th></th>\n      <th>movieId</th>\n      <th>title</th>\n      <th>genres</th>\n      <th>release_year</th>\n    </tr>\n  </thead>\n  <tbody>\n    <tr>\n      <th>0</th>\n      <td>1</td>\n      <td>Toy Story</td>\n      <td>Adventure|Animation|Children|Comedy|Fantasy</td>\n      <td>1995.0</td>\n    </tr>\n    <tr>\n      <th>1</th>\n      <td>2</td>\n      <td>Jumanji</td>\n      <td>Adventure|Children|Fantasy</td>\n      <td>1995.0</td>\n    </tr>\n    <tr>\n      <th>2</th>\n      <td>3</td>\n      <td>Grumpier Old Men</td>\n      <td>Comedy|Romance</td>\n      <td>1995.0</td>\n    </tr>\n    <tr>\n      <th>3</th>\n      <td>4</td>\n      <td>Waiting to Exhale</td>\n      <td>Comedy|Drama|Romance</td>\n      <td>1995.0</td>\n    </tr>\n    <tr>\n      <th>4</th>\n      <td>5</td>\n      <td>Father of the Bride Part II</td>\n      <td>Comedy</td>\n      <td>1995.0</td>\n    </tr>\n  </tbody>\n</table>\n</div>"
     },
     "metadata": {}
    }
   ]
  },
  {
   "cell_type": "code",
   "metadata": {
    "cell_id": "ab585e0d6a4e4e1ba19baf108ed25fed",
    "tags": [],
    "deepnote_to_be_reexecuted": false,
    "source_hash": "cf7c2371",
    "execution_start": 1658154811208,
    "execution_millis": 90,
    "deepnote_cell_type": "code",
    "deepnote_cell_height": 430
   },
   "source": "df_movies = df_rating.merge(df_movie, on='movieId')\ndf_movies.head()",
   "execution_count": 10,
   "outputs": [
    {
     "output_type": "execute_result",
     "execution_count": 10,
     "data": {
      "application/vnd.deepnote.dataframe.v3+json": {
       "column_count": 7,
       "row_count": 5,
       "columns": [
        {
         "name": "userId",
         "dtype": "int64",
         "stats": {
          "unique_count": 5,
          "nan_count": 0,
          "min": "1",
          "max": "17",
          "histogram": [
           {
            "bin_start": 1,
            "bin_end": 2.6,
            "count": 1
           },
           {
            "bin_start": 2.6,
            "bin_end": 4.2,
            "count": 0
           },
           {
            "bin_start": 4.2,
            "bin_end": 5.800000000000001,
            "count": 1
           },
           {
            "bin_start": 5.800000000000001,
            "bin_end": 7.4,
            "count": 1
           },
           {
            "bin_start": 7.4,
            "bin_end": 9,
            "count": 0
           },
           {
            "bin_start": 9,
            "bin_end": 10.600000000000001,
            "count": 0
           },
           {
            "bin_start": 10.600000000000001,
            "bin_end": 12.200000000000001,
            "count": 0
           },
           {
            "bin_start": 12.200000000000001,
            "bin_end": 13.8,
            "count": 0
           },
           {
            "bin_start": 13.8,
            "bin_end": 15.4,
            "count": 1
           },
           {
            "bin_start": 15.4,
            "bin_end": 17,
            "count": 1
           }
          ]
         }
        },
        {
         "name": "movieId",
         "dtype": "int64",
         "stats": {
          "unique_count": 1,
          "nan_count": 0,
          "min": "1",
          "max": "1",
          "histogram": [
           {
            "bin_start": 0.5,
            "bin_end": 0.6,
            "count": 0
           },
           {
            "bin_start": 0.6,
            "bin_end": 0.7,
            "count": 0
           },
           {
            "bin_start": 0.7,
            "bin_end": 0.8,
            "count": 0
           },
           {
            "bin_start": 0.8,
            "bin_end": 0.9,
            "count": 0
           },
           {
            "bin_start": 0.9,
            "bin_end": 1,
            "count": 0
           },
           {
            "bin_start": 1,
            "bin_end": 1.1,
            "count": 5
           },
           {
            "bin_start": 1.1,
            "bin_end": 1.2000000000000002,
            "count": 0
           },
           {
            "bin_start": 1.2000000000000002,
            "bin_end": 1.3,
            "count": 0
           },
           {
            "bin_start": 1.3,
            "bin_end": 1.4,
            "count": 0
           },
           {
            "bin_start": 1.4,
            "bin_end": 1.5,
            "count": 0
           }
          ]
         }
        },
        {
         "name": "rating",
         "dtype": "float64",
         "stats": {
          "unique_count": 3,
          "nan_count": 0,
          "min": "2.5",
          "max": "4.5",
          "histogram": [
           {
            "bin_start": 2.5,
            "bin_end": 2.7,
            "count": 1
           },
           {
            "bin_start": 2.7,
            "bin_end": 2.9,
            "count": 0
           },
           {
            "bin_start": 2.9,
            "bin_end": 3.1,
            "count": 0
           },
           {
            "bin_start": 3.1,
            "bin_end": 3.3,
            "count": 0
           },
           {
            "bin_start": 3.3,
            "bin_end": 3.5,
            "count": 0
           },
           {
            "bin_start": 3.5,
            "bin_end": 3.7,
            "count": 0
           },
           {
            "bin_start": 3.7,
            "bin_end": 3.9000000000000004,
            "count": 0
           },
           {
            "bin_start": 3.9000000000000004,
            "bin_end": 4.1,
            "count": 2
           },
           {
            "bin_start": 4.1,
            "bin_end": 4.3,
            "count": 0
           },
           {
            "bin_start": 4.3,
            "bin_end": 4.5,
            "count": 2
           }
          ]
         }
        },
        {
         "name": "timestamp",
         "dtype": "int64",
         "stats": {
          "unique_count": 5,
          "nan_count": 0,
          "min": "847434962",
          "max": "1510577970",
          "histogram": [
           {
            "bin_start": 847434962,
            "bin_end": 913749262.8,
            "count": 1
           },
           {
            "bin_start": 913749262.8,
            "bin_end": 980063563.6,
            "count": 1
           },
           {
            "bin_start": 980063563.6,
            "bin_end": 1046377864.4,
            "count": 0
           },
           {
            "bin_start": 1046377864.4,
            "bin_end": 1112692165.2,
            "count": 1
           },
           {
            "bin_start": 1112692165.2,
            "bin_end": 1179006466,
            "count": 0
           },
           {
            "bin_start": 1179006466,
            "bin_end": 1245320766.8,
            "count": 0
           },
           {
            "bin_start": 1245320766.8,
            "bin_end": 1311635067.6,
            "count": 1
           },
           {
            "bin_start": 1311635067.6,
            "bin_end": 1377949368.4,
            "count": 0
           },
           {
            "bin_start": 1377949368.4,
            "bin_end": 1444263669.1999998,
            "count": 0
           },
           {
            "bin_start": 1444263669.1999998,
            "bin_end": 1510577970,
            "count": 1
           }
          ]
         }
        },
        {
         "name": "title",
         "dtype": "object",
         "stats": {
          "unique_count": 1,
          "nan_count": 0,
          "categories": [
           {
            "name": "Toy Story",
            "count": 5
           }
          ]
         }
        },
        {
         "name": "genres",
         "dtype": "object",
         "stats": {
          "unique_count": 1,
          "nan_count": 0,
          "categories": [
           {
            "name": "Adventure|Animation|Children|Comedy|Fantasy",
            "count": 5
           }
          ]
         }
        },
        {
         "name": "release_year",
         "dtype": "float64",
         "stats": {
          "unique_count": 1,
          "nan_count": 0,
          "min": "1995.0",
          "max": "1995.0",
          "histogram": [
           {
            "bin_start": 1994.5,
            "bin_end": 1994.6,
            "count": 0
           },
           {
            "bin_start": 1994.6,
            "bin_end": 1994.7,
            "count": 0
           },
           {
            "bin_start": 1994.7,
            "bin_end": 1994.8,
            "count": 0
           },
           {
            "bin_start": 1994.8,
            "bin_end": 1994.9,
            "count": 0
           },
           {
            "bin_start": 1994.9,
            "bin_end": 1995,
            "count": 0
           },
           {
            "bin_start": 1995,
            "bin_end": 1995.1,
            "count": 5
           },
           {
            "bin_start": 1995.1,
            "bin_end": 1995.2,
            "count": 0
           },
           {
            "bin_start": 1995.2,
            "bin_end": 1995.3,
            "count": 0
           },
           {
            "bin_start": 1995.3,
            "bin_end": 1995.4,
            "count": 0
           },
           {
            "bin_start": 1995.4,
            "bin_end": 1995.5,
            "count": 0
           }
          ]
         }
        },
        {
         "name": "_deepnote_index_column",
         "dtype": "int64"
        }
       ],
       "rows": [
        {
         "userId": 1,
         "movieId": 1,
         "rating": 4,
         "timestamp": 964982703,
         "title": "Toy Story",
         "genres": "Adventure|Animation|Children|Comedy|Fantasy",
         "release_year": 1995,
         "_deepnote_index_column": 0
        },
        {
         "userId": 5,
         "movieId": 1,
         "rating": 4,
         "timestamp": 847434962,
         "title": "Toy Story",
         "genres": "Adventure|Animation|Children|Comedy|Fantasy",
         "release_year": 1995,
         "_deepnote_index_column": 1
        },
        {
         "userId": 7,
         "movieId": 1,
         "rating": 4.5,
         "timestamp": 1106635946,
         "title": "Toy Story",
         "genres": "Adventure|Animation|Children|Comedy|Fantasy",
         "release_year": 1995,
         "_deepnote_index_column": 2
        },
        {
         "userId": 15,
         "movieId": 1,
         "rating": 2.5,
         "timestamp": 1510577970,
         "title": "Toy Story",
         "genres": "Adventure|Animation|Children|Comedy|Fantasy",
         "release_year": 1995,
         "_deepnote_index_column": 3
        },
        {
         "userId": 17,
         "movieId": 1,
         "rating": 4.5,
         "timestamp": 1305696483,
         "title": "Toy Story",
         "genres": "Adventure|Animation|Children|Comedy|Fantasy",
         "release_year": 1995,
         "_deepnote_index_column": 4
        }
       ]
      },
      "text/plain": "   userId  movieId  rating   timestamp      title  \\\n0       1        1     4.0   964982703  Toy Story   \n1       5        1     4.0   847434962  Toy Story   \n2       7        1     4.5  1106635946  Toy Story   \n3      15        1     2.5  1510577970  Toy Story   \n4      17        1     4.5  1305696483  Toy Story   \n\n                                        genres  release_year  \n0  Adventure|Animation|Children|Comedy|Fantasy        1995.0  \n1  Adventure|Animation|Children|Comedy|Fantasy        1995.0  \n2  Adventure|Animation|Children|Comedy|Fantasy        1995.0  \n3  Adventure|Animation|Children|Comedy|Fantasy        1995.0  \n4  Adventure|Animation|Children|Comedy|Fantasy        1995.0  ",
      "text/html": "<div>\n<style scoped>\n    .dataframe tbody tr th:only-of-type {\n        vertical-align: middle;\n    }\n\n    .dataframe tbody tr th {\n        vertical-align: top;\n    }\n\n    .dataframe thead th {\n        text-align: right;\n    }\n</style>\n<table border=\"1\" class=\"dataframe\">\n  <thead>\n    <tr style=\"text-align: right;\">\n      <th></th>\n      <th>userId</th>\n      <th>movieId</th>\n      <th>rating</th>\n      <th>timestamp</th>\n      <th>title</th>\n      <th>genres</th>\n      <th>release_year</th>\n    </tr>\n  </thead>\n  <tbody>\n    <tr>\n      <th>0</th>\n      <td>1</td>\n      <td>1</td>\n      <td>4.0</td>\n      <td>964982703</td>\n      <td>Toy Story</td>\n      <td>Adventure|Animation|Children|Comedy|Fantasy</td>\n      <td>1995.0</td>\n    </tr>\n    <tr>\n      <th>1</th>\n      <td>5</td>\n      <td>1</td>\n      <td>4.0</td>\n      <td>847434962</td>\n      <td>Toy Story</td>\n      <td>Adventure|Animation|Children|Comedy|Fantasy</td>\n      <td>1995.0</td>\n    </tr>\n    <tr>\n      <th>2</th>\n      <td>7</td>\n      <td>1</td>\n      <td>4.5</td>\n      <td>1106635946</td>\n      <td>Toy Story</td>\n      <td>Adventure|Animation|Children|Comedy|Fantasy</td>\n      <td>1995.0</td>\n    </tr>\n    <tr>\n      <th>3</th>\n      <td>15</td>\n      <td>1</td>\n      <td>2.5</td>\n      <td>1510577970</td>\n      <td>Toy Story</td>\n      <td>Adventure|Animation|Children|Comedy|Fantasy</td>\n      <td>1995.0</td>\n    </tr>\n    <tr>\n      <th>4</th>\n      <td>17</td>\n      <td>1</td>\n      <td>4.5</td>\n      <td>1305696483</td>\n      <td>Toy Story</td>\n      <td>Adventure|Animation|Children|Comedy|Fantasy</td>\n      <td>1995.0</td>\n    </tr>\n  </tbody>\n</table>\n</div>"
     },
     "metadata": {}
    }
   ]
  },
  {
   "cell_type": "code",
   "metadata": {
    "cell_id": "32e3e37afbb34a9eb93ebf49e142b033",
    "tags": [],
    "deepnote_to_be_reexecuted": false,
    "source_hash": "fb2183cf",
    "execution_start": 1658154811299,
    "execution_millis": 0,
    "deepnote_cell_type": "code",
    "deepnote_cell_height": 99
   },
   "source": "df_movies.drop('timestamp', inplace=True, axis=1)\n",
   "execution_count": 11,
   "outputs": []
  },
  {
   "cell_type": "code",
   "metadata": {
    "cell_id": "401ab5d4c7804d56a9c33add2ad7c917",
    "tags": [],
    "deepnote_to_be_reexecuted": false,
    "source_hash": "7c26fd5e",
    "execution_start": 1658154811320,
    "execution_millis": 29,
    "deepnote_cell_type": "code",
    "deepnote_cell_height": 412
   },
   "source": "df_movies.head()",
   "execution_count": 12,
   "outputs": [
    {
     "output_type": "execute_result",
     "execution_count": 12,
     "data": {
      "application/vnd.deepnote.dataframe.v3+json": {
       "column_count": 6,
       "row_count": 5,
       "columns": [
        {
         "name": "userId",
         "dtype": "int64",
         "stats": {
          "unique_count": 5,
          "nan_count": 0,
          "min": "1",
          "max": "17",
          "histogram": [
           {
            "bin_start": 1,
            "bin_end": 2.6,
            "count": 1
           },
           {
            "bin_start": 2.6,
            "bin_end": 4.2,
            "count": 0
           },
           {
            "bin_start": 4.2,
            "bin_end": 5.800000000000001,
            "count": 1
           },
           {
            "bin_start": 5.800000000000001,
            "bin_end": 7.4,
            "count": 1
           },
           {
            "bin_start": 7.4,
            "bin_end": 9,
            "count": 0
           },
           {
            "bin_start": 9,
            "bin_end": 10.600000000000001,
            "count": 0
           },
           {
            "bin_start": 10.600000000000001,
            "bin_end": 12.200000000000001,
            "count": 0
           },
           {
            "bin_start": 12.200000000000001,
            "bin_end": 13.8,
            "count": 0
           },
           {
            "bin_start": 13.8,
            "bin_end": 15.4,
            "count": 1
           },
           {
            "bin_start": 15.4,
            "bin_end": 17,
            "count": 1
           }
          ]
         }
        },
        {
         "name": "movieId",
         "dtype": "int64",
         "stats": {
          "unique_count": 1,
          "nan_count": 0,
          "min": "1",
          "max": "1",
          "histogram": [
           {
            "bin_start": 0.5,
            "bin_end": 0.6,
            "count": 0
           },
           {
            "bin_start": 0.6,
            "bin_end": 0.7,
            "count": 0
           },
           {
            "bin_start": 0.7,
            "bin_end": 0.8,
            "count": 0
           },
           {
            "bin_start": 0.8,
            "bin_end": 0.9,
            "count": 0
           },
           {
            "bin_start": 0.9,
            "bin_end": 1,
            "count": 0
           },
           {
            "bin_start": 1,
            "bin_end": 1.1,
            "count": 5
           },
           {
            "bin_start": 1.1,
            "bin_end": 1.2000000000000002,
            "count": 0
           },
           {
            "bin_start": 1.2000000000000002,
            "bin_end": 1.3,
            "count": 0
           },
           {
            "bin_start": 1.3,
            "bin_end": 1.4,
            "count": 0
           },
           {
            "bin_start": 1.4,
            "bin_end": 1.5,
            "count": 0
           }
          ]
         }
        },
        {
         "name": "rating",
         "dtype": "float64",
         "stats": {
          "unique_count": 3,
          "nan_count": 0,
          "min": "2.5",
          "max": "4.5",
          "histogram": [
           {
            "bin_start": 2.5,
            "bin_end": 2.7,
            "count": 1
           },
           {
            "bin_start": 2.7,
            "bin_end": 2.9,
            "count": 0
           },
           {
            "bin_start": 2.9,
            "bin_end": 3.1,
            "count": 0
           },
           {
            "bin_start": 3.1,
            "bin_end": 3.3,
            "count": 0
           },
           {
            "bin_start": 3.3,
            "bin_end": 3.5,
            "count": 0
           },
           {
            "bin_start": 3.5,
            "bin_end": 3.7,
            "count": 0
           },
           {
            "bin_start": 3.7,
            "bin_end": 3.9000000000000004,
            "count": 0
           },
           {
            "bin_start": 3.9000000000000004,
            "bin_end": 4.1,
            "count": 2
           },
           {
            "bin_start": 4.1,
            "bin_end": 4.3,
            "count": 0
           },
           {
            "bin_start": 4.3,
            "bin_end": 4.5,
            "count": 2
           }
          ]
         }
        },
        {
         "name": "title",
         "dtype": "object",
         "stats": {
          "unique_count": 1,
          "nan_count": 0,
          "categories": [
           {
            "name": "Toy Story",
            "count": 5
           }
          ]
         }
        },
        {
         "name": "genres",
         "dtype": "object",
         "stats": {
          "unique_count": 1,
          "nan_count": 0,
          "categories": [
           {
            "name": "Adventure|Animation|Children|Comedy|Fantasy",
            "count": 5
           }
          ]
         }
        },
        {
         "name": "release_year",
         "dtype": "float64",
         "stats": {
          "unique_count": 1,
          "nan_count": 0,
          "min": "1995.0",
          "max": "1995.0",
          "histogram": [
           {
            "bin_start": 1994.5,
            "bin_end": 1994.6,
            "count": 0
           },
           {
            "bin_start": 1994.6,
            "bin_end": 1994.7,
            "count": 0
           },
           {
            "bin_start": 1994.7,
            "bin_end": 1994.8,
            "count": 0
           },
           {
            "bin_start": 1994.8,
            "bin_end": 1994.9,
            "count": 0
           },
           {
            "bin_start": 1994.9,
            "bin_end": 1995,
            "count": 0
           },
           {
            "bin_start": 1995,
            "bin_end": 1995.1,
            "count": 5
           },
           {
            "bin_start": 1995.1,
            "bin_end": 1995.2,
            "count": 0
           },
           {
            "bin_start": 1995.2,
            "bin_end": 1995.3,
            "count": 0
           },
           {
            "bin_start": 1995.3,
            "bin_end": 1995.4,
            "count": 0
           },
           {
            "bin_start": 1995.4,
            "bin_end": 1995.5,
            "count": 0
           }
          ]
         }
        },
        {
         "name": "_deepnote_index_column",
         "dtype": "int64"
        }
       ],
       "rows": [
        {
         "userId": 1,
         "movieId": 1,
         "rating": 4,
         "title": "Toy Story",
         "genres": "Adventure|Animation|Children|Comedy|Fantasy",
         "release_year": 1995,
         "_deepnote_index_column": 0
        },
        {
         "userId": 5,
         "movieId": 1,
         "rating": 4,
         "title": "Toy Story",
         "genres": "Adventure|Animation|Children|Comedy|Fantasy",
         "release_year": 1995,
         "_deepnote_index_column": 1
        },
        {
         "userId": 7,
         "movieId": 1,
         "rating": 4.5,
         "title": "Toy Story",
         "genres": "Adventure|Animation|Children|Comedy|Fantasy",
         "release_year": 1995,
         "_deepnote_index_column": 2
        },
        {
         "userId": 15,
         "movieId": 1,
         "rating": 2.5,
         "title": "Toy Story",
         "genres": "Adventure|Animation|Children|Comedy|Fantasy",
         "release_year": 1995,
         "_deepnote_index_column": 3
        },
        {
         "userId": 17,
         "movieId": 1,
         "rating": 4.5,
         "title": "Toy Story",
         "genres": "Adventure|Animation|Children|Comedy|Fantasy",
         "release_year": 1995,
         "_deepnote_index_column": 4
        }
       ]
      },
      "text/plain": "   userId  movieId  rating      title  \\\n0       1        1     4.0  Toy Story   \n1       5        1     4.0  Toy Story   \n2       7        1     4.5  Toy Story   \n3      15        1     2.5  Toy Story   \n4      17        1     4.5  Toy Story   \n\n                                        genres  release_year  \n0  Adventure|Animation|Children|Comedy|Fantasy        1995.0  \n1  Adventure|Animation|Children|Comedy|Fantasy        1995.0  \n2  Adventure|Animation|Children|Comedy|Fantasy        1995.0  \n3  Adventure|Animation|Children|Comedy|Fantasy        1995.0  \n4  Adventure|Animation|Children|Comedy|Fantasy        1995.0  ",
      "text/html": "<div>\n<style scoped>\n    .dataframe tbody tr th:only-of-type {\n        vertical-align: middle;\n    }\n\n    .dataframe tbody tr th {\n        vertical-align: top;\n    }\n\n    .dataframe thead th {\n        text-align: right;\n    }\n</style>\n<table border=\"1\" class=\"dataframe\">\n  <thead>\n    <tr style=\"text-align: right;\">\n      <th></th>\n      <th>userId</th>\n      <th>movieId</th>\n      <th>rating</th>\n      <th>title</th>\n      <th>genres</th>\n      <th>release_year</th>\n    </tr>\n  </thead>\n  <tbody>\n    <tr>\n      <th>0</th>\n      <td>1</td>\n      <td>1</td>\n      <td>4.0</td>\n      <td>Toy Story</td>\n      <td>Adventure|Animation|Children|Comedy|Fantasy</td>\n      <td>1995.0</td>\n    </tr>\n    <tr>\n      <th>1</th>\n      <td>5</td>\n      <td>1</td>\n      <td>4.0</td>\n      <td>Toy Story</td>\n      <td>Adventure|Animation|Children|Comedy|Fantasy</td>\n      <td>1995.0</td>\n    </tr>\n    <tr>\n      <th>2</th>\n      <td>7</td>\n      <td>1</td>\n      <td>4.5</td>\n      <td>Toy Story</td>\n      <td>Adventure|Animation|Children|Comedy|Fantasy</td>\n      <td>1995.0</td>\n    </tr>\n    <tr>\n      <th>3</th>\n      <td>15</td>\n      <td>1</td>\n      <td>2.5</td>\n      <td>Toy Story</td>\n      <td>Adventure|Animation|Children|Comedy|Fantasy</td>\n      <td>1995.0</td>\n    </tr>\n    <tr>\n      <th>4</th>\n      <td>17</td>\n      <td>1</td>\n      <td>4.5</td>\n      <td>Toy Story</td>\n      <td>Adventure|Animation|Children|Comedy|Fantasy</td>\n      <td>1995.0</td>\n    </tr>\n  </tbody>\n</table>\n</div>"
     },
     "metadata": {}
    }
   ]
  },
  {
   "cell_type": "code",
   "metadata": {
    "cell_id": "98959597cc5b4995b10e84eb86a286e6",
    "tags": [],
    "deepnote_to_be_reexecuted": false,
    "source_hash": "3d52d960",
    "execution_start": 1658154811373,
    "execution_millis": 202,
    "deepnote_cell_type": "code",
    "deepnote_cell_height": 233.359375,
    "deepnote_output_heights": [
     136.359375
    ]
   },
   "source": "df_movies.isnull().sum() ",
   "execution_count": 13,
   "outputs": [
    {
     "output_type": "execute_result",
     "execution_count": 13,
     "data": {
      "text/plain": "userId           0\nmovieId          0\nrating           0\ntitle            0\ngenres           0\nrelease_year    18\ndtype: int64"
     },
     "metadata": {}
    }
   ]
  },
  {
   "cell_type": "code",
   "metadata": {
    "cell_id": "93be553c5c404f9f9bb1c45a13f176fe",
    "tags": [],
    "deepnote_to_be_reexecuted": false,
    "source_hash": "873279ed",
    "execution_start": 1658154811375,
    "execution_millis": 43,
    "deepnote_cell_type": "code",
    "deepnote_cell_height": 81
   },
   "source": "df_movies.dropna(inplace=True) #just drop the missing data review three movies which dont have overview",
   "execution_count": 14,
   "outputs": []
  },
  {
   "cell_type": "code",
   "metadata": {
    "cell_id": "ad9f8720f99f440db8581db276168128",
    "tags": [],
    "deepnote_to_be_reexecuted": false,
    "source_hash": "956b3583",
    "execution_start": 1658154811419,
    "execution_millis": 10443,
    "deepnote_cell_type": "code",
    "deepnote_cell_height": 708,
    "deepnote_output_heights": [
     611
    ]
   },
   "source": "df_movies['rating'].hist(by=df_movies['release_year'], figsize=(20, 20));",
   "execution_count": 15,
   "outputs": [
    {
     "data": {
      "text/plain": "<Figure size 1440x1440 with 110 Axes>",
      "image/png": "[encoded data removed]"
     },
     "metadata": {
      "needs_background": "light",
      "image/png": {
       "width": 1198,
       "height": 1123
      }
     },
     "output_type": "display_data"
    }
   ]
  },
  {
   "cell_type": "code",
   "metadata": {
    "cell_id": "19348e28f3e24cb681c9c7eec5ea39a6",
    "tags": [],
    "deepnote_to_be_reexecuted": false,
    "source_hash": "fe8883b7",
    "execution_start": 1658154821925,
    "execution_millis": 0,
    "deepnote_cell_type": "code",
    "deepnote_cell_height": 315
   },
   "source": "#define a function that counts the number of times each genre appear:\ndef count_word(df_movies, ref_col, liste):\n    keyword_count = dict()\n    for s in liste: keyword_count[s] = 0\n    for liste_keywords in df_movies[ref_col].str.split('|'):\n        if type(liste_keywords) == float and pd.isnull(liste_keywords): continue\n        for s in liste_keywords: \n            if pd.notnull(s): keyword_count[s] += 1\n    # convert the dictionary in a list to sort the keywords  by frequency\n    keyword_occurences = []\n    for k,v in keyword_count.items():\n        keyword_occurences.append([k,v])\n    keyword_occurences.sort(key = lambda x:x[1], reverse = True)\n    return keyword_occurences, keyword_count",
   "execution_count": 16,
   "outputs": []
  },
  {
   "cell_type": "code",
   "metadata": {
    "cell_id": "e7e01d0e087840afb51f1c835bf58cb4",
    "tags": [],
    "deepnote_to_be_reexecuted": false,
    "source_hash": "b0178591",
    "execution_start": 1658154821925,
    "execution_millis": 363,
    "deepnote_cell_type": "code",
    "deepnote_cell_height": 135
   },
   "source": "#here we  make census of the genres:\ngenre_labels = set()\nfor s in df_movies['genres'].str.split('|').values:\n    genre_labels = genre_labels.union(set(s))",
   "execution_count": 17,
   "outputs": []
  },
  {
   "cell_type": "code",
   "metadata": {
    "cell_id": "754e1015ee00452f837d3f7a486224fa",
    "tags": [],
    "deepnote_to_be_reexecuted": false,
    "source_hash": "3ff6f1f2",
    "execution_start": 1658154822293,
    "execution_millis": 358,
    "deepnote_cell_type": "code",
    "deepnote_cell_height": 518.90625,
    "deepnote_output_heights": [
     385.90625
    ]
   },
   "source": "#counting how many times each of genres occur:\nkeyword_occurences, dum = count_word(df_movies, 'genres', genre_labels)\nkeyword_occurences",
   "execution_count": 18,
   "outputs": [
    {
     "output_type": "execute_result",
     "execution_count": 18,
     "data": {
      "text/plain": "[['Drama', 41926],\n ['Comedy', 39053],\n ['Action', 30631],\n ['Thriller', 26447],\n ['Adventure', 24161],\n ['Romance', 18124],\n ['Sci-Fi', 17237],\n ['Crime', 16681],\n ['Fantasy', 11834],\n ['Children', 9208],\n ['Mystery', 7674],\n ['Horror', 7291],\n ['Animation', 6988],\n ['War', 4859],\n ['IMAX', 4145],\n ['Musical', 4138],\n ['Western', 1930],\n ['Documentary', 1219],\n ['Film-Noir', 870],\n ['(no genres listed)', 37]]"
     },
     "metadata": {}
    }
   ]
  },
  {
   "cell_type": "markdown",
   "source": "### The top 25 Movies by Viewership Rating",
   "metadata": {
    "cell_id": "32c19578a0ff4a5a91d6a78a0936612b",
    "tags": [],
    "is_collapsed": false,
    "formattedRanges": [],
    "deepnote_cell_type": "text-cell-h3"
   }
  },
  {
   "cell_type": "code",
   "metadata": {
    "cell_id": "d34e7be3c8dd4bc0addc85d9aae80d70",
    "tags": [],
    "deepnote_to_be_reexecuted": false,
    "source_hash": "36f8e3ec",
    "execution_start": 1658154822658,
    "execution_millis": 9,
    "deepnote_table_state": {
     "pageSize": 25,
     "pageIndex": 0,
     "filters": [],
     "sortBy": []
    },
    "deepnote_table_loading": false,
    "deepnote_cell_type": "code",
    "deepnote_cell_height": 135
   },
   "source": "movie_rating = df_movies.groupby(['movieId'], as_index=False)\naverage_movie_rating = movie_rating.agg({'rating':'mean'})\ntop_25_movies = average_movie_rating.sort_values('rating', ascending=False).head(25)\n",
   "execution_count": 19,
   "outputs": []
  },
  {
   "cell_type": "code",
   "metadata": {
    "cell_id": "020f3ea7e571416eadf1e9d2fc1260f8",
    "tags": [],
    "deepnote_to_be_reexecuted": false,
    "source_hash": "dbac3066",
    "execution_start": 1658154822685,
    "execution_millis": 11,
    "deepnote_cell_type": "code",
    "deepnote_cell_height": 1215
   },
   "source": "top_25_movies",
   "execution_count": 20,
   "outputs": [
    {
     "output_type": "execute_result",
     "execution_count": 20,
     "data": {
      "application/vnd.deepnote.dataframe.v3+json": {
       "column_count": 2,
       "row_count": 25,
       "columns": [
        {
         "name": "movieId",
         "dtype": "int64",
         "stats": {
          "unique_count": 25,
          "nan_count": 0,
          "min": "2969",
          "max": "138835",
          "histogram": [
           {
            "bin_start": 2969,
            "bin_end": 16555.6,
            "count": 5
           },
           {
            "bin_start": 16555.6,
            "bin_end": 30142.2,
            "count": 0
           },
           {
            "bin_start": 30142.2,
            "bin_end": 43728.8,
            "count": 1
           },
           {
            "bin_start": 43728.8,
            "bin_end": 57315.4,
            "count": 0
           },
           {
            "bin_start": 57315.4,
            "bin_end": 70902,
            "count": 0
           },
           {
            "bin_start": 70902,
            "bin_end": 84488.6,
            "count": 0
           },
           {
            "bin_start": 84488.6,
            "bin_end": 98075.2,
            "count": 1
           },
           {
            "bin_start": 98075.2,
            "bin_end": 111661.8,
            "count": 0
           },
           {
            "bin_start": 111661.8,
            "bin_end": 125248.40000000001,
            "count": 0
           },
           {
            "bin_start": 125248.40000000001,
            "bin_end": 138835,
            "count": 18
           }
          ]
         }
        },
        {
         "name": "rating",
         "dtype": "float64",
         "stats": {
          "unique_count": 1,
          "nan_count": 0,
          "min": "5.0",
          "max": "5.0",
          "histogram": [
           {
            "bin_start": 4.5,
            "bin_end": 4.6,
            "count": 0
           },
           {
            "bin_start": 4.6,
            "bin_end": 4.7,
            "count": 0
           },
           {
            "bin_start": 4.7,
            "bin_end": 4.8,
            "count": 0
           },
           {
            "bin_start": 4.8,
            "bin_end": 4.9,
            "count": 0
           },
           {
            "bin_start": 4.9,
            "bin_end": 5,
            "count": 0
           },
           {
            "bin_start": 5,
            "bin_end": 5.1,
            "count": 25
           },
           {
            "bin_start": 5.1,
            "bin_end": 5.2,
            "count": 0
           },
           {
            "bin_start": 5.2,
            "bin_end": 5.3,
            "count": 0
           },
           {
            "bin_start": 5.3,
            "bin_end": 5.4,
            "count": 0
           },
           {
            "bin_start": 5.4,
            "bin_end": 5.5,
            "count": 0
           }
          ]
         }
        },
        {
         "name": "_deepnote_index_column",
         "dtype": "int64"
        }
       ],
       "rows": [
        {
         "movieId": 87834,
         "rating": 5,
         "_deepnote_index_column": 7617
        },
        {
         "movieId": 136359,
         "rating": 5,
         "_deepnote_index_column": 8917
        },
        {
         "movieId": 2969,
         "rating": 5,
         "_deepnote_index_column": 2232
        },
        {
         "movieId": 134004,
         "rating": 5,
         "_deepnote_index_column": 8854
        },
        {
         "movieId": 7096,
         "rating": 5,
         "_deepnote_index_column": 4759
        },
        {
         "movieId": 134095,
         "rating": 5,
         "_deepnote_index_column": 8858
        },
        {
         "movieId": 134109,
         "rating": 5,
         "_deepnote_index_column": 8859
        },
        {
         "movieId": 134796,
         "rating": 5,
         "_deepnote_index_column": 8877
        },
        {
         "movieId": 134847,
         "rating": 5,
         "_deepnote_index_column": 8879
        },
        {
         "movieId": 136341,
         "rating": 5,
         "_deepnote_index_column": 8914
        },
        {
         "movieId": 136353,
         "rating": 5,
         "_deepnote_index_column": 8915
        },
        {
         "movieId": 136355,
         "rating": 5,
         "_deepnote_index_column": 8916
        },
        {
         "movieId": 136445,
         "rating": 5,
         "_deepnote_index_column": 8919
        },
        {
         "movieId": 3851,
         "rating": 5,
         "_deepnote_index_column": 2876
        },
        {
         "movieId": 136447,
         "rating": 5,
         "_deepnote_index_column": 8920
        },
        {
         "movieId": 136469,
         "rating": 5,
         "_deepnote_index_column": 8922
        },
        {
         "movieId": 136503,
         "rating": 5,
         "_deepnote_index_column": 8924
        },
        {
         "movieId": 136556,
         "rating": 5,
         "_deepnote_index_column": 8927
        },
        {
         "movieId": 136834,
         "rating": 5,
         "_deepnote_index_column": 8939
        },
        {
         "movieId": 136850,
         "rating": 5,
         "_deepnote_index_column": 8942
        },
        {
         "movieId": 7122,
         "rating": 5,
         "_deepnote_index_column": 4774
        },
        {
         "movieId": 34312,
         "rating": 5,
         "_deepnote_index_column": 5926
        },
        {
         "movieId": 138632,
         "rating": 5,
         "_deepnote_index_column": 8963
        },
        {
         "movieId": 138835,
         "rating": 5,
         "_deepnote_index_column": 8966
        },
        {
         "movieId": 5746,
         "rating": 5,
         "_deepnote_index_column": 4039
        }
       ]
      },
      "text/plain": "      movieId  rating\n7617    87834     5.0\n8917   136359     5.0\n2232     2969     5.0\n8854   134004     5.0\n4759     7096     5.0\n8858   134095     5.0\n8859   134109     5.0\n8877   134796     5.0\n8879   134847     5.0\n8914   136341     5.0\n8915   136353     5.0\n8916   136355     5.0\n8919   136445     5.0\n2876     3851     5.0\n8920   136447     5.0\n8922   136469     5.0\n8924   136503     5.0\n8927   136556     5.0\n8939   136834     5.0\n8942   136850     5.0\n4774     7122     5.0\n5926    34312     5.0\n8963   138632     5.0\n8966   138835     5.0\n4039     5746     5.0",
      "text/html": "<div>\n<style scoped>\n    .dataframe tbody tr th:only-of-type {\n        vertical-align: middle;\n    }\n\n    .dataframe tbody tr th {\n        vertical-align: top;\n    }\n\n    .dataframe thead th {\n        text-align: right;\n    }\n</style>\n<table border=\"1\" class=\"dataframe\">\n  <thead>\n    <tr style=\"text-align: right;\">\n      <th></th>\n      <th>movieId</th>\n      <th>rating</th>\n    </tr>\n  </thead>\n  <tbody>\n    <tr>\n      <th>7617</th>\n      <td>87834</td>\n      <td>5.0</td>\n    </tr>\n    <tr>\n      <th>8917</th>\n      <td>136359</td>\n      <td>5.0</td>\n    </tr>\n    <tr>\n      <th>2232</th>\n      <td>2969</td>\n      <td>5.0</td>\n    </tr>\n    <tr>\n      <th>8854</th>\n      <td>134004</td>\n      <td>5.0</td>\n    </tr>\n    <tr>\n      <th>4759</th>\n      <td>7096</td>\n      <td>5.0</td>\n    </tr>\n    <tr>\n      <th>8858</th>\n      <td>134095</td>\n      <td>5.0</td>\n    </tr>\n    <tr>\n      <th>8859</th>\n      <td>134109</td>\n      <td>5.0</td>\n    </tr>\n    <tr>\n      <th>8877</th>\n      <td>134796</td>\n      <td>5.0</td>\n    </tr>\n    <tr>\n      <th>8879</th>\n      <td>134847</td>\n      <td>5.0</td>\n    </tr>\n    <tr>\n      <th>8914</th>\n      <td>136341</td>\n      <td>5.0</td>\n    </tr>\n    <tr>\n      <th>8915</th>\n      <td>136353</td>\n      <td>5.0</td>\n    </tr>\n    <tr>\n      <th>8916</th>\n      <td>136355</td>\n      <td>5.0</td>\n    </tr>\n    <tr>\n      <th>8919</th>\n      <td>136445</td>\n      <td>5.0</td>\n    </tr>\n    <tr>\n      <th>2876</th>\n      <td>3851</td>\n      <td>5.0</td>\n    </tr>\n    <tr>\n      <th>8920</th>\n      <td>136447</td>\n      <td>5.0</td>\n    </tr>\n    <tr>\n      <th>8922</th>\n      <td>136469</td>\n      <td>5.0</td>\n    </tr>\n    <tr>\n      <th>8924</th>\n      <td>136503</td>\n      <td>5.0</td>\n    </tr>\n    <tr>\n      <th>8927</th>\n      <td>136556</td>\n      <td>5.0</td>\n    </tr>\n    <tr>\n      <th>8939</th>\n      <td>136834</td>\n      <td>5.0</td>\n    </tr>\n    <tr>\n      <th>8942</th>\n      <td>136850</td>\n      <td>5.0</td>\n    </tr>\n    <tr>\n      <th>4774</th>\n      <td>7122</td>\n      <td>5.0</td>\n    </tr>\n    <tr>\n      <th>5926</th>\n      <td>34312</td>\n      <td>5.0</td>\n    </tr>\n    <tr>\n      <th>8963</th>\n      <td>138632</td>\n      <td>5.0</td>\n    </tr>\n    <tr>\n      <th>8966</th>\n      <td>138835</td>\n      <td>5.0</td>\n    </tr>\n    <tr>\n      <th>4039</th>\n      <td>5746</td>\n      <td>5.0</td>\n    </tr>\n  </tbody>\n</table>\n</div>"
     },
     "metadata": {}
    }
   ]
  },
  {
   "cell_type": "code",
   "metadata": {
    "cell_id": "46f5c2c92fb244759e5e11e9f89b072b",
    "tags": [],
    "deepnote_to_be_reexecuted": false,
    "source_hash": "cb0ac3d8",
    "execution_start": 1658154822697,
    "execution_millis": 60,
    "deepnote_cell_type": "code",
    "deepnote_cell_height": 635
   },
   "source": "top_25_movies_viewership_data = pd.merge(top_25_movies, df_movies, left_on=['movieId'], right_on=['movieId'])\ntop_25_movies_viewership_data",
   "execution_count": 21,
   "outputs": [
    {
     "output_type": "execute_result",
     "execution_count": 21,
     "data": {
      "application/vnd.deepnote.dataframe.v3+json": {
       "column_count": 7,
       "row_count": 25,
       "columns": [
        {
         "name": "movieId",
         "dtype": "int64",
         "stats": {
          "unique_count": 25,
          "nan_count": 0,
          "min": "2969",
          "max": "138835",
          "histogram": [
           {
            "bin_start": 2969,
            "bin_end": 16555.6,
            "count": 5
           },
           {
            "bin_start": 16555.6,
            "bin_end": 30142.2,
            "count": 0
           },
           {
            "bin_start": 30142.2,
            "bin_end": 43728.8,
            "count": 1
           },
           {
            "bin_start": 43728.8,
            "bin_end": 57315.4,
            "count": 0
           },
           {
            "bin_start": 57315.4,
            "bin_end": 70902,
            "count": 0
           },
           {
            "bin_start": 70902,
            "bin_end": 84488.6,
            "count": 0
           },
           {
            "bin_start": 84488.6,
            "bin_end": 98075.2,
            "count": 1
           },
           {
            "bin_start": 98075.2,
            "bin_end": 111661.8,
            "count": 0
           },
           {
            "bin_start": 111661.8,
            "bin_end": 125248.40000000001,
            "count": 0
           },
           {
            "bin_start": 125248.40000000001,
            "bin_end": 138835,
            "count": 18
           }
          ]
         }
        },
        {
         "name": "rating_x",
         "dtype": "float64",
         "stats": {
          "unique_count": 1,
          "nan_count": 0,
          "min": "5.0",
          "max": "5.0",
          "histogram": [
           {
            "bin_start": 4.5,
            "bin_end": 4.6,
            "count": 0
           },
           {
            "bin_start": 4.6,
            "bin_end": 4.7,
            "count": 0
           },
           {
            "bin_start": 4.7,
            "bin_end": 4.8,
            "count": 0
           },
           {
            "bin_start": 4.8,
            "bin_end": 4.9,
            "count": 0
           },
           {
            "bin_start": 4.9,
            "bin_end": 5,
            "count": 0
           },
           {
            "bin_start": 5,
            "bin_end": 5.1,
            "count": 25
           },
           {
            "bin_start": 5.1,
            "bin_end": 5.2,
            "count": 0
           },
           {
            "bin_start": 5.2,
            "bin_end": 5.3,
            "count": 0
           },
           {
            "bin_start": 5.3,
            "bin_end": 5.4,
            "count": 0
           },
           {
            "bin_start": 5.4,
            "bin_end": 5.5,
            "count": 0
           }
          ]
         }
        },
        {
         "name": "userId",
         "dtype": "int64",
         "stats": {
          "unique_count": 12,
          "nan_count": 0,
          "min": "3",
          "max": "610",
          "histogram": [
           {
            "bin_start": 3,
            "bin_end": 63.7,
            "count": 2
           },
           {
            "bin_start": 63.7,
            "bin_end": 124.4,
            "count": 17
           },
           {
            "bin_start": 124.4,
            "bin_end": 185.10000000000002,
            "count": 0
           },
           {
            "bin_start": 185.10000000000002,
            "bin_end": 245.8,
            "count": 0
           },
           {
            "bin_start": 245.8,
            "bin_end": 306.5,
            "count": 0
           },
           {
            "bin_start": 306.5,
            "bin_end": 367.20000000000005,
            "count": 3
           },
           {
            "bin_start": 367.20000000000005,
            "bin_end": 427.90000000000003,
            "count": 1
           },
           {
            "bin_start": 427.90000000000003,
            "bin_end": 488.6,
            "count": 0
           },
           {
            "bin_start": 488.6,
            "bin_end": 549.3000000000001,
            "count": 0
           },
           {
            "bin_start": 549.3000000000001,
            "bin_end": 610,
            "count": 2
           }
          ]
         }
        },
        {
         "name": "rating_y",
         "dtype": "float64",
         "stats": {
          "unique_count": 1,
          "nan_count": 0,
          "min": "5.0",
          "max": "5.0",
          "histogram": [
           {
            "bin_start": 4.5,
            "bin_end": 4.6,
            "count": 0
           },
           {
            "bin_start": 4.6,
            "bin_end": 4.7,
            "count": 0
           },
           {
            "bin_start": 4.7,
            "bin_end": 4.8,
            "count": 0
           },
           {
            "bin_start": 4.8,
            "bin_end": 4.9,
            "count": 0
           },
           {
            "bin_start": 4.9,
            "bin_end": 5,
            "count": 0
           },
           {
            "bin_start": 5,
            "bin_end": 5.1,
            "count": 25
           },
           {
            "bin_start": 5.1,
            "bin_end": 5.2,
            "count": 0
           },
           {
            "bin_start": 5.2,
            "bin_end": 5.3,
            "count": 0
           },
           {
            "bin_start": 5.3,
            "bin_end": 5.4,
            "count": 0
           },
           {
            "bin_start": 5.4,
            "bin_end": 5.5,
            "count": 0
           }
          ]
         }
        },
        {
         "name": "title",
         "dtype": "object",
         "stats": {
          "unique_count": 25,
          "nan_count": 0,
          "categories": [
           {
            "name": "My Life as McDull (Mak dau goo si)",
            "count": 1
           },
           {
            "name": "Scooby-Doo Goes Hollywood",
            "count": 1
           },
           {
            "name": "23 others",
            "count": 23
           }
          ]
         }
        },
        {
         "name": "genres",
         "dtype": "object",
         "stats": {
          "unique_count": 14,
          "nan_count": 0,
          "categories": [
           {
            "name": "Comedy",
            "count": 7
           },
           {
            "name": "Animation|Children|Comedy",
            "count": 5
           },
           {
            "name": "12 others",
            "count": 13
           }
          ]
         }
        },
        {
         "name": "release_year",
         "dtype": "float64",
         "stats": {
          "unique_count": 19,
          "nan_count": 0,
          "min": "1966.0",
          "max": "2015.0",
          "histogram": [
           {
            "bin_start": 1966,
            "bin_end": 1970.9,
            "count": 2
           },
           {
            "bin_start": 1970.9,
            "bin_end": 1975.8,
            "count": 1
           },
           {
            "bin_start": 1975.8,
            "bin_end": 1980.7,
            "count": 1
           },
           {
            "bin_start": 1980.7,
            "bin_end": 1985.6,
            "count": 1
           },
           {
            "bin_start": 1985.6,
            "bin_end": 1990.5,
            "count": 1
           },
           {
            "bin_start": 1990.5,
            "bin_end": 1995.4,
            "count": 0
           },
           {
            "bin_start": 1995.4,
            "bin_end": 2000.3,
            "count": 4
           },
           {
            "bin_start": 2000.3,
            "bin_end": 2005.2,
            "count": 5
           },
           {
            "bin_start": 2005.2,
            "bin_end": 2010.1,
            "count": 5
           },
           {
            "bin_start": 2010.1,
            "bin_end": 2015,
            "count": 5
           }
          ]
         }
        },
        {
         "name": "_deepnote_index_column",
         "dtype": "int64"
        }
       ],
       "rows": [
        {
         "movieId": 87834,
         "rating_x": 5,
         "userId": 89,
         "rating_y": 5,
         "title": "My Life as McDull (Mak dau goo si)",
         "genres": "Animation|Comedy|Drama",
         "release_year": 2001,
         "_deepnote_index_column": 0
        },
        {
         "movieId": 136359,
         "rating_x": 5,
         "userId": 89,
         "rating_y": 5,
         "title": "Scooby-Doo Goes Hollywood",
         "genres": "Animation|Children|Comedy",
         "release_year": 1979,
         "_deepnote_index_column": 1
        },
        {
         "movieId": 2969,
         "rating_x": 5,
         "userId": 113,
         "rating_y": 5,
         "title": "Man and a Woman, A (Un homme et une femme)",
         "genres": "Drama|Romance",
         "release_year": 1966,
         "_deepnote_index_column": 2
        },
        {
         "movieId": 134004,
         "rating_x": 5,
         "userId": 89,
         "rating_y": 5,
         "title": "What Love Is",
         "genres": "Comedy|Romance",
         "release_year": 2007,
         "_deepnote_index_column": 3
        },
        {
         "movieId": 7096,
         "rating_x": 5,
         "userId": 110,
         "rating_y": 5,
         "title": "Rivers and Tides",
         "genres": "Documentary",
         "release_year": 2001,
         "_deepnote_index_column": 4
        },
        {
         "movieId": 134095,
         "rating_x": 5,
         "userId": 105,
         "rating_y": 5,
         "title": "My Love",
         "genres": "Animation|Drama",
         "release_year": 2006,
         "_deepnote_index_column": 5
        },
        {
         "movieId": 134109,
         "rating_x": 5,
         "userId": 105,
         "rating_y": 5,
         "title": "Radio Day",
         "genres": "Comedy",
         "release_year": 2008,
         "_deepnote_index_column": 6
        },
        {
         "movieId": 134796,
         "rating_x": 5,
         "userId": 318,
         "rating_y": 5,
         "title": "Bitter Lake",
         "genres": "Documentary",
         "release_year": 2015,
         "_deepnote_index_column": 7
        },
        {
         "movieId": 134847,
         "rating_x": 5,
         "userId": 89,
         "rating_y": 5,
         "title": "Ghost Graduation",
         "genres": "Comedy",
         "release_year": 2012,
         "_deepnote_index_column": 8
        },
        {
         "movieId": 136341,
         "rating_x": 5,
         "userId": 89,
         "rating_y": 5,
         "title": "Scooby-Doo! and the Samurai Sword",
         "genres": "Animation|Children|Comedy",
         "release_year": 2009,
         "_deepnote_index_column": 9
        }
       ]
      },
      "text/plain": "    movieId  rating_x  userId  rating_y  \\\n0     87834       5.0      89       5.0   \n1    136359       5.0      89       5.0   \n2      2969       5.0     113       5.0   \n3    134004       5.0      89       5.0   \n4      7096       5.0     110       5.0   \n5    134095       5.0     105       5.0   \n6    134109       5.0     105       5.0   \n7    134796       5.0     318       5.0   \n8    134847       5.0      89       5.0   \n9    136341       5.0      89       5.0   \n10   136353       5.0      89       5.0   \n11   136355       5.0      89       5.0   \n12   136445       5.0     105       5.0   \n13     3851       5.0       4       5.0   \n14   136447       5.0     105       5.0   \n15   136469       5.0     424       5.0   \n16   136503       5.0      89       5.0   \n17   136556       5.0     586       5.0   \n18   136834       5.0      89       5.0   \n19   136850       5.0     329       5.0   \n20     7122       5.0     356       5.0   \n21    34312       5.0      89       5.0   \n22   138632       5.0     610       5.0   \n23   138835       5.0     105       5.0   \n24     5746       5.0       3       5.0   \n\n                                         title                        genres  \\\n0           My Life as McDull (Mak dau goo si)        Animation|Comedy|Drama   \n1                    Scooby-Doo Goes Hollywood     Animation|Children|Comedy   \n2   Man and a Woman, A (Un homme et une femme)                 Drama|Romance   \n3                                 What Love Is                Comedy|Romance   \n4                             Rivers and Tides                   Documentary   \n5                                      My Love               Animation|Drama   \n6                                    Radio Day                        Comedy   \n7                                  Bitter Lake                   Documentary   \n8                             Ghost Graduation                        Comedy   \n9            Scooby-Doo! and the Samurai Sword     Animation|Children|Comedy   \n10       Scooby-Doo! and the Loch Ness Monster     Animation|Children|Comedy   \n11                         Big Top Scooby-Doo!     Animation|Children|Comedy   \n12                 George Carlin: Back in Town                        Comedy   \n13                     I'm the One That I Want                        Comedy   \n14         George Carlin: You Are All Diseased                        Comedy   \n15           Larry David: Curb Your Enthusiasm                        Comedy   \n16           Tom and Jerry: Shiver Me Whiskers     Animation|Children|Comedy   \n17       Kung Fu Panda: Secrets of the Masters            Animation|Children   \n18                           The Eye: Infinity                        Horror   \n19                                     Villain          Crime|Drama|Thriller   \n20                              King of Hearts              Comedy|Drama|War   \n21                            Calcium Kid, The                        Comedy   \n22                                 Tokyo Tribe     Action|Crime|Drama|Sci-Fi   \n23                   Return to Treasure Island    Adventure|Animation|Comedy   \n24                    Galaxy of Terror (Quest)  Action|Horror|Mystery|Sci-Fi   \n\n    release_year  \n0         2001.0  \n1         1979.0  \n2         1966.0  \n3         2007.0  \n4         2001.0  \n5         2006.0  \n6         2008.0  \n7         2015.0  \n8         2012.0  \n9         2009.0  \n10        2004.0  \n11        2012.0  \n12        1996.0  \n13        2000.0  \n14        1999.0  \n15        1999.0  \n16        2006.0  \n17        2011.0  \n18        2005.0  \n19        1971.0  \n20        1966.0  \n21        2004.0  \n22        2014.0  \n23        1988.0  \n24        1981.0  ",
      "text/html": "<div>\n<style scoped>\n    .dataframe tbody tr th:only-of-type {\n        vertical-align: middle;\n    }\n\n    .dataframe tbody tr th {\n        vertical-align: top;\n    }\n\n    .dataframe thead th {\n        text-align: right;\n    }\n</style>\n<table border=\"1\" class=\"dataframe\">\n  <thead>\n    <tr style=\"text-align: right;\">\n      <th></th>\n      <th>movieId</th>\n      <th>rating_x</th>\n      <th>userId</th>\n      <th>rating_y</th>\n      <th>title</th>\n      <th>genres</th>\n      <th>release_year</th>\n    </tr>\n  </thead>\n  <tbody>\n    <tr>\n      <th>0</th>\n      <td>87834</td>\n      <td>5.0</td>\n      <td>89</td>\n      <td>5.0</td>\n      <td>My Life as McDull (Mak dau goo si)</td>\n      <td>Animation|Comedy|Drama</td>\n      <td>2001.0</td>\n    </tr>\n    <tr>\n      <th>1</th>\n      <td>136359</td>\n      <td>5.0</td>\n      <td>89</td>\n      <td>5.0</td>\n      <td>Scooby-Doo Goes Hollywood</td>\n      <td>Animation|Children|Comedy</td>\n      <td>1979.0</td>\n    </tr>\n    <tr>\n      <th>2</th>\n      <td>2969</td>\n      <td>5.0</td>\n      <td>113</td>\n      <td>5.0</td>\n      <td>Man and a Woman, A (Un homme et une femme)</td>\n      <td>Drama|Romance</td>\n      <td>1966.0</td>\n    </tr>\n    <tr>\n      <th>3</th>\n      <td>134004</td>\n      <td>5.0</td>\n      <td>89</td>\n      <td>5.0</td>\n      <td>What Love Is</td>\n      <td>Comedy|Romance</td>\n      <td>2007.0</td>\n    </tr>\n    <tr>\n      <th>4</th>\n      <td>7096</td>\n      <td>5.0</td>\n      <td>110</td>\n      <td>5.0</td>\n      <td>Rivers and Tides</td>\n      <td>Documentary</td>\n      <td>2001.0</td>\n    </tr>\n    <tr>\n      <th>5</th>\n      <td>134095</td>\n      <td>5.0</td>\n      <td>105</td>\n      <td>5.0</td>\n      <td>My Love</td>\n      <td>Animation|Drama</td>\n      <td>2006.0</td>\n    </tr>\n    <tr>\n      <th>6</th>\n      <td>134109</td>\n      <td>5.0</td>\n      <td>105</td>\n      <td>5.0</td>\n      <td>Radio Day</td>\n      <td>Comedy</td>\n      <td>2008.0</td>\n    </tr>\n    <tr>\n      <th>7</th>\n      <td>134796</td>\n      <td>5.0</td>\n      <td>318</td>\n      <td>5.0</td>\n      <td>Bitter Lake</td>\n      <td>Documentary</td>\n      <td>2015.0</td>\n    </tr>\n    <tr>\n      <th>8</th>\n      <td>134847</td>\n      <td>5.0</td>\n      <td>89</td>\n      <td>5.0</td>\n      <td>Ghost Graduation</td>\n      <td>Comedy</td>\n      <td>2012.0</td>\n    </tr>\n    <tr>\n      <th>9</th>\n      <td>136341</td>\n      <td>5.0</td>\n      <td>89</td>\n      <td>5.0</td>\n      <td>Scooby-Doo! and the Samurai Sword</td>\n      <td>Animation|Children|Comedy</td>\n      <td>2009.0</td>\n    </tr>\n    <tr>\n      <th>10</th>\n      <td>136353</td>\n      <td>5.0</td>\n      <td>89</td>\n      <td>5.0</td>\n      <td>Scooby-Doo! and the Loch Ness Monster</td>\n      <td>Animation|Children|Comedy</td>\n      <td>2004.0</td>\n    </tr>\n    <tr>\n      <th>11</th>\n      <td>136355</td>\n      <td>5.0</td>\n      <td>89</td>\n      <td>5.0</td>\n      <td>Big Top Scooby-Doo!</td>\n      <td>Animation|Children|Comedy</td>\n      <td>2012.0</td>\n    </tr>\n    <tr>\n      <th>12</th>\n      <td>136445</td>\n      <td>5.0</td>\n      <td>105</td>\n      <td>5.0</td>\n      <td>George Carlin: Back in Town</td>\n      <td>Comedy</td>\n      <td>1996.0</td>\n    </tr>\n    <tr>\n      <th>13</th>\n      <td>3851</td>\n      <td>5.0</td>\n      <td>4</td>\n      <td>5.0</td>\n      <td>I'm the One That I Want</td>\n      <td>Comedy</td>\n      <td>2000.0</td>\n    </tr>\n    <tr>\n      <th>14</th>\n      <td>136447</td>\n      <td>5.0</td>\n      <td>105</td>\n      <td>5.0</td>\n      <td>George Carlin: You Are All Diseased</td>\n      <td>Comedy</td>\n      <td>1999.0</td>\n    </tr>\n    <tr>\n      <th>15</th>\n      <td>136469</td>\n      <td>5.0</td>\n      <td>424</td>\n      <td>5.0</td>\n      <td>Larry David: Curb Your Enthusiasm</td>\n      <td>Comedy</td>\n      <td>1999.0</td>\n    </tr>\n    <tr>\n      <th>16</th>\n      <td>136503</td>\n      <td>5.0</td>\n      <td>89</td>\n      <td>5.0</td>\n      <td>Tom and Jerry: Shiver Me Whiskers</td>\n      <td>Animation|Children|Comedy</td>\n      <td>2006.0</td>\n    </tr>\n    <tr>\n      <th>17</th>\n      <td>136556</td>\n      <td>5.0</td>\n      <td>586</td>\n      <td>5.0</td>\n      <td>Kung Fu Panda: Secrets of the Masters</td>\n      <td>Animation|Children</td>\n      <td>2011.0</td>\n    </tr>\n    <tr>\n      <th>18</th>\n      <td>136834</td>\n      <td>5.0</td>\n      <td>89</td>\n      <td>5.0</td>\n      <td>The Eye: Infinity</td>\n      <td>Horror</td>\n      <td>2005.0</td>\n    </tr>\n    <tr>\n      <th>19</th>\n      <td>136850</td>\n      <td>5.0</td>\n      <td>329</td>\n      <td>5.0</td>\n      <td>Villain</td>\n      <td>Crime|Drama|Thriller</td>\n      <td>1971.0</td>\n    </tr>\n    <tr>\n      <th>20</th>\n      <td>7122</td>\n      <td>5.0</td>\n      <td>356</td>\n      <td>5.0</td>\n      <td>King of Hearts</td>\n      <td>Comedy|Drama|War</td>\n      <td>1966.0</td>\n    </tr>\n    <tr>\n      <th>21</th>\n      <td>34312</td>\n      <td>5.0</td>\n      <td>89</td>\n      <td>5.0</td>\n      <td>Calcium Kid, The</td>\n      <td>Comedy</td>\n      <td>2004.0</td>\n    </tr>\n    <tr>\n      <th>22</th>\n      <td>138632</td>\n      <td>5.0</td>\n      <td>610</td>\n      <td>5.0</td>\n      <td>Tokyo Tribe</td>\n      <td>Action|Crime|Drama|Sci-Fi</td>\n      <td>2014.0</td>\n    </tr>\n    <tr>\n      <th>23</th>\n      <td>138835</td>\n      <td>5.0</td>\n      <td>105</td>\n      <td>5.0</td>\n      <td>Return to Treasure Island</td>\n      <td>Adventure|Animation|Comedy</td>\n      <td>1988.0</td>\n    </tr>\n    <tr>\n      <th>24</th>\n      <td>5746</td>\n      <td>5.0</td>\n      <td>3</td>\n      <td>5.0</td>\n      <td>Galaxy of Terror (Quest)</td>\n      <td>Action|Horror|Mystery|Sci-Fi</td>\n      <td>1981.0</td>\n    </tr>\n  </tbody>\n</table>\n</div>"
     },
     "metadata": {}
    }
   ]
  },
  {
   "cell_type": "markdown",
   "source": "### Extract all movies with a rating of 5.0",
   "metadata": {
    "cell_id": "e7c5ba73132e46f3a7d0ed9a6f968ac8",
    "tags": [],
    "is_collapsed": false,
    "formattedRanges": [],
    "deepnote_cell_type": "text-cell-h3"
   }
  },
  {
   "cell_type": "code",
   "metadata": {
    "cell_id": "79c44489267c48129a0dadbb2080317a",
    "tags": [],
    "deepnote_to_be_reexecuted": false,
    "source_hash": "1b5bdc93",
    "execution_start": 1658154822751,
    "execution_millis": 26,
    "deepnote_cell_type": "code",
    "deepnote_cell_height": 430
   },
   "source": "df_5 = df_movies[df_movies['rating']==5.0]\ndf_5.head()",
   "execution_count": 22,
   "outputs": [
    {
     "output_type": "execute_result",
     "execution_count": 22,
     "data": {
      "application/vnd.deepnote.dataframe.v3+json": {
       "column_count": 6,
       "row_count": 5,
       "columns": [
        {
         "name": "userId",
         "dtype": "int64",
         "stats": {
          "unique_count": 5,
          "nan_count": 0,
          "min": "31",
          "max": "57",
          "histogram": [
           {
            "bin_start": 31,
            "bin_end": 33.6,
            "count": 1
           },
           {
            "bin_start": 33.6,
            "bin_end": 36.2,
            "count": 0
           },
           {
            "bin_start": 36.2,
            "bin_end": 38.8,
            "count": 0
           },
           {
            "bin_start": 38.8,
            "bin_end": 41.4,
            "count": 1
           },
           {
            "bin_start": 41.4,
            "bin_end": 44,
            "count": 1
           },
           {
            "bin_start": 44,
            "bin_end": 46.6,
            "count": 1
           },
           {
            "bin_start": 46.6,
            "bin_end": 49.2,
            "count": 0
           },
           {
            "bin_start": 49.2,
            "bin_end": 51.8,
            "count": 0
           },
           {
            "bin_start": 51.8,
            "bin_end": 54.400000000000006,
            "count": 0
           },
           {
            "bin_start": 54.400000000000006,
            "bin_end": 57,
            "count": 1
           }
          ]
         }
        },
        {
         "name": "movieId",
         "dtype": "int64",
         "stats": {
          "unique_count": 1,
          "nan_count": 0,
          "min": "1",
          "max": "1",
          "histogram": [
           {
            "bin_start": 0.5,
            "bin_end": 0.6,
            "count": 0
           },
           {
            "bin_start": 0.6,
            "bin_end": 0.7,
            "count": 0
           },
           {
            "bin_start": 0.7,
            "bin_end": 0.8,
            "count": 0
           },
           {
            "bin_start": 0.8,
            "bin_end": 0.9,
            "count": 0
           },
           {
            "bin_start": 0.9,
            "bin_end": 1,
            "count": 0
           },
           {
            "bin_start": 1,
            "bin_end": 1.1,
            "count": 5
           },
           {
            "bin_start": 1.1,
            "bin_end": 1.2000000000000002,
            "count": 0
           },
           {
            "bin_start": 1.2000000000000002,
            "bin_end": 1.3,
            "count": 0
           },
           {
            "bin_start": 1.3,
            "bin_end": 1.4,
            "count": 0
           },
           {
            "bin_start": 1.4,
            "bin_end": 1.5,
            "count": 0
           }
          ]
         }
        },
        {
         "name": "rating",
         "dtype": "float64",
         "stats": {
          "unique_count": 1,
          "nan_count": 0,
          "min": "5.0",
          "max": "5.0",
          "histogram": [
           {
            "bin_start": 4.5,
            "bin_end": 4.6,
            "count": 0
           },
           {
            "bin_start": 4.6,
            "bin_end": 4.7,
            "count": 0
           },
           {
            "bin_start": 4.7,
            "bin_end": 4.8,
            "count": 0
           },
           {
            "bin_start": 4.8,
            "bin_end": 4.9,
            "count": 0
           },
           {
            "bin_start": 4.9,
            "bin_end": 5,
            "count": 0
           },
           {
            "bin_start": 5,
            "bin_end": 5.1,
            "count": 5
           },
           {
            "bin_start": 5.1,
            "bin_end": 5.2,
            "count": 0
           },
           {
            "bin_start": 5.2,
            "bin_end": 5.3,
            "count": 0
           },
           {
            "bin_start": 5.3,
            "bin_end": 5.4,
            "count": 0
           },
           {
            "bin_start": 5.4,
            "bin_end": 5.5,
            "count": 0
           }
          ]
         }
        },
        {
         "name": "title",
         "dtype": "object",
         "stats": {
          "unique_count": 1,
          "nan_count": 0,
          "categories": [
           {
            "name": "Toy Story",
            "count": 5
           }
          ]
         }
        },
        {
         "name": "genres",
         "dtype": "object",
         "stats": {
          "unique_count": 1,
          "nan_count": 0,
          "categories": [
           {
            "name": "Adventure|Animation|Children|Comedy|Fantasy",
            "count": 5
           }
          ]
         }
        },
        {
         "name": "release_year",
         "dtype": "float64",
         "stats": {
          "unique_count": 1,
          "nan_count": 0,
          "min": "1995.0",
          "max": "1995.0",
          "histogram": [
           {
            "bin_start": 1994.5,
            "bin_end": 1994.6,
            "count": 0
           },
           {
            "bin_start": 1994.6,
            "bin_end": 1994.7,
            "count": 0
           },
           {
            "bin_start": 1994.7,
            "bin_end": 1994.8,
            "count": 0
           },
           {
            "bin_start": 1994.8,
            "bin_end": 1994.9,
            "count": 0
           },
           {
            "bin_start": 1994.9,
            "bin_end": 1995,
            "count": 0
           },
           {
            "bin_start": 1995,
            "bin_end": 1995.1,
            "count": 5
           },
           {
            "bin_start": 1995.1,
            "bin_end": 1995.2,
            "count": 0
           },
           {
            "bin_start": 1995.2,
            "bin_end": 1995.3,
            "count": 0
           },
           {
            "bin_start": 1995.3,
            "bin_end": 1995.4,
            "count": 0
           },
           {
            "bin_start": 1995.4,
            "bin_end": 1995.5,
            "count": 0
           }
          ]
         }
        },
        {
         "name": "_deepnote_index_column",
         "dtype": "int64"
        }
       ],
       "rows": [
        {
         "userId": 31,
         "movieId": 1,
         "rating": 5,
         "title": "Toy Story",
         "genres": "Adventure|Animation|Children|Comedy|Fantasy",
         "release_year": 1995,
         "_deepnote_index_column": 9
        },
        {
         "userId": 40,
         "movieId": 1,
         "rating": 5,
         "title": "Toy Story",
         "genres": "Adventure|Animation|Children|Comedy|Fantasy",
         "release_year": 1995,
         "_deepnote_index_column": 12
        },
        {
         "userId": 43,
         "movieId": 1,
         "rating": 5,
         "title": "Toy Story",
         "genres": "Adventure|Animation|Children|Comedy|Fantasy",
         "release_year": 1995,
         "_deepnote_index_column": 13
        },
        {
         "userId": 46,
         "movieId": 1,
         "rating": 5,
         "title": "Toy Story",
         "genres": "Adventure|Animation|Children|Comedy|Fantasy",
         "release_year": 1995,
         "_deepnote_index_column": 16
        },
        {
         "userId": 57,
         "movieId": 1,
         "rating": 5,
         "title": "Toy Story",
         "genres": "Adventure|Animation|Children|Comedy|Fantasy",
         "release_year": 1995,
         "_deepnote_index_column": 19
        }
       ]
      },
      "text/plain": "    userId  movieId  rating      title  \\\n9       31        1     5.0  Toy Story   \n12      40        1     5.0  Toy Story   \n13      43        1     5.0  Toy Story   \n16      46        1     5.0  Toy Story   \n19      57        1     5.0  Toy Story   \n\n                                         genres  release_year  \n9   Adventure|Animation|Children|Comedy|Fantasy        1995.0  \n12  Adventure|Animation|Children|Comedy|Fantasy        1995.0  \n13  Adventure|Animation|Children|Comedy|Fantasy        1995.0  \n16  Adventure|Animation|Children|Comedy|Fantasy        1995.0  \n19  Adventure|Animation|Children|Comedy|Fantasy        1995.0  ",
      "text/html": "<div>\n<style scoped>\n    .dataframe tbody tr th:only-of-type {\n        vertical-align: middle;\n    }\n\n    .dataframe tbody tr th {\n        vertical-align: top;\n    }\n\n    .dataframe thead th {\n        text-align: right;\n    }\n</style>\n<table border=\"1\" class=\"dataframe\">\n  <thead>\n    <tr style=\"text-align: right;\">\n      <th></th>\n      <th>userId</th>\n      <th>movieId</th>\n      <th>rating</th>\n      <th>title</th>\n      <th>genres</th>\n      <th>release_year</th>\n    </tr>\n  </thead>\n  <tbody>\n    <tr>\n      <th>9</th>\n      <td>31</td>\n      <td>1</td>\n      <td>5.0</td>\n      <td>Toy Story</td>\n      <td>Adventure|Animation|Children|Comedy|Fantasy</td>\n      <td>1995.0</td>\n    </tr>\n    <tr>\n      <th>12</th>\n      <td>40</td>\n      <td>1</td>\n      <td>5.0</td>\n      <td>Toy Story</td>\n      <td>Adventure|Animation|Children|Comedy|Fantasy</td>\n      <td>1995.0</td>\n    </tr>\n    <tr>\n      <th>13</th>\n      <td>43</td>\n      <td>1</td>\n      <td>5.0</td>\n      <td>Toy Story</td>\n      <td>Adventure|Animation|Children|Comedy|Fantasy</td>\n      <td>1995.0</td>\n    </tr>\n    <tr>\n      <th>16</th>\n      <td>46</td>\n      <td>1</td>\n      <td>5.0</td>\n      <td>Toy Story</td>\n      <td>Adventure|Animation|Children|Comedy|Fantasy</td>\n      <td>1995.0</td>\n    </tr>\n    <tr>\n      <th>19</th>\n      <td>57</td>\n      <td>1</td>\n      <td>5.0</td>\n      <td>Toy Story</td>\n      <td>Adventure|Animation|Children|Comedy|Fantasy</td>\n      <td>1995.0</td>\n    </tr>\n  </tbody>\n</table>\n</div>"
     },
     "metadata": {}
    }
   ]
  },
  {
   "cell_type": "code",
   "metadata": {
    "cell_id": "cd32ba333f884ae39d89172c4debdc2d",
    "tags": [],
    "deepnote_to_be_reexecuted": false,
    "source_hash": "3c8da7fc",
    "execution_start": 1658154822796,
    "execution_millis": 26,
    "deepnote_cell_type": "code",
    "deepnote_cell_height": 366.03125
   },
   "source": "\ndf_5.info()",
   "execution_count": 23,
   "outputs": [
    {
     "name": "stdout",
     "text": "<class 'pandas.core.frame.DataFrame'>\nInt64Index: 13206 entries, 9 to 100815\nData columns (total 6 columns):\n #   Column        Non-Null Count  Dtype  \n---  ------        --------------  -----  \n 0   userId        13206 non-null  int64  \n 1   movieId       13206 non-null  int64  \n 2   rating        13206 non-null  float64\n 3   title         13206 non-null  object \n 4   genres        13206 non-null  object \n 5   release_year  13206 non-null  float64\ndtypes: float64(2), int64(2), object(2)\nmemory usage: 722.2+ KB\n",
     "output_type": "stream"
    }
   ]
  },
  {
   "cell_type": "code",
   "source": "input_2 = 'Extract all movies with a rating of 4.0'",
   "metadata": {
    "cell_id": "60064737170642c5af9fbb0d122c15e5",
    "deepnote_variable_name": "input_2",
    "deepnote_variable_value": "Extract all movies with a rating of 4.0",
    "deepnote_to_be_reexecuted": false,
    "source_hash": "d0b38c2a",
    "execution_start": 1658154822814,
    "execution_millis": 1,
    "deepnote_cell_type": "input-text"
   },
   "outputs": [],
   "execution_count": 24
  },
  {
   "cell_type": "code",
   "metadata": {
    "cell_id": "b5d0e3edd85543f2b0bf2abf85f5cd38",
    "tags": [],
    "deepnote_to_be_reexecuted": false,
    "source_hash": "346d906d",
    "execution_start": 1658154822815,
    "execution_millis": 23,
    "deepnote_cell_type": "code",
    "deepnote_cell_height": 430
   },
   "source": "df_4 = df_movies[df_movies['rating']==4.0]\ndf_4.head()",
   "execution_count": 25,
   "outputs": [
    {
     "output_type": "execute_result",
     "execution_count": 25,
     "data": {
      "application/vnd.deepnote.dataframe.v3+json": {
       "column_count": 6,
       "row_count": 5,
       "columns": [
        {
         "name": "userId",
         "dtype": "int64",
         "stats": {
          "unique_count": 5,
          "nan_count": 0,
          "min": "1",
          "max": "64",
          "histogram": [
           {
            "bin_start": 1,
            "bin_end": 7.3,
            "count": 2
           },
           {
            "bin_start": 7.3,
            "bin_end": 13.6,
            "count": 0
           },
           {
            "bin_start": 13.6,
            "bin_end": 19.9,
            "count": 1
           },
           {
            "bin_start": 19.9,
            "bin_end": 26.2,
            "count": 0
           },
           {
            "bin_start": 26.2,
            "bin_end": 32.5,
            "count": 0
           },
           {
            "bin_start": 32.5,
            "bin_end": 38.8,
            "count": 0
           },
           {
            "bin_start": 38.8,
            "bin_end": 45.1,
            "count": 1
           },
           {
            "bin_start": 45.1,
            "bin_end": 51.4,
            "count": 0
           },
           {
            "bin_start": 51.4,
            "bin_end": 57.699999999999996,
            "count": 0
           },
           {
            "bin_start": 57.699999999999996,
            "bin_end": 64,
            "count": 1
           }
          ]
         }
        },
        {
         "name": "movieId",
         "dtype": "int64",
         "stats": {
          "unique_count": 1,
          "nan_count": 0,
          "min": "1",
          "max": "1",
          "histogram": [
           {
            "bin_start": 0.5,
            "bin_end": 0.6,
            "count": 0
           },
           {
            "bin_start": 0.6,
            "bin_end": 0.7,
            "count": 0
           },
           {
            "bin_start": 0.7,
            "bin_end": 0.8,
            "count": 0
           },
           {
            "bin_start": 0.8,
            "bin_end": 0.9,
            "count": 0
           },
           {
            "bin_start": 0.9,
            "bin_end": 1,
            "count": 0
           },
           {
            "bin_start": 1,
            "bin_end": 1.1,
            "count": 5
           },
           {
            "bin_start": 1.1,
            "bin_end": 1.2000000000000002,
            "count": 0
           },
           {
            "bin_start": 1.2000000000000002,
            "bin_end": 1.3,
            "count": 0
           },
           {
            "bin_start": 1.3,
            "bin_end": 1.4,
            "count": 0
           },
           {
            "bin_start": 1.4,
            "bin_end": 1.5,
            "count": 0
           }
          ]
         }
        },
        {
         "name": "rating",
         "dtype": "float64",
         "stats": {
          "unique_count": 1,
          "nan_count": 0,
          "min": "4.0",
          "max": "4.0",
          "histogram": [
           {
            "bin_start": 3.5,
            "bin_end": 3.6,
            "count": 0
           },
           {
            "bin_start": 3.6,
            "bin_end": 3.7,
            "count": 0
           },
           {
            "bin_start": 3.7,
            "bin_end": 3.8,
            "count": 0
           },
           {
            "bin_start": 3.8,
            "bin_end": 3.9,
            "count": 0
           },
           {
            "bin_start": 3.9,
            "bin_end": 4,
            "count": 0
           },
           {
            "bin_start": 4,
            "bin_end": 4.1,
            "count": 5
           },
           {
            "bin_start": 4.1,
            "bin_end": 4.2,
            "count": 0
           },
           {
            "bin_start": 4.2,
            "bin_end": 4.3,
            "count": 0
           },
           {
            "bin_start": 4.3,
            "bin_end": 4.4,
            "count": 0
           },
           {
            "bin_start": 4.4,
            "bin_end": 4.5,
            "count": 0
           }
          ]
         }
        },
        {
         "name": "title",
         "dtype": "object",
         "stats": {
          "unique_count": 1,
          "nan_count": 0,
          "categories": [
           {
            "name": "Toy Story",
            "count": 5
           }
          ]
         }
        },
        {
         "name": "genres",
         "dtype": "object",
         "stats": {
          "unique_count": 1,
          "nan_count": 0,
          "categories": [
           {
            "name": "Adventure|Animation|Children|Comedy|Fantasy",
            "count": 5
           }
          ]
         }
        },
        {
         "name": "release_year",
         "dtype": "float64",
         "stats": {
          "unique_count": 1,
          "nan_count": 0,
          "min": "1995.0",
          "max": "1995.0",
          "histogram": [
           {
            "bin_start": 1994.5,
            "bin_end": 1994.6,
            "count": 0
           },
           {
            "bin_start": 1994.6,
            "bin_end": 1994.7,
            "count": 0
           },
           {
            "bin_start": 1994.7,
            "bin_end": 1994.8,
            "count": 0
           },
           {
            "bin_start": 1994.8,
            "bin_end": 1994.9,
            "count": 0
           },
           {
            "bin_start": 1994.9,
            "bin_end": 1995,
            "count": 0
           },
           {
            "bin_start": 1995,
            "bin_end": 1995.1,
            "count": 5
           },
           {
            "bin_start": 1995.1,
            "bin_end": 1995.2,
            "count": 0
           },
           {
            "bin_start": 1995.2,
            "bin_end": 1995.3,
            "count": 0
           },
           {
            "bin_start": 1995.3,
            "bin_end": 1995.4,
            "count": 0
           },
           {
            "bin_start": 1995.4,
            "bin_end": 1995.5,
            "count": 0
           }
          ]
         }
        },
        {
         "name": "_deepnote_index_column",
         "dtype": "int64"
        }
       ],
       "rows": [
        {
         "userId": 1,
         "movieId": 1,
         "rating": 4,
         "title": "Toy Story",
         "genres": "Adventure|Animation|Children|Comedy|Fantasy",
         "release_year": 1995,
         "_deepnote_index_column": 0
        },
        {
         "userId": 5,
         "movieId": 1,
         "rating": 4,
         "title": "Toy Story",
         "genres": "Adventure|Animation|Children|Comedy|Fantasy",
         "release_year": 1995,
         "_deepnote_index_column": 1
        },
        {
         "userId": 19,
         "movieId": 1,
         "rating": 4,
         "title": "Toy Story",
         "genres": "Adventure|Animation|Children|Comedy|Fantasy",
         "release_year": 1995,
         "_deepnote_index_column": 6
        },
        {
         "userId": 45,
         "movieId": 1,
         "rating": 4,
         "title": "Toy Story",
         "genres": "Adventure|Animation|Children|Comedy|Fantasy",
         "release_year": 1995,
         "_deepnote_index_column": 15
        },
        {
         "userId": 64,
         "movieId": 1,
         "rating": 4,
         "title": "Toy Story",
         "genres": "Adventure|Animation|Children|Comedy|Fantasy",
         "release_year": 1995,
         "_deepnote_index_column": 21
        }
       ]
      },
      "text/plain": "    userId  movieId  rating      title  \\\n0        1        1     4.0  Toy Story   \n1        5        1     4.0  Toy Story   \n6       19        1     4.0  Toy Story   \n15      45        1     4.0  Toy Story   \n21      64        1     4.0  Toy Story   \n\n                                         genres  release_year  \n0   Adventure|Animation|Children|Comedy|Fantasy        1995.0  \n1   Adventure|Animation|Children|Comedy|Fantasy        1995.0  \n6   Adventure|Animation|Children|Comedy|Fantasy        1995.0  \n15  Adventure|Animation|Children|Comedy|Fantasy        1995.0  \n21  Adventure|Animation|Children|Comedy|Fantasy        1995.0  ",
      "text/html": "<div>\n<style scoped>\n    .dataframe tbody tr th:only-of-type {\n        vertical-align: middle;\n    }\n\n    .dataframe tbody tr th {\n        vertical-align: top;\n    }\n\n    .dataframe thead th {\n        text-align: right;\n    }\n</style>\n<table border=\"1\" class=\"dataframe\">\n  <thead>\n    <tr style=\"text-align: right;\">\n      <th></th>\n      <th>userId</th>\n      <th>movieId</th>\n      <th>rating</th>\n      <th>title</th>\n      <th>genres</th>\n      <th>release_year</th>\n    </tr>\n  </thead>\n  <tbody>\n    <tr>\n      <th>0</th>\n      <td>1</td>\n      <td>1</td>\n      <td>4.0</td>\n      <td>Toy Story</td>\n      <td>Adventure|Animation|Children|Comedy|Fantasy</td>\n      <td>1995.0</td>\n    </tr>\n    <tr>\n      <th>1</th>\n      <td>5</td>\n      <td>1</td>\n      <td>4.0</td>\n      <td>Toy Story</td>\n      <td>Adventure|Animation|Children|Comedy|Fantasy</td>\n      <td>1995.0</td>\n    </tr>\n    <tr>\n      <th>6</th>\n      <td>19</td>\n      <td>1</td>\n      <td>4.0</td>\n      <td>Toy Story</td>\n      <td>Adventure|Animation|Children|Comedy|Fantasy</td>\n      <td>1995.0</td>\n    </tr>\n    <tr>\n      <th>15</th>\n      <td>45</td>\n      <td>1</td>\n      <td>4.0</td>\n      <td>Toy Story</td>\n      <td>Adventure|Animation|Children|Comedy|Fantasy</td>\n      <td>1995.0</td>\n    </tr>\n    <tr>\n      <th>21</th>\n      <td>64</td>\n      <td>1</td>\n      <td>4.0</td>\n      <td>Toy Story</td>\n      <td>Adventure|Animation|Children|Comedy|Fantasy</td>\n      <td>1995.0</td>\n    </tr>\n  </tbody>\n</table>\n</div>"
     },
     "metadata": {}
    }
   ]
  },
  {
   "cell_type": "code",
   "metadata": {
    "cell_id": "6f9ba65a5eda4d5eb2e066b9259960ca",
    "tags": [],
    "deepnote_to_be_reexecuted": false,
    "source_hash": "603b9342",
    "execution_start": 1658154822847,
    "execution_millis": 9,
    "deepnote_cell_type": "code",
    "deepnote_cell_height": 348.03125
   },
   "source": "df_4.info()",
   "execution_count": 26,
   "outputs": [
    {
     "name": "stdout",
     "text": "<class 'pandas.core.frame.DataFrame'>\nInt64Index: 26815 entries, 0 to 100825\nData columns (total 6 columns):\n #   Column        Non-Null Count  Dtype  \n---  ------        --------------  -----  \n 0   userId        26815 non-null  int64  \n 1   movieId       26815 non-null  int64  \n 2   rating        26815 non-null  float64\n 3   title         26815 non-null  object \n 4   genres        26815 non-null  object \n 5   release_year  26815 non-null  float64\ndtypes: float64(2), int64(2), object(2)\nmemory usage: 1.4+ MB\n",
     "output_type": "stream"
    }
   ]
  },
  {
   "cell_type": "code",
   "source": "input_3 = 'Extract all movies with a rating of 1.0'",
   "metadata": {
    "cell_id": "f0bb99e6e06d4ad690f82cd63280524b",
    "deepnote_variable_name": "input_3",
    "deepnote_variable_value": "Extract all movies with a rating of 1.0",
    "deepnote_to_be_reexecuted": false,
    "source_hash": "46454862",
    "execution_start": 1658154822858,
    "execution_millis": 4,
    "deepnote_cell_type": "input-text"
   },
   "outputs": [],
   "execution_count": 27
  },
  {
   "cell_type": "code",
   "metadata": {
    "cell_id": "93ff9953ea814662a3d2f85e9951c232",
    "tags": [],
    "deepnote_to_be_reexecuted": false,
    "source_hash": "63cfc9f4",
    "execution_start": 1658154822910,
    "execution_millis": 4,
    "deepnote_cell_type": "code",
    "deepnote_cell_height": 466
   },
   "source": "\ndf_1 = df_movies[df_movies['rating']==1.0]\ndf_1.head()\n",
   "execution_count": 28,
   "outputs": [
    {
     "output_type": "execute_result",
     "execution_count": 28,
     "data": {
      "application/vnd.deepnote.dataframe.v3+json": {
       "column_count": 6,
       "row_count": 5,
       "columns": [
        {
         "name": "userId",
         "dtype": "int64",
         "stats": {
          "unique_count": 5,
          "nan_count": 0,
          "min": "217",
          "max": "552",
          "histogram": [
           {
            "bin_start": 217,
            "bin_end": 250.5,
            "count": 1
           },
           {
            "bin_start": 250.5,
            "bin_end": 284,
            "count": 0
           },
           {
            "bin_start": 284,
            "bin_end": 317.5,
            "count": 3
           },
           {
            "bin_start": 317.5,
            "bin_end": 351,
            "count": 0
           },
           {
            "bin_start": 351,
            "bin_end": 384.5,
            "count": 0
           },
           {
            "bin_start": 384.5,
            "bin_end": 418,
            "count": 0
           },
           {
            "bin_start": 418,
            "bin_end": 451.5,
            "count": 0
           },
           {
            "bin_start": 451.5,
            "bin_end": 485,
            "count": 0
           },
           {
            "bin_start": 485,
            "bin_end": 518.5,
            "count": 0
           },
           {
            "bin_start": 518.5,
            "bin_end": 552,
            "count": 1
           }
          ]
         }
        },
        {
         "name": "movieId",
         "dtype": "int64",
         "stats": {
          "unique_count": 3,
          "nan_count": 0,
          "min": "3",
          "max": "47",
          "histogram": [
           {
            "bin_start": 3,
            "bin_end": 7.4,
            "count": 4
           },
           {
            "bin_start": 7.4,
            "bin_end": 11.8,
            "count": 0
           },
           {
            "bin_start": 11.8,
            "bin_end": 16.200000000000003,
            "count": 0
           },
           {
            "bin_start": 16.200000000000003,
            "bin_end": 20.6,
            "count": 0
           },
           {
            "bin_start": 20.6,
            "bin_end": 25,
            "count": 0
           },
           {
            "bin_start": 25,
            "bin_end": 29.400000000000002,
            "count": 0
           },
           {
            "bin_start": 29.400000000000002,
            "bin_end": 33.800000000000004,
            "count": 0
           },
           {
            "bin_start": 33.800000000000004,
            "bin_end": 38.2,
            "count": 0
           },
           {
            "bin_start": 38.2,
            "bin_end": 42.6,
            "count": 0
           },
           {
            "bin_start": 42.6,
            "bin_end": 47,
            "count": 1
           }
          ]
         }
        },
        {
         "name": "rating",
         "dtype": "float64",
         "stats": {
          "unique_count": 1,
          "nan_count": 0,
          "min": "1.0",
          "max": "1.0",
          "histogram": [
           {
            "bin_start": 0.5,
            "bin_end": 0.6,
            "count": 0
           },
           {
            "bin_start": 0.6,
            "bin_end": 0.7,
            "count": 0
           },
           {
            "bin_start": 0.7,
            "bin_end": 0.8,
            "count": 0
           },
           {
            "bin_start": 0.8,
            "bin_end": 0.9,
            "count": 0
           },
           {
            "bin_start": 0.9,
            "bin_end": 1,
            "count": 0
           },
           {
            "bin_start": 1,
            "bin_end": 1.1,
            "count": 5
           },
           {
            "bin_start": 1.1,
            "bin_end": 1.2000000000000002,
            "count": 0
           },
           {
            "bin_start": 1.2000000000000002,
            "bin_end": 1.3,
            "count": 0
           },
           {
            "bin_start": 1.3,
            "bin_end": 1.4,
            "count": 0
           },
           {
            "bin_start": 1.4,
            "bin_end": 1.5,
            "count": 0
           }
          ]
         }
        },
        {
         "name": "title",
         "dtype": "object",
         "stats": {
          "unique_count": 3,
          "nan_count": 0,
          "categories": [
           {
            "name": "Grumpier Old Men",
            "count": 3
           },
           {
            "name": "Heat",
            "count": 1
           },
           {
            "name": "Seven (a.k.a. Se7en)",
            "count": 1
           }
          ]
         }
        },
        {
         "name": "genres",
         "dtype": "object",
         "stats": {
          "unique_count": 3,
          "nan_count": 0,
          "categories": [
           {
            "name": "Comedy|Romance",
            "count": 3
           },
           {
            "name": "Action|Crime|Thriller",
            "count": 1
           },
           {
            "name": "Mystery|Thriller",
            "count": 1
           }
          ]
         }
        },
        {
         "name": "release_year",
         "dtype": "float64",
         "stats": {
          "unique_count": 1,
          "nan_count": 0,
          "min": "1995.0",
          "max": "1995.0",
          "histogram": [
           {
            "bin_start": 1994.5,
            "bin_end": 1994.6,
            "count": 0
           },
           {
            "bin_start": 1994.6,
            "bin_end": 1994.7,
            "count": 0
           },
           {
            "bin_start": 1994.7,
            "bin_end": 1994.8,
            "count": 0
           },
           {
            "bin_start": 1994.8,
            "bin_end": 1994.9,
            "count": 0
           },
           {
            "bin_start": 1994.9,
            "bin_end": 1995,
            "count": 0
           },
           {
            "bin_start": 1995,
            "bin_end": 1995.1,
            "count": 5
           },
           {
            "bin_start": 1995.1,
            "bin_end": 1995.2,
            "count": 0
           },
           {
            "bin_start": 1995.2,
            "bin_end": 1995.3,
            "count": 0
           },
           {
            "bin_start": 1995.3,
            "bin_end": 1995.4,
            "count": 0
           },
           {
            "bin_start": 1995.4,
            "bin_end": 1995.5,
            "count": 0
           }
          ]
         }
        },
        {
         "name": "_deepnote_index_column",
         "dtype": "int64"
        }
       ],
       "rows": [
        {
         "userId": 217,
         "movieId": 3,
         "rating": 1,
         "title": "Grumpier Old Men",
         "genres": "Comedy|Romance",
         "release_year": 1995,
         "_deepnote_index_column": 235
        },
        {
         "userId": 294,
         "movieId": 3,
         "rating": 1,
         "title": "Grumpier Old Men",
         "genres": "Comedy|Romance",
         "release_year": 1995,
         "_deepnote_index_column": 242
        },
        {
         "userId": 552,
         "movieId": 3,
         "rating": 1,
         "title": "Grumpier Old Men",
         "genres": "Comedy|Romance",
         "release_year": 1995,
         "_deepnote_index_column": 260
        },
        {
         "userId": 308,
         "movieId": 6,
         "rating": 1,
         "title": "Heat",
         "genres": "Action|Crime|Thriller",
         "release_year": 1995,
         "_deepnote_index_column": 315
        },
        {
         "userId": 314,
         "movieId": 47,
         "rating": 1,
         "title": "Seven (a.k.a. Se7en)",
         "genres": "Mystery|Thriller",
         "release_year": 1995,
         "_deepnote_index_column": 475
        }
       ]
      },
      "text/plain": "     userId  movieId  rating                 title                 genres  \\\n235     217        3     1.0      Grumpier Old Men         Comedy|Romance   \n242     294        3     1.0      Grumpier Old Men         Comedy|Romance   \n260     552        3     1.0      Grumpier Old Men         Comedy|Romance   \n315     308        6     1.0                  Heat  Action|Crime|Thriller   \n475     314       47     1.0  Seven (a.k.a. Se7en)       Mystery|Thriller   \n\n     release_year  \n235        1995.0  \n242        1995.0  \n260        1995.0  \n315        1995.0  \n475        1995.0  ",
      "text/html": "<div>\n<style scoped>\n    .dataframe tbody tr th:only-of-type {\n        vertical-align: middle;\n    }\n\n    .dataframe tbody tr th {\n        vertical-align: top;\n    }\n\n    .dataframe thead th {\n        text-align: right;\n    }\n</style>\n<table border=\"1\" class=\"dataframe\">\n  <thead>\n    <tr style=\"text-align: right;\">\n      <th></th>\n      <th>userId</th>\n      <th>movieId</th>\n      <th>rating</th>\n      <th>title</th>\n      <th>genres</th>\n      <th>release_year</th>\n    </tr>\n  </thead>\n  <tbody>\n    <tr>\n      <th>235</th>\n      <td>217</td>\n      <td>3</td>\n      <td>1.0</td>\n      <td>Grumpier Old Men</td>\n      <td>Comedy|Romance</td>\n      <td>1995.0</td>\n    </tr>\n    <tr>\n      <th>242</th>\n      <td>294</td>\n      <td>3</td>\n      <td>1.0</td>\n      <td>Grumpier Old Men</td>\n      <td>Comedy|Romance</td>\n      <td>1995.0</td>\n    </tr>\n    <tr>\n      <th>260</th>\n      <td>552</td>\n      <td>3</td>\n      <td>1.0</td>\n      <td>Grumpier Old Men</td>\n      <td>Comedy|Romance</td>\n      <td>1995.0</td>\n    </tr>\n    <tr>\n      <th>315</th>\n      <td>308</td>\n      <td>6</td>\n      <td>1.0</td>\n      <td>Heat</td>\n      <td>Action|Crime|Thriller</td>\n      <td>1995.0</td>\n    </tr>\n    <tr>\n      <th>475</th>\n      <td>314</td>\n      <td>47</td>\n      <td>1.0</td>\n      <td>Seven (a.k.a. Se7en)</td>\n      <td>Mystery|Thriller</td>\n      <td>1995.0</td>\n    </tr>\n  </tbody>\n</table>\n</div>"
     },
     "metadata": {}
    }
   ]
  },
  {
   "cell_type": "code",
   "metadata": {
    "cell_id": "bc5b6cd2e01749b4b82f6a4fa46035a1",
    "tags": [],
    "deepnote_to_be_reexecuted": false,
    "source_hash": "1fe1ce02",
    "execution_start": 1658154822913,
    "execution_millis": 14,
    "deepnote_cell_type": "code",
    "deepnote_cell_height": 348.03125
   },
   "source": "df_1.info()",
   "execution_count": 29,
   "outputs": [
    {
     "name": "stdout",
     "text": "<class 'pandas.core.frame.DataFrame'>\nInt64Index: 2810 entries, 235 to 100684\nData columns (total 6 columns):\n #   Column        Non-Null Count  Dtype  \n---  ------        --------------  -----  \n 0   userId        2810 non-null   int64  \n 1   movieId       2810 non-null   int64  \n 2   rating        2810 non-null   float64\n 3   title         2810 non-null   object \n 4   genres        2810 non-null   object \n 5   release_year  2810 non-null   float64\ndtypes: float64(2), int64(2), object(2)\nmemory usage: 153.7+ KB\n",
     "output_type": "stream"
    }
   ]
  },
  {
   "cell_type": "code",
   "source": "input_4 = 'Extract all comedy movies with a rating of 5.0'",
   "metadata": {
    "cell_id": "dfb1f2275e4840e2b069312a5a7fb391",
    "deepnote_variable_name": "input_4",
    "deepnote_variable_value": "Extract all comedy movies with a rating of 5.0",
    "deepnote_to_be_reexecuted": false,
    "source_hash": "59548e31",
    "execution_start": 1658154822928,
    "execution_millis": 3,
    "deepnote_cell_type": "input-text"
   },
   "outputs": [],
   "execution_count": 30
  },
  {
   "cell_type": "code",
   "metadata": {
    "cell_id": "0c07a444491b4e758d154feede56e58f",
    "tags": [],
    "deepnote_to_be_reexecuted": false,
    "source_hash": "a633a2d8",
    "execution_start": 1658154822939,
    "execution_millis": 732,
    "deepnote_cell_type": "code",
    "deepnote_cell_height": 430
   },
   "source": "df_5comedy = df_5[df_5['genres']=='Comedy']\ndf_5comedy.head()",
   "execution_count": 31,
   "outputs": [
    {
     "output_type": "execute_result",
     "execution_count": 31,
     "data": {
      "application/vnd.deepnote.dataframe.v3+json": {
       "column_count": 6,
       "row_count": 5,
       "columns": [
        {
         "name": "userId",
         "dtype": "int64",
         "stats": {
          "unique_count": 5,
          "nan_count": 0,
          "min": "1",
          "max": "240",
          "histogram": [
           {
            "bin_start": 1,
            "bin_end": 24.9,
            "count": 1
           },
           {
            "bin_start": 24.9,
            "bin_end": 48.8,
            "count": 1
           },
           {
            "bin_start": 48.8,
            "bin_end": 72.69999999999999,
            "count": 0
           },
           {
            "bin_start": 72.69999999999999,
            "bin_end": 96.6,
            "count": 0
           },
           {
            "bin_start": 96.6,
            "bin_end": 120.5,
            "count": 0
           },
           {
            "bin_start": 120.5,
            "bin_end": 144.39999999999998,
            "count": 1
           },
           {
            "bin_start": 144.39999999999998,
            "bin_end": 168.29999999999998,
            "count": 0
           },
           {
            "bin_start": 168.29999999999998,
            "bin_end": 192.2,
            "count": 0
           },
           {
            "bin_start": 192.2,
            "bin_end": 216.1,
            "count": 0
           },
           {
            "bin_start": 216.1,
            "bin_end": 240,
            "count": 2
           }
          ]
         }
        },
        {
         "name": "movieId",
         "dtype": "int64",
         "stats": {
          "unique_count": 1,
          "nan_count": 0,
          "min": "216",
          "max": "216",
          "histogram": [
           {
            "bin_start": 215.5,
            "bin_end": 215.6,
            "count": 0
           },
           {
            "bin_start": 215.6,
            "bin_end": 215.7,
            "count": 0
           },
           {
            "bin_start": 215.7,
            "bin_end": 215.8,
            "count": 0
           },
           {
            "bin_start": 215.8,
            "bin_end": 215.9,
            "count": 0
           },
           {
            "bin_start": 215.9,
            "bin_end": 216,
            "count": 0
           },
           {
            "bin_start": 216,
            "bin_end": 216.1,
            "count": 5
           },
           {
            "bin_start": 216.1,
            "bin_end": 216.2,
            "count": 0
           },
           {
            "bin_start": 216.2,
            "bin_end": 216.3,
            "count": 0
           },
           {
            "bin_start": 216.3,
            "bin_end": 216.4,
            "count": 0
           },
           {
            "bin_start": 216.4,
            "bin_end": 216.5,
            "count": 0
           }
          ]
         }
        },
        {
         "name": "rating",
         "dtype": "float64",
         "stats": {
          "unique_count": 1,
          "nan_count": 0,
          "min": "5.0",
          "max": "5.0",
          "histogram": [
           {
            "bin_start": 4.5,
            "bin_end": 4.6,
            "count": 0
           },
           {
            "bin_start": 4.6,
            "bin_end": 4.7,
            "count": 0
           },
           {
            "bin_start": 4.7,
            "bin_end": 4.8,
            "count": 0
           },
           {
            "bin_start": 4.8,
            "bin_end": 4.9,
            "count": 0
           },
           {
            "bin_start": 4.9,
            "bin_end": 5,
            "count": 0
           },
           {
            "bin_start": 5,
            "bin_end": 5.1,
            "count": 5
           },
           {
            "bin_start": 5.1,
            "bin_end": 5.2,
            "count": 0
           },
           {
            "bin_start": 5.2,
            "bin_end": 5.3,
            "count": 0
           },
           {
            "bin_start": 5.3,
            "bin_end": 5.4,
            "count": 0
           },
           {
            "bin_start": 5.4,
            "bin_end": 5.5,
            "count": 0
           }
          ]
         }
        },
        {
         "name": "title",
         "dtype": "object",
         "stats": {
          "unique_count": 1,
          "nan_count": 0,
          "categories": [
           {
            "name": "Billy Madison",
            "count": 5
           }
          ]
         }
        },
        {
         "name": "genres",
         "dtype": "object",
         "stats": {
          "unique_count": 1,
          "nan_count": 0,
          "categories": [
           {
            "name": "Comedy",
            "count": 5
           }
          ]
         }
        },
        {
         "name": "release_year",
         "dtype": "float64",
         "stats": {
          "unique_count": 1,
          "nan_count": 0,
          "min": "1995.0",
          "max": "1995.0",
          "histogram": [
           {
            "bin_start": 1994.5,
            "bin_end": 1994.6,
            "count": 0
           },
           {
            "bin_start": 1994.6,
            "bin_end": 1994.7,
            "count": 0
           },
           {
            "bin_start": 1994.7,
            "bin_end": 1994.8,
            "count": 0
           },
           {
            "bin_start": 1994.8,
            "bin_end": 1994.9,
            "count": 0
           },
           {
            "bin_start": 1994.9,
            "bin_end": 1995,
            "count": 0
           },
           {
            "bin_start": 1995,
            "bin_end": 1995.1,
            "count": 5
           },
           {
            "bin_start": 1995.1,
            "bin_end": 1995.2,
            "count": 0
           },
           {
            "bin_start": 1995.2,
            "bin_end": 1995.3,
            "count": 0
           },
           {
            "bin_start": 1995.3,
            "bin_end": 1995.4,
            "count": 0
           },
           {
            "bin_start": 1995.4,
            "bin_end": 1995.5,
            "count": 0
           }
          ]
         }
        },
        {
         "name": "_deepnote_index_column",
         "dtype": "int64"
        }
       ],
       "rows": [
        {
         "userId": 1,
         "movieId": 216,
         "rating": 5,
         "title": "Billy Madison",
         "genres": "Comedy",
         "release_year": 1995,
         "_deepnote_index_column": 1212
        },
        {
         "userId": 45,
         "movieId": 216,
         "rating": 5,
         "title": "Billy Madison",
         "genres": "Comedy",
         "release_year": 1995,
         "_deepnote_index_column": 1217
        },
        {
         "userId": 136,
         "movieId": 216,
         "rating": 5,
         "title": "Billy Madison",
         "genres": "Comedy",
         "release_year": 1995,
         "_deepnote_index_column": 1222
        },
        {
         "userId": 226,
         "movieId": 216,
         "rating": 5,
         "title": "Billy Madison",
         "genres": "Comedy",
         "release_year": 1995,
         "_deepnote_index_column": 1227
        },
        {
         "userId": 240,
         "movieId": 216,
         "rating": 5,
         "title": "Billy Madison",
         "genres": "Comedy",
         "release_year": 1995,
         "_deepnote_index_column": 1228
        }
       ]
      },
      "text/plain": "      userId  movieId  rating          title  genres  release_year\n1212       1      216     5.0  Billy Madison  Comedy        1995.0\n1217      45      216     5.0  Billy Madison  Comedy        1995.0\n1222     136      216     5.0  Billy Madison  Comedy        1995.0\n1227     226      216     5.0  Billy Madison  Comedy        1995.0\n1228     240      216     5.0  Billy Madison  Comedy        1995.0",
      "text/html": "<div>\n<style scoped>\n    .dataframe tbody tr th:only-of-type {\n        vertical-align: middle;\n    }\n\n    .dataframe tbody tr th {\n        vertical-align: top;\n    }\n\n    .dataframe thead th {\n        text-align: right;\n    }\n</style>\n<table border=\"1\" class=\"dataframe\">\n  <thead>\n    <tr style=\"text-align: right;\">\n      <th></th>\n      <th>userId</th>\n      <th>movieId</th>\n      <th>rating</th>\n      <th>title</th>\n      <th>genres</th>\n      <th>release_year</th>\n    </tr>\n  </thead>\n  <tbody>\n    <tr>\n      <th>1212</th>\n      <td>1</td>\n      <td>216</td>\n      <td>5.0</td>\n      <td>Billy Madison</td>\n      <td>Comedy</td>\n      <td>1995.0</td>\n    </tr>\n    <tr>\n      <th>1217</th>\n      <td>45</td>\n      <td>216</td>\n      <td>5.0</td>\n      <td>Billy Madison</td>\n      <td>Comedy</td>\n      <td>1995.0</td>\n    </tr>\n    <tr>\n      <th>1222</th>\n      <td>136</td>\n      <td>216</td>\n      <td>5.0</td>\n      <td>Billy Madison</td>\n      <td>Comedy</td>\n      <td>1995.0</td>\n    </tr>\n    <tr>\n      <th>1227</th>\n      <td>226</td>\n      <td>216</td>\n      <td>5.0</td>\n      <td>Billy Madison</td>\n      <td>Comedy</td>\n      <td>1995.0</td>\n    </tr>\n    <tr>\n      <th>1228</th>\n      <td>240</td>\n      <td>216</td>\n      <td>5.0</td>\n      <td>Billy Madison</td>\n      <td>Comedy</td>\n      <td>1995.0</td>\n    </tr>\n  </tbody>\n</table>\n</div>"
     },
     "metadata": {}
    }
   ]
  },
  {
   "cell_type": "markdown",
   "source": "### Cosine Similarities",
   "metadata": {
    "cell_id": "afed35db824f4e8ba9680a10a72137ca",
    "tags": [],
    "is_collapsed": false,
    "formattedRanges": [],
    "deepnote_cell_type": "text-cell-h3"
   }
  },
  {
   "cell_type": "code",
   "metadata": {
    "cell_id": "3e9f092a3b7f47cfaa5a04b5439cbd1e",
    "tags": [],
    "deepnote_to_be_reexecuted": false,
    "source_hash": "5ce5a766",
    "execution_start": 1658154822976,
    "execution_millis": 25,
    "deepnote_cell_type": "code",
    "deepnote_cell_height": 135
   },
   "source": "from re import search\nfrom sklearn.metrics.pairwise import cosine_similarity\nfrom sklearn.feature_extraction.text import CountVectorizer\ncmcomedyrated5 = CountVectorizer().fit_transform(df_5comedy['title'])",
   "execution_count": 32,
   "outputs": []
  },
  {
   "cell_type": "code",
   "metadata": {
    "cell_id": "2784c70c9ffb48ccafbd02711f3f45cd",
    "tags": [],
    "deepnote_to_be_reexecuted": false,
    "source_hash": "acaea2c1",
    "execution_start": 1658154823011,
    "execution_millis": 709,
    "deepnote_cell_type": "code",
    "deepnote_cell_height": 137.390625,
    "deepnote_output_heights": [
     40.390625
    ]
   },
   "source": "cmcomedyrated5",
   "execution_count": 33,
   "outputs": [
    {
     "output_type": "execute_result",
     "execution_count": 33,
     "data": {
      "text/plain": "<656x487 sparse matrix of type '<class 'numpy.int64'>'\n\twith 1864 stored elements in Compressed Sparse Row format>"
     },
     "metadata": {}
    }
   ]
  },
  {
   "cell_type": "code",
   "metadata": {
    "cell_id": "dc884486fe6044068f52bbdcf392d239",
    "tags": [],
    "deepnote_to_be_reexecuted": false,
    "source_hash": "367cdabf",
    "execution_start": 1658154823021,
    "execution_millis": 1,
    "deepnote_cell_type": "code",
    "deepnote_cell_height": 81
   },
   "source": "cscomedyrated5 = cosine_similarity(cmcomedyrated5)",
   "execution_count": 34,
   "outputs": []
  },
  {
   "cell_type": "code",
   "metadata": {
    "cell_id": "f0e805a004a34b69bbd999ab5fbfbd0f",
    "tags": [],
    "deepnote_to_be_reexecuted": false,
    "source_hash": "b4e0527f",
    "execution_start": 1658154823031,
    "execution_millis": 12,
    "deepnote_cell_type": "code",
    "deepnote_cell_height": 251.359375,
    "deepnote_output_heights": [
     136.359375
    ]
   },
   "source": "#Cosine similiarity matrix for comedy movies with a rating of 5.0\ncscomedyrated5",
   "execution_count": 35,
   "outputs": [
    {
     "output_type": "execute_result",
     "execution_count": 35,
     "data": {
      "text/plain": "array([[1., 1., 1., ..., 0., 0., 0.],\n       [1., 1., 1., ..., 0., 0., 0.],\n       [1., 1., 1., ..., 0., 0., 0.],\n       ...,\n       [0., 0., 0., ..., 1., 0., 0.],\n       [0., 0., 0., ..., 0., 1., 0.],\n       [0., 0., 0., ..., 0., 0., 1.]])"
     },
     "metadata": {}
    }
   ]
  },
  {
   "cell_type": "markdown",
   "source": "### Visualization&nbsp;of&nbsp;relationship&nbsp;seen&nbsp;between&nbsp;Film-Noir&nbsp;Movies",
   "metadata": {
    "cell_id": "e582e40a9501428e9559d65d456a3516",
    "tags": [],
    "is_collapsed": false,
    "formattedRanges": [],
    "deepnote_cell_type": "text-cell-h3"
   }
  },
  {
   "cell_type": "code",
   "metadata": {
    "cell_id": "1a021b94cece4a1594ef23eaa3a28319",
    "tags": [],
    "deepnote_to_be_reexecuted": false,
    "source_hash": "ad61b687",
    "execution_start": 1658154846351,
    "execution_millis": 25,
    "deepnote_cell_type": "code",
    "deepnote_cell_height": 448
   },
   "source": "#Extract all Film-Noir movies in the dataset\ndf_filmnoir = df_movies[df_movies['genres']=='Film-Noir']\ndf_filmnoir.head()",
   "execution_count": 37,
   "outputs": [
    {
     "output_type": "execute_result",
     "execution_count": 37,
     "data": {
      "application/vnd.deepnote.dataframe.v3+json": {
       "column_count": 6,
       "row_count": 5,
       "columns": [
        {
         "name": "userId",
         "dtype": "int64",
         "stats": {
          "unique_count": 5,
          "nan_count": 0,
          "min": "290",
          "max": "603",
          "histogram": [
           {
            "bin_start": 290,
            "bin_end": 321.3,
            "count": 1
           },
           {
            "bin_start": 321.3,
            "bin_end": 352.6,
            "count": 0
           },
           {
            "bin_start": 352.6,
            "bin_end": 383.9,
            "count": 0
           },
           {
            "bin_start": 383.9,
            "bin_end": 415.2,
            "count": 1
           },
           {
            "bin_start": 415.2,
            "bin_end": 446.5,
            "count": 0
           },
           {
            "bin_start": 446.5,
            "bin_end": 477.8,
            "count": 1
           },
           {
            "bin_start": 477.8,
            "bin_end": 509.1,
            "count": 0
           },
           {
            "bin_start": 509.1,
            "bin_end": 540.4,
            "count": 0
           },
           {
            "bin_start": 540.4,
            "bin_end": 571.7,
            "count": 0
           },
           {
            "bin_start": 571.7,
            "bin_end": 603,
            "count": 2
           }
          ]
         }
        },
        {
         "name": "movieId",
         "dtype": "int64",
         "stats": {
          "unique_count": 2,
          "nan_count": 0,
          "min": "2066",
          "max": "4426",
          "histogram": [
           {
            "bin_start": 2066,
            "bin_end": 2302,
            "count": 4
           },
           {
            "bin_start": 2302,
            "bin_end": 2538,
            "count": 0
           },
           {
            "bin_start": 2538,
            "bin_end": 2774,
            "count": 0
           },
           {
            "bin_start": 2774,
            "bin_end": 3010,
            "count": 0
           },
           {
            "bin_start": 3010,
            "bin_end": 3246,
            "count": 0
           },
           {
            "bin_start": 3246,
            "bin_end": 3482,
            "count": 0
           },
           {
            "bin_start": 3482,
            "bin_end": 3718,
            "count": 0
           },
           {
            "bin_start": 3718,
            "bin_end": 3954,
            "count": 0
           },
           {
            "bin_start": 3954,
            "bin_end": 4190,
            "count": 0
           },
           {
            "bin_start": 4190,
            "bin_end": 4426,
            "count": 1
           }
          ]
         }
        },
        {
         "name": "rating",
         "dtype": "float64",
         "stats": {
          "unique_count": 4,
          "nan_count": 0,
          "min": "3.0",
          "max": "5.0",
          "histogram": [
           {
            "bin_start": 3,
            "bin_end": 3.2,
            "count": 1
           },
           {
            "bin_start": 3.2,
            "bin_end": 3.4,
            "count": 0
           },
           {
            "bin_start": 3.4,
            "bin_end": 3.6,
            "count": 1
           },
           {
            "bin_start": 3.6,
            "bin_end": 3.8,
            "count": 0
           },
           {
            "bin_start": 3.8,
            "bin_end": 4,
            "count": 0
           },
           {
            "bin_start": 4,
            "bin_end": 4.2,
            "count": 2
           },
           {
            "bin_start": 4.2,
            "bin_end": 4.4,
            "count": 0
           },
           {
            "bin_start": 4.4,
            "bin_end": 4.6,
            "count": 0
           },
           {
            "bin_start": 4.6,
            "bin_end": 4.8,
            "count": 0
           },
           {
            "bin_start": 4.8,
            "bin_end": 5,
            "count": 1
           }
          ]
         }
        },
        {
         "name": "title",
         "dtype": "object",
         "stats": {
          "unique_count": 2,
          "nan_count": 0,
          "categories": [
           {
            "name": "Out of the Past",
            "count": 4
           },
           {
            "name": "Kiss Me Deadly",
            "count": 1
           }
          ]
         }
        },
        {
         "name": "genres",
         "dtype": "object",
         "stats": {
          "unique_count": 1,
          "nan_count": 0,
          "categories": [
           {
            "name": "Film-Noir",
            "count": 5
           }
          ]
         }
        },
        {
         "name": "release_year",
         "dtype": "float64",
         "stats": {
          "unique_count": 2,
          "nan_count": 0,
          "min": "1947.0",
          "max": "1955.0",
          "histogram": [
           {
            "bin_start": 1947,
            "bin_end": 1947.8,
            "count": 4
           },
           {
            "bin_start": 1947.8,
            "bin_end": 1948.6,
            "count": 0
           },
           {
            "bin_start": 1948.6,
            "bin_end": 1949.4,
            "count": 0
           },
           {
            "bin_start": 1949.4,
            "bin_end": 1950.2,
            "count": 0
           },
           {
            "bin_start": 1950.2,
            "bin_end": 1951,
            "count": 0
           },
           {
            "bin_start": 1951,
            "bin_end": 1951.8,
            "count": 0
           },
           {
            "bin_start": 1951.8,
            "bin_end": 1952.6,
            "count": 0
           },
           {
            "bin_start": 1952.6,
            "bin_end": 1953.4,
            "count": 0
           },
           {
            "bin_start": 1953.4,
            "bin_end": 1954.2,
            "count": 0
           },
           {
            "bin_start": 1954.2,
            "bin_end": 1955,
            "count": 1
           }
          ]
         }
        },
        {
         "name": "_deepnote_index_column",
         "dtype": "int64"
        }
       ],
       "rows": [
        {
         "userId": 290,
         "movieId": 2066,
         "rating": 4,
         "title": "Out of the Past",
         "genres": "Film-Noir",
         "release_year": 1947,
         "_deepnote_index_column": 96088
        },
        {
         "userId": 474,
         "movieId": 2066,
         "rating": 4,
         "title": "Out of the Past",
         "genres": "Film-Noir",
         "release_year": 1947,
         "_deepnote_index_column": 96089
        },
        {
         "userId": 590,
         "movieId": 2066,
         "rating": 3.5,
         "title": "Out of the Past",
         "genres": "Film-Noir",
         "release_year": 1947,
         "_deepnote_index_column": 96090
        },
        {
         "userId": 603,
         "movieId": 2066,
         "rating": 5,
         "title": "Out of the Past",
         "genres": "Film-Noir",
         "release_year": 1947,
         "_deepnote_index_column": 96091
        },
        {
         "userId": 387,
         "movieId": 4426,
         "rating": 3,
         "title": "Kiss Me Deadly",
         "genres": "Film-Noir",
         "release_year": 1955,
         "_deepnote_index_column": 97696
        }
       ]
      },
      "text/plain": "       userId  movieId  rating            title     genres  release_year\n96088     290     2066     4.0  Out of the Past  Film-Noir        1947.0\n96089     474     2066     4.0  Out of the Past  Film-Noir        1947.0\n96090     590     2066     3.5  Out of the Past  Film-Noir        1947.0\n96091     603     2066     5.0  Out of the Past  Film-Noir        1947.0\n97696     387     4426     3.0   Kiss Me Deadly  Film-Noir        1955.0",
      "text/html": "<div>\n<style scoped>\n    .dataframe tbody tr th:only-of-type {\n        vertical-align: middle;\n    }\n\n    .dataframe tbody tr th {\n        vertical-align: top;\n    }\n\n    .dataframe thead th {\n        text-align: right;\n    }\n</style>\n<table border=\"1\" class=\"dataframe\">\n  <thead>\n    <tr style=\"text-align: right;\">\n      <th></th>\n      <th>userId</th>\n      <th>movieId</th>\n      <th>rating</th>\n      <th>title</th>\n      <th>genres</th>\n      <th>release_year</th>\n    </tr>\n  </thead>\n  <tbody>\n    <tr>\n      <th>96088</th>\n      <td>290</td>\n      <td>2066</td>\n      <td>4.0</td>\n      <td>Out of the Past</td>\n      <td>Film-Noir</td>\n      <td>1947.0</td>\n    </tr>\n    <tr>\n      <th>96089</th>\n      <td>474</td>\n      <td>2066</td>\n      <td>4.0</td>\n      <td>Out of the Past</td>\n      <td>Film-Noir</td>\n      <td>1947.0</td>\n    </tr>\n    <tr>\n      <th>96090</th>\n      <td>590</td>\n      <td>2066</td>\n      <td>3.5</td>\n      <td>Out of the Past</td>\n      <td>Film-Noir</td>\n      <td>1947.0</td>\n    </tr>\n    <tr>\n      <th>96091</th>\n      <td>603</td>\n      <td>2066</td>\n      <td>5.0</td>\n      <td>Out of the Past</td>\n      <td>Film-Noir</td>\n      <td>1947.0</td>\n    </tr>\n    <tr>\n      <th>97696</th>\n      <td>387</td>\n      <td>4426</td>\n      <td>3.0</td>\n      <td>Kiss Me Deadly</td>\n      <td>Film-Noir</td>\n      <td>1955.0</td>\n    </tr>\n  </tbody>\n</table>\n</div>"
     },
     "metadata": {}
    }
   ]
  },
  {
   "cell_type": "code",
   "metadata": {
    "cell_id": "5866d9664fd04b0598824320b66666cf",
    "tags": [],
    "deepnote_to_be_reexecuted": false,
    "source_hash": "c8a104f5",
    "execution_start": 1658154855496,
    "execution_millis": 3,
    "deepnote_cell_type": "code",
    "deepnote_cell_height": 494
   },
   "source": "df_filmnoir",
   "execution_count": 38,
   "outputs": [
    {
     "output_type": "execute_result",
     "execution_count": 38,
     "data": {
      "application/vnd.deepnote.dataframe.v3+json": {
       "column_count": 6,
       "row_count": 7,
       "columns": [
        {
         "name": "userId",
         "dtype": "int64",
         "stats": {
          "unique_count": 6,
          "nan_count": 0,
          "min": "290",
          "max": "603",
          "histogram": [
           {
            "bin_start": 290,
            "bin_end": 321.3,
            "count": 1
           },
           {
            "bin_start": 321.3,
            "bin_end": 352.6,
            "count": 0
           },
           {
            "bin_start": 352.6,
            "bin_end": 383.9,
            "count": 0
           },
           {
            "bin_start": 383.9,
            "bin_end": 415.2,
            "count": 1
           },
           {
            "bin_start": 415.2,
            "bin_end": 446.5,
            "count": 0
           },
           {
            "bin_start": 446.5,
            "bin_end": 477.8,
            "count": 2
           },
           {
            "bin_start": 477.8,
            "bin_end": 509.1,
            "count": 0
           },
           {
            "bin_start": 509.1,
            "bin_end": 540.4,
            "count": 0
           },
           {
            "bin_start": 540.4,
            "bin_end": 571.7,
            "count": 0
           },
           {
            "bin_start": 571.7,
            "bin_end": 603,
            "count": 3
           }
          ]
         }
        },
        {
         "name": "movieId",
         "dtype": "int64",
         "stats": {
          "unique_count": 3,
          "nan_count": 0,
          "min": "2066",
          "max": "7335",
          "histogram": [
           {
            "bin_start": 2066,
            "bin_end": 2592.9,
            "count": 4
           },
           {
            "bin_start": 2592.9,
            "bin_end": 3119.8,
            "count": 0
           },
           {
            "bin_start": 3119.8,
            "bin_end": 3646.7,
            "count": 0
           },
           {
            "bin_start": 3646.7,
            "bin_end": 4173.6,
            "count": 0
           },
           {
            "bin_start": 4173.6,
            "bin_end": 4700.5,
            "count": 2
           },
           {
            "bin_start": 4700.5,
            "bin_end": 5227.4,
            "count": 0
           },
           {
            "bin_start": 5227.4,
            "bin_end": 5754.299999999999,
            "count": 0
           },
           {
            "bin_start": 5754.299999999999,
            "bin_end": 6281.2,
            "count": 0
           },
           {
            "bin_start": 6281.2,
            "bin_end": 6808.099999999999,
            "count": 0
           },
           {
            "bin_start": 6808.099999999999,
            "bin_end": 7335,
            "count": 1
           }
          ]
         }
        },
        {
         "name": "rating",
         "dtype": "float64",
         "stats": {
          "unique_count": 4,
          "nan_count": 0,
          "min": "3.0",
          "max": "5.0",
          "histogram": [
           {
            "bin_start": 3,
            "bin_end": 3.2,
            "count": 1
           },
           {
            "bin_start": 3.2,
            "bin_end": 3.4,
            "count": 0
           },
           {
            "bin_start": 3.4,
            "bin_end": 3.6,
            "count": 1
           },
           {
            "bin_start": 3.6,
            "bin_end": 3.8,
            "count": 0
           },
           {
            "bin_start": 3.8,
            "bin_end": 4,
            "count": 0
           },
           {
            "bin_start": 4,
            "bin_end": 4.2,
            "count": 3
           },
           {
            "bin_start": 4.2,
            "bin_end": 4.4,
            "count": 0
           },
           {
            "bin_start": 4.4,
            "bin_end": 4.6,
            "count": 0
           },
           {
            "bin_start": 4.6,
            "bin_end": 4.8,
            "count": 0
           },
           {
            "bin_start": 4.8,
            "bin_end": 5,
            "count": 2
           }
          ]
         }
        },
        {
         "name": "title",
         "dtype": "object",
         "stats": {
          "unique_count": 3,
          "nan_count": 0,
          "categories": [
           {
            "name": "Out of the Past",
            "count": 4
           },
           {
            "name": "Kiss Me Deadly",
            "count": 2
           },
           {
            "name": "Pickup on South Street",
            "count": 1
           }
          ]
         }
        },
        {
         "name": "genres",
         "dtype": "object",
         "stats": {
          "unique_count": 1,
          "nan_count": 0,
          "categories": [
           {
            "name": "Film-Noir",
            "count": 7
           }
          ]
         }
        },
        {
         "name": "release_year",
         "dtype": "float64",
         "stats": {
          "unique_count": 3,
          "nan_count": 0,
          "min": "1947.0",
          "max": "1955.0",
          "histogram": [
           {
            "bin_start": 1947,
            "bin_end": 1947.8,
            "count": 4
           },
           {
            "bin_start": 1947.8,
            "bin_end": 1948.6,
            "count": 0
           },
           {
            "bin_start": 1948.6,
            "bin_end": 1949.4,
            "count": 0
           },
           {
            "bin_start": 1949.4,
            "bin_end": 1950.2,
            "count": 0
           },
           {
            "bin_start": 1950.2,
            "bin_end": 1951,
            "count": 0
           },
           {
            "bin_start": 1951,
            "bin_end": 1951.8,
            "count": 0
           },
           {
            "bin_start": 1951.8,
            "bin_end": 1952.6,
            "count": 0
           },
           {
            "bin_start": 1952.6,
            "bin_end": 1953.4,
            "count": 1
           },
           {
            "bin_start": 1953.4,
            "bin_end": 1954.2,
            "count": 0
           },
           {
            "bin_start": 1954.2,
            "bin_end": 1955,
            "count": 2
           }
          ]
         }
        },
        {
         "name": "_deepnote_index_column",
         "dtype": "int64"
        }
       ],
       "rows": [
        {
         "userId": 290,
         "movieId": 2066,
         "rating": 4,
         "title": "Out of the Past",
         "genres": "Film-Noir",
         "release_year": 1947,
         "_deepnote_index_column": 96088
        },
        {
         "userId": 474,
         "movieId": 2066,
         "rating": 4,
         "title": "Out of the Past",
         "genres": "Film-Noir",
         "release_year": 1947,
         "_deepnote_index_column": 96089
        },
        {
         "userId": 590,
         "movieId": 2066,
         "rating": 3.5,
         "title": "Out of the Past",
         "genres": "Film-Noir",
         "release_year": 1947,
         "_deepnote_index_column": 96090
        },
        {
         "userId": 603,
         "movieId": 2066,
         "rating": 5,
         "title": "Out of the Past",
         "genres": "Film-Noir",
         "release_year": 1947,
         "_deepnote_index_column": 96091
        },
        {
         "userId": 387,
         "movieId": 4426,
         "rating": 3,
         "title": "Kiss Me Deadly",
         "genres": "Film-Noir",
         "release_year": 1955,
         "_deepnote_index_column": 97696
        },
        {
         "userId": 603,
         "movieId": 4426,
         "rating": 5,
         "title": "Kiss Me Deadly",
         "genres": "Film-Noir",
         "release_year": 1955,
         "_deepnote_index_column": 97697
        },
        {
         "userId": 477,
         "movieId": 7335,
         "rating": 4,
         "title": "Pickup on South Street",
         "genres": "Film-Noir",
         "release_year": 1953,
         "_deepnote_index_column": 99476
        }
       ]
      },
      "text/plain": "       userId  movieId  rating                   title     genres  \\\n96088     290     2066     4.0         Out of the Past  Film-Noir   \n96089     474     2066     4.0         Out of the Past  Film-Noir   \n96090     590     2066     3.5         Out of the Past  Film-Noir   \n96091     603     2066     5.0         Out of the Past  Film-Noir   \n97696     387     4426     3.0          Kiss Me Deadly  Film-Noir   \n97697     603     4426     5.0          Kiss Me Deadly  Film-Noir   \n99476     477     7335     4.0  Pickup on South Street  Film-Noir   \n\n       release_year  \n96088        1947.0  \n96089        1947.0  \n96090        1947.0  \n96091        1947.0  \n97696        1955.0  \n97697        1955.0  \n99476        1953.0  ",
      "text/html": "<div>\n<style scoped>\n    .dataframe tbody tr th:only-of-type {\n        vertical-align: middle;\n    }\n\n    .dataframe tbody tr th {\n        vertical-align: top;\n    }\n\n    .dataframe thead th {\n        text-align: right;\n    }\n</style>\n<table border=\"1\" class=\"dataframe\">\n  <thead>\n    <tr style=\"text-align: right;\">\n      <th></th>\n      <th>userId</th>\n      <th>movieId</th>\n      <th>rating</th>\n      <th>title</th>\n      <th>genres</th>\n      <th>release_year</th>\n    </tr>\n  </thead>\n  <tbody>\n    <tr>\n      <th>96088</th>\n      <td>290</td>\n      <td>2066</td>\n      <td>4.0</td>\n      <td>Out of the Past</td>\n      <td>Film-Noir</td>\n      <td>1947.0</td>\n    </tr>\n    <tr>\n      <th>96089</th>\n      <td>474</td>\n      <td>2066</td>\n      <td>4.0</td>\n      <td>Out of the Past</td>\n      <td>Film-Noir</td>\n      <td>1947.0</td>\n    </tr>\n    <tr>\n      <th>96090</th>\n      <td>590</td>\n      <td>2066</td>\n      <td>3.5</td>\n      <td>Out of the Past</td>\n      <td>Film-Noir</td>\n      <td>1947.0</td>\n    </tr>\n    <tr>\n      <th>96091</th>\n      <td>603</td>\n      <td>2066</td>\n      <td>5.0</td>\n      <td>Out of the Past</td>\n      <td>Film-Noir</td>\n      <td>1947.0</td>\n    </tr>\n    <tr>\n      <th>97696</th>\n      <td>387</td>\n      <td>4426</td>\n      <td>3.0</td>\n      <td>Kiss Me Deadly</td>\n      <td>Film-Noir</td>\n      <td>1955.0</td>\n    </tr>\n    <tr>\n      <th>97697</th>\n      <td>603</td>\n      <td>4426</td>\n      <td>5.0</td>\n      <td>Kiss Me Deadly</td>\n      <td>Film-Noir</td>\n      <td>1955.0</td>\n    </tr>\n    <tr>\n      <th>99476</th>\n      <td>477</td>\n      <td>7335</td>\n      <td>4.0</td>\n      <td>Pickup on South Street</td>\n      <td>Film-Noir</td>\n      <td>1953.0</td>\n    </tr>\n  </tbody>\n</table>\n</div>"
     },
     "metadata": {}
    }
   ]
  },
  {
   "cell_type": "code",
   "metadata": {
    "cell_id": "03c24899603b4be68868f081cc804b76",
    "tags": [],
    "deepnote_to_be_reexecuted": false,
    "source_hash": "a96a442e",
    "execution_start": 1658154876355,
    "execution_millis": 135,
    "deepnote_cell_type": "code",
    "deepnote_cell_height": 473,
    "deepnote_output_heights": [
     304
    ]
   },
   "source": "#A network graph showing all film noir movies had a minimum of 3.5 rating in the entire dataset.\nG = nx.Graph()\nG = nx.from_pandas_edgelist(df_filmnoir, 'title', 'rating')\nnx.draw(G, with_labels=True)\nplt.show()",
   "execution_count": 39,
   "outputs": [
    {
     "data": {
      "text/plain": "<Figure size 432x288 with 1 Axes>",
      "image/png": "[encoded data removed]"
     },
     "metadata": {
      "image/png": {
       "width": 446,
       "height": 302
      }
     },
     "output_type": "display_data"
    }
   ]
  },
  {
   "cell_type": "markdown",
   "source": "### User to User Similarity between users with ID 18,305,448,249,119",
   "metadata": {
    "cell_id": "0fe580c6d320415783be94ae22011dd9",
    "tags": [],
    "is_collapsed": false,
    "formattedRanges": [],
    "deepnote_cell_type": "text-cell-h3"
   }
  },
  {
   "cell_type": "code",
   "metadata": {
    "cell_id": "76fd39d2ec064e3c817b439e52def0bd",
    "tags": [],
    "deepnote_to_be_reexecuted": false,
    "source_hash": "e33b43ef",
    "execution_start": 1658154880499,
    "execution_millis": 8,
    "deepnote_cell_type": "code",
    "deepnote_cell_height": 430
   },
   "source": "df_18 = df_movies[df_movies['userId']==18]\ndf_18.head()",
   "execution_count": 40,
   "outputs": [
    {
     "output_type": "execute_result",
     "execution_count": 40,
     "data": {
      "application/vnd.deepnote.dataframe.v3+json": {
       "column_count": 6,
       "row_count": 5,
       "columns": [
        {
         "name": "userId",
         "dtype": "int64",
         "stats": {
          "unique_count": 1,
          "nan_count": 0,
          "min": "18",
          "max": "18",
          "histogram": [
           {
            "bin_start": 17.5,
            "bin_end": 17.6,
            "count": 0
           },
           {
            "bin_start": 17.6,
            "bin_end": 17.7,
            "count": 0
           },
           {
            "bin_start": 17.7,
            "bin_end": 17.8,
            "count": 0
           },
           {
            "bin_start": 17.8,
            "bin_end": 17.9,
            "count": 0
           },
           {
            "bin_start": 17.9,
            "bin_end": 18,
            "count": 0
           },
           {
            "bin_start": 18,
            "bin_end": 18.1,
            "count": 5
           },
           {
            "bin_start": 18.1,
            "bin_end": 18.2,
            "count": 0
           },
           {
            "bin_start": 18.2,
            "bin_end": 18.3,
            "count": 0
           },
           {
            "bin_start": 18.3,
            "bin_end": 18.4,
            "count": 0
           },
           {
            "bin_start": 18.4,
            "bin_end": 18.5,
            "count": 0
           }
          ]
         }
        },
        {
         "name": "movieId",
         "dtype": "int64",
         "stats": {
          "unique_count": 5,
          "nan_count": 0,
          "min": "1",
          "max": "70",
          "histogram": [
           {
            "bin_start": 1,
            "bin_end": 7.9,
            "count": 2
           },
           {
            "bin_start": 7.9,
            "bin_end": 14.8,
            "count": 0
           },
           {
            "bin_start": 14.8,
            "bin_end": 21.700000000000003,
            "count": 0
           },
           {
            "bin_start": 21.700000000000003,
            "bin_end": 28.6,
            "count": 0
           },
           {
            "bin_start": 28.6,
            "bin_end": 35.5,
            "count": 0
           },
           {
            "bin_start": 35.5,
            "bin_end": 42.400000000000006,
            "count": 0
           },
           {
            "bin_start": 42.400000000000006,
            "bin_end": 49.300000000000004,
            "count": 1
           },
           {
            "bin_start": 49.300000000000004,
            "bin_end": 56.2,
            "count": 1
           },
           {
            "bin_start": 56.2,
            "bin_end": 63.1,
            "count": 0
           },
           {
            "bin_start": 63.1,
            "bin_end": 70,
            "count": 1
           }
          ]
         }
        },
        {
         "name": "rating",
         "dtype": "float64",
         "stats": {
          "unique_count": 4,
          "nan_count": 0,
          "min": "3.5",
          "max": "5.0",
          "histogram": [
           {
            "bin_start": 3.5,
            "bin_end": 3.65,
            "count": 2
           },
           {
            "bin_start": 3.65,
            "bin_end": 3.8,
            "count": 0
           },
           {
            "bin_start": 3.8,
            "bin_end": 3.95,
            "count": 0
           },
           {
            "bin_start": 3.95,
            "bin_end": 4.1,
            "count": 1
           },
           {
            "bin_start": 4.1,
            "bin_end": 4.25,
            "count": 0
           },
           {
            "bin_start": 4.25,
            "bin_end": 4.4,
            "count": 0
           },
           {
            "bin_start": 4.4,
            "bin_end": 4.55,
            "count": 1
           },
           {
            "bin_start": 4.55,
            "bin_end": 4.7,
            "count": 0
           },
           {
            "bin_start": 4.7,
            "bin_end": 4.85,
            "count": 0
           },
           {
            "bin_start": 4.85,
            "bin_end": 5,
            "count": 1
           }
          ]
         }
        },
        {
         "name": "title",
         "dtype": "object",
         "stats": {
          "unique_count": 5,
          "nan_count": 0,
          "categories": [
           {
            "name": "Toy Story",
            "count": 1
           },
           {
            "name": "Heat",
            "count": 1
           },
           {
            "name": "3 others",
            "count": 3
           }
          ]
         }
        },
        {
         "name": "genres",
         "dtype": "object",
         "stats": {
          "unique_count": 5,
          "nan_count": 0,
          "categories": [
           {
            "name": "Adventure|Animation|Children|Comedy|Fantasy",
            "count": 1
           },
           {
            "name": "Action|Crime|Thriller",
            "count": 1
           },
           {
            "name": "3 others",
            "count": 3
           }
          ]
         }
        },
        {
         "name": "release_year",
         "dtype": "float64",
         "stats": {
          "unique_count": 2,
          "nan_count": 0,
          "min": "1995.0",
          "max": "1996.0",
          "histogram": [
           {
            "bin_start": 1995,
            "bin_end": 1995.1,
            "count": 4
           },
           {
            "bin_start": 1995.1,
            "bin_end": 1995.2,
            "count": 0
           },
           {
            "bin_start": 1995.2,
            "bin_end": 1995.3,
            "count": 0
           },
           {
            "bin_start": 1995.3,
            "bin_end": 1995.4,
            "count": 0
           },
           {
            "bin_start": 1995.4,
            "bin_end": 1995.5,
            "count": 0
           },
           {
            "bin_start": 1995.5,
            "bin_end": 1995.6,
            "count": 0
           },
           {
            "bin_start": 1995.6,
            "bin_end": 1995.7,
            "count": 0
           },
           {
            "bin_start": 1995.7,
            "bin_end": 1995.8,
            "count": 0
           },
           {
            "bin_start": 1995.8,
            "bin_end": 1995.9,
            "count": 0
           },
           {
            "bin_start": 1995.9,
            "bin_end": 1996,
            "count": 1
           }
          ]
         }
        },
        {
         "name": "_deepnote_index_column",
         "dtype": "int64"
        }
       ],
       "rows": [
        {
         "userId": 18,
         "movieId": 1,
         "rating": 3.5,
         "title": "Toy Story",
         "genres": "Adventure|Animation|Children|Comedy|Fantasy",
         "release_year": 1995,
         "_deepnote_index_column": 5
        },
        {
         "userId": 18,
         "movieId": 6,
         "rating": 4,
         "title": "Heat",
         "genres": "Action|Crime|Thriller",
         "release_year": 1995,
         "_deepnote_index_column": 270
        },
        {
         "userId": 18,
         "movieId": 47,
         "rating": 4.5,
         "title": "Seven (a.k.a. Se7en)",
         "genres": "Mystery|Thriller",
         "release_year": 1995,
         "_deepnote_index_column": 378
        },
        {
         "userId": 18,
         "movieId": 50,
         "rating": 5,
         "title": "Usual Suspects, The",
         "genres": "Crime|Mystery|Thriller",
         "release_year": 1995,
         "_deepnote_index_column": 579
        },
        {
         "userId": 18,
         "movieId": 70,
         "rating": 3.5,
         "title": "From Dusk Till Dawn",
         "genres": "Action|Comedy|Horror|Thriller",
         "release_year": 1996,
         "_deepnote_index_column": 777
        }
       ]
      },
      "text/plain": "     userId  movieId  rating                 title  \\\n5        18        1     3.5             Toy Story   \n270      18        6     4.0                  Heat   \n378      18       47     4.5  Seven (a.k.a. Se7en)   \n579      18       50     5.0   Usual Suspects, The   \n777      18       70     3.5   From Dusk Till Dawn   \n\n                                          genres  release_year  \n5    Adventure|Animation|Children|Comedy|Fantasy        1995.0  \n270                        Action|Crime|Thriller        1995.0  \n378                             Mystery|Thriller        1995.0  \n579                       Crime|Mystery|Thriller        1995.0  \n777                Action|Comedy|Horror|Thriller        1996.0  ",
      "text/html": "<div>\n<style scoped>\n    .dataframe tbody tr th:only-of-type {\n        vertical-align: middle;\n    }\n\n    .dataframe tbody tr th {\n        vertical-align: top;\n    }\n\n    .dataframe thead th {\n        text-align: right;\n    }\n</style>\n<table border=\"1\" class=\"dataframe\">\n  <thead>\n    <tr style=\"text-align: right;\">\n      <th></th>\n      <th>userId</th>\n      <th>movieId</th>\n      <th>rating</th>\n      <th>title</th>\n      <th>genres</th>\n      <th>release_year</th>\n    </tr>\n  </thead>\n  <tbody>\n    <tr>\n      <th>5</th>\n      <td>18</td>\n      <td>1</td>\n      <td>3.5</td>\n      <td>Toy Story</td>\n      <td>Adventure|Animation|Children|Comedy|Fantasy</td>\n      <td>1995.0</td>\n    </tr>\n    <tr>\n      <th>270</th>\n      <td>18</td>\n      <td>6</td>\n      <td>4.0</td>\n      <td>Heat</td>\n      <td>Action|Crime|Thriller</td>\n      <td>1995.0</td>\n    </tr>\n    <tr>\n      <th>378</th>\n      <td>18</td>\n      <td>47</td>\n      <td>4.5</td>\n      <td>Seven (a.k.a. Se7en)</td>\n      <td>Mystery|Thriller</td>\n      <td>1995.0</td>\n    </tr>\n    <tr>\n      <th>579</th>\n      <td>18</td>\n      <td>50</td>\n      <td>5.0</td>\n      <td>Usual Suspects, The</td>\n      <td>Crime|Mystery|Thriller</td>\n      <td>1995.0</td>\n    </tr>\n    <tr>\n      <th>777</th>\n      <td>18</td>\n      <td>70</td>\n      <td>3.5</td>\n      <td>From Dusk Till Dawn</td>\n      <td>Action|Comedy|Horror|Thriller</td>\n      <td>1996.0</td>\n    </tr>\n  </tbody>\n</table>\n</div>"
     },
     "metadata": {}
    }
   ]
  },
  {
   "cell_type": "code",
   "metadata": {
    "cell_id": "0802463a1ed2469fb548e9e8caebabbd",
    "tags": [],
    "deepnote_to_be_reexecuted": false,
    "source_hash": "2faf419d",
    "execution_start": 1658154903816,
    "execution_millis": 642,
    "deepnote_cell_type": "code",
    "deepnote_cell_height": 448
   },
   "source": "#,305,448,249,119\ndf_305 = df_movies[df_movies['userId']==305]\ndf_305.head()",
   "execution_count": 41,
   "outputs": [
    {
     "output_type": "execute_result",
     "execution_count": 41,
     "data": {
      "application/vnd.deepnote.dataframe.v3+json": {
       "column_count": 6,
       "row_count": 5,
       "columns": [
        {
         "name": "userId",
         "dtype": "int64",
         "stats": {
          "unique_count": 1,
          "nan_count": 0,
          "min": "305",
          "max": "305",
          "histogram": [
           {
            "bin_start": 304.5,
            "bin_end": 304.6,
            "count": 0
           },
           {
            "bin_start": 304.6,
            "bin_end": 304.7,
            "count": 0
           },
           {
            "bin_start": 304.7,
            "bin_end": 304.8,
            "count": 0
           },
           {
            "bin_start": 304.8,
            "bin_end": 304.9,
            "count": 0
           },
           {
            "bin_start": 304.9,
            "bin_end": 305,
            "count": 0
           },
           {
            "bin_start": 305,
            "bin_end": 305.1,
            "count": 5
           },
           {
            "bin_start": 305.1,
            "bin_end": 305.2,
            "count": 0
           },
           {
            "bin_start": 305.2,
            "bin_end": 305.3,
            "count": 0
           },
           {
            "bin_start": 305.3,
            "bin_end": 305.4,
            "count": 0
           },
           {
            "bin_start": 305.4,
            "bin_end": 305.5,
            "count": 0
           }
          ]
         }
        },
        {
         "name": "movieId",
         "dtype": "int64",
         "stats": {
          "unique_count": 5,
          "nan_count": 0,
          "min": "6",
          "max": "163",
          "histogram": [
           {
            "bin_start": 6,
            "bin_end": 21.7,
            "count": 1
           },
           {
            "bin_start": 21.7,
            "bin_end": 37.4,
            "count": 0
           },
           {
            "bin_start": 37.4,
            "bin_end": 53.099999999999994,
            "count": 2
           },
           {
            "bin_start": 53.099999999999994,
            "bin_end": 68.8,
            "count": 0
           },
           {
            "bin_start": 68.8,
            "bin_end": 84.5,
            "count": 1
           },
           {
            "bin_start": 84.5,
            "bin_end": 100.19999999999999,
            "count": 0
           },
           {
            "bin_start": 100.19999999999999,
            "bin_end": 115.89999999999999,
            "count": 0
           },
           {
            "bin_start": 115.89999999999999,
            "bin_end": 131.6,
            "count": 0
           },
           {
            "bin_start": 131.6,
            "bin_end": 147.29999999999998,
            "count": 0
           },
           {
            "bin_start": 147.29999999999998,
            "bin_end": 163,
            "count": 1
           }
          ]
         }
        },
        {
         "name": "rating",
         "dtype": "float64",
         "stats": {
          "unique_count": 3,
          "nan_count": 0,
          "min": "3.5",
          "max": "5.0",
          "histogram": [
           {
            "bin_start": 3.5,
            "bin_end": 3.65,
            "count": 1
           },
           {
            "bin_start": 3.65,
            "bin_end": 3.8,
            "count": 0
           },
           {
            "bin_start": 3.8,
            "bin_end": 3.95,
            "count": 0
           },
           {
            "bin_start": 3.95,
            "bin_end": 4.1,
            "count": 1
           },
           {
            "bin_start": 4.1,
            "bin_end": 4.25,
            "count": 0
           },
           {
            "bin_start": 4.25,
            "bin_end": 4.4,
            "count": 0
           },
           {
            "bin_start": 4.4,
            "bin_end": 4.55,
            "count": 0
           },
           {
            "bin_start": 4.55,
            "bin_end": 4.7,
            "count": 0
           },
           {
            "bin_start": 4.7,
            "bin_end": 4.85,
            "count": 0
           },
           {
            "bin_start": 4.85,
            "bin_end": 5,
            "count": 3
           }
          ]
         }
        },
        {
         "name": "title",
         "dtype": "object",
         "stats": {
          "unique_count": 5,
          "nan_count": 0,
          "categories": [
           {
            "name": "Heat",
            "count": 1
           },
           {
            "name": "Seven (a.k.a. Se7en)",
            "count": 1
           },
           {
            "name": "3 others",
            "count": 3
           }
          ]
         }
        },
        {
         "name": "genres",
         "dtype": "object",
         "stats": {
          "unique_count": 5,
          "nan_count": 0,
          "categories": [
           {
            "name": "Action|Crime|Thriller",
            "count": 1
           },
           {
            "name": "Mystery|Thriller",
            "count": 1
           },
           {
            "name": "3 others",
            "count": 3
           }
          ]
         }
        },
        {
         "name": "release_year",
         "dtype": "float64",
         "stats": {
          "unique_count": 2,
          "nan_count": 0,
          "min": "1995.0",
          "max": "1996.0",
          "histogram": [
           {
            "bin_start": 1995,
            "bin_end": 1995.1,
            "count": 4
           },
           {
            "bin_start": 1995.1,
            "bin_end": 1995.2,
            "count": 0
           },
           {
            "bin_start": 1995.2,
            "bin_end": 1995.3,
            "count": 0
           },
           {
            "bin_start": 1995.3,
            "bin_end": 1995.4,
            "count": 0
           },
           {
            "bin_start": 1995.4,
            "bin_end": 1995.5,
            "count": 0
           },
           {
            "bin_start": 1995.5,
            "bin_end": 1995.6,
            "count": 0
           },
           {
            "bin_start": 1995.6,
            "bin_end": 1995.7,
            "count": 0
           },
           {
            "bin_start": 1995.7,
            "bin_end": 1995.8,
            "count": 0
           },
           {
            "bin_start": 1995.8,
            "bin_end": 1995.9,
            "count": 0
           },
           {
            "bin_start": 1995.9,
            "bin_end": 1996,
            "count": 1
           }
          ]
         }
        },
        {
         "name": "_deepnote_index_column",
         "dtype": "int64"
        }
       ],
       "rows": [
        {
         "userId": 305,
         "movieId": 6,
         "rating": 3.5,
         "title": "Heat",
         "genres": "Action|Crime|Thriller",
         "release_year": 1995,
         "_deepnote_index_column": 314
        },
        {
         "userId": 305,
         "movieId": 47,
         "rating": 4,
         "title": "Seven (a.k.a. Se7en)",
         "genres": "Mystery|Thriller",
         "release_year": 1995,
         "_deepnote_index_column": 472
        },
        {
         "userId": 305,
         "movieId": 50,
         "rating": 5,
         "title": "Usual Suspects, The",
         "genres": "Crime|Mystery|Thriller",
         "release_year": 1995,
         "_deepnote_index_column": 673
        },
        {
         "userId": 305,
         "movieId": 70,
         "rating": 5,
         "title": "From Dusk Till Dawn",
         "genres": "Action|Comedy|Horror|Thriller",
         "release_year": 1996,
         "_deepnote_index_column": 798
        },
        {
         "userId": 305,
         "movieId": 163,
         "rating": 5,
         "title": "Desperado",
         "genres": "Action|Romance|Western",
         "release_year": 1995,
         "_deepnote_index_column": 1179
        }
       ]
      },
      "text/plain": "      userId  movieId  rating                 title  \\\n314      305        6     3.5                  Heat   \n472      305       47     4.0  Seven (a.k.a. Se7en)   \n673      305       50     5.0   Usual Suspects, The   \n798      305       70     5.0   From Dusk Till Dawn   \n1179     305      163     5.0             Desperado   \n\n                             genres  release_year  \n314           Action|Crime|Thriller        1995.0  \n472                Mystery|Thriller        1995.0  \n673          Crime|Mystery|Thriller        1995.0  \n798   Action|Comedy|Horror|Thriller        1996.0  \n1179         Action|Romance|Western        1995.0  ",
      "text/html": "<div>\n<style scoped>\n    .dataframe tbody tr th:only-of-type {\n        vertical-align: middle;\n    }\n\n    .dataframe tbody tr th {\n        vertical-align: top;\n    }\n\n    .dataframe thead th {\n        text-align: right;\n    }\n</style>\n<table border=\"1\" class=\"dataframe\">\n  <thead>\n    <tr style=\"text-align: right;\">\n      <th></th>\n      <th>userId</th>\n      <th>movieId</th>\n      <th>rating</th>\n      <th>title</th>\n      <th>genres</th>\n      <th>release_year</th>\n    </tr>\n  </thead>\n  <tbody>\n    <tr>\n      <th>314</th>\n      <td>305</td>\n      <td>6</td>\n      <td>3.5</td>\n      <td>Heat</td>\n      <td>Action|Crime|Thriller</td>\n      <td>1995.0</td>\n    </tr>\n    <tr>\n      <th>472</th>\n      <td>305</td>\n      <td>47</td>\n      <td>4.0</td>\n      <td>Seven (a.k.a. Se7en)</td>\n      <td>Mystery|Thriller</td>\n      <td>1995.0</td>\n    </tr>\n    <tr>\n      <th>673</th>\n      <td>305</td>\n      <td>50</td>\n      <td>5.0</td>\n      <td>Usual Suspects, The</td>\n      <td>Crime|Mystery|Thriller</td>\n      <td>1995.0</td>\n    </tr>\n    <tr>\n      <th>798</th>\n      <td>305</td>\n      <td>70</td>\n      <td>5.0</td>\n      <td>From Dusk Till Dawn</td>\n      <td>Action|Comedy|Horror|Thriller</td>\n      <td>1996.0</td>\n    </tr>\n    <tr>\n      <th>1179</th>\n      <td>305</td>\n      <td>163</td>\n      <td>5.0</td>\n      <td>Desperado</td>\n      <td>Action|Romance|Western</td>\n      <td>1995.0</td>\n    </tr>\n  </tbody>\n</table>\n</div>"
     },
     "metadata": {}
    }
   ]
  },
  {
   "cell_type": "code",
   "metadata": {
    "cell_id": "d30419a290784c418ac56dcd0966a9b2",
    "tags": [],
    "deepnote_to_be_reexecuted": false,
    "source_hash": "635e139e",
    "execution_start": 1658154907857,
    "execution_millis": 3,
    "deepnote_cell_type": "code",
    "deepnote_cell_height": 430
   },
   "source": "df_448 = df_movies[df_movies['userId']==448]\ndf_448.head()",
   "execution_count": 42,
   "outputs": [
    {
     "output_type": "execute_result",
     "execution_count": 42,
     "data": {
      "application/vnd.deepnote.dataframe.v3+json": {
       "column_count": 6,
       "row_count": 5,
       "columns": [
        {
         "name": "userId",
         "dtype": "int64",
         "stats": {
          "unique_count": 1,
          "nan_count": 0,
          "min": "448",
          "max": "448",
          "histogram": [
           {
            "bin_start": 447.5,
            "bin_end": 447.6,
            "count": 0
           },
           {
            "bin_start": 447.6,
            "bin_end": 447.7,
            "count": 0
           },
           {
            "bin_start": 447.7,
            "bin_end": 447.8,
            "count": 0
           },
           {
            "bin_start": 447.8,
            "bin_end": 447.9,
            "count": 0
           },
           {
            "bin_start": 447.9,
            "bin_end": 448,
            "count": 0
           },
           {
            "bin_start": 448,
            "bin_end": 448.1,
            "count": 5
           },
           {
            "bin_start": 448.1,
            "bin_end": 448.2,
            "count": 0
           },
           {
            "bin_start": 448.2,
            "bin_end": 448.3,
            "count": 0
           },
           {
            "bin_start": 448.3,
            "bin_end": 448.4,
            "count": 0
           },
           {
            "bin_start": 448.4,
            "bin_end": 448.5,
            "count": 0
           }
          ]
         }
        },
        {
         "name": "movieId",
         "dtype": "int64",
         "stats": {
          "unique_count": 5,
          "nan_count": 0,
          "min": "1",
          "max": "101",
          "histogram": [
           {
            "bin_start": 1,
            "bin_end": 11,
            "count": 2
           },
           {
            "bin_start": 11,
            "bin_end": 21,
            "count": 0
           },
           {
            "bin_start": 21,
            "bin_end": 31,
            "count": 0
           },
           {
            "bin_start": 31,
            "bin_end": 41,
            "count": 0
           },
           {
            "bin_start": 41,
            "bin_end": 51,
            "count": 2
           },
           {
            "bin_start": 51,
            "bin_end": 61,
            "count": 0
           },
           {
            "bin_start": 61,
            "bin_end": 71,
            "count": 0
           },
           {
            "bin_start": 71,
            "bin_end": 81,
            "count": 0
           },
           {
            "bin_start": 81,
            "bin_end": 91,
            "count": 0
           },
           {
            "bin_start": 91,
            "bin_end": 101,
            "count": 1
           }
          ]
         }
        },
        {
         "name": "rating",
         "dtype": "float64",
         "stats": {
          "unique_count": 4,
          "nan_count": 0,
          "min": "3.0",
          "max": "5.0",
          "histogram": [
           {
            "bin_start": 3,
            "bin_end": 3.2,
            "count": 1
           },
           {
            "bin_start": 3.2,
            "bin_end": 3.4,
            "count": 0
           },
           {
            "bin_start": 3.4,
            "bin_end": 3.6,
            "count": 1
           },
           {
            "bin_start": 3.6,
            "bin_end": 3.8,
            "count": 0
           },
           {
            "bin_start": 3.8,
            "bin_end": 4,
            "count": 0
           },
           {
            "bin_start": 4,
            "bin_end": 4.2,
            "count": 2
           },
           {
            "bin_start": 4.2,
            "bin_end": 4.4,
            "count": 0
           },
           {
            "bin_start": 4.4,
            "bin_end": 4.6,
            "count": 0
           },
           {
            "bin_start": 4.6,
            "bin_end": 4.8,
            "count": 0
           },
           {
            "bin_start": 4.8,
            "bin_end": 5,
            "count": 1
           }
          ]
         }
        },
        {
         "name": "title",
         "dtype": "object",
         "stats": {
          "unique_count": 5,
          "nan_count": 0,
          "categories": [
           {
            "name": "Toy Story",
            "count": 1
           },
           {
            "name": "Grumpier Old Men",
            "count": 1
           },
           {
            "name": "3 others",
            "count": 3
           }
          ]
         }
        },
        {
         "name": "genres",
         "dtype": "object",
         "stats": {
          "unique_count": 5,
          "nan_count": 0,
          "categories": [
           {
            "name": "Adventure|Animation|Children|Comedy|Fantasy",
            "count": 1
           },
           {
            "name": "Comedy|Romance",
            "count": 1
           },
           {
            "name": "3 others",
            "count": 3
           }
          ]
         }
        },
        {
         "name": "release_year",
         "dtype": "float64",
         "stats": {
          "unique_count": 2,
          "nan_count": 0,
          "min": "1995.0",
          "max": "1996.0",
          "histogram": [
           {
            "bin_start": 1995,
            "bin_end": 1995.1,
            "count": 4
           },
           {
            "bin_start": 1995.1,
            "bin_end": 1995.2,
            "count": 0
           },
           {
            "bin_start": 1995.2,
            "bin_end": 1995.3,
            "count": 0
           },
           {
            "bin_start": 1995.3,
            "bin_end": 1995.4,
            "count": 0
           },
           {
            "bin_start": 1995.4,
            "bin_end": 1995.5,
            "count": 0
           },
           {
            "bin_start": 1995.5,
            "bin_end": 1995.6,
            "count": 0
           },
           {
            "bin_start": 1995.6,
            "bin_end": 1995.7,
            "count": 0
           },
           {
            "bin_start": 1995.7,
            "bin_end": 1995.8,
            "count": 0
           },
           {
            "bin_start": 1995.8,
            "bin_end": 1995.9,
            "count": 0
           },
           {
            "bin_start": 1995.9,
            "bin_end": 1996,
            "count": 1
           }
          ]
         }
        },
        {
         "name": "_deepnote_index_column",
         "dtype": "int64"
        }
       ],
       "rows": [
        {
         "userId": 448,
         "movieId": 1,
         "rating": 5,
         "title": "Toy Story",
         "genres": "Adventure|Animation|Children|Comedy|Fantasy",
         "release_year": 1995,
         "_deepnote_index_column": 154
        },
        {
         "userId": 448,
         "movieId": 3,
         "rating": 3,
         "title": "Grumpier Old Men",
         "genres": "Comedy|Romance",
         "release_year": 1995,
         "_deepnote_index_column": 252
        },
        {
         "userId": 448,
         "movieId": 47,
         "rating": 4,
         "title": "Seven (a.k.a. Se7en)",
         "genres": "Mystery|Thriller",
         "release_year": 1995,
         "_deepnote_index_column": 526
        },
        {
         "userId": 448,
         "movieId": 50,
         "rating": 4,
         "title": "Usual Suspects, The",
         "genres": "Crime|Mystery|Thriller",
         "release_year": 1995,
         "_deepnote_index_column": 729
        },
        {
         "userId": 448,
         "movieId": 101,
         "rating": 3.5,
         "title": "Bottle Rocket",
         "genres": "Adventure|Comedy|Crime|Romance",
         "release_year": 1996,
         "_deepnote_index_column": 843
        }
       ]
      },
      "text/plain": "     userId  movieId  rating                 title  \\\n154     448        1     5.0             Toy Story   \n252     448        3     3.0      Grumpier Old Men   \n526     448       47     4.0  Seven (a.k.a. Se7en)   \n729     448       50     4.0   Usual Suspects, The   \n843     448      101     3.5         Bottle Rocket   \n\n                                          genres  release_year  \n154  Adventure|Animation|Children|Comedy|Fantasy        1995.0  \n252                               Comedy|Romance        1995.0  \n526                             Mystery|Thriller        1995.0  \n729                       Crime|Mystery|Thriller        1995.0  \n843               Adventure|Comedy|Crime|Romance        1996.0  ",
      "text/html": "<div>\n<style scoped>\n    .dataframe tbody tr th:only-of-type {\n        vertical-align: middle;\n    }\n\n    .dataframe tbody tr th {\n        vertical-align: top;\n    }\n\n    .dataframe thead th {\n        text-align: right;\n    }\n</style>\n<table border=\"1\" class=\"dataframe\">\n  <thead>\n    <tr style=\"text-align: right;\">\n      <th></th>\n      <th>userId</th>\n      <th>movieId</th>\n      <th>rating</th>\n      <th>title</th>\n      <th>genres</th>\n      <th>release_year</th>\n    </tr>\n  </thead>\n  <tbody>\n    <tr>\n      <th>154</th>\n      <td>448</td>\n      <td>1</td>\n      <td>5.0</td>\n      <td>Toy Story</td>\n      <td>Adventure|Animation|Children|Comedy|Fantasy</td>\n      <td>1995.0</td>\n    </tr>\n    <tr>\n      <th>252</th>\n      <td>448</td>\n      <td>3</td>\n      <td>3.0</td>\n      <td>Grumpier Old Men</td>\n      <td>Comedy|Romance</td>\n      <td>1995.0</td>\n    </tr>\n    <tr>\n      <th>526</th>\n      <td>448</td>\n      <td>47</td>\n      <td>4.0</td>\n      <td>Seven (a.k.a. Se7en)</td>\n      <td>Mystery|Thriller</td>\n      <td>1995.0</td>\n    </tr>\n    <tr>\n      <th>729</th>\n      <td>448</td>\n      <td>50</td>\n      <td>4.0</td>\n      <td>Usual Suspects, The</td>\n      <td>Crime|Mystery|Thriller</td>\n      <td>1995.0</td>\n    </tr>\n    <tr>\n      <th>843</th>\n      <td>448</td>\n      <td>101</td>\n      <td>3.5</td>\n      <td>Bottle Rocket</td>\n      <td>Adventure|Comedy|Crime|Romance</td>\n      <td>1996.0</td>\n    </tr>\n  </tbody>\n</table>\n</div>"
     },
     "metadata": {}
    }
   ]
  },
  {
   "cell_type": "code",
   "metadata": {
    "cell_id": "6915bf67510645c89a608dbc683c575a",
    "tags": [],
    "deepnote_to_be_reexecuted": false,
    "source_hash": "2dd8c8dc",
    "execution_start": 1658154912939,
    "execution_millis": 138,
    "deepnote_cell_type": "code",
    "deepnote_cell_height": 430
   },
   "source": "df_249 = df_movies[df_movies['userId']==249]\ndf_249.head()",
   "execution_count": 43,
   "outputs": [
    {
     "output_type": "execute_result",
     "execution_count": 43,
     "data": {
      "application/vnd.deepnote.dataframe.v3+json": {
       "column_count": 6,
       "row_count": 5,
       "columns": [
        {
         "name": "userId",
         "dtype": "int64",
         "stats": {
          "unique_count": 1,
          "nan_count": 0,
          "min": "249",
          "max": "249",
          "histogram": [
           {
            "bin_start": 248.5,
            "bin_end": 248.6,
            "count": 0
           },
           {
            "bin_start": 248.6,
            "bin_end": 248.7,
            "count": 0
           },
           {
            "bin_start": 248.7,
            "bin_end": 248.8,
            "count": 0
           },
           {
            "bin_start": 248.8,
            "bin_end": 248.9,
            "count": 0
           },
           {
            "bin_start": 248.9,
            "bin_end": 249,
            "count": 0
           },
           {
            "bin_start": 249,
            "bin_end": 249.1,
            "count": 5
           },
           {
            "bin_start": 249.1,
            "bin_end": 249.2,
            "count": 0
           },
           {
            "bin_start": 249.2,
            "bin_end": 249.3,
            "count": 0
           },
           {
            "bin_start": 249.3,
            "bin_end": 249.4,
            "count": 0
           },
           {
            "bin_start": 249.4,
            "bin_end": 249.5,
            "count": 0
           }
          ]
         }
        },
        {
         "name": "movieId",
         "dtype": "int64",
         "stats": {
          "unique_count": 5,
          "nan_count": 0,
          "min": "1",
          "max": "101",
          "histogram": [
           {
            "bin_start": 1,
            "bin_end": 11,
            "count": 1
           },
           {
            "bin_start": 11,
            "bin_end": 21,
            "count": 0
           },
           {
            "bin_start": 21,
            "bin_end": 31,
            "count": 0
           },
           {
            "bin_start": 31,
            "bin_end": 41,
            "count": 0
           },
           {
            "bin_start": 41,
            "bin_end": 51,
            "count": 2
           },
           {
            "bin_start": 51,
            "bin_end": 61,
            "count": 0
           },
           {
            "bin_start": 61,
            "bin_end": 71,
            "count": 1
           },
           {
            "bin_start": 71,
            "bin_end": 81,
            "count": 0
           },
           {
            "bin_start": 81,
            "bin_end": 91,
            "count": 0
           },
           {
            "bin_start": 91,
            "bin_end": 101,
            "count": 1
           }
          ]
         }
        },
        {
         "name": "rating",
         "dtype": "float64",
         "stats": {
          "unique_count": 3,
          "nan_count": 0,
          "min": "3.0",
          "max": "5.0",
          "histogram": [
           {
            "bin_start": 3,
            "bin_end": 3.2,
            "count": 1
           },
           {
            "bin_start": 3.2,
            "bin_end": 3.4,
            "count": 0
           },
           {
            "bin_start": 3.4,
            "bin_end": 3.6,
            "count": 0
           },
           {
            "bin_start": 3.6,
            "bin_end": 3.8,
            "count": 0
           },
           {
            "bin_start": 3.8,
            "bin_end": 4,
            "count": 0
           },
           {
            "bin_start": 4,
            "bin_end": 4.2,
            "count": 3
           },
           {
            "bin_start": 4.2,
            "bin_end": 4.4,
            "count": 0
           },
           {
            "bin_start": 4.4,
            "bin_end": 4.6,
            "count": 0
           },
           {
            "bin_start": 4.6,
            "bin_end": 4.8,
            "count": 0
           },
           {
            "bin_start": 4.8,
            "bin_end": 5,
            "count": 1
           }
          ]
         }
        },
        {
         "name": "title",
         "dtype": "object",
         "stats": {
          "unique_count": 5,
          "nan_count": 0,
          "categories": [
           {
            "name": "Toy Story",
            "count": 1
           },
           {
            "name": "Seven (a.k.a. Se7en)",
            "count": 1
           },
           {
            "name": "3 others",
            "count": 3
           }
          ]
         }
        },
        {
         "name": "genres",
         "dtype": "object",
         "stats": {
          "unique_count": 5,
          "nan_count": 0,
          "categories": [
           {
            "name": "Adventure|Animation|Children|Comedy|Fantasy",
            "count": 1
           },
           {
            "name": "Mystery|Thriller",
            "count": 1
           },
           {
            "name": "3 others",
            "count": 3
           }
          ]
         }
        },
        {
         "name": "release_year",
         "dtype": "float64",
         "stats": {
          "unique_count": 2,
          "nan_count": 0,
          "min": "1995.0",
          "max": "1996.0",
          "histogram": [
           {
            "bin_start": 1995,
            "bin_end": 1995.1,
            "count": 3
           },
           {
            "bin_start": 1995.1,
            "bin_end": 1995.2,
            "count": 0
           },
           {
            "bin_start": 1995.2,
            "bin_end": 1995.3,
            "count": 0
           },
           {
            "bin_start": 1995.3,
            "bin_end": 1995.4,
            "count": 0
           },
           {
            "bin_start": 1995.4,
            "bin_end": 1995.5,
            "count": 0
           },
           {
            "bin_start": 1995.5,
            "bin_end": 1995.6,
            "count": 0
           },
           {
            "bin_start": 1995.6,
            "bin_end": 1995.7,
            "count": 0
           },
           {
            "bin_start": 1995.7,
            "bin_end": 1995.8,
            "count": 0
           },
           {
            "bin_start": 1995.8,
            "bin_end": 1995.9,
            "count": 0
           },
           {
            "bin_start": 1995.9,
            "bin_end": 1996,
            "count": 2
           }
          ]
         }
        },
        {
         "name": "_deepnote_index_column",
         "dtype": "int64"
        }
       ],
       "rows": [
        {
         "userId": 249,
         "movieId": 1,
         "rating": 4,
         "title": "Toy Story",
         "genres": "Adventure|Animation|Children|Comedy|Fantasy",
         "release_year": 1995,
         "_deepnote_index_column": 89
        },
        {
         "userId": 249,
         "movieId": 47,
         "rating": 5,
         "title": "Seven (a.k.a. Se7en)",
         "genres": "Mystery|Thriller",
         "release_year": 1995,
         "_deepnote_index_column": 457
        },
        {
         "userId": 249,
         "movieId": 50,
         "rating": 4,
         "title": "Usual Suspects, The",
         "genres": "Crime|Mystery|Thriller",
         "release_year": 1995,
         "_deepnote_index_column": 652
        },
        {
         "userId": 249,
         "movieId": 70,
         "rating": 4,
         "title": "From Dusk Till Dawn",
         "genres": "Action|Comedy|Horror|Thriller",
         "release_year": 1996,
         "_deepnote_index_column": 791
        },
        {
         "userId": 249,
         "movieId": 101,
         "rating": 3,
         "title": "Bottle Rocket",
         "genres": "Adventure|Comedy|Crime|Romance",
         "release_year": 1996,
         "_deepnote_index_column": 834
        }
       ]
      },
      "text/plain": "     userId  movieId  rating                 title  \\\n89      249        1     4.0             Toy Story   \n457     249       47     5.0  Seven (a.k.a. Se7en)   \n652     249       50     4.0   Usual Suspects, The   \n791     249       70     4.0   From Dusk Till Dawn   \n834     249      101     3.0         Bottle Rocket   \n\n                                          genres  release_year  \n89   Adventure|Animation|Children|Comedy|Fantasy        1995.0  \n457                             Mystery|Thriller        1995.0  \n652                       Crime|Mystery|Thriller        1995.0  \n791                Action|Comedy|Horror|Thriller        1996.0  \n834               Adventure|Comedy|Crime|Romance        1996.0  ",
      "text/html": "<div>\n<style scoped>\n    .dataframe tbody tr th:only-of-type {\n        vertical-align: middle;\n    }\n\n    .dataframe tbody tr th {\n        vertical-align: top;\n    }\n\n    .dataframe thead th {\n        text-align: right;\n    }\n</style>\n<table border=\"1\" class=\"dataframe\">\n  <thead>\n    <tr style=\"text-align: right;\">\n      <th></th>\n      <th>userId</th>\n      <th>movieId</th>\n      <th>rating</th>\n      <th>title</th>\n      <th>genres</th>\n      <th>release_year</th>\n    </tr>\n  </thead>\n  <tbody>\n    <tr>\n      <th>89</th>\n      <td>249</td>\n      <td>1</td>\n      <td>4.0</td>\n      <td>Toy Story</td>\n      <td>Adventure|Animation|Children|Comedy|Fantasy</td>\n      <td>1995.0</td>\n    </tr>\n    <tr>\n      <th>457</th>\n      <td>249</td>\n      <td>47</td>\n      <td>5.0</td>\n      <td>Seven (a.k.a. Se7en)</td>\n      <td>Mystery|Thriller</td>\n      <td>1995.0</td>\n    </tr>\n    <tr>\n      <th>652</th>\n      <td>249</td>\n      <td>50</td>\n      <td>4.0</td>\n      <td>Usual Suspects, The</td>\n      <td>Crime|Mystery|Thriller</td>\n      <td>1995.0</td>\n    </tr>\n    <tr>\n      <th>791</th>\n      <td>249</td>\n      <td>70</td>\n      <td>4.0</td>\n      <td>From Dusk Till Dawn</td>\n      <td>Action|Comedy|Horror|Thriller</td>\n      <td>1996.0</td>\n    </tr>\n    <tr>\n      <th>834</th>\n      <td>249</td>\n      <td>101</td>\n      <td>3.0</td>\n      <td>Bottle Rocket</td>\n      <td>Adventure|Comedy|Crime|Romance</td>\n      <td>1996.0</td>\n    </tr>\n  </tbody>\n</table>\n</div>"
     },
     "metadata": {}
    }
   ]
  },
  {
   "cell_type": "code",
   "metadata": {
    "cell_id": "834307f0e11b4bffbd47be6415671e22",
    "tags": [],
    "deepnote_to_be_reexecuted": false,
    "source_hash": "e754ff49",
    "execution_start": 1658154924353,
    "execution_millis": 28,
    "deepnote_cell_type": "code",
    "deepnote_cell_height": 430
   },
   "source": "df_119 = df_movies[df_movies['userId']==119]\ndf_119.head()",
   "execution_count": 44,
   "outputs": [
    {
     "output_type": "execute_result",
     "execution_count": 44,
     "data": {
      "application/vnd.deepnote.dataframe.v3+json": {
       "column_count": 6,
       "row_count": 5,
       "columns": [
        {
         "name": "userId",
         "dtype": "int64",
         "stats": {
          "unique_count": 1,
          "nan_count": 0,
          "min": "119",
          "max": "119",
          "histogram": [
           {
            "bin_start": 118.5,
            "bin_end": 118.6,
            "count": 0
           },
           {
            "bin_start": 118.6,
            "bin_end": 118.7,
            "count": 0
           },
           {
            "bin_start": 118.7,
            "bin_end": 118.8,
            "count": 0
           },
           {
            "bin_start": 118.8,
            "bin_end": 118.9,
            "count": 0
           },
           {
            "bin_start": 118.9,
            "bin_end": 119,
            "count": 0
           },
           {
            "bin_start": 119,
            "bin_end": 119.1,
            "count": 5
           },
           {
            "bin_start": 119.1,
            "bin_end": 119.2,
            "count": 0
           },
           {
            "bin_start": 119.2,
            "bin_end": 119.3,
            "count": 0
           },
           {
            "bin_start": 119.3,
            "bin_end": 119.4,
            "count": 0
           },
           {
            "bin_start": 119.4,
            "bin_end": 119.5,
            "count": 0
           }
          ]
         }
        },
        {
         "name": "movieId",
         "dtype": "int64",
         "stats": {
          "unique_count": 5,
          "nan_count": 0,
          "min": "1",
          "max": "1270",
          "histogram": [
           {
            "bin_start": 1,
            "bin_end": 127.9,
            "count": 1
           },
           {
            "bin_start": 127.9,
            "bin_end": 254.8,
            "count": 0
           },
           {
            "bin_start": 254.8,
            "bin_end": 381.70000000000005,
            "count": 2
           },
           {
            "bin_start": 381.70000000000005,
            "bin_end": 508.6,
            "count": 0
           },
           {
            "bin_start": 508.6,
            "bin_end": 635.5,
            "count": 0
           },
           {
            "bin_start": 635.5,
            "bin_end": 762.4000000000001,
            "count": 0
           },
           {
            "bin_start": 762.4000000000001,
            "bin_end": 889.3000000000001,
            "count": 0
           },
           {
            "bin_start": 889.3000000000001,
            "bin_end": 1016.2,
            "count": 0
           },
           {
            "bin_start": 1016.2,
            "bin_end": 1143.1000000000001,
            "count": 1
           },
           {
            "bin_start": 1143.1000000000001,
            "bin_end": 1270,
            "count": 1
           }
          ]
         }
        },
        {
         "name": "rating",
         "dtype": "float64",
         "stats": {
          "unique_count": 2,
          "nan_count": 0,
          "min": "3.5",
          "max": "4.0",
          "histogram": [
           {
            "bin_start": 3.5,
            "bin_end": 3.55,
            "count": 1
           },
           {
            "bin_start": 3.55,
            "bin_end": 3.6,
            "count": 0
           },
           {
            "bin_start": 3.6,
            "bin_end": 3.65,
            "count": 0
           },
           {
            "bin_start": 3.65,
            "bin_end": 3.7,
            "count": 0
           },
           {
            "bin_start": 3.7,
            "bin_end": 3.75,
            "count": 0
           },
           {
            "bin_start": 3.75,
            "bin_end": 3.8,
            "count": 0
           },
           {
            "bin_start": 3.8,
            "bin_end": 3.85,
            "count": 0
           },
           {
            "bin_start": 3.85,
            "bin_end": 3.9,
            "count": 0
           },
           {
            "bin_start": 3.9,
            "bin_end": 3.95,
            "count": 0
           },
           {
            "bin_start": 3.95,
            "bin_end": 4,
            "count": 4
           }
          ]
         }
        },
        {
         "name": "title",
         "dtype": "object",
         "stats": {
          "unique_count": 5,
          "nan_count": 0,
          "categories": [
           {
            "name": "Toy Story",
            "count": 1
           },
           {
            "name": "Pulp Fiction",
            "count": 1
           },
           {
            "name": "3 others",
            "count": 3
           }
          ]
         }
        },
        {
         "name": "genres",
         "dtype": "object",
         "stats": {
          "unique_count": 5,
          "nan_count": 0,
          "categories": [
           {
            "name": "Adventure|Animation|Children|Comedy|Fantasy",
            "count": 1
           },
           {
            "name": "Comedy|Crime|Drama|Thriller",
            "count": 1
           },
           {
            "name": "3 others",
            "count": 3
           }
          ]
         }
        },
        {
         "name": "release_year",
         "dtype": "float64",
         "stats": {
          "unique_count": 4,
          "nan_count": 0,
          "min": "1985.0",
          "max": "1995.0",
          "histogram": [
           {
            "bin_start": 1985,
            "bin_end": 1986,
            "count": 1
           },
           {
            "bin_start": 1986,
            "bin_end": 1987,
            "count": 0
           },
           {
            "bin_start": 1987,
            "bin_end": 1988,
            "count": 0
           },
           {
            "bin_start": 1988,
            "bin_end": 1989,
            "count": 0
           },
           {
            "bin_start": 1989,
            "bin_end": 1990,
            "count": 0
           },
           {
            "bin_start": 1990,
            "bin_end": 1991,
            "count": 0
           },
           {
            "bin_start": 1991,
            "bin_end": 1992,
            "count": 0
           },
           {
            "bin_start": 1992,
            "bin_end": 1993,
            "count": 1
           },
           {
            "bin_start": 1993,
            "bin_end": 1994,
            "count": 0
           },
           {
            "bin_start": 1994,
            "bin_end": 1995,
            "count": 3
           }
          ]
         }
        },
        {
         "name": "_deepnote_index_column",
         "dtype": "int64"
        }
       ],
       "rows": [
        {
         "userId": 119,
         "movieId": 1,
         "rating": 3.5,
         "title": "Toy Story",
         "genres": "Adventure|Animation|Children|Comedy|Fantasy",
         "release_year": 1995,
         "_deepnote_index_column": 39
        },
        {
         "userId": 119,
         "movieId": 296,
         "rating": 4,
         "title": "Pulp Fiction",
         "genres": "Comedy|Crime|Drama|Thriller",
         "release_year": 1994,
         "_deepnote_index_column": 1878
        },
        {
         "userId": 119,
         "movieId": 356,
         "rating": 4,
         "title": "Forrest Gump",
         "genres": "Comedy|Drama|Romance|War",
         "release_year": 1994,
         "_deepnote_index_column": 2493
        },
        {
         "userId": 119,
         "movieId": 1092,
         "rating": 4,
         "title": "Basic Instinct",
         "genres": "Crime|Mystery|Thriller",
         "release_year": 1992,
         "_deepnote_index_column": 6418
        },
        {
         "userId": 119,
         "movieId": 1270,
         "rating": 4,
         "title": "Back to the Future",
         "genres": "Adventure|Comedy|Sci-Fi",
         "release_year": 1985,
         "_deepnote_index_column": 8760
        }
       ]
      },
      "text/plain": "      userId  movieId  rating               title  \\\n39       119        1     3.5           Toy Story   \n1878     119      296     4.0        Pulp Fiction   \n2493     119      356     4.0        Forrest Gump   \n6418     119     1092     4.0      Basic Instinct   \n8760     119     1270     4.0  Back to the Future   \n\n                                           genres  release_year  \n39    Adventure|Animation|Children|Comedy|Fantasy        1995.0  \n1878                  Comedy|Crime|Drama|Thriller        1994.0  \n2493                     Comedy|Drama|Romance|War        1994.0  \n6418                       Crime|Mystery|Thriller        1992.0  \n8760                      Adventure|Comedy|Sci-Fi        1985.0  ",
      "text/html": "<div>\n<style scoped>\n    .dataframe tbody tr th:only-of-type {\n        vertical-align: middle;\n    }\n\n    .dataframe tbody tr th {\n        vertical-align: top;\n    }\n\n    .dataframe thead th {\n        text-align: right;\n    }\n</style>\n<table border=\"1\" class=\"dataframe\">\n  <thead>\n    <tr style=\"text-align: right;\">\n      <th></th>\n      <th>userId</th>\n      <th>movieId</th>\n      <th>rating</th>\n      <th>title</th>\n      <th>genres</th>\n      <th>release_year</th>\n    </tr>\n  </thead>\n  <tbody>\n    <tr>\n      <th>39</th>\n      <td>119</td>\n      <td>1</td>\n      <td>3.5</td>\n      <td>Toy Story</td>\n      <td>Adventure|Animation|Children|Comedy|Fantasy</td>\n      <td>1995.0</td>\n    </tr>\n    <tr>\n      <th>1878</th>\n      <td>119</td>\n      <td>296</td>\n      <td>4.0</td>\n      <td>Pulp Fiction</td>\n      <td>Comedy|Crime|Drama|Thriller</td>\n      <td>1994.0</td>\n    </tr>\n    <tr>\n      <th>2493</th>\n      <td>119</td>\n      <td>356</td>\n      <td>4.0</td>\n      <td>Forrest Gump</td>\n      <td>Comedy|Drama|Romance|War</td>\n      <td>1994.0</td>\n    </tr>\n    <tr>\n      <th>6418</th>\n      <td>119</td>\n      <td>1092</td>\n      <td>4.0</td>\n      <td>Basic Instinct</td>\n      <td>Crime|Mystery|Thriller</td>\n      <td>1992.0</td>\n    </tr>\n    <tr>\n      <th>8760</th>\n      <td>119</td>\n      <td>1270</td>\n      <td>4.0</td>\n      <td>Back to the Future</td>\n      <td>Adventure|Comedy|Sci-Fi</td>\n      <td>1985.0</td>\n    </tr>\n  </tbody>\n</table>\n</div>"
     },
     "metadata": {}
    }
   ]
  },
  {
   "cell_type": "code",
   "metadata": {
    "cell_id": "5e5e30469aea4cbd804c7268576f2dc0",
    "tags": [],
    "deepnote_to_be_reexecuted": false,
    "source_hash": "65aa08bc",
    "execution_start": 1658154931259,
    "execution_millis": 17,
    "deepnote_cell_type": "code",
    "deepnote_cell_height": 99
   },
   "source": "#Concatenating of all extracted user id data into a single datframe.\ndf_new= pd.concat([df_18,df_305,df_448,df_249,df_119])",
   "execution_count": 45,
   "outputs": []
  },
  {
   "cell_type": "code",
   "metadata": {
    "cell_id": "ed074e314b6949d4bc2679ad8c77984d",
    "tags": [],
    "deepnote_to_be_reexecuted": false,
    "source_hash": "ebf47260",
    "execution_start": 1658154936276,
    "execution_millis": 34,
    "deepnote_cell_type": "code",
    "deepnote_cell_height": 412
   },
   "source": "df_new.head()",
   "execution_count": 46,
   "outputs": [
    {
     "output_type": "execute_result",
     "execution_count": 46,
     "data": {
      "application/vnd.deepnote.dataframe.v3+json": {
       "column_count": 6,
       "row_count": 5,
       "columns": [
        {
         "name": "userId",
         "dtype": "int64",
         "stats": {
          "unique_count": 1,
          "nan_count": 0,
          "min": "18",
          "max": "18",
          "histogram": [
           {
            "bin_start": 17.5,
            "bin_end": 17.6,
            "count": 0
           },
           {
            "bin_start": 17.6,
            "bin_end": 17.7,
            "count": 0
           },
           {
            "bin_start": 17.7,
            "bin_end": 17.8,
            "count": 0
           },
           {
            "bin_start": 17.8,
            "bin_end": 17.9,
            "count": 0
           },
           {
            "bin_start": 17.9,
            "bin_end": 18,
            "count": 0
           },
           {
            "bin_start": 18,
            "bin_end": 18.1,
            "count": 5
           },
           {
            "bin_start": 18.1,
            "bin_end": 18.2,
            "count": 0
           },
           {
            "bin_start": 18.2,
            "bin_end": 18.3,
            "count": 0
           },
           {
            "bin_start": 18.3,
            "bin_end": 18.4,
            "count": 0
           },
           {
            "bin_start": 18.4,
            "bin_end": 18.5,
            "count": 0
           }
          ]
         }
        },
        {
         "name": "movieId",
         "dtype": "int64",
         "stats": {
          "unique_count": 5,
          "nan_count": 0,
          "min": "1",
          "max": "70",
          "histogram": [
           {
            "bin_start": 1,
            "bin_end": 7.9,
            "count": 2
           },
           {
            "bin_start": 7.9,
            "bin_end": 14.8,
            "count": 0
           },
           {
            "bin_start": 14.8,
            "bin_end": 21.700000000000003,
            "count": 0
           },
           {
            "bin_start": 21.700000000000003,
            "bin_end": 28.6,
            "count": 0
           },
           {
            "bin_start": 28.6,
            "bin_end": 35.5,
            "count": 0
           },
           {
            "bin_start": 35.5,
            "bin_end": 42.400000000000006,
            "count": 0
           },
           {
            "bin_start": 42.400000000000006,
            "bin_end": 49.300000000000004,
            "count": 1
           },
           {
            "bin_start": 49.300000000000004,
            "bin_end": 56.2,
            "count": 1
           },
           {
            "bin_start": 56.2,
            "bin_end": 63.1,
            "count": 0
           },
           {
            "bin_start": 63.1,
            "bin_end": 70,
            "count": 1
           }
          ]
         }
        },
        {
         "name": "rating",
         "dtype": "float64",
         "stats": {
          "unique_count": 4,
          "nan_count": 0,
          "min": "3.5",
          "max": "5.0",
          "histogram": [
           {
            "bin_start": 3.5,
            "bin_end": 3.65,
            "count": 2
           },
           {
            "bin_start": 3.65,
            "bin_end": 3.8,
            "count": 0
           },
           {
            "bin_start": 3.8,
            "bin_end": 3.95,
            "count": 0
           },
           {
            "bin_start": 3.95,
            "bin_end": 4.1,
            "count": 1
           },
           {
            "bin_start": 4.1,
            "bin_end": 4.25,
            "count": 0
           },
           {
            "bin_start": 4.25,
            "bin_end": 4.4,
            "count": 0
           },
           {
            "bin_start": 4.4,
            "bin_end": 4.55,
            "count": 1
           },
           {
            "bin_start": 4.55,
            "bin_end": 4.7,
            "count": 0
           },
           {
            "bin_start": 4.7,
            "bin_end": 4.85,
            "count": 0
           },
           {
            "bin_start": 4.85,
            "bin_end": 5,
            "count": 1
           }
          ]
         }
        },
        {
         "name": "title",
         "dtype": "object",
         "stats": {
          "unique_count": 5,
          "nan_count": 0,
          "categories": [
           {
            "name": "Toy Story",
            "count": 1
           },
           {
            "name": "Heat",
            "count": 1
           },
           {
            "name": "3 others",
            "count": 3
           }
          ]
         }
        },
        {
         "name": "genres",
         "dtype": "object",
         "stats": {
          "unique_count": 5,
          "nan_count": 0,
          "categories": [
           {
            "name": "Adventure|Animation|Children|Comedy|Fantasy",
            "count": 1
           },
           {
            "name": "Action|Crime|Thriller",
            "count": 1
           },
           {
            "name": "3 others",
            "count": 3
           }
          ]
         }
        },
        {
         "name": "release_year",
         "dtype": "float64",
         "stats": {
          "unique_count": 2,
          "nan_count": 0,
          "min": "1995.0",
          "max": "1996.0",
          "histogram": [
           {
            "bin_start": 1995,
            "bin_end": 1995.1,
            "count": 4
           },
           {
            "bin_start": 1995.1,
            "bin_end": 1995.2,
            "count": 0
           },
           {
            "bin_start": 1995.2,
            "bin_end": 1995.3,
            "count": 0
           },
           {
            "bin_start": 1995.3,
            "bin_end": 1995.4,
            "count": 0
           },
           {
            "bin_start": 1995.4,
            "bin_end": 1995.5,
            "count": 0
           },
           {
            "bin_start": 1995.5,
            "bin_end": 1995.6,
            "count": 0
           },
           {
            "bin_start": 1995.6,
            "bin_end": 1995.7,
            "count": 0
           },
           {
            "bin_start": 1995.7,
            "bin_end": 1995.8,
            "count": 0
           },
           {
            "bin_start": 1995.8,
            "bin_end": 1995.9,
            "count": 0
           },
           {
            "bin_start": 1995.9,
            "bin_end": 1996,
            "count": 1
           }
          ]
         }
        },
        {
         "name": "_deepnote_index_column",
         "dtype": "int64"
        }
       ],
       "rows": [
        {
         "userId": 18,
         "movieId": 1,
         "rating": 3.5,
         "title": "Toy Story",
         "genres": "Adventure|Animation|Children|Comedy|Fantasy",
         "release_year": 1995,
         "_deepnote_index_column": 5
        },
        {
         "userId": 18,
         "movieId": 6,
         "rating": 4,
         "title": "Heat",
         "genres": "Action|Crime|Thriller",
         "release_year": 1995,
         "_deepnote_index_column": 270
        },
        {
         "userId": 18,
         "movieId": 47,
         "rating": 4.5,
         "title": "Seven (a.k.a. Se7en)",
         "genres": "Mystery|Thriller",
         "release_year": 1995,
         "_deepnote_index_column": 378
        },
        {
         "userId": 18,
         "movieId": 50,
         "rating": 5,
         "title": "Usual Suspects, The",
         "genres": "Crime|Mystery|Thriller",
         "release_year": 1995,
         "_deepnote_index_column": 579
        },
        {
         "userId": 18,
         "movieId": 70,
         "rating": 3.5,
         "title": "From Dusk Till Dawn",
         "genres": "Action|Comedy|Horror|Thriller",
         "release_year": 1996,
         "_deepnote_index_column": 777
        }
       ]
      },
      "text/plain": "     userId  movieId  rating                 title  \\\n5        18        1     3.5             Toy Story   \n270      18        6     4.0                  Heat   \n378      18       47     4.5  Seven (a.k.a. Se7en)   \n579      18       50     5.0   Usual Suspects, The   \n777      18       70     3.5   From Dusk Till Dawn   \n\n                                          genres  release_year  \n5    Adventure|Animation|Children|Comedy|Fantasy        1995.0  \n270                        Action|Crime|Thriller        1995.0  \n378                             Mystery|Thriller        1995.0  \n579                       Crime|Mystery|Thriller        1995.0  \n777                Action|Comedy|Horror|Thriller        1996.0  ",
      "text/html": "<div>\n<style scoped>\n    .dataframe tbody tr th:only-of-type {\n        vertical-align: middle;\n    }\n\n    .dataframe tbody tr th {\n        vertical-align: top;\n    }\n\n    .dataframe thead th {\n        text-align: right;\n    }\n</style>\n<table border=\"1\" class=\"dataframe\">\n  <thead>\n    <tr style=\"text-align: right;\">\n      <th></th>\n      <th>userId</th>\n      <th>movieId</th>\n      <th>rating</th>\n      <th>title</th>\n      <th>genres</th>\n      <th>release_year</th>\n    </tr>\n  </thead>\n  <tbody>\n    <tr>\n      <th>5</th>\n      <td>18</td>\n      <td>1</td>\n      <td>3.5</td>\n      <td>Toy Story</td>\n      <td>Adventure|Animation|Children|Comedy|Fantasy</td>\n      <td>1995.0</td>\n    </tr>\n    <tr>\n      <th>270</th>\n      <td>18</td>\n      <td>6</td>\n      <td>4.0</td>\n      <td>Heat</td>\n      <td>Action|Crime|Thriller</td>\n      <td>1995.0</td>\n    </tr>\n    <tr>\n      <th>378</th>\n      <td>18</td>\n      <td>47</td>\n      <td>4.5</td>\n      <td>Seven (a.k.a. Se7en)</td>\n      <td>Mystery|Thriller</td>\n      <td>1995.0</td>\n    </tr>\n    <tr>\n      <th>579</th>\n      <td>18</td>\n      <td>50</td>\n      <td>5.0</td>\n      <td>Usual Suspects, The</td>\n      <td>Crime|Mystery|Thriller</td>\n      <td>1995.0</td>\n    </tr>\n    <tr>\n      <th>777</th>\n      <td>18</td>\n      <td>70</td>\n      <td>3.5</td>\n      <td>From Dusk Till Dawn</td>\n      <td>Action|Comedy|Horror|Thriller</td>\n      <td>1996.0</td>\n    </tr>\n  </tbody>\n</table>\n</div>"
     },
     "metadata": {}
    }
   ]
  },
  {
   "cell_type": "code",
   "metadata": {
    "cell_id": "c534767ba2a64d4ab33ac40b680c7dcc",
    "tags": [],
    "deepnote_to_be_reexecuted": false,
    "source_hash": "c976003b",
    "execution_start": 1658154940938,
    "execution_millis": 399,
    "deepnote_cell_type": "code",
    "deepnote_cell_height": 348.03125
   },
   "source": "df_new.info()",
   "execution_count": 47,
   "outputs": [
    {
     "name": "stdout",
     "text": "<class 'pandas.core.frame.DataFrame'>\nInt64Index: 4302 entries, 5 to 89779\nData columns (total 6 columns):\n #   Column        Non-Null Count  Dtype  \n---  ------        --------------  -----  \n 0   userId        4302 non-null   int64  \n 1   movieId       4302 non-null   int64  \n 2   rating        4302 non-null   float64\n 3   title         4302 non-null   object \n 4   genres        4302 non-null   object \n 5   release_year  4302 non-null   float64\ndtypes: float64(2), int64(2), object(2)\nmemory usage: 235.3+ KB\n",
     "output_type": "stream"
    }
   ]
  },
  {
   "cell_type": "code",
   "metadata": {
    "cell_id": "6ab40d42ad1e4f37869faf0bb039b523",
    "tags": [],
    "deepnote_to_be_reexecuted": true,
    "source_hash": "8275a582",
    "execution_start": 1658134605631,
    "execution_millis": 34,
    "deepnote_cell_type": "code",
    "deepnote_cell_height": 81
   },
   "source": "df_new.to_csv(\"data.csv\", index=False, header=False)",
   "execution_count": null,
   "outputs": []
  },
  {
   "cell_type": "markdown",
   "source": "# ",
   "metadata": {
    "cell_id": "11512927f5f747f4a8ea015cb5eeaae5",
    "tags": [],
    "is_collapsed": false,
    "formattedRanges": [],
    "deepnote_cell_type": "text-cell-h1"
   }
  },
  {
   "cell_type": "markdown",
   "source": "![Users with id 18, 119, 249, 305 and 448 have major similarities in the genres on movies they rated(Adventure|Animation|Children|Comedy|Fantasy)\n](image-20220718-144140.png)",
   "metadata": {
    "cell_id": "962d4692b3ba47578f730e18af90a10c",
    "tags": [],
    "deepnote_cell_type": "markdown",
    "deepnote_cell_height": 456.65625
   }
  },
  {
   "cell_type": "markdown",
   "source": "![Picture title](image-20220718-144217.png)",
   "metadata": {
    "cell_id": "aa7b5b532a0148d4b1dc5303410b316e",
    "tags": [],
    "deepnote_cell_type": "markdown",
    "deepnote_cell_height": 93.59375
   }
  },
  {
   "cell_type": "markdown",
   "source": "### Movie to Movie Similarities\n\n",
   "metadata": {
    "cell_id": "e20c4ac006554789bceee3c8453e5d10",
    "tags": [],
    "is_collapsed": false,
    "formattedRanges": [],
    "deepnote_cell_type": "text-cell-h3"
   }
  },
  {
   "cell_type": "markdown",
   "source": "![Picture title](image-20220718-144723.png)",
   "metadata": {
    "cell_id": "da197b6a96644c32a4ea8332d6b0e853",
    "tags": [],
    "deepnote_cell_type": "markdown",
    "deepnote_cell_height": 102.984375
   }
  },
  {
   "cell_type": "code",
   "metadata": {
    "cell_id": "fbc8cb75ab454aaebd7c05c4c17345a3",
    "tags": [],
    "deepnote_to_be_reexecuted": false,
    "source_hash": "ed360559",
    "execution_start": 1658154951274,
    "execution_millis": 29,
    "deepnote_cell_type": "code",
    "deepnote_cell_height": 430
   },
   "source": "df_145 = df_movies[df_movies['movieId']==145]\ndf_145.head()",
   "execution_count": 48,
   "outputs": [
    {
     "output_type": "execute_result",
     "execution_count": 48,
     "data": {
      "application/vnd.deepnote.dataframe.v3+json": {
       "column_count": 6,
       "row_count": 5,
       "columns": [
        {
         "name": "userId",
         "dtype": "int64",
         "stats": {
          "unique_count": 5,
          "nan_count": 0,
          "min": "6",
          "max": "34",
          "histogram": [
           {
            "bin_start": 6,
            "bin_end": 8.8,
            "count": 1
           },
           {
            "bin_start": 8.8,
            "bin_end": 11.6,
            "count": 0
           },
           {
            "bin_start": 11.6,
            "bin_end": 14.399999999999999,
            "count": 0
           },
           {
            "bin_start": 14.399999999999999,
            "bin_end": 17.2,
            "count": 0
           },
           {
            "bin_start": 17.2,
            "bin_end": 20,
            "count": 1
           },
           {
            "bin_start": 20,
            "bin_end": 22.799999999999997,
            "count": 1
           },
           {
            "bin_start": 22.799999999999997,
            "bin_end": 25.599999999999998,
            "count": 0
           },
           {
            "bin_start": 25.599999999999998,
            "bin_end": 28.4,
            "count": 1
           },
           {
            "bin_start": 28.4,
            "bin_end": 31.2,
            "count": 0
           },
           {
            "bin_start": 31.2,
            "bin_end": 34,
            "count": 1
           }
          ]
         }
        },
        {
         "name": "movieId",
         "dtype": "int64",
         "stats": {
          "unique_count": 1,
          "nan_count": 0,
          "min": "145",
          "max": "145",
          "histogram": [
           {
            "bin_start": 144.5,
            "bin_end": 144.6,
            "count": 0
           },
           {
            "bin_start": 144.6,
            "bin_end": 144.7,
            "count": 0
           },
           {
            "bin_start": 144.7,
            "bin_end": 144.8,
            "count": 0
           },
           {
            "bin_start": 144.8,
            "bin_end": 144.9,
            "count": 0
           },
           {
            "bin_start": 144.9,
            "bin_end": 145,
            "count": 0
           },
           {
            "bin_start": 145,
            "bin_end": 145.1,
            "count": 5
           },
           {
            "bin_start": 145.1,
            "bin_end": 145.2,
            "count": 0
           },
           {
            "bin_start": 145.2,
            "bin_end": 145.3,
            "count": 0
           },
           {
            "bin_start": 145.3,
            "bin_end": 145.4,
            "count": 0
           },
           {
            "bin_start": 145.4,
            "bin_end": 145.5,
            "count": 0
           }
          ]
         }
        },
        {
         "name": "rating",
         "dtype": "float64",
         "stats": {
          "unique_count": 5,
          "nan_count": 0,
          "min": "1.0",
          "max": "4.0",
          "histogram": [
           {
            "bin_start": 1,
            "bin_end": 1.3,
            "count": 1
           },
           {
            "bin_start": 1.3,
            "bin_end": 1.6,
            "count": 1
           },
           {
            "bin_start": 1.6,
            "bin_end": 1.9,
            "count": 0
           },
           {
            "bin_start": 1.9,
            "bin_end": 2.2,
            "count": 0
           },
           {
            "bin_start": 2.2,
            "bin_end": 2.5,
            "count": 0
           },
           {
            "bin_start": 2.5,
            "bin_end": 2.8,
            "count": 0
           },
           {
            "bin_start": 2.8,
            "bin_end": 3.1,
            "count": 1
           },
           {
            "bin_start": 3.1,
            "bin_end": 3.4,
            "count": 0
           },
           {
            "bin_start": 3.4,
            "bin_end": 3.6999999999999997,
            "count": 1
           },
           {
            "bin_start": 3.6999999999999997,
            "bin_end": 4,
            "count": 1
           }
          ]
         }
        },
        {
         "name": "title",
         "dtype": "object",
         "stats": {
          "unique_count": 1,
          "nan_count": 0,
          "categories": [
           {
            "name": "Bad Boys",
            "count": 5
           }
          ]
         }
        },
        {
         "name": "genres",
         "dtype": "object",
         "stats": {
          "unique_count": 1,
          "nan_count": 0,
          "categories": [
           {
            "name": "Action|Comedy|Crime|Drama|Thriller",
            "count": 5
           }
          ]
         }
        },
        {
         "name": "release_year",
         "dtype": "float64",
         "stats": {
          "unique_count": 1,
          "nan_count": 0,
          "min": "1995.0",
          "max": "1995.0",
          "histogram": [
           {
            "bin_start": 1994.5,
            "bin_end": 1994.6,
            "count": 0
           },
           {
            "bin_start": 1994.6,
            "bin_end": 1994.7,
            "count": 0
           },
           {
            "bin_start": 1994.7,
            "bin_end": 1994.8,
            "count": 0
           },
           {
            "bin_start": 1994.8,
            "bin_end": 1994.9,
            "count": 0
           },
           {
            "bin_start": 1994.9,
            "bin_end": 1995,
            "count": 0
           },
           {
            "bin_start": 1995,
            "bin_end": 1995.1,
            "count": 5
           },
           {
            "bin_start": 1995.1,
            "bin_end": 1995.2,
            "count": 0
           },
           {
            "bin_start": 1995.2,
            "bin_end": 1995.3,
            "count": 0
           },
           {
            "bin_start": 1995.3,
            "bin_end": 1995.4,
            "count": 0
           },
           {
            "bin_start": 1995.4,
            "bin_end": 1995.5,
            "count": 0
           }
          ]
         }
        },
        {
         "name": "_deepnote_index_column",
         "dtype": "int64"
        }
       ],
       "rows": [
        {
         "userId": 6,
         "movieId": 145,
         "rating": 4,
         "title": "Bad Boys",
         "genres": "Action|Comedy|Crime|Drama|Thriller",
         "release_year": 1995,
         "_deepnote_index_column": 28705
        },
        {
         "userId": 18,
         "movieId": 145,
         "rating": 3.5,
         "title": "Bad Boys",
         "genres": "Action|Comedy|Crime|Drama|Thriller",
         "release_year": 1995,
         "_deepnote_index_column": 28706
        },
        {
         "userId": 21,
         "movieId": 145,
         "rating": 3,
         "title": "Bad Boys",
         "genres": "Action|Comedy|Crime|Drama|Thriller",
         "release_year": 1995,
         "_deepnote_index_column": 28707
        },
        {
         "userId": 28,
         "movieId": 145,
         "rating": 1.5,
         "title": "Bad Boys",
         "genres": "Action|Comedy|Crime|Drama|Thriller",
         "release_year": 1995,
         "_deepnote_index_column": 28708
        },
        {
         "userId": 34,
         "movieId": 145,
         "rating": 1,
         "title": "Bad Boys",
         "genres": "Action|Comedy|Crime|Drama|Thriller",
         "release_year": 1995,
         "_deepnote_index_column": 28709
        }
       ]
      },
      "text/plain": "       userId  movieId  rating     title                              genres  \\\n28705       6      145     4.0  Bad Boys  Action|Comedy|Crime|Drama|Thriller   \n28706      18      145     3.5  Bad Boys  Action|Comedy|Crime|Drama|Thriller   \n28707      21      145     3.0  Bad Boys  Action|Comedy|Crime|Drama|Thriller   \n28708      28      145     1.5  Bad Boys  Action|Comedy|Crime|Drama|Thriller   \n28709      34      145     1.0  Bad Boys  Action|Comedy|Crime|Drama|Thriller   \n\n       release_year  \n28705        1995.0  \n28706        1995.0  \n28707        1995.0  \n28708        1995.0  \n28709        1995.0  ",
      "text/html": "<div>\n<style scoped>\n    .dataframe tbody tr th:only-of-type {\n        vertical-align: middle;\n    }\n\n    .dataframe tbody tr th {\n        vertical-align: top;\n    }\n\n    .dataframe thead th {\n        text-align: right;\n    }\n</style>\n<table border=\"1\" class=\"dataframe\">\n  <thead>\n    <tr style=\"text-align: right;\">\n      <th></th>\n      <th>userId</th>\n      <th>movieId</th>\n      <th>rating</th>\n      <th>title</th>\n      <th>genres</th>\n      <th>release_year</th>\n    </tr>\n  </thead>\n  <tbody>\n    <tr>\n      <th>28705</th>\n      <td>6</td>\n      <td>145</td>\n      <td>4.0</td>\n      <td>Bad Boys</td>\n      <td>Action|Comedy|Crime|Drama|Thriller</td>\n      <td>1995.0</td>\n    </tr>\n    <tr>\n      <th>28706</th>\n      <td>18</td>\n      <td>145</td>\n      <td>3.5</td>\n      <td>Bad Boys</td>\n      <td>Action|Comedy|Crime|Drama|Thriller</td>\n      <td>1995.0</td>\n    </tr>\n    <tr>\n      <th>28707</th>\n      <td>21</td>\n      <td>145</td>\n      <td>3.0</td>\n      <td>Bad Boys</td>\n      <td>Action|Comedy|Crime|Drama|Thriller</td>\n      <td>1995.0</td>\n    </tr>\n    <tr>\n      <th>28708</th>\n      <td>28</td>\n      <td>145</td>\n      <td>1.5</td>\n      <td>Bad Boys</td>\n      <td>Action|Comedy|Crime|Drama|Thriller</td>\n      <td>1995.0</td>\n    </tr>\n    <tr>\n      <th>28709</th>\n      <td>34</td>\n      <td>145</td>\n      <td>1.0</td>\n      <td>Bad Boys</td>\n      <td>Action|Comedy|Crime|Drama|Thriller</td>\n      <td>1995.0</td>\n    </tr>\n  </tbody>\n</table>\n</div>"
     },
     "metadata": {}
    }
   ]
  },
  {
   "cell_type": "code",
   "metadata": {
    "cell_id": "9ea5b61875b249b89cfd96d20ad56933",
    "tags": [],
    "deepnote_to_be_reexecuted": false,
    "source_hash": "4ebe2ab2",
    "execution_start": 1658154956941,
    "execution_millis": 7,
    "deepnote_cell_type": "code",
    "deepnote_cell_height": 430
   },
   "source": "df_296 = df_movies[df_movies['movieId']==296]\ndf_296.head()",
   "execution_count": 49,
   "outputs": [
    {
     "output_type": "execute_result",
     "execution_count": 49,
     "data": {
      "application/vnd.deepnote.dataframe.v3+json": {
       "column_count": 6,
       "row_count": 5,
       "columns": [
        {
         "name": "userId",
         "dtype": "int64",
         "stats": {
          "unique_count": 5,
          "nan_count": 0,
          "min": "1",
          "max": "8",
          "histogram": [
           {
            "bin_start": 1,
            "bin_end": 1.7,
            "count": 1
           },
           {
            "bin_start": 1.7,
            "bin_end": 2.4,
            "count": 0
           },
           {
            "bin_start": 2.4,
            "bin_end": 3.0999999999999996,
            "count": 0
           },
           {
            "bin_start": 3.0999999999999996,
            "bin_end": 3.8,
            "count": 0
           },
           {
            "bin_start": 3.8,
            "bin_end": 4.5,
            "count": 1
           },
           {
            "bin_start": 4.5,
            "bin_end": 5.199999999999999,
            "count": 1
           },
           {
            "bin_start": 5.199999999999999,
            "bin_end": 5.8999999999999995,
            "count": 0
           },
           {
            "bin_start": 5.8999999999999995,
            "bin_end": 6.6,
            "count": 1
           },
           {
            "bin_start": 6.6,
            "bin_end": 7.3,
            "count": 0
           },
           {
            "bin_start": 7.3,
            "bin_end": 8,
            "count": 1
           }
          ]
         }
        },
        {
         "name": "movieId",
         "dtype": "int64",
         "stats": {
          "unique_count": 1,
          "nan_count": 0,
          "min": "296",
          "max": "296",
          "histogram": [
           {
            "bin_start": 295.5,
            "bin_end": 295.6,
            "count": 0
           },
           {
            "bin_start": 295.6,
            "bin_end": 295.7,
            "count": 0
           },
           {
            "bin_start": 295.7,
            "bin_end": 295.8,
            "count": 0
           },
           {
            "bin_start": 295.8,
            "bin_end": 295.9,
            "count": 0
           },
           {
            "bin_start": 295.9,
            "bin_end": 296,
            "count": 0
           },
           {
            "bin_start": 296,
            "bin_end": 296.1,
            "count": 5
           },
           {
            "bin_start": 296.1,
            "bin_end": 296.2,
            "count": 0
           },
           {
            "bin_start": 296.2,
            "bin_end": 296.3,
            "count": 0
           },
           {
            "bin_start": 296.3,
            "bin_end": 296.4,
            "count": 0
           },
           {
            "bin_start": 296.4,
            "bin_end": 296.5,
            "count": 0
           }
          ]
         }
        },
        {
         "name": "rating",
         "dtype": "float64",
         "stats": {
          "unique_count": 5,
          "nan_count": 0,
          "min": "1.0",
          "max": "5.0",
          "histogram": [
           {
            "bin_start": 1,
            "bin_end": 1.4,
            "count": 1
           },
           {
            "bin_start": 1.4,
            "bin_end": 1.8,
            "count": 0
           },
           {
            "bin_start": 1.8,
            "bin_end": 2.2,
            "count": 1
           },
           {
            "bin_start": 2.2,
            "bin_end": 2.6,
            "count": 0
           },
           {
            "bin_start": 2.6,
            "bin_end": 3,
            "count": 0
           },
           {
            "bin_start": 3,
            "bin_end": 3.4000000000000004,
            "count": 1
           },
           {
            "bin_start": 3.4000000000000004,
            "bin_end": 3.8000000000000003,
            "count": 0
           },
           {
            "bin_start": 3.8000000000000003,
            "bin_end": 4.2,
            "count": 1
           },
           {
            "bin_start": 4.2,
            "bin_end": 4.6,
            "count": 0
           },
           {
            "bin_start": 4.6,
            "bin_end": 5,
            "count": 1
           }
          ]
         }
        },
        {
         "name": "title",
         "dtype": "object",
         "stats": {
          "unique_count": 1,
          "nan_count": 0,
          "categories": [
           {
            "name": "Pulp Fiction",
            "count": 5
           }
          ]
         }
        },
        {
         "name": "genres",
         "dtype": "object",
         "stats": {
          "unique_count": 1,
          "nan_count": 0,
          "categories": [
           {
            "name": "Comedy|Crime|Drama|Thriller",
            "count": 5
           }
          ]
         }
        },
        {
         "name": "release_year",
         "dtype": "float64",
         "stats": {
          "unique_count": 1,
          "nan_count": 0,
          "min": "1994.0",
          "max": "1994.0",
          "histogram": [
           {
            "bin_start": 1993.5,
            "bin_end": 1993.6,
            "count": 0
           },
           {
            "bin_start": 1993.6,
            "bin_end": 1993.7,
            "count": 0
           },
           {
            "bin_start": 1993.7,
            "bin_end": 1993.8,
            "count": 0
           },
           {
            "bin_start": 1993.8,
            "bin_end": 1993.9,
            "count": 0
           },
           {
            "bin_start": 1993.9,
            "bin_end": 1994,
            "count": 0
           },
           {
            "bin_start": 1994,
            "bin_end": 1994.1,
            "count": 5
           },
           {
            "bin_start": 1994.1,
            "bin_end": 1994.2,
            "count": 0
           },
           {
            "bin_start": 1994.2,
            "bin_end": 1994.3,
            "count": 0
           },
           {
            "bin_start": 1994.3,
            "bin_end": 1994.4,
            "count": 0
           },
           {
            "bin_start": 1994.4,
            "bin_end": 1994.5,
            "count": 0
           }
          ]
         }
        },
        {
         "name": "_deepnote_index_column",
         "dtype": "int64"
        }
       ],
       "rows": [
        {
         "userId": 1,
         "movieId": 296,
         "rating": 3,
         "title": "Pulp Fiction",
         "genres": "Comedy|Crime|Drama|Thriller",
         "release_year": 1994,
         "_deepnote_index_column": 1819
        },
        {
         "userId": 4,
         "movieId": 296,
         "rating": 1,
         "title": "Pulp Fiction",
         "genres": "Comedy|Crime|Drama|Thriller",
         "release_year": 1994,
         "_deepnote_index_column": 1820
        },
        {
         "userId": 5,
         "movieId": 296,
         "rating": 5,
         "title": "Pulp Fiction",
         "genres": "Comedy|Crime|Drama|Thriller",
         "release_year": 1994,
         "_deepnote_index_column": 1821
        },
        {
         "userId": 6,
         "movieId": 296,
         "rating": 2,
         "title": "Pulp Fiction",
         "genres": "Comedy|Crime|Drama|Thriller",
         "release_year": 1994,
         "_deepnote_index_column": 1822
        },
        {
         "userId": 8,
         "movieId": 296,
         "rating": 4,
         "title": "Pulp Fiction",
         "genres": "Comedy|Crime|Drama|Thriller",
         "release_year": 1994,
         "_deepnote_index_column": 1823
        }
       ]
      },
      "text/plain": "      userId  movieId  rating         title                       genres  \\\n1819       1      296     3.0  Pulp Fiction  Comedy|Crime|Drama|Thriller   \n1820       4      296     1.0  Pulp Fiction  Comedy|Crime|Drama|Thriller   \n1821       5      296     5.0  Pulp Fiction  Comedy|Crime|Drama|Thriller   \n1822       6      296     2.0  Pulp Fiction  Comedy|Crime|Drama|Thriller   \n1823       8      296     4.0  Pulp Fiction  Comedy|Crime|Drama|Thriller   \n\n      release_year  \n1819        1994.0  \n1820        1994.0  \n1821        1994.0  \n1822        1994.0  \n1823        1994.0  ",
      "text/html": "<div>\n<style scoped>\n    .dataframe tbody tr th:only-of-type {\n        vertical-align: middle;\n    }\n\n    .dataframe tbody tr th {\n        vertical-align: top;\n    }\n\n    .dataframe thead th {\n        text-align: right;\n    }\n</style>\n<table border=\"1\" class=\"dataframe\">\n  <thead>\n    <tr style=\"text-align: right;\">\n      <th></th>\n      <th>userId</th>\n      <th>movieId</th>\n      <th>rating</th>\n      <th>title</th>\n      <th>genres</th>\n      <th>release_year</th>\n    </tr>\n  </thead>\n  <tbody>\n    <tr>\n      <th>1819</th>\n      <td>1</td>\n      <td>296</td>\n      <td>3.0</td>\n      <td>Pulp Fiction</td>\n      <td>Comedy|Crime|Drama|Thriller</td>\n      <td>1994.0</td>\n    </tr>\n    <tr>\n      <th>1820</th>\n      <td>4</td>\n      <td>296</td>\n      <td>1.0</td>\n      <td>Pulp Fiction</td>\n      <td>Comedy|Crime|Drama|Thriller</td>\n      <td>1994.0</td>\n    </tr>\n    <tr>\n      <th>1821</th>\n      <td>5</td>\n      <td>296</td>\n      <td>5.0</td>\n      <td>Pulp Fiction</td>\n      <td>Comedy|Crime|Drama|Thriller</td>\n      <td>1994.0</td>\n    </tr>\n    <tr>\n      <th>1822</th>\n      <td>6</td>\n      <td>296</td>\n      <td>2.0</td>\n      <td>Pulp Fiction</td>\n      <td>Comedy|Crime|Drama|Thriller</td>\n      <td>1994.0</td>\n    </tr>\n    <tr>\n      <th>1823</th>\n      <td>8</td>\n      <td>296</td>\n      <td>4.0</td>\n      <td>Pulp Fiction</td>\n      <td>Comedy|Crime|Drama|Thriller</td>\n      <td>1994.0</td>\n    </tr>\n  </tbody>\n</table>\n</div>"
     },
     "metadata": {}
    }
   ]
  },
  {
   "cell_type": "code",
   "metadata": {
    "cell_id": "106916af73624033aff2d4b41a82a56b",
    "tags": [],
    "deepnote_to_be_reexecuted": false,
    "source_hash": "66f70ff8",
    "execution_start": 1658154964346,
    "execution_millis": 35,
    "deepnote_cell_type": "code",
    "deepnote_cell_height": 430
   },
   "source": "df_106782 = df_movies[df_movies['movieId']==106782]\ndf_106782.head()",
   "execution_count": 50,
   "outputs": [
    {
     "output_type": "execute_result",
     "execution_count": 50,
     "data": {
      "application/vnd.deepnote.dataframe.v3+json": {
       "column_count": 6,
       "row_count": 5,
       "columns": [
        {
         "name": "userId",
         "dtype": "int64",
         "stats": {
          "unique_count": 5,
          "nan_count": 0,
          "min": "2",
          "max": "47",
          "histogram": [
           {
            "bin_start": 2,
            "bin_end": 6.5,
            "count": 1
           },
           {
            "bin_start": 6.5,
            "bin_end": 11,
            "count": 1
           },
           {
            "bin_start": 11,
            "bin_end": 15.5,
            "count": 0
           },
           {
            "bin_start": 15.5,
            "bin_end": 20,
            "count": 1
           },
           {
            "bin_start": 20,
            "bin_end": 24.5,
            "count": 1
           },
           {
            "bin_start": 24.5,
            "bin_end": 29,
            "count": 0
           },
           {
            "bin_start": 29,
            "bin_end": 33.5,
            "count": 0
           },
           {
            "bin_start": 33.5,
            "bin_end": 38,
            "count": 0
           },
           {
            "bin_start": 38,
            "bin_end": 42.5,
            "count": 0
           },
           {
            "bin_start": 42.5,
            "bin_end": 47,
            "count": 1
           }
          ]
         }
        },
        {
         "name": "movieId",
         "dtype": "int64",
         "stats": {
          "unique_count": 1,
          "nan_count": 0,
          "min": "106782",
          "max": "106782",
          "histogram": [
           {
            "bin_start": 106781.5,
            "bin_end": 106781.6,
            "count": 0
           },
           {
            "bin_start": 106781.6,
            "bin_end": 106781.7,
            "count": 0
           },
           {
            "bin_start": 106781.7,
            "bin_end": 106781.8,
            "count": 0
           },
           {
            "bin_start": 106781.8,
            "bin_end": 106781.9,
            "count": 0
           },
           {
            "bin_start": 106781.9,
            "bin_end": 106782,
            "count": 0
           },
           {
            "bin_start": 106782,
            "bin_end": 106782.1,
            "count": 5
           },
           {
            "bin_start": 106782.1,
            "bin_end": 106782.2,
            "count": 0
           },
           {
            "bin_start": 106782.2,
            "bin_end": 106782.3,
            "count": 0
           },
           {
            "bin_start": 106782.3,
            "bin_end": 106782.4,
            "count": 0
           },
           {
            "bin_start": 106782.4,
            "bin_end": 106782.5,
            "count": 0
           }
          ]
         }
        },
        {
         "name": "rating",
         "dtype": "float64",
         "stats": {
          "unique_count": 4,
          "nan_count": 0,
          "min": "1.0",
          "max": "5.0",
          "histogram": [
           {
            "bin_start": 1,
            "bin_end": 1.4,
            "count": 1
           },
           {
            "bin_start": 1.4,
            "bin_end": 1.8,
            "count": 0
           },
           {
            "bin_start": 1.8,
            "bin_end": 2.2,
            "count": 0
           },
           {
            "bin_start": 2.2,
            "bin_end": 2.6,
            "count": 0
           },
           {
            "bin_start": 2.6,
            "bin_end": 3,
            "count": 0
           },
           {
            "bin_start": 3,
            "bin_end": 3.4000000000000004,
            "count": 2
           },
           {
            "bin_start": 3.4000000000000004,
            "bin_end": 3.8000000000000003,
            "count": 1
           },
           {
            "bin_start": 3.8000000000000003,
            "bin_end": 4.2,
            "count": 0
           },
           {
            "bin_start": 4.2,
            "bin_end": 4.6,
            "count": 0
           },
           {
            "bin_start": 4.6,
            "bin_end": 5,
            "count": 1
           }
          ]
         }
        },
        {
         "name": "title",
         "dtype": "object",
         "stats": {
          "unique_count": 1,
          "nan_count": 0,
          "categories": [
           {
            "name": "Wolf of Wall Street, The",
            "count": 5
           }
          ]
         }
        },
        {
         "name": "genres",
         "dtype": "object",
         "stats": {
          "unique_count": 1,
          "nan_count": 0,
          "categories": [
           {
            "name": "Comedy|Crime|Drama",
            "count": 5
           }
          ]
         }
        },
        {
         "name": "release_year",
         "dtype": "float64",
         "stats": {
          "unique_count": 1,
          "nan_count": 0,
          "min": "2013.0",
          "max": "2013.0",
          "histogram": [
           {
            "bin_start": 2012.5,
            "bin_end": 2012.6,
            "count": 0
           },
           {
            "bin_start": 2012.6,
            "bin_end": 2012.7,
            "count": 0
           },
           {
            "bin_start": 2012.7,
            "bin_end": 2012.8,
            "count": 0
           },
           {
            "bin_start": 2012.8,
            "bin_end": 2012.9,
            "count": 0
           },
           {
            "bin_start": 2012.9,
            "bin_end": 2013,
            "count": 0
           },
           {
            "bin_start": 2013,
            "bin_end": 2013.1,
            "count": 5
           },
           {
            "bin_start": 2013.1,
            "bin_end": 2013.2,
            "count": 0
           },
           {
            "bin_start": 2013.2,
            "bin_end": 2013.3,
            "count": 0
           },
           {
            "bin_start": 2013.3,
            "bin_end": 2013.4,
            "count": 0
           },
           {
            "bin_start": 2013.4,
            "bin_end": 2013.5,
            "count": 0
           }
          ]
         }
        },
        {
         "name": "_deepnote_index_column",
         "dtype": "int64"
        }
       ],
       "rows": [
        {
         "userId": 2,
         "movieId": 106782,
         "rating": 5,
         "title": "Wolf of Wall Street, The",
         "genres": "Comedy|Crime|Drama",
         "release_year": 2013,
         "_deepnote_index_column": 17848
        },
        {
         "userId": 10,
         "movieId": 106782,
         "rating": 1,
         "title": "Wolf of Wall Street, The",
         "genres": "Comedy|Crime|Drama",
         "release_year": 2013,
         "_deepnote_index_column": 17849
        },
        {
         "userId": 18,
         "movieId": 106782,
         "rating": 3,
         "title": "Wolf of Wall Street, The",
         "genres": "Comedy|Crime|Drama",
         "release_year": 2013,
         "_deepnote_index_column": 17850
        },
        {
         "userId": 21,
         "movieId": 106782,
         "rating": 3,
         "title": "Wolf of Wall Street, The",
         "genres": "Comedy|Crime|Drama",
         "release_year": 2013,
         "_deepnote_index_column": 17851
        },
        {
         "userId": 47,
         "movieId": 106782,
         "rating": 3.5,
         "title": "Wolf of Wall Street, The",
         "genres": "Comedy|Crime|Drama",
         "release_year": 2013,
         "_deepnote_index_column": 17852
        }
       ]
      },
      "text/plain": "       userId  movieId  rating                     title              genres  \\\n17848       2   106782     5.0  Wolf of Wall Street, The  Comedy|Crime|Drama   \n17849      10   106782     1.0  Wolf of Wall Street, The  Comedy|Crime|Drama   \n17850      18   106782     3.0  Wolf of Wall Street, The  Comedy|Crime|Drama   \n17851      21   106782     3.0  Wolf of Wall Street, The  Comedy|Crime|Drama   \n17852      47   106782     3.5  Wolf of Wall Street, The  Comedy|Crime|Drama   \n\n       release_year  \n17848        2013.0  \n17849        2013.0  \n17850        2013.0  \n17851        2013.0  \n17852        2013.0  ",
      "text/html": "<div>\n<style scoped>\n    .dataframe tbody tr th:only-of-type {\n        vertical-align: middle;\n    }\n\n    .dataframe tbody tr th {\n        vertical-align: top;\n    }\n\n    .dataframe thead th {\n        text-align: right;\n    }\n</style>\n<table border=\"1\" class=\"dataframe\">\n  <thead>\n    <tr style=\"text-align: right;\">\n      <th></th>\n      <th>userId</th>\n      <th>movieId</th>\n      <th>rating</th>\n      <th>title</th>\n      <th>genres</th>\n      <th>release_year</th>\n    </tr>\n  </thead>\n  <tbody>\n    <tr>\n      <th>17848</th>\n      <td>2</td>\n      <td>106782</td>\n      <td>5.0</td>\n      <td>Wolf of Wall Street, The</td>\n      <td>Comedy|Crime|Drama</td>\n      <td>2013.0</td>\n    </tr>\n    <tr>\n      <th>17849</th>\n      <td>10</td>\n      <td>106782</td>\n      <td>1.0</td>\n      <td>Wolf of Wall Street, The</td>\n      <td>Comedy|Crime|Drama</td>\n      <td>2013.0</td>\n    </tr>\n    <tr>\n      <th>17850</th>\n      <td>18</td>\n      <td>106782</td>\n      <td>3.0</td>\n      <td>Wolf of Wall Street, The</td>\n      <td>Comedy|Crime|Drama</td>\n      <td>2013.0</td>\n    </tr>\n    <tr>\n      <th>17851</th>\n      <td>21</td>\n      <td>106782</td>\n      <td>3.0</td>\n      <td>Wolf of Wall Street, The</td>\n      <td>Comedy|Crime|Drama</td>\n      <td>2013.0</td>\n    </tr>\n    <tr>\n      <th>17852</th>\n      <td>47</td>\n      <td>106782</td>\n      <td>3.5</td>\n      <td>Wolf of Wall Street, The</td>\n      <td>Comedy|Crime|Drama</td>\n      <td>2013.0</td>\n    </tr>\n  </tbody>\n</table>\n</div>"
     },
     "metadata": {}
    }
   ]
  },
  {
   "cell_type": "code",
   "metadata": {
    "cell_id": "39d09b3c7f2a47dd9e0d52e43cb5028b",
    "tags": [],
    "deepnote_to_be_reexecuted": false,
    "source_hash": "1b3ee767",
    "execution_start": 1658154968283,
    "execution_millis": 36,
    "deepnote_cell_type": "code",
    "deepnote_cell_height": 430
   },
   "source": "df_608 = df_movies[df_movies['movieId']==608]\ndf_608.head()",
   "execution_count": 51,
   "outputs": [
    {
     "output_type": "execute_result",
     "execution_count": 51,
     "data": {
      "application/vnd.deepnote.dataframe.v3+json": {
       "column_count": 6,
       "row_count": 5,
       "columns": [
        {
         "name": "userId",
         "dtype": "int64",
         "stats": {
          "unique_count": 5,
          "nan_count": 0,
          "min": "1",
          "max": "16",
          "histogram": [
           {
            "bin_start": 1,
            "bin_end": 2.5,
            "count": 1
           },
           {
            "bin_start": 2.5,
            "bin_end": 4,
            "count": 0
           },
           {
            "bin_start": 4,
            "bin_end": 5.5,
            "count": 2
           },
           {
            "bin_start": 5.5,
            "bin_end": 7,
            "count": 1
           },
           {
            "bin_start": 7,
            "bin_end": 8.5,
            "count": 0
           },
           {
            "bin_start": 8.5,
            "bin_end": 10,
            "count": 0
           },
           {
            "bin_start": 10,
            "bin_end": 11.5,
            "count": 0
           },
           {
            "bin_start": 11.5,
            "bin_end": 13,
            "count": 0
           },
           {
            "bin_start": 13,
            "bin_end": 14.5,
            "count": 0
           },
           {
            "bin_start": 14.5,
            "bin_end": 16,
            "count": 1
           }
          ]
         }
        },
        {
         "name": "movieId",
         "dtype": "int64",
         "stats": {
          "unique_count": 1,
          "nan_count": 0,
          "min": "608",
          "max": "608",
          "histogram": [
           {
            "bin_start": 607.5,
            "bin_end": 607.6,
            "count": 0
           },
           {
            "bin_start": 607.6,
            "bin_end": 607.7,
            "count": 0
           },
           {
            "bin_start": 607.7,
            "bin_end": 607.8,
            "count": 0
           },
           {
            "bin_start": 607.8,
            "bin_end": 607.9,
            "count": 0
           },
           {
            "bin_start": 607.9,
            "bin_end": 608,
            "count": 0
           },
           {
            "bin_start": 608,
            "bin_end": 608.1,
            "count": 5
           },
           {
            "bin_start": 608.1,
            "bin_end": 608.2,
            "count": 0
           },
           {
            "bin_start": 608.2,
            "bin_end": 608.3,
            "count": 0
           },
           {
            "bin_start": 608.3,
            "bin_end": 608.4,
            "count": 0
           },
           {
            "bin_start": 608.4,
            "bin_end": 608.5,
            "count": 0
           }
          ]
         }
        },
        {
         "name": "rating",
         "dtype": "float64",
         "stats": {
          "unique_count": 3,
          "nan_count": 0,
          "min": "3.0",
          "max": "5.0",
          "histogram": [
           {
            "bin_start": 3,
            "bin_end": 3.2,
            "count": 2
           },
           {
            "bin_start": 3.2,
            "bin_end": 3.4,
            "count": 0
           },
           {
            "bin_start": 3.4,
            "bin_end": 3.6,
            "count": 0
           },
           {
            "bin_start": 3.6,
            "bin_end": 3.8,
            "count": 0
           },
           {
            "bin_start": 3.8,
            "bin_end": 4,
            "count": 0
           },
           {
            "bin_start": 4,
            "bin_end": 4.2,
            "count": 0
           },
           {
            "bin_start": 4.2,
            "bin_end": 4.4,
            "count": 0
           },
           {
            "bin_start": 4.4,
            "bin_end": 4.6,
            "count": 1
           },
           {
            "bin_start": 4.6,
            "bin_end": 4.8,
            "count": 0
           },
           {
            "bin_start": 4.8,
            "bin_end": 5,
            "count": 2
           }
          ]
         }
        },
        {
         "name": "title",
         "dtype": "object",
         "stats": {
          "unique_count": 1,
          "nan_count": 0,
          "categories": [
           {
            "name": "Fargo",
            "count": 5
           }
          ]
         }
        },
        {
         "name": "genres",
         "dtype": "object",
         "stats": {
          "unique_count": 1,
          "nan_count": 0,
          "categories": [
           {
            "name": "Comedy|Crime|Drama|Thriller",
            "count": 5
           }
          ]
         }
        },
        {
         "name": "release_year",
         "dtype": "float64",
         "stats": {
          "unique_count": 1,
          "nan_count": 0,
          "min": "1996.0",
          "max": "1996.0",
          "histogram": [
           {
            "bin_start": 1995.5,
            "bin_end": 1995.6,
            "count": 0
           },
           {
            "bin_start": 1995.6,
            "bin_end": 1995.7,
            "count": 0
           },
           {
            "bin_start": 1995.7,
            "bin_end": 1995.8,
            "count": 0
           },
           {
            "bin_start": 1995.8,
            "bin_end": 1995.9,
            "count": 0
           },
           {
            "bin_start": 1995.9,
            "bin_end": 1996,
            "count": 0
           },
           {
            "bin_start": 1996,
            "bin_end": 1996.1,
            "count": 5
           },
           {
            "bin_start": 1996.1,
            "bin_end": 1996.2,
            "count": 0
           },
           {
            "bin_start": 1996.2,
            "bin_end": 1996.3,
            "count": 0
           },
           {
            "bin_start": 1996.3,
            "bin_end": 1996.4,
            "count": 0
           },
           {
            "bin_start": 1996.4,
            "bin_end": 1996.5,
            "count": 0
           }
          ]
         }
        },
        {
         "name": "_deepnote_index_column",
         "dtype": "int64"
        }
       ],
       "rows": [
        {
         "userId": 1,
         "movieId": 608,
         "rating": 5,
         "title": "Fargo",
         "genres": "Comedy|Crime|Drama|Thriller",
         "release_year": 1996,
         "_deepnote_index_column": 4649
        },
        {
         "userId": 4,
         "movieId": 608,
         "rating": 5,
         "title": "Fargo",
         "genres": "Comedy|Crime|Drama|Thriller",
         "release_year": 1996,
         "_deepnote_index_column": 4650
        },
        {
         "userId": 5,
         "movieId": 608,
         "rating": 3,
         "title": "Fargo",
         "genres": "Comedy|Crime|Drama|Thriller",
         "release_year": 1996,
         "_deepnote_index_column": 4651
        },
        {
         "userId": 6,
         "movieId": 608,
         "rating": 3,
         "title": "Fargo",
         "genres": "Comedy|Crime|Drama|Thriller",
         "release_year": 1996,
         "_deepnote_index_column": 4652
        },
        {
         "userId": 16,
         "movieId": 608,
         "rating": 4.5,
         "title": "Fargo",
         "genres": "Comedy|Crime|Drama|Thriller",
         "release_year": 1996,
         "_deepnote_index_column": 4653
        }
       ]
      },
      "text/plain": "      userId  movieId  rating  title                       genres  \\\n4649       1      608     5.0  Fargo  Comedy|Crime|Drama|Thriller   \n4650       4      608     5.0  Fargo  Comedy|Crime|Drama|Thriller   \n4651       5      608     3.0  Fargo  Comedy|Crime|Drama|Thriller   \n4652       6      608     3.0  Fargo  Comedy|Crime|Drama|Thriller   \n4653      16      608     4.5  Fargo  Comedy|Crime|Drama|Thriller   \n\n      release_year  \n4649        1996.0  \n4650        1996.0  \n4651        1996.0  \n4652        1996.0  \n4653        1996.0  ",
      "text/html": "<div>\n<style scoped>\n    .dataframe tbody tr th:only-of-type {\n        vertical-align: middle;\n    }\n\n    .dataframe tbody tr th {\n        vertical-align: top;\n    }\n\n    .dataframe thead th {\n        text-align: right;\n    }\n</style>\n<table border=\"1\" class=\"dataframe\">\n  <thead>\n    <tr style=\"text-align: right;\">\n      <th></th>\n      <th>userId</th>\n      <th>movieId</th>\n      <th>rating</th>\n      <th>title</th>\n      <th>genres</th>\n      <th>release_year</th>\n    </tr>\n  </thead>\n  <tbody>\n    <tr>\n      <th>4649</th>\n      <td>1</td>\n      <td>608</td>\n      <td>5.0</td>\n      <td>Fargo</td>\n      <td>Comedy|Crime|Drama|Thriller</td>\n      <td>1996.0</td>\n    </tr>\n    <tr>\n      <th>4650</th>\n      <td>4</td>\n      <td>608</td>\n      <td>5.0</td>\n      <td>Fargo</td>\n      <td>Comedy|Crime|Drama|Thriller</td>\n      <td>1996.0</td>\n    </tr>\n    <tr>\n      <th>4651</th>\n      <td>5</td>\n      <td>608</td>\n      <td>3.0</td>\n      <td>Fargo</td>\n      <td>Comedy|Crime|Drama|Thriller</td>\n      <td>1996.0</td>\n    </tr>\n    <tr>\n      <th>4652</th>\n      <td>6</td>\n      <td>608</td>\n      <td>3.0</td>\n      <td>Fargo</td>\n      <td>Comedy|Crime|Drama|Thriller</td>\n      <td>1996.0</td>\n    </tr>\n    <tr>\n      <th>4653</th>\n      <td>16</td>\n      <td>608</td>\n      <td>4.5</td>\n      <td>Fargo</td>\n      <td>Comedy|Crime|Drama|Thriller</td>\n      <td>1996.0</td>\n    </tr>\n  </tbody>\n</table>\n</div>"
     },
     "metadata": {}
    }
   ]
  },
  {
   "cell_type": "code",
   "metadata": {
    "cell_id": "a2074361c9124214aa1aa65081f2ae38",
    "tags": [],
    "deepnote_to_be_reexecuted": false,
    "source_hash": "6391b7df",
    "execution_start": 1658154976072,
    "execution_millis": 0,
    "deepnote_cell_type": "code",
    "deepnote_cell_height": 99
   },
   "source": "#Concatenating of all extracted user id data into a single datframe.\ndf_movienew= pd.concat([df_296,df_608,df_145,df_106782])",
   "execution_count": 52,
   "outputs": []
  },
  {
   "cell_type": "code",
   "metadata": {
    "cell_id": "6eaef7e4d6934898aa41122ceb7151e2",
    "tags": [],
    "deepnote_to_be_reexecuted": false,
    "source_hash": "480ec2f9",
    "execution_start": 1658154979236,
    "execution_millis": 5,
    "deepnote_cell_type": "code",
    "deepnote_cell_height": 348.03125
   },
   "source": "df_movienew.info()",
   "execution_count": 53,
   "outputs": [
    {
     "name": "stdout",
     "text": "<class 'pandas.core.frame.DataFrame'>\nInt64Index: 593 entries, 1819 to 17901\nData columns (total 6 columns):\n #   Column        Non-Null Count  Dtype  \n---  ------        --------------  -----  \n 0   userId        593 non-null    int64  \n 1   movieId       593 non-null    int64  \n 2   rating        593 non-null    float64\n 3   title         593 non-null    object \n 4   genres        593 non-null    object \n 5   release_year  593 non-null    float64\ndtypes: float64(2), int64(2), object(2)\nmemory usage: 32.4+ KB\n",
     "output_type": "stream"
    }
   ]
  },
  {
   "cell_type": "code",
   "metadata": {
    "cell_id": "4df77c007e8c41cd8a44025416cf1b85",
    "tags": [],
    "deepnote_to_be_reexecuted": false,
    "source_hash": "2770f88c",
    "execution_start": 1658154986170,
    "execution_millis": 809,
    "deepnote_cell_type": "code",
    "deepnote_cell_height": 412
   },
   "source": "df_movienew.head()",
   "execution_count": 54,
   "outputs": [
    {
     "output_type": "execute_result",
     "execution_count": 54,
     "data": {
      "application/vnd.deepnote.dataframe.v3+json": {
       "column_count": 6,
       "row_count": 5,
       "columns": [
        {
         "name": "userId",
         "dtype": "int64",
         "stats": {
          "unique_count": 5,
          "nan_count": 0,
          "min": "1",
          "max": "8",
          "histogram": [
           {
            "bin_start": 1,
            "bin_end": 1.7,
            "count": 1
           },
           {
            "bin_start": 1.7,
            "bin_end": 2.4,
            "count": 0
           },
           {
            "bin_start": 2.4,
            "bin_end": 3.0999999999999996,
            "count": 0
           },
           {
            "bin_start": 3.0999999999999996,
            "bin_end": 3.8,
            "count": 0
           },
           {
            "bin_start": 3.8,
            "bin_end": 4.5,
            "count": 1
           },
           {
            "bin_start": 4.5,
            "bin_end": 5.199999999999999,
            "count": 1
           },
           {
            "bin_start": 5.199999999999999,
            "bin_end": 5.8999999999999995,
            "count": 0
           },
           {
            "bin_start": 5.8999999999999995,
            "bin_end": 6.6,
            "count": 1
           },
           {
            "bin_start": 6.6,
            "bin_end": 7.3,
            "count": 0
           },
           {
            "bin_start": 7.3,
            "bin_end": 8,
            "count": 1
           }
          ]
         }
        },
        {
         "name": "movieId",
         "dtype": "int64",
         "stats": {
          "unique_count": 1,
          "nan_count": 0,
          "min": "296",
          "max": "296",
          "histogram": [
           {
            "bin_start": 295.5,
            "bin_end": 295.6,
            "count": 0
           },
           {
            "bin_start": 295.6,
            "bin_end": 295.7,
            "count": 0
           },
           {
            "bin_start": 295.7,
            "bin_end": 295.8,
            "count": 0
           },
           {
            "bin_start": 295.8,
            "bin_end": 295.9,
            "count": 0
           },
           {
            "bin_start": 295.9,
            "bin_end": 296,
            "count": 0
           },
           {
            "bin_start": 296,
            "bin_end": 296.1,
            "count": 5
           },
           {
            "bin_start": 296.1,
            "bin_end": 296.2,
            "count": 0
           },
           {
            "bin_start": 296.2,
            "bin_end": 296.3,
            "count": 0
           },
           {
            "bin_start": 296.3,
            "bin_end": 296.4,
            "count": 0
           },
           {
            "bin_start": 296.4,
            "bin_end": 296.5,
            "count": 0
           }
          ]
         }
        },
        {
         "name": "rating",
         "dtype": "float64",
         "stats": {
          "unique_count": 5,
          "nan_count": 0,
          "min": "1.0",
          "max": "5.0",
          "histogram": [
           {
            "bin_start": 1,
            "bin_end": 1.4,
            "count": 1
           },
           {
            "bin_start": 1.4,
            "bin_end": 1.8,
            "count": 0
           },
           {
            "bin_start": 1.8,
            "bin_end": 2.2,
            "count": 1
           },
           {
            "bin_start": 2.2,
            "bin_end": 2.6,
            "count": 0
           },
           {
            "bin_start": 2.6,
            "bin_end": 3,
            "count": 0
           },
           {
            "bin_start": 3,
            "bin_end": 3.4000000000000004,
            "count": 1
           },
           {
            "bin_start": 3.4000000000000004,
            "bin_end": 3.8000000000000003,
            "count": 0
           },
           {
            "bin_start": 3.8000000000000003,
            "bin_end": 4.2,
            "count": 1
           },
           {
            "bin_start": 4.2,
            "bin_end": 4.6,
            "count": 0
           },
           {
            "bin_start": 4.6,
            "bin_end": 5,
            "count": 1
           }
          ]
         }
        },
        {
         "name": "title",
         "dtype": "object",
         "stats": {
          "unique_count": 1,
          "nan_count": 0,
          "categories": [
           {
            "name": "Pulp Fiction",
            "count": 5
           }
          ]
         }
        },
        {
         "name": "genres",
         "dtype": "object",
         "stats": {
          "unique_count": 1,
          "nan_count": 0,
          "categories": [
           {
            "name": "Comedy|Crime|Drama|Thriller",
            "count": 5
           }
          ]
         }
        },
        {
         "name": "release_year",
         "dtype": "float64",
         "stats": {
          "unique_count": 1,
          "nan_count": 0,
          "min": "1994.0",
          "max": "1994.0",
          "histogram": [
           {
            "bin_start": 1993.5,
            "bin_end": 1993.6,
            "count": 0
           },
           {
            "bin_start": 1993.6,
            "bin_end": 1993.7,
            "count": 0
           },
           {
            "bin_start": 1993.7,
            "bin_end": 1993.8,
            "count": 0
           },
           {
            "bin_start": 1993.8,
            "bin_end": 1993.9,
            "count": 0
           },
           {
            "bin_start": 1993.9,
            "bin_end": 1994,
            "count": 0
           },
           {
            "bin_start": 1994,
            "bin_end": 1994.1,
            "count": 5
           },
           {
            "bin_start": 1994.1,
            "bin_end": 1994.2,
            "count": 0
           },
           {
            "bin_start": 1994.2,
            "bin_end": 1994.3,
            "count": 0
           },
           {
            "bin_start": 1994.3,
            "bin_end": 1994.4,
            "count": 0
           },
           {
            "bin_start": 1994.4,
            "bin_end": 1994.5,
            "count": 0
           }
          ]
         }
        },
        {
         "name": "_deepnote_index_column",
         "dtype": "int64"
        }
       ],
       "rows": [
        {
         "userId": 1,
         "movieId": 296,
         "rating": 3,
         "title": "Pulp Fiction",
         "genres": "Comedy|Crime|Drama|Thriller",
         "release_year": 1994,
         "_deepnote_index_column": 1819
        },
        {
         "userId": 4,
         "movieId": 296,
         "rating": 1,
         "title": "Pulp Fiction",
         "genres": "Comedy|Crime|Drama|Thriller",
         "release_year": 1994,
         "_deepnote_index_column": 1820
        },
        {
         "userId": 5,
         "movieId": 296,
         "rating": 5,
         "title": "Pulp Fiction",
         "genres": "Comedy|Crime|Drama|Thriller",
         "release_year": 1994,
         "_deepnote_index_column": 1821
        },
        {
         "userId": 6,
         "movieId": 296,
         "rating": 2,
         "title": "Pulp Fiction",
         "genres": "Comedy|Crime|Drama|Thriller",
         "release_year": 1994,
         "_deepnote_index_column": 1822
        },
        {
         "userId": 8,
         "movieId": 296,
         "rating": 4,
         "title": "Pulp Fiction",
         "genres": "Comedy|Crime|Drama|Thriller",
         "release_year": 1994,
         "_deepnote_index_column": 1823
        }
       ]
      },
      "text/plain": "      userId  movieId  rating         title                       genres  \\\n1819       1      296     3.0  Pulp Fiction  Comedy|Crime|Drama|Thriller   \n1820       4      296     1.0  Pulp Fiction  Comedy|Crime|Drama|Thriller   \n1821       5      296     5.0  Pulp Fiction  Comedy|Crime|Drama|Thriller   \n1822       6      296     2.0  Pulp Fiction  Comedy|Crime|Drama|Thriller   \n1823       8      296     4.0  Pulp Fiction  Comedy|Crime|Drama|Thriller   \n\n      release_year  \n1819        1994.0  \n1820        1994.0  \n1821        1994.0  \n1822        1994.0  \n1823        1994.0  ",
      "text/html": "<div>\n<style scoped>\n    .dataframe tbody tr th:only-of-type {\n        vertical-align: middle;\n    }\n\n    .dataframe tbody tr th {\n        vertical-align: top;\n    }\n\n    .dataframe thead th {\n        text-align: right;\n    }\n</style>\n<table border=\"1\" class=\"dataframe\">\n  <thead>\n    <tr style=\"text-align: right;\">\n      <th></th>\n      <th>userId</th>\n      <th>movieId</th>\n      <th>rating</th>\n      <th>title</th>\n      <th>genres</th>\n      <th>release_year</th>\n    </tr>\n  </thead>\n  <tbody>\n    <tr>\n      <th>1819</th>\n      <td>1</td>\n      <td>296</td>\n      <td>3.0</td>\n      <td>Pulp Fiction</td>\n      <td>Comedy|Crime|Drama|Thriller</td>\n      <td>1994.0</td>\n    </tr>\n    <tr>\n      <th>1820</th>\n      <td>4</td>\n      <td>296</td>\n      <td>1.0</td>\n      <td>Pulp Fiction</td>\n      <td>Comedy|Crime|Drama|Thriller</td>\n      <td>1994.0</td>\n    </tr>\n    <tr>\n      <th>1821</th>\n      <td>5</td>\n      <td>296</td>\n      <td>5.0</td>\n      <td>Pulp Fiction</td>\n      <td>Comedy|Crime|Drama|Thriller</td>\n      <td>1994.0</td>\n    </tr>\n    <tr>\n      <th>1822</th>\n      <td>6</td>\n      <td>296</td>\n      <td>2.0</td>\n      <td>Pulp Fiction</td>\n      <td>Comedy|Crime|Drama|Thriller</td>\n      <td>1994.0</td>\n    </tr>\n    <tr>\n      <th>1823</th>\n      <td>8</td>\n      <td>296</td>\n      <td>4.0</td>\n      <td>Pulp Fiction</td>\n      <td>Comedy|Crime|Drama|Thriller</td>\n      <td>1994.0</td>\n    </tr>\n  </tbody>\n</table>\n</div>"
     },
     "metadata": {}
    }
   ]
  },
  {
   "cell_type": "code",
   "metadata": {
    "cell_id": "7e939ff961154956b988cd3f84f786f4",
    "tags": [],
    "deepnote_to_be_reexecuted": false,
    "source_hash": "18558b56",
    "execution_start": 1658154990361,
    "execution_millis": 168,
    "deepnote_cell_type": "code",
    "deepnote_cell_height": 455,
    "deepnote_output_heights": [
     304
    ]
   },
   "source": "G = nx.Graph()\nG = nx.from_pandas_edgelist(df_movienew, 'title', 'rating')\nnx.draw(G, with_labels=True)\nplt.show()",
   "execution_count": 55,
   "outputs": [
    {
     "data": {
      "text/plain": "<Figure size 432x288 with 1 Axes>",
      "image/png": "[encoded data removed]"
     },
     "metadata": {
      "image/png": {
       "width": 446,
       "height": 302
      }
     },
     "output_type": "display_data"
    }
   ]
  },
  {
   "cell_type": "markdown",
   "source": "### ",
   "metadata": {
    "cell_id": "441748226c6b460187dc47374a2dee4d",
    "tags": [],
    "is_collapsed": false,
    "formattedRanges": [],
    "deepnote_cell_type": "text-cell-h3"
   }
  },
  {
   "cell_type": "markdown",
   "source": "![Picture title](image-20220718-145120.png)",
   "metadata": {
    "cell_id": "17aed658a6b446f58da9dd4d86ca5019",
    "tags": [],
    "deepnote_cell_type": "markdown",
    "deepnote_cell_height": 140
   }
  },
  {
   "cell_type": "code",
   "metadata": {
    "cell_id": "12e7ef82b1a04f69915dce424a7d4bb4",
    "tags": [],
    "deepnote_to_be_reexecuted": false,
    "source_hash": "ec8baa4",
    "execution_start": 1658154998764,
    "execution_millis": 7,
    "deepnote_cell_type": "code",
    "deepnote_cell_height": 266
   },
   "source": "df_87834 = df_movies[df_movies['movieId']==87834]\ndf_87834.head()",
   "execution_count": 56,
   "outputs": [
    {
     "output_type": "execute_result",
     "execution_count": 56,
     "data": {
      "application/vnd.deepnote.dataframe.v3+json": {
       "column_count": 6,
       "row_count": 1,
       "columns": [
        {
         "name": "userId",
         "dtype": "int64",
         "stats": {
          "unique_count": 1,
          "nan_count": 0,
          "min": "89",
          "max": "89",
          "histogram": [
           {
            "bin_start": 88.5,
            "bin_end": 88.6,
            "count": 0
           },
           {
            "bin_start": 88.6,
            "bin_end": 88.7,
            "count": 0
           },
           {
            "bin_start": 88.7,
            "bin_end": 88.8,
            "count": 0
           },
           {
            "bin_start": 88.8,
            "bin_end": 88.9,
            "count": 0
           },
           {
            "bin_start": 88.9,
            "bin_end": 89,
            "count": 0
           },
           {
            "bin_start": 89,
            "bin_end": 89.1,
            "count": 1
           },
           {
            "bin_start": 89.1,
            "bin_end": 89.2,
            "count": 0
           },
           {
            "bin_start": 89.2,
            "bin_end": 89.3,
            "count": 0
           },
           {
            "bin_start": 89.3,
            "bin_end": 89.4,
            "count": 0
           },
           {
            "bin_start": 89.4,
            "bin_end": 89.5,
            "count": 0
           }
          ]
         }
        },
        {
         "name": "movieId",
         "dtype": "int64",
         "stats": {
          "unique_count": 1,
          "nan_count": 0,
          "min": "87834",
          "max": "87834",
          "histogram": [
           {
            "bin_start": 87833.5,
            "bin_end": 87833.6,
            "count": 0
           },
           {
            "bin_start": 87833.6,
            "bin_end": 87833.7,
            "count": 0
           },
           {
            "bin_start": 87833.7,
            "bin_end": 87833.8,
            "count": 0
           },
           {
            "bin_start": 87833.8,
            "bin_end": 87833.9,
            "count": 0
           },
           {
            "bin_start": 87833.9,
            "bin_end": 87834,
            "count": 0
           },
           {
            "bin_start": 87834,
            "bin_end": 87834.1,
            "count": 1
           },
           {
            "bin_start": 87834.1,
            "bin_end": 87834.2,
            "count": 0
           },
           {
            "bin_start": 87834.2,
            "bin_end": 87834.3,
            "count": 0
           },
           {
            "bin_start": 87834.3,
            "bin_end": 87834.4,
            "count": 0
           },
           {
            "bin_start": 87834.4,
            "bin_end": 87834.5,
            "count": 0
           }
          ]
         }
        },
        {
         "name": "rating",
         "dtype": "float64",
         "stats": {
          "unique_count": 1,
          "nan_count": 0,
          "min": "5.0",
          "max": "5.0",
          "histogram": [
           {
            "bin_start": 4.5,
            "bin_end": 4.6,
            "count": 0
           },
           {
            "bin_start": 4.6,
            "bin_end": 4.7,
            "count": 0
           },
           {
            "bin_start": 4.7,
            "bin_end": 4.8,
            "count": 0
           },
           {
            "bin_start": 4.8,
            "bin_end": 4.9,
            "count": 0
           },
           {
            "bin_start": 4.9,
            "bin_end": 5,
            "count": 0
           },
           {
            "bin_start": 5,
            "bin_end": 5.1,
            "count": 1
           },
           {
            "bin_start": 5.1,
            "bin_end": 5.2,
            "count": 0
           },
           {
            "bin_start": 5.2,
            "bin_end": 5.3,
            "count": 0
           },
           {
            "bin_start": 5.3,
            "bin_end": 5.4,
            "count": 0
           },
           {
            "bin_start": 5.4,
            "bin_end": 5.5,
            "count": 0
           }
          ]
         }
        },
        {
         "name": "title",
         "dtype": "object",
         "stats": {
          "unique_count": 1,
          "nan_count": 0,
          "categories": [
           {
            "name": "My Life as McDull (Mak dau goo si)",
            "count": 1
           }
          ]
         }
        },
        {
         "name": "genres",
         "dtype": "object",
         "stats": {
          "unique_count": 1,
          "nan_count": 0,
          "categories": [
           {
            "name": "Animation|Comedy|Drama",
            "count": 1
           }
          ]
         }
        },
        {
         "name": "release_year",
         "dtype": "float64",
         "stats": {
          "unique_count": 1,
          "nan_count": 0,
          "min": "2001.0",
          "max": "2001.0",
          "histogram": [
           {
            "bin_start": 2000.5,
            "bin_end": 2000.6,
            "count": 0
           },
           {
            "bin_start": 2000.6,
            "bin_end": 2000.7,
            "count": 0
           },
           {
            "bin_start": 2000.7,
            "bin_end": 2000.8,
            "count": 0
           },
           {
            "bin_start": 2000.8,
            "bin_end": 2000.9,
            "count": 0
           },
           {
            "bin_start": 2000.9,
            "bin_end": 2001,
            "count": 0
           },
           {
            "bin_start": 2001,
            "bin_end": 2001.1,
            "count": 1
           },
           {
            "bin_start": 2001.1,
            "bin_end": 2001.2,
            "count": 0
           },
           {
            "bin_start": 2001.2,
            "bin_end": 2001.3,
            "count": 0
           },
           {
            "bin_start": 2001.3,
            "bin_end": 2001.4,
            "count": 0
           },
           {
            "bin_start": 2001.4,
            "bin_end": 2001.5,
            "count": 0
           }
          ]
         }
        },
        {
         "name": "_deepnote_index_column",
         "dtype": "int64"
        }
       ],
       "rows": [
        {
         "userId": 89,
         "movieId": 87834,
         "rating": 5,
         "title": "My Life as McDull (Mak dau goo si)",
         "genres": "Animation|Comedy|Drama",
         "release_year": 2001,
         "_deepnote_index_column": 86690
        }
       ]
      },
      "text/plain": "       userId  movieId  rating                               title  \\\n86690      89    87834     5.0  My Life as McDull (Mak dau goo si)   \n\n                       genres  release_year  \n86690  Animation|Comedy|Drama        2001.0  ",
      "text/html": "<div>\n<style scoped>\n    .dataframe tbody tr th:only-of-type {\n        vertical-align: middle;\n    }\n\n    .dataframe tbody tr th {\n        vertical-align: top;\n    }\n\n    .dataframe thead th {\n        text-align: right;\n    }\n</style>\n<table border=\"1\" class=\"dataframe\">\n  <thead>\n    <tr style=\"text-align: right;\">\n      <th></th>\n      <th>userId</th>\n      <th>movieId</th>\n      <th>rating</th>\n      <th>title</th>\n      <th>genres</th>\n      <th>release_year</th>\n    </tr>\n  </thead>\n  <tbody>\n    <tr>\n      <th>86690</th>\n      <td>89</td>\n      <td>87834</td>\n      <td>5.0</td>\n      <td>My Life as McDull (Mak dau goo si)</td>\n      <td>Animation|Comedy|Drama</td>\n      <td>2001.0</td>\n    </tr>\n  </tbody>\n</table>\n</div>"
     },
     "metadata": {}
    }
   ]
  },
  {
   "cell_type": "code",
   "metadata": {
    "cell_id": "623d0b7ec3dd42b8a31c971baa3aeea7",
    "tags": [],
    "deepnote_to_be_reexecuted": false,
    "source_hash": "61c95caa",
    "execution_start": 1658155003960,
    "execution_millis": 9,
    "deepnote_cell_type": "code",
    "deepnote_cell_height": 266
   },
   "source": "df_136359 = df_movies[df_movies['movieId']==136359]\ndf_136359.head()",
   "execution_count": 57,
   "outputs": [
    {
     "output_type": "execute_result",
     "execution_count": 57,
     "data": {
      "application/vnd.deepnote.dataframe.v3+json": {
       "column_count": 6,
       "row_count": 1,
       "columns": [
        {
         "name": "userId",
         "dtype": "int64",
         "stats": {
          "unique_count": 1,
          "nan_count": 0,
          "min": "89",
          "max": "89",
          "histogram": [
           {
            "bin_start": 88.5,
            "bin_end": 88.6,
            "count": 0
           },
           {
            "bin_start": 88.6,
            "bin_end": 88.7,
            "count": 0
           },
           {
            "bin_start": 88.7,
            "bin_end": 88.8,
            "count": 0
           },
           {
            "bin_start": 88.8,
            "bin_end": 88.9,
            "count": 0
           },
           {
            "bin_start": 88.9,
            "bin_end": 89,
            "count": 0
           },
           {
            "bin_start": 89,
            "bin_end": 89.1,
            "count": 1
           },
           {
            "bin_start": 89.1,
            "bin_end": 89.2,
            "count": 0
           },
           {
            "bin_start": 89.2,
            "bin_end": 89.3,
            "count": 0
           },
           {
            "bin_start": 89.3,
            "bin_end": 89.4,
            "count": 0
           },
           {
            "bin_start": 89.4,
            "bin_end": 89.5,
            "count": 0
           }
          ]
         }
        },
        {
         "name": "movieId",
         "dtype": "int64",
         "stats": {
          "unique_count": 1,
          "nan_count": 0,
          "min": "136359",
          "max": "136359",
          "histogram": [
           {
            "bin_start": 136358.5,
            "bin_end": 136358.6,
            "count": 0
           },
           {
            "bin_start": 136358.6,
            "bin_end": 136358.7,
            "count": 0
           },
           {
            "bin_start": 136358.7,
            "bin_end": 136358.8,
            "count": 0
           },
           {
            "bin_start": 136358.8,
            "bin_end": 136358.9,
            "count": 0
           },
           {
            "bin_start": 136358.9,
            "bin_end": 136359,
            "count": 0
           },
           {
            "bin_start": 136359,
            "bin_end": 136359.1,
            "count": 1
           },
           {
            "bin_start": 136359.1,
            "bin_end": 136359.2,
            "count": 0
           },
           {
            "bin_start": 136359.2,
            "bin_end": 136359.3,
            "count": 0
           },
           {
            "bin_start": 136359.3,
            "bin_end": 136359.4,
            "count": 0
           },
           {
            "bin_start": 136359.4,
            "bin_end": 136359.5,
            "count": 0
           }
          ]
         }
        },
        {
         "name": "rating",
         "dtype": "float64",
         "stats": {
          "unique_count": 1,
          "nan_count": 0,
          "min": "5.0",
          "max": "5.0",
          "histogram": [
           {
            "bin_start": 4.5,
            "bin_end": 4.6,
            "count": 0
           },
           {
            "bin_start": 4.6,
            "bin_end": 4.7,
            "count": 0
           },
           {
            "bin_start": 4.7,
            "bin_end": 4.8,
            "count": 0
           },
           {
            "bin_start": 4.8,
            "bin_end": 4.9,
            "count": 0
           },
           {
            "bin_start": 4.9,
            "bin_end": 5,
            "count": 0
           },
           {
            "bin_start": 5,
            "bin_end": 5.1,
            "count": 1
           },
           {
            "bin_start": 5.1,
            "bin_end": 5.2,
            "count": 0
           },
           {
            "bin_start": 5.2,
            "bin_end": 5.3,
            "count": 0
           },
           {
            "bin_start": 5.3,
            "bin_end": 5.4,
            "count": 0
           },
           {
            "bin_start": 5.4,
            "bin_end": 5.5,
            "count": 0
           }
          ]
         }
        },
        {
         "name": "title",
         "dtype": "object",
         "stats": {
          "unique_count": 1,
          "nan_count": 0,
          "categories": [
           {
            "name": "Scooby-Doo Goes Hollywood",
            "count": 1
           }
          ]
         }
        },
        {
         "name": "genres",
         "dtype": "object",
         "stats": {
          "unique_count": 1,
          "nan_count": 0,
          "categories": [
           {
            "name": "Animation|Children|Comedy",
            "count": 1
           }
          ]
         }
        },
        {
         "name": "release_year",
         "dtype": "float64",
         "stats": {
          "unique_count": 1,
          "nan_count": 0,
          "min": "1979.0",
          "max": "1979.0",
          "histogram": [
           {
            "bin_start": 1978.5,
            "bin_end": 1978.6,
            "count": 0
           },
           {
            "bin_start": 1978.6,
            "bin_end": 1978.7,
            "count": 0
           },
           {
            "bin_start": 1978.7,
            "bin_end": 1978.8,
            "count": 0
           },
           {
            "bin_start": 1978.8,
            "bin_end": 1978.9,
            "count": 0
           },
           {
            "bin_start": 1978.9,
            "bin_end": 1979,
            "count": 0
           },
           {
            "bin_start": 1979,
            "bin_end": 1979.1,
            "count": 1
           },
           {
            "bin_start": 1979.1,
            "bin_end": 1979.2,
            "count": 0
           },
           {
            "bin_start": 1979.2,
            "bin_end": 1979.3,
            "count": 0
           },
           {
            "bin_start": 1979.3,
            "bin_end": 1979.4,
            "count": 0
           },
           {
            "bin_start": 1979.4,
            "bin_end": 1979.5,
            "count": 0
           }
          ]
         }
        },
        {
         "name": "_deepnote_index_column",
         "dtype": "int64"
        }
       ],
       "rows": [
        {
         "userId": 89,
         "movieId": 136359,
         "rating": 5,
         "title": "Scooby-Doo Goes Hollywood",
         "genres": "Animation|Children|Comedy",
         "release_year": 1979,
         "_deepnote_index_column": 86888
        }
       ]
      },
      "text/plain": "       userId  movieId  rating                      title  \\\n86888      89   136359     5.0  Scooby-Doo Goes Hollywood   \n\n                          genres  release_year  \n86888  Animation|Children|Comedy        1979.0  ",
      "text/html": "<div>\n<style scoped>\n    .dataframe tbody tr th:only-of-type {\n        vertical-align: middle;\n    }\n\n    .dataframe tbody tr th {\n        vertical-align: top;\n    }\n\n    .dataframe thead th {\n        text-align: right;\n    }\n</style>\n<table border=\"1\" class=\"dataframe\">\n  <thead>\n    <tr style=\"text-align: right;\">\n      <th></th>\n      <th>userId</th>\n      <th>movieId</th>\n      <th>rating</th>\n      <th>title</th>\n      <th>genres</th>\n      <th>release_year</th>\n    </tr>\n  </thead>\n  <tbody>\n    <tr>\n      <th>86888</th>\n      <td>89</td>\n      <td>136359</td>\n      <td>5.0</td>\n      <td>Scooby-Doo Goes Hollywood</td>\n      <td>Animation|Children|Comedy</td>\n      <td>1979.0</td>\n    </tr>\n  </tbody>\n</table>\n</div>"
     },
     "metadata": {}
    }
   ]
  },
  {
   "cell_type": "code",
   "metadata": {
    "cell_id": "bcf8f89bc5564c8186399d3c81bd37a2",
    "tags": [],
    "deepnote_to_be_reexecuted": false,
    "source_hash": "a4a9047a",
    "execution_start": 1658155013935,
    "execution_millis": 12,
    "deepnote_cell_type": "code",
    "deepnote_cell_height": 284
   },
   "source": "df_136341 = df_movies[df_movies['movieId']==136341]\ndf_136341.head()\n",
   "execution_count": 58,
   "outputs": [
    {
     "output_type": "execute_result",
     "execution_count": 58,
     "data": {
      "application/vnd.deepnote.dataframe.v3+json": {
       "column_count": 6,
       "row_count": 1,
       "columns": [
        {
         "name": "userId",
         "dtype": "int64",
         "stats": {
          "unique_count": 1,
          "nan_count": 0,
          "min": "89",
          "max": "89",
          "histogram": [
           {
            "bin_start": 88.5,
            "bin_end": 88.6,
            "count": 0
           },
           {
            "bin_start": 88.6,
            "bin_end": 88.7,
            "count": 0
           },
           {
            "bin_start": 88.7,
            "bin_end": 88.8,
            "count": 0
           },
           {
            "bin_start": 88.8,
            "bin_end": 88.9,
            "count": 0
           },
           {
            "bin_start": 88.9,
            "bin_end": 89,
            "count": 0
           },
           {
            "bin_start": 89,
            "bin_end": 89.1,
            "count": 1
           },
           {
            "bin_start": 89.1,
            "bin_end": 89.2,
            "count": 0
           },
           {
            "bin_start": 89.2,
            "bin_end": 89.3,
            "count": 0
           },
           {
            "bin_start": 89.3,
            "bin_end": 89.4,
            "count": 0
           },
           {
            "bin_start": 89.4,
            "bin_end": 89.5,
            "count": 0
           }
          ]
         }
        },
        {
         "name": "movieId",
         "dtype": "int64",
         "stats": {
          "unique_count": 1,
          "nan_count": 0,
          "min": "136341",
          "max": "136341",
          "histogram": [
           {
            "bin_start": 136340.5,
            "bin_end": 136340.6,
            "count": 0
           },
           {
            "bin_start": 136340.6,
            "bin_end": 136340.7,
            "count": 0
           },
           {
            "bin_start": 136340.7,
            "bin_end": 136340.8,
            "count": 0
           },
           {
            "bin_start": 136340.8,
            "bin_end": 136340.9,
            "count": 0
           },
           {
            "bin_start": 136340.9,
            "bin_end": 136341,
            "count": 0
           },
           {
            "bin_start": 136341,
            "bin_end": 136341.1,
            "count": 1
           },
           {
            "bin_start": 136341.1,
            "bin_end": 136341.2,
            "count": 0
           },
           {
            "bin_start": 136341.2,
            "bin_end": 136341.3,
            "count": 0
           },
           {
            "bin_start": 136341.3,
            "bin_end": 136341.4,
            "count": 0
           },
           {
            "bin_start": 136341.4,
            "bin_end": 136341.5,
            "count": 0
           }
          ]
         }
        },
        {
         "name": "rating",
         "dtype": "float64",
         "stats": {
          "unique_count": 1,
          "nan_count": 0,
          "min": "5.0",
          "max": "5.0",
          "histogram": [
           {
            "bin_start": 4.5,
            "bin_end": 4.6,
            "count": 0
           },
           {
            "bin_start": 4.6,
            "bin_end": 4.7,
            "count": 0
           },
           {
            "bin_start": 4.7,
            "bin_end": 4.8,
            "count": 0
           },
           {
            "bin_start": 4.8,
            "bin_end": 4.9,
            "count": 0
           },
           {
            "bin_start": 4.9,
            "bin_end": 5,
            "count": 0
           },
           {
            "bin_start": 5,
            "bin_end": 5.1,
            "count": 1
           },
           {
            "bin_start": 5.1,
            "bin_end": 5.2,
            "count": 0
           },
           {
            "bin_start": 5.2,
            "bin_end": 5.3,
            "count": 0
           },
           {
            "bin_start": 5.3,
            "bin_end": 5.4,
            "count": 0
           },
           {
            "bin_start": 5.4,
            "bin_end": 5.5,
            "count": 0
           }
          ]
         }
        },
        {
         "name": "title",
         "dtype": "object",
         "stats": {
          "unique_count": 1,
          "nan_count": 0,
          "categories": [
           {
            "name": "Scooby-Doo! and the Samurai Sword",
            "count": 1
           }
          ]
         }
        },
        {
         "name": "genres",
         "dtype": "object",
         "stats": {
          "unique_count": 1,
          "nan_count": 0,
          "categories": [
           {
            "name": "Animation|Children|Comedy",
            "count": 1
           }
          ]
         }
        },
        {
         "name": "release_year",
         "dtype": "float64",
         "stats": {
          "unique_count": 1,
          "nan_count": 0,
          "min": "2009.0",
          "max": "2009.0",
          "histogram": [
           {
            "bin_start": 2008.5,
            "bin_end": 2008.6,
            "count": 0
           },
           {
            "bin_start": 2008.6,
            "bin_end": 2008.7,
            "count": 0
           },
           {
            "bin_start": 2008.7,
            "bin_end": 2008.8,
            "count": 0
           },
           {
            "bin_start": 2008.8,
            "bin_end": 2008.9,
            "count": 0
           },
           {
            "bin_start": 2008.9,
            "bin_end": 2009,
            "count": 0
           },
           {
            "bin_start": 2009,
            "bin_end": 2009.1,
            "count": 1
           },
           {
            "bin_start": 2009.1,
            "bin_end": 2009.2,
            "count": 0
           },
           {
            "bin_start": 2009.2,
            "bin_end": 2009.3,
            "count": 0
           },
           {
            "bin_start": 2009.3,
            "bin_end": 2009.4,
            "count": 0
           },
           {
            "bin_start": 2009.4,
            "bin_end": 2009.5,
            "count": 0
           }
          ]
         }
        },
        {
         "name": "_deepnote_index_column",
         "dtype": "int64"
        }
       ],
       "rows": [
        {
         "userId": 89,
         "movieId": 136341,
         "rating": 5,
         "title": "Scooby-Doo! and the Samurai Sword",
         "genres": "Animation|Children|Comedy",
         "release_year": 2009,
         "_deepnote_index_column": 86885
        }
       ]
      },
      "text/plain": "       userId  movieId  rating                              title  \\\n86885      89   136341     5.0  Scooby-Doo! and the Samurai Sword   \n\n                          genres  release_year  \n86885  Animation|Children|Comedy        2009.0  ",
      "text/html": "<div>\n<style scoped>\n    .dataframe tbody tr th:only-of-type {\n        vertical-align: middle;\n    }\n\n    .dataframe tbody tr th {\n        vertical-align: top;\n    }\n\n    .dataframe thead th {\n        text-align: right;\n    }\n</style>\n<table border=\"1\" class=\"dataframe\">\n  <thead>\n    <tr style=\"text-align: right;\">\n      <th></th>\n      <th>userId</th>\n      <th>movieId</th>\n      <th>rating</th>\n      <th>title</th>\n      <th>genres</th>\n      <th>release_year</th>\n    </tr>\n  </thead>\n  <tbody>\n    <tr>\n      <th>86885</th>\n      <td>89</td>\n      <td>136341</td>\n      <td>5.0</td>\n      <td>Scooby-Doo! and the Samurai Sword</td>\n      <td>Animation|Children|Comedy</td>\n      <td>2009.0</td>\n    </tr>\n  </tbody>\n</table>\n</div>"
     },
     "metadata": {}
    }
   ]
  },
  {
   "cell_type": "code",
   "metadata": {
    "cell_id": "28db91257d9c4a8dbd37667175e18f06",
    "tags": [],
    "deepnote_to_be_reexecuted": false,
    "source_hash": "6ada322e",
    "execution_start": 1658155017932,
    "execution_millis": 320,
    "deepnote_cell_type": "code",
    "deepnote_cell_height": 266
   },
   "source": "df_136353 = df_movies[df_movies['movieId']==136353]\ndf_136353.head()",
   "execution_count": 59,
   "outputs": [
    {
     "output_type": "execute_result",
     "execution_count": 59,
     "data": {
      "application/vnd.deepnote.dataframe.v3+json": {
       "column_count": 6,
       "row_count": 1,
       "columns": [
        {
         "name": "userId",
         "dtype": "int64",
         "stats": {
          "unique_count": 1,
          "nan_count": 0,
          "min": "89",
          "max": "89",
          "histogram": [
           {
            "bin_start": 88.5,
            "bin_end": 88.6,
            "count": 0
           },
           {
            "bin_start": 88.6,
            "bin_end": 88.7,
            "count": 0
           },
           {
            "bin_start": 88.7,
            "bin_end": 88.8,
            "count": 0
           },
           {
            "bin_start": 88.8,
            "bin_end": 88.9,
            "count": 0
           },
           {
            "bin_start": 88.9,
            "bin_end": 89,
            "count": 0
           },
           {
            "bin_start": 89,
            "bin_end": 89.1,
            "count": 1
           },
           {
            "bin_start": 89.1,
            "bin_end": 89.2,
            "count": 0
           },
           {
            "bin_start": 89.2,
            "bin_end": 89.3,
            "count": 0
           },
           {
            "bin_start": 89.3,
            "bin_end": 89.4,
            "count": 0
           },
           {
            "bin_start": 89.4,
            "bin_end": 89.5,
            "count": 0
           }
          ]
         }
        },
        {
         "name": "movieId",
         "dtype": "int64",
         "stats": {
          "unique_count": 1,
          "nan_count": 0,
          "min": "136353",
          "max": "136353",
          "histogram": [
           {
            "bin_start": 136352.5,
            "bin_end": 136352.6,
            "count": 0
           },
           {
            "bin_start": 136352.6,
            "bin_end": 136352.7,
            "count": 0
           },
           {
            "bin_start": 136352.7,
            "bin_end": 136352.8,
            "count": 0
           },
           {
            "bin_start": 136352.8,
            "bin_end": 136352.9,
            "count": 0
           },
           {
            "bin_start": 136352.9,
            "bin_end": 136353,
            "count": 0
           },
           {
            "bin_start": 136353,
            "bin_end": 136353.1,
            "count": 1
           },
           {
            "bin_start": 136353.1,
            "bin_end": 136353.2,
            "count": 0
           },
           {
            "bin_start": 136353.2,
            "bin_end": 136353.3,
            "count": 0
           },
           {
            "bin_start": 136353.3,
            "bin_end": 136353.4,
            "count": 0
           },
           {
            "bin_start": 136353.4,
            "bin_end": 136353.5,
            "count": 0
           }
          ]
         }
        },
        {
         "name": "rating",
         "dtype": "float64",
         "stats": {
          "unique_count": 1,
          "nan_count": 0,
          "min": "5.0",
          "max": "5.0",
          "histogram": [
           {
            "bin_start": 4.5,
            "bin_end": 4.6,
            "count": 0
           },
           {
            "bin_start": 4.6,
            "bin_end": 4.7,
            "count": 0
           },
           {
            "bin_start": 4.7,
            "bin_end": 4.8,
            "count": 0
           },
           {
            "bin_start": 4.8,
            "bin_end": 4.9,
            "count": 0
           },
           {
            "bin_start": 4.9,
            "bin_end": 5,
            "count": 0
           },
           {
            "bin_start": 5,
            "bin_end": 5.1,
            "count": 1
           },
           {
            "bin_start": 5.1,
            "bin_end": 5.2,
            "count": 0
           },
           {
            "bin_start": 5.2,
            "bin_end": 5.3,
            "count": 0
           },
           {
            "bin_start": 5.3,
            "bin_end": 5.4,
            "count": 0
           },
           {
            "bin_start": 5.4,
            "bin_end": 5.5,
            "count": 0
           }
          ]
         }
        },
        {
         "name": "title",
         "dtype": "object",
         "stats": {
          "unique_count": 1,
          "nan_count": 0,
          "categories": [
           {
            "name": "Scooby-Doo! and the Loch Ness Monster",
            "count": 1
           }
          ]
         }
        },
        {
         "name": "genres",
         "dtype": "object",
         "stats": {
          "unique_count": 1,
          "nan_count": 0,
          "categories": [
           {
            "name": "Animation|Children|Comedy",
            "count": 1
           }
          ]
         }
        },
        {
         "name": "release_year",
         "dtype": "float64",
         "stats": {
          "unique_count": 1,
          "nan_count": 0,
          "min": "2004.0",
          "max": "2004.0",
          "histogram": [
           {
            "bin_start": 2003.5,
            "bin_end": 2003.6,
            "count": 0
           },
           {
            "bin_start": 2003.6,
            "bin_end": 2003.7,
            "count": 0
           },
           {
            "bin_start": 2003.7,
            "bin_end": 2003.8,
            "count": 0
           },
           {
            "bin_start": 2003.8,
            "bin_end": 2003.9,
            "count": 0
           },
           {
            "bin_start": 2003.9,
            "bin_end": 2004,
            "count": 0
           },
           {
            "bin_start": 2004,
            "bin_end": 2004.1,
            "count": 1
           },
           {
            "bin_start": 2004.1,
            "bin_end": 2004.2,
            "count": 0
           },
           {
            "bin_start": 2004.2,
            "bin_end": 2004.3,
            "count": 0
           },
           {
            "bin_start": 2004.3,
            "bin_end": 2004.4,
            "count": 0
           },
           {
            "bin_start": 2004.4,
            "bin_end": 2004.5,
            "count": 0
           }
          ]
         }
        },
        {
         "name": "_deepnote_index_column",
         "dtype": "int64"
        }
       ],
       "rows": [
        {
         "userId": 89,
         "movieId": 136353,
         "rating": 5,
         "title": "Scooby-Doo! and the Loch Ness Monster",
         "genres": "Animation|Children|Comedy",
         "release_year": 2004,
         "_deepnote_index_column": 86886
        }
       ]
      },
      "text/plain": "       userId  movieId  rating                                  title  \\\n86886      89   136353     5.0  Scooby-Doo! and the Loch Ness Monster   \n\n                          genres  release_year  \n86886  Animation|Children|Comedy        2004.0  ",
      "text/html": "<div>\n<style scoped>\n    .dataframe tbody tr th:only-of-type {\n        vertical-align: middle;\n    }\n\n    .dataframe tbody tr th {\n        vertical-align: top;\n    }\n\n    .dataframe thead th {\n        text-align: right;\n    }\n</style>\n<table border=\"1\" class=\"dataframe\">\n  <thead>\n    <tr style=\"text-align: right;\">\n      <th></th>\n      <th>userId</th>\n      <th>movieId</th>\n      <th>rating</th>\n      <th>title</th>\n      <th>genres</th>\n      <th>release_year</th>\n    </tr>\n  </thead>\n  <tbody>\n    <tr>\n      <th>86886</th>\n      <td>89</td>\n      <td>136353</td>\n      <td>5.0</td>\n      <td>Scooby-Doo! and the Loch Ness Monster</td>\n      <td>Animation|Children|Comedy</td>\n      <td>2004.0</td>\n    </tr>\n  </tbody>\n</table>\n</div>"
     },
     "metadata": {}
    }
   ]
  },
  {
   "cell_type": "code",
   "metadata": {
    "cell_id": "59805ffaf1fb43a9b307e44c2c2ab018",
    "tags": [],
    "deepnote_to_be_reexecuted": false,
    "source_hash": "238b1554",
    "execution_start": 1658155020565,
    "execution_millis": 528,
    "deepnote_cell_type": "code",
    "deepnote_cell_height": 266
   },
   "source": "df_136355 = df_movies[df_movies['movieId']==136355]\ndf_136355.head()",
   "execution_count": 60,
   "outputs": [
    {
     "output_type": "execute_result",
     "execution_count": 60,
     "data": {
      "application/vnd.deepnote.dataframe.v3+json": {
       "column_count": 6,
       "row_count": 1,
       "columns": [
        {
         "name": "userId",
         "dtype": "int64",
         "stats": {
          "unique_count": 1,
          "nan_count": 0,
          "min": "89",
          "max": "89",
          "histogram": [
           {
            "bin_start": 88.5,
            "bin_end": 88.6,
            "count": 0
           },
           {
            "bin_start": 88.6,
            "bin_end": 88.7,
            "count": 0
           },
           {
            "bin_start": 88.7,
            "bin_end": 88.8,
            "count": 0
           },
           {
            "bin_start": 88.8,
            "bin_end": 88.9,
            "count": 0
           },
           {
            "bin_start": 88.9,
            "bin_end": 89,
            "count": 0
           },
           {
            "bin_start": 89,
            "bin_end": 89.1,
            "count": 1
           },
           {
            "bin_start": 89.1,
            "bin_end": 89.2,
            "count": 0
           },
           {
            "bin_start": 89.2,
            "bin_end": 89.3,
            "count": 0
           },
           {
            "bin_start": 89.3,
            "bin_end": 89.4,
            "count": 0
           },
           {
            "bin_start": 89.4,
            "bin_end": 89.5,
            "count": 0
           }
          ]
         }
        },
        {
         "name": "movieId",
         "dtype": "int64",
         "stats": {
          "unique_count": 1,
          "nan_count": 0,
          "min": "136355",
          "max": "136355",
          "histogram": [
           {
            "bin_start": 136354.5,
            "bin_end": 136354.6,
            "count": 0
           },
           {
            "bin_start": 136354.6,
            "bin_end": 136354.7,
            "count": 0
           },
           {
            "bin_start": 136354.7,
            "bin_end": 136354.8,
            "count": 0
           },
           {
            "bin_start": 136354.8,
            "bin_end": 136354.9,
            "count": 0
           },
           {
            "bin_start": 136354.9,
            "bin_end": 136355,
            "count": 0
           },
           {
            "bin_start": 136355,
            "bin_end": 136355.1,
            "count": 1
           },
           {
            "bin_start": 136355.1,
            "bin_end": 136355.2,
            "count": 0
           },
           {
            "bin_start": 136355.2,
            "bin_end": 136355.3,
            "count": 0
           },
           {
            "bin_start": 136355.3,
            "bin_end": 136355.4,
            "count": 0
           },
           {
            "bin_start": 136355.4,
            "bin_end": 136355.5,
            "count": 0
           }
          ]
         }
        },
        {
         "name": "rating",
         "dtype": "float64",
         "stats": {
          "unique_count": 1,
          "nan_count": 0,
          "min": "5.0",
          "max": "5.0",
          "histogram": [
           {
            "bin_start": 4.5,
            "bin_end": 4.6,
            "count": 0
           },
           {
            "bin_start": 4.6,
            "bin_end": 4.7,
            "count": 0
           },
           {
            "bin_start": 4.7,
            "bin_end": 4.8,
            "count": 0
           },
           {
            "bin_start": 4.8,
            "bin_end": 4.9,
            "count": 0
           },
           {
            "bin_start": 4.9,
            "bin_end": 5,
            "count": 0
           },
           {
            "bin_start": 5,
            "bin_end": 5.1,
            "count": 1
           },
           {
            "bin_start": 5.1,
            "bin_end": 5.2,
            "count": 0
           },
           {
            "bin_start": 5.2,
            "bin_end": 5.3,
            "count": 0
           },
           {
            "bin_start": 5.3,
            "bin_end": 5.4,
            "count": 0
           },
           {
            "bin_start": 5.4,
            "bin_end": 5.5,
            "count": 0
           }
          ]
         }
        },
        {
         "name": "title",
         "dtype": "object",
         "stats": {
          "unique_count": 1,
          "nan_count": 0,
          "categories": [
           {
            "name": "Big Top Scooby-Doo!",
            "count": 1
           }
          ]
         }
        },
        {
         "name": "genres",
         "dtype": "object",
         "stats": {
          "unique_count": 1,
          "nan_count": 0,
          "categories": [
           {
            "name": "Animation|Children|Comedy",
            "count": 1
           }
          ]
         }
        },
        {
         "name": "release_year",
         "dtype": "float64",
         "stats": {
          "unique_count": 1,
          "nan_count": 0,
          "min": "2012.0",
          "max": "2012.0",
          "histogram": [
           {
            "bin_start": 2011.5,
            "bin_end": 2011.6,
            "count": 0
           },
           {
            "bin_start": 2011.6,
            "bin_end": 2011.7,
            "count": 0
           },
           {
            "bin_start": 2011.7,
            "bin_end": 2011.8,
            "count": 0
           },
           {
            "bin_start": 2011.8,
            "bin_end": 2011.9,
            "count": 0
           },
           {
            "bin_start": 2011.9,
            "bin_end": 2012,
            "count": 0
           },
           {
            "bin_start": 2012,
            "bin_end": 2012.1,
            "count": 1
           },
           {
            "bin_start": 2012.1,
            "bin_end": 2012.2,
            "count": 0
           },
           {
            "bin_start": 2012.2,
            "bin_end": 2012.3,
            "count": 0
           },
           {
            "bin_start": 2012.3,
            "bin_end": 2012.4,
            "count": 0
           },
           {
            "bin_start": 2012.4,
            "bin_end": 2012.5,
            "count": 0
           }
          ]
         }
        },
        {
         "name": "_deepnote_index_column",
         "dtype": "int64"
        }
       ],
       "rows": [
        {
         "userId": 89,
         "movieId": 136355,
         "rating": 5,
         "title": "Big Top Scooby-Doo!",
         "genres": "Animation|Children|Comedy",
         "release_year": 2012,
         "_deepnote_index_column": 86887
        }
       ]
      },
      "text/plain": "       userId  movieId  rating                title  \\\n86887      89   136355     5.0  Big Top Scooby-Doo!   \n\n                          genres  release_year  \n86887  Animation|Children|Comedy        2012.0  ",
      "text/html": "<div>\n<style scoped>\n    .dataframe tbody tr th:only-of-type {\n        vertical-align: middle;\n    }\n\n    .dataframe tbody tr th {\n        vertical-align: top;\n    }\n\n    .dataframe thead th {\n        text-align: right;\n    }\n</style>\n<table border=\"1\" class=\"dataframe\">\n  <thead>\n    <tr style=\"text-align: right;\">\n      <th></th>\n      <th>userId</th>\n      <th>movieId</th>\n      <th>rating</th>\n      <th>title</th>\n      <th>genres</th>\n      <th>release_year</th>\n    </tr>\n  </thead>\n  <tbody>\n    <tr>\n      <th>86887</th>\n      <td>89</td>\n      <td>136355</td>\n      <td>5.0</td>\n      <td>Big Top Scooby-Doo!</td>\n      <td>Animation|Children|Comedy</td>\n      <td>2012.0</td>\n    </tr>\n  </tbody>\n</table>\n</div>"
     },
     "metadata": {}
    }
   ]
  },
  {
   "cell_type": "code",
   "metadata": {
    "cell_id": "98d627598bfe467da7894da3683c5ff3",
    "tags": [],
    "deepnote_to_be_reexecuted": false,
    "source_hash": "c943cc88",
    "execution_start": 1658155024184,
    "execution_millis": 2,
    "deepnote_cell_type": "code",
    "deepnote_cell_height": 99
   },
   "source": "#Concatenating of all extracted user id data into a single datframe.\ndf_movierelationship= pd.concat([df_87834,df_136355,df_136353,df_136341, df_136359])",
   "execution_count": 61,
   "outputs": []
  },
  {
   "cell_type": "code",
   "metadata": {
    "cell_id": "7ce3c75e1c874e0fb7d468c4d44b4727",
    "tags": [],
    "deepnote_to_be_reexecuted": false,
    "source_hash": "c81f6960",
    "execution_start": 1658155027249,
    "execution_millis": 29,
    "deepnote_cell_type": "code",
    "deepnote_cell_height": 412
   },
   "source": "df_movierelationship.head()",
   "execution_count": 62,
   "outputs": [
    {
     "output_type": "execute_result",
     "execution_count": 62,
     "data": {
      "application/vnd.deepnote.dataframe.v3+json": {
       "column_count": 6,
       "row_count": 5,
       "columns": [
        {
         "name": "userId",
         "dtype": "int64",
         "stats": {
          "unique_count": 1,
          "nan_count": 0,
          "min": "89",
          "max": "89",
          "histogram": [
           {
            "bin_start": 88.5,
            "bin_end": 88.6,
            "count": 0
           },
           {
            "bin_start": 88.6,
            "bin_end": 88.7,
            "count": 0
           },
           {
            "bin_start": 88.7,
            "bin_end": 88.8,
            "count": 0
           },
           {
            "bin_start": 88.8,
            "bin_end": 88.9,
            "count": 0
           },
           {
            "bin_start": 88.9,
            "bin_end": 89,
            "count": 0
           },
           {
            "bin_start": 89,
            "bin_end": 89.1,
            "count": 5
           },
           {
            "bin_start": 89.1,
            "bin_end": 89.2,
            "count": 0
           },
           {
            "bin_start": 89.2,
            "bin_end": 89.3,
            "count": 0
           },
           {
            "bin_start": 89.3,
            "bin_end": 89.4,
            "count": 0
           },
           {
            "bin_start": 89.4,
            "bin_end": 89.5,
            "count": 0
           }
          ]
         }
        },
        {
         "name": "movieId",
         "dtype": "int64",
         "stats": {
          "unique_count": 5,
          "nan_count": 0,
          "min": "87834",
          "max": "136359",
          "histogram": [
           {
            "bin_start": 87834,
            "bin_end": 92686.5,
            "count": 1
           },
           {
            "bin_start": 92686.5,
            "bin_end": 97539,
            "count": 0
           },
           {
            "bin_start": 97539,
            "bin_end": 102391.5,
            "count": 0
           },
           {
            "bin_start": 102391.5,
            "bin_end": 107244,
            "count": 0
           },
           {
            "bin_start": 107244,
            "bin_end": 112096.5,
            "count": 0
           },
           {
            "bin_start": 112096.5,
            "bin_end": 116949,
            "count": 0
           },
           {
            "bin_start": 116949,
            "bin_end": 121801.5,
            "count": 0
           },
           {
            "bin_start": 121801.5,
            "bin_end": 126654,
            "count": 0
           },
           {
            "bin_start": 126654,
            "bin_end": 131506.5,
            "count": 0
           },
           {
            "bin_start": 131506.5,
            "bin_end": 136359,
            "count": 4
           }
          ]
         }
        },
        {
         "name": "rating",
         "dtype": "float64",
         "stats": {
          "unique_count": 1,
          "nan_count": 0,
          "min": "5.0",
          "max": "5.0",
          "histogram": [
           {
            "bin_start": 4.5,
            "bin_end": 4.6,
            "count": 0
           },
           {
            "bin_start": 4.6,
            "bin_end": 4.7,
            "count": 0
           },
           {
            "bin_start": 4.7,
            "bin_end": 4.8,
            "count": 0
           },
           {
            "bin_start": 4.8,
            "bin_end": 4.9,
            "count": 0
           },
           {
            "bin_start": 4.9,
            "bin_end": 5,
            "count": 0
           },
           {
            "bin_start": 5,
            "bin_end": 5.1,
            "count": 5
           },
           {
            "bin_start": 5.1,
            "bin_end": 5.2,
            "count": 0
           },
           {
            "bin_start": 5.2,
            "bin_end": 5.3,
            "count": 0
           },
           {
            "bin_start": 5.3,
            "bin_end": 5.4,
            "count": 0
           },
           {
            "bin_start": 5.4,
            "bin_end": 5.5,
            "count": 0
           }
          ]
         }
        },
        {
         "name": "title",
         "dtype": "object",
         "stats": {
          "unique_count": 5,
          "nan_count": 0,
          "categories": [
           {
            "name": "My Life as McDull (Mak dau goo si)",
            "count": 1
           },
           {
            "name": "Big Top Scooby-Doo!",
            "count": 1
           },
           {
            "name": "3 others",
            "count": 3
           }
          ]
         }
        },
        {
         "name": "genres",
         "dtype": "object",
         "stats": {
          "unique_count": 2,
          "nan_count": 0,
          "categories": [
           {
            "name": "Animation|Children|Comedy",
            "count": 4
           },
           {
            "name": "Animation|Comedy|Drama",
            "count": 1
           }
          ]
         }
        },
        {
         "name": "release_year",
         "dtype": "float64",
         "stats": {
          "unique_count": 5,
          "nan_count": 0,
          "min": "1979.0",
          "max": "2012.0",
          "histogram": [
           {
            "bin_start": 1979,
            "bin_end": 1982.3,
            "count": 1
           },
           {
            "bin_start": 1982.3,
            "bin_end": 1985.6,
            "count": 0
           },
           {
            "bin_start": 1985.6,
            "bin_end": 1988.9,
            "count": 0
           },
           {
            "bin_start": 1988.9,
            "bin_end": 1992.2,
            "count": 0
           },
           {
            "bin_start": 1992.2,
            "bin_end": 1995.5,
            "count": 0
           },
           {
            "bin_start": 1995.5,
            "bin_end": 1998.8,
            "count": 0
           },
           {
            "bin_start": 1998.8,
            "bin_end": 2002.1,
            "count": 1
           },
           {
            "bin_start": 2002.1,
            "bin_end": 2005.4,
            "count": 1
           },
           {
            "bin_start": 2005.4,
            "bin_end": 2008.7,
            "count": 0
           },
           {
            "bin_start": 2008.7,
            "bin_end": 2012,
            "count": 2
           }
          ]
         }
        },
        {
         "name": "_deepnote_index_column",
         "dtype": "int64"
        }
       ],
       "rows": [
        {
         "userId": 89,
         "movieId": 87834,
         "rating": 5,
         "title": "My Life as McDull (Mak dau goo si)",
         "genres": "Animation|Comedy|Drama",
         "release_year": 2001,
         "_deepnote_index_column": 86690
        },
        {
         "userId": 89,
         "movieId": 136355,
         "rating": 5,
         "title": "Big Top Scooby-Doo!",
         "genres": "Animation|Children|Comedy",
         "release_year": 2012,
         "_deepnote_index_column": 86887
        },
        {
         "userId": 89,
         "movieId": 136353,
         "rating": 5,
         "title": "Scooby-Doo! and the Loch Ness Monster",
         "genres": "Animation|Children|Comedy",
         "release_year": 2004,
         "_deepnote_index_column": 86886
        },
        {
         "userId": 89,
         "movieId": 136341,
         "rating": 5,
         "title": "Scooby-Doo! and the Samurai Sword",
         "genres": "Animation|Children|Comedy",
         "release_year": 2009,
         "_deepnote_index_column": 86885
        },
        {
         "userId": 89,
         "movieId": 136359,
         "rating": 5,
         "title": "Scooby-Doo Goes Hollywood",
         "genres": "Animation|Children|Comedy",
         "release_year": 1979,
         "_deepnote_index_column": 86888
        }
       ]
      },
      "text/plain": "       userId  movieId  rating                                  title  \\\n86690      89    87834     5.0     My Life as McDull (Mak dau goo si)   \n86887      89   136355     5.0                    Big Top Scooby-Doo!   \n86886      89   136353     5.0  Scooby-Doo! and the Loch Ness Monster   \n86885      89   136341     5.0      Scooby-Doo! and the Samurai Sword   \n86888      89   136359     5.0              Scooby-Doo Goes Hollywood   \n\n                          genres  release_year  \n86690     Animation|Comedy|Drama        2001.0  \n86887  Animation|Children|Comedy        2012.0  \n86886  Animation|Children|Comedy        2004.0  \n86885  Animation|Children|Comedy        2009.0  \n86888  Animation|Children|Comedy        1979.0  ",
      "text/html": "<div>\n<style scoped>\n    .dataframe tbody tr th:only-of-type {\n        vertical-align: middle;\n    }\n\n    .dataframe tbody tr th {\n        vertical-align: top;\n    }\n\n    .dataframe thead th {\n        text-align: right;\n    }\n</style>\n<table border=\"1\" class=\"dataframe\">\n  <thead>\n    <tr style=\"text-align: right;\">\n      <th></th>\n      <th>userId</th>\n      <th>movieId</th>\n      <th>rating</th>\n      <th>title</th>\n      <th>genres</th>\n      <th>release_year</th>\n    </tr>\n  </thead>\n  <tbody>\n    <tr>\n      <th>86690</th>\n      <td>89</td>\n      <td>87834</td>\n      <td>5.0</td>\n      <td>My Life as McDull (Mak dau goo si)</td>\n      <td>Animation|Comedy|Drama</td>\n      <td>2001.0</td>\n    </tr>\n    <tr>\n      <th>86887</th>\n      <td>89</td>\n      <td>136355</td>\n      <td>5.0</td>\n      <td>Big Top Scooby-Doo!</td>\n      <td>Animation|Children|Comedy</td>\n      <td>2012.0</td>\n    </tr>\n    <tr>\n      <th>86886</th>\n      <td>89</td>\n      <td>136353</td>\n      <td>5.0</td>\n      <td>Scooby-Doo! and the Loch Ness Monster</td>\n      <td>Animation|Children|Comedy</td>\n      <td>2004.0</td>\n    </tr>\n    <tr>\n      <th>86885</th>\n      <td>89</td>\n      <td>136341</td>\n      <td>5.0</td>\n      <td>Scooby-Doo! and the Samurai Sword</td>\n      <td>Animation|Children|Comedy</td>\n      <td>2009.0</td>\n    </tr>\n    <tr>\n      <th>86888</th>\n      <td>89</td>\n      <td>136359</td>\n      <td>5.0</td>\n      <td>Scooby-Doo Goes Hollywood</td>\n      <td>Animation|Children|Comedy</td>\n      <td>1979.0</td>\n    </tr>\n  </tbody>\n</table>\n</div>"
     },
     "metadata": {}
    }
   ]
  },
  {
   "cell_type": "code",
   "metadata": {
    "cell_id": "ede674e785584b79acfa54cca46dd3fc",
    "deepnote_variable_name": "input_1",
    "deepnote_variable_value": "The movies in the graph below are all ‘Animation|Children|Comedy’ rated five by the user with id 89 over each decade.  ",
    "deepnote_to_be_reexecuted": true,
    "source_hash": "1be51880",
    "execution_start": 1658144663451,
    "execution_millis": 1,
    "deepnote_cell_type": "input-text"
   },
   "source": "input_1 = 'The movies in the graph below are all ‘Animation|Children|Comedy’ rated five by the user with id 89 over each decade.  '",
   "execution_count": null,
   "outputs": []
  },
  {
   "cell_type": "markdown",
   "source": "![Picture title](image-20220718-124315.png)",
   "metadata": {
    "cell_id": "b3928f1de4c249aaba7cc7230b6b7866",
    "tags": [],
    "deepnote_cell_type": "markdown",
    "deepnote_cell_height": 97.34375
   }
  },
  {
   "cell_type": "code",
   "metadata": {
    "cell_id": "172cb490de7d482a87aa7d199e1ea7b5",
    "tags": [],
    "deepnote_to_be_reexecuted": false,
    "source_hash": "5584ccda",
    "execution_start": 1658155030392,
    "execution_millis": 194,
    "deepnote_cell_type": "code",
    "deepnote_cell_height": 455,
    "deepnote_output_heights": [
     304
    ]
   },
   "source": "G = nx.Graph()\nG = nx.from_pandas_edgelist(df_movierelationship, 'title', 'userId')\nnx.draw(G, with_labels=True)\nplt.show()",
   "execution_count": 63,
   "outputs": [
    {
     "data": {
      "text/plain": "<Figure size 432x288 with 1 Axes>",
      "image/png": "[encoded data removed]"
     },
     "metadata": {
      "image/png": {
       "width": 446,
       "height": 302
      }
     },
     "output_type": "display_data"
    }
   ]
  },
  {
   "cell_type": "markdown",
   "source": "### Relationship between the most rated movies(Movie to Movie similarities)",
   "metadata": {
    "cell_id": "c2f31e254e304dcfaaad5d82c59b0cbc",
    "tags": [],
    "is_collapsed": false,
    "formattedRanges": [],
    "deepnote_cell_type": "text-cell-h3"
   }
  },
  {
   "cell_type": "code",
   "source": "# Lets see the count of each rating given by users\ndf_movies.groupby('title')['rating'].count().sort_values(ascending=False).head()",
   "metadata": {
    "cell_id": "895e0e929828435cab2ef057dd48bfe9",
    "tags": [],
    "deepnote_to_be_reexecuted": false,
    "source_hash": "389085b0",
    "execution_start": 1658155074954,
    "execution_millis": 232,
    "deepnote_cell_type": "code",
    "deepnote_cell_height": 251.359375,
    "deepnote_output_heights": [
     136.359375
    ]
   },
   "outputs": [
    {
     "output_type": "execute_result",
     "execution_count": 64,
     "data": {
      "text/plain": "title\nForrest Gump                 329\nShawshank Redemption, The    317\nPulp Fiction                 307\nSilence of the Lambs, The    279\nMatrix, The                  278\nName: rating, dtype: int64"
     },
     "metadata": {}
    }
   ],
   "execution_count": 64
  },
  {
   "cell_type": "code",
   "source": "df_356 = df_movies[df_movies['movieId']==356]\ndf_356.head()",
   "metadata": {
    "cell_id": "76ff74dad31a47b889bf9a19994f1b81",
    "tags": [],
    "deepnote_to_be_reexecuted": false,
    "source_hash": "cc2fd1f7",
    "execution_start": 1658155286635,
    "execution_millis": 643,
    "deepnote_cell_type": "code",
    "deepnote_cell_height": 430
   },
   "outputs": [
    {
     "output_type": "execute_result",
     "execution_count": 66,
     "data": {
      "application/vnd.deepnote.dataframe.v3+json": {
       "column_count": 6,
       "row_count": 5,
       "columns": [
        {
         "name": "userId",
         "dtype": "int64",
         "stats": {
          "unique_count": 5,
          "nan_count": 0,
          "min": "1",
          "max": "10",
          "histogram": [
           {
            "bin_start": 1,
            "bin_end": 1.9,
            "count": 1
           },
           {
            "bin_start": 1.9,
            "bin_end": 2.8,
            "count": 0
           },
           {
            "bin_start": 2.8,
            "bin_end": 3.7,
            "count": 0
           },
           {
            "bin_start": 3.7,
            "bin_end": 4.6,
            "count": 0
           },
           {
            "bin_start": 4.6,
            "bin_end": 5.5,
            "count": 0
           },
           {
            "bin_start": 5.5,
            "bin_end": 6.4,
            "count": 1
           },
           {
            "bin_start": 6.4,
            "bin_end": 7.3,
            "count": 1
           },
           {
            "bin_start": 7.3,
            "bin_end": 8.2,
            "count": 1
           },
           {
            "bin_start": 8.2,
            "bin_end": 9.1,
            "count": 0
           },
           {
            "bin_start": 9.1,
            "bin_end": 10,
            "count": 1
           }
          ]
         }
        },
        {
         "name": "movieId",
         "dtype": "int64",
         "stats": {
          "unique_count": 1,
          "nan_count": 0,
          "min": "356",
          "max": "356",
          "histogram": [
           {
            "bin_start": 355.5,
            "bin_end": 355.6,
            "count": 0
           },
           {
            "bin_start": 355.6,
            "bin_end": 355.7,
            "count": 0
           },
           {
            "bin_start": 355.7,
            "bin_end": 355.8,
            "count": 0
           },
           {
            "bin_start": 355.8,
            "bin_end": 355.9,
            "count": 0
           },
           {
            "bin_start": 355.9,
            "bin_end": 356,
            "count": 0
           },
           {
            "bin_start": 356,
            "bin_end": 356.1,
            "count": 5
           },
           {
            "bin_start": 356.1,
            "bin_end": 356.2,
            "count": 0
           },
           {
            "bin_start": 356.2,
            "bin_end": 356.3,
            "count": 0
           },
           {
            "bin_start": 356.3,
            "bin_end": 356.4,
            "count": 0
           },
           {
            "bin_start": 356.4,
            "bin_end": 356.5,
            "count": 0
           }
          ]
         }
        },
        {
         "name": "rating",
         "dtype": "float64",
         "stats": {
          "unique_count": 4,
          "nan_count": 0,
          "min": "3.0",
          "max": "5.0",
          "histogram": [
           {
            "bin_start": 3,
            "bin_end": 3.2,
            "count": 1
           },
           {
            "bin_start": 3.2,
            "bin_end": 3.4,
            "count": 0
           },
           {
            "bin_start": 3.4,
            "bin_end": 3.6,
            "count": 1
           },
           {
            "bin_start": 3.6,
            "bin_end": 3.8,
            "count": 0
           },
           {
            "bin_start": 3.8,
            "bin_end": 4,
            "count": 0
           },
           {
            "bin_start": 4,
            "bin_end": 4.2,
            "count": 1
           },
           {
            "bin_start": 4.2,
            "bin_end": 4.4,
            "count": 0
           },
           {
            "bin_start": 4.4,
            "bin_end": 4.6,
            "count": 0
           },
           {
            "bin_start": 4.6,
            "bin_end": 4.8,
            "count": 0
           },
           {
            "bin_start": 4.8,
            "bin_end": 5,
            "count": 2
           }
          ]
         }
        },
        {
         "name": "title",
         "dtype": "object",
         "stats": {
          "unique_count": 1,
          "nan_count": 0,
          "categories": [
           {
            "name": "Forrest Gump",
            "count": 5
           }
          ]
         }
        },
        {
         "name": "genres",
         "dtype": "object",
         "stats": {
          "unique_count": 1,
          "nan_count": 0,
          "categories": [
           {
            "name": "Comedy|Drama|Romance|War",
            "count": 5
           }
          ]
         }
        },
        {
         "name": "release_year",
         "dtype": "float64",
         "stats": {
          "unique_count": 1,
          "nan_count": 0,
          "min": "1994.0",
          "max": "1994.0",
          "histogram": [
           {
            "bin_start": 1993.5,
            "bin_end": 1993.6,
            "count": 0
           },
           {
            "bin_start": 1993.6,
            "bin_end": 1993.7,
            "count": 0
           },
           {
            "bin_start": 1993.7,
            "bin_end": 1993.8,
            "count": 0
           },
           {
            "bin_start": 1993.8,
            "bin_end": 1993.9,
            "count": 0
           },
           {
            "bin_start": 1993.9,
            "bin_end": 1994,
            "count": 0
           },
           {
            "bin_start": 1994,
            "bin_end": 1994.1,
            "count": 5
           },
           {
            "bin_start": 1994.1,
            "bin_end": 1994.2,
            "count": 0
           },
           {
            "bin_start": 1994.2,
            "bin_end": 1994.3,
            "count": 0
           },
           {
            "bin_start": 1994.3,
            "bin_end": 1994.4,
            "count": 0
           },
           {
            "bin_start": 1994.4,
            "bin_end": 1994.5,
            "count": 0
           }
          ]
         }
        },
        {
         "name": "_deepnote_index_column",
         "dtype": "int64"
        }
       ],
       "rows": [
        {
         "userId": 1,
         "movieId": 356,
         "rating": 4,
         "title": "Forrest Gump",
         "genres": "Comedy|Drama|Romance|War",
         "release_year": 1994,
         "_deepnote_index_column": 2426
        },
        {
         "userId": 6,
         "movieId": 356,
         "rating": 5,
         "title": "Forrest Gump",
         "genres": "Comedy|Drama|Romance|War",
         "release_year": 1994,
         "_deepnote_index_column": 2427
        },
        {
         "userId": 7,
         "movieId": 356,
         "rating": 5,
         "title": "Forrest Gump",
         "genres": "Comedy|Drama|Romance|War",
         "release_year": 1994,
         "_deepnote_index_column": 2428
        },
        {
         "userId": 8,
         "movieId": 356,
         "rating": 3,
         "title": "Forrest Gump",
         "genres": "Comedy|Drama|Romance|War",
         "release_year": 1994,
         "_deepnote_index_column": 2429
        },
        {
         "userId": 10,
         "movieId": 356,
         "rating": 3.5,
         "title": "Forrest Gump",
         "genres": "Comedy|Drama|Romance|War",
         "release_year": 1994,
         "_deepnote_index_column": 2430
        }
       ]
      },
      "text/plain": "      userId  movieId  rating         title                    genres  \\\n2426       1      356     4.0  Forrest Gump  Comedy|Drama|Romance|War   \n2427       6      356     5.0  Forrest Gump  Comedy|Drama|Romance|War   \n2428       7      356     5.0  Forrest Gump  Comedy|Drama|Romance|War   \n2429       8      356     3.0  Forrest Gump  Comedy|Drama|Romance|War   \n2430      10      356     3.5  Forrest Gump  Comedy|Drama|Romance|War   \n\n      release_year  \n2426        1994.0  \n2427        1994.0  \n2428        1994.0  \n2429        1994.0  \n2430        1994.0  ",
      "text/html": "<div>\n<style scoped>\n    .dataframe tbody tr th:only-of-type {\n        vertical-align: middle;\n    }\n\n    .dataframe tbody tr th {\n        vertical-align: top;\n    }\n\n    .dataframe thead th {\n        text-align: right;\n    }\n</style>\n<table border=\"1\" class=\"dataframe\">\n  <thead>\n    <tr style=\"text-align: right;\">\n      <th></th>\n      <th>userId</th>\n      <th>movieId</th>\n      <th>rating</th>\n      <th>title</th>\n      <th>genres</th>\n      <th>release_year</th>\n    </tr>\n  </thead>\n  <tbody>\n    <tr>\n      <th>2426</th>\n      <td>1</td>\n      <td>356</td>\n      <td>4.0</td>\n      <td>Forrest Gump</td>\n      <td>Comedy|Drama|Romance|War</td>\n      <td>1994.0</td>\n    </tr>\n    <tr>\n      <th>2427</th>\n      <td>6</td>\n      <td>356</td>\n      <td>5.0</td>\n      <td>Forrest Gump</td>\n      <td>Comedy|Drama|Romance|War</td>\n      <td>1994.0</td>\n    </tr>\n    <tr>\n      <th>2428</th>\n      <td>7</td>\n      <td>356</td>\n      <td>5.0</td>\n      <td>Forrest Gump</td>\n      <td>Comedy|Drama|Romance|War</td>\n      <td>1994.0</td>\n    </tr>\n    <tr>\n      <th>2429</th>\n      <td>8</td>\n      <td>356</td>\n      <td>3.0</td>\n      <td>Forrest Gump</td>\n      <td>Comedy|Drama|Romance|War</td>\n      <td>1994.0</td>\n    </tr>\n    <tr>\n      <th>2430</th>\n      <td>10</td>\n      <td>356</td>\n      <td>3.5</td>\n      <td>Forrest Gump</td>\n      <td>Comedy|Drama|Romance|War</td>\n      <td>1994.0</td>\n    </tr>\n  </tbody>\n</table>\n</div>"
     },
     "metadata": {}
    }
   ],
   "execution_count": 66
  },
  {
   "cell_type": "code",
   "source": "df_318 = df_movies[df_movies['movieId']==318]\ndf_318.head()",
   "metadata": {
    "cell_id": "a0195d4fc4f845d099040494a45d4af0",
    "tags": [],
    "deepnote_to_be_reexecuted": false,
    "source_hash": "6a586de9",
    "execution_start": 1658155349361,
    "execution_millis": 115,
    "deepnote_cell_type": "code",
    "deepnote_cell_height": 430
   },
   "outputs": [
    {
     "output_type": "execute_result",
     "execution_count": 67,
     "data": {
      "application/vnd.deepnote.dataframe.v3+json": {
       "column_count": 6,
       "row_count": 5,
       "columns": [
        {
         "name": "userId",
         "dtype": "int64",
         "stats": {
          "unique_count": 5,
          "nan_count": 0,
          "min": "2",
          "max": "11",
          "histogram": [
           {
            "bin_start": 2,
            "bin_end": 2.9,
            "count": 1
           },
           {
            "bin_start": 2.9,
            "bin_end": 3.8,
            "count": 0
           },
           {
            "bin_start": 3.8,
            "bin_end": 4.7,
            "count": 0
           },
           {
            "bin_start": 4.7,
            "bin_end": 5.6,
            "count": 1
           },
           {
            "bin_start": 5.6,
            "bin_end": 6.5,
            "count": 1
           },
           {
            "bin_start": 6.5,
            "bin_end": 7.4,
            "count": 0
           },
           {
            "bin_start": 7.4,
            "bin_end": 8.3,
            "count": 1
           },
           {
            "bin_start": 8.3,
            "bin_end": 9.2,
            "count": 0
           },
           {
            "bin_start": 9.2,
            "bin_end": 10.1,
            "count": 0
           },
           {
            "bin_start": 10.1,
            "bin_end": 11,
            "count": 1
           }
          ]
         }
        },
        {
         "name": "movieId",
         "dtype": "int64",
         "stats": {
          "unique_count": 1,
          "nan_count": 0,
          "min": "318",
          "max": "318",
          "histogram": [
           {
            "bin_start": 317.5,
            "bin_end": 317.6,
            "count": 0
           },
           {
            "bin_start": 317.6,
            "bin_end": 317.7,
            "count": 0
           },
           {
            "bin_start": 317.7,
            "bin_end": 317.8,
            "count": 0
           },
           {
            "bin_start": 317.8,
            "bin_end": 317.9,
            "count": 0
           },
           {
            "bin_start": 317.9,
            "bin_end": 318,
            "count": 0
           },
           {
            "bin_start": 318,
            "bin_end": 318.1,
            "count": 5
           },
           {
            "bin_start": 318.1,
            "bin_end": 318.2,
            "count": 0
           },
           {
            "bin_start": 318.2,
            "bin_end": 318.3,
            "count": 0
           },
           {
            "bin_start": 318.3,
            "bin_end": 318.4,
            "count": 0
           },
           {
            "bin_start": 318.4,
            "bin_end": 318.5,
            "count": 0
           }
          ]
         }
        },
        {
         "name": "rating",
         "dtype": "float64",
         "stats": {
          "unique_count": 3,
          "nan_count": 0,
          "min": "3.0",
          "max": "5.0",
          "histogram": [
           {
            "bin_start": 3,
            "bin_end": 3.2,
            "count": 2
           },
           {
            "bin_start": 3.2,
            "bin_end": 3.4,
            "count": 0
           },
           {
            "bin_start": 3.4,
            "bin_end": 3.6,
            "count": 0
           },
           {
            "bin_start": 3.6,
            "bin_end": 3.8,
            "count": 0
           },
           {
            "bin_start": 3.8,
            "bin_end": 4,
            "count": 0
           },
           {
            "bin_start": 4,
            "bin_end": 4.2,
            "count": 1
           },
           {
            "bin_start": 4.2,
            "bin_end": 4.4,
            "count": 0
           },
           {
            "bin_start": 4.4,
            "bin_end": 4.6,
            "count": 0
           },
           {
            "bin_start": 4.6,
            "bin_end": 4.8,
            "count": 0
           },
           {
            "bin_start": 4.8,
            "bin_end": 5,
            "count": 2
           }
          ]
         }
        },
        {
         "name": "title",
         "dtype": "object",
         "stats": {
          "unique_count": 1,
          "nan_count": 0,
          "categories": [
           {
            "name": "Shawshank Redemption, The",
            "count": 5
           }
          ]
         }
        },
        {
         "name": "genres",
         "dtype": "object",
         "stats": {
          "unique_count": 1,
          "nan_count": 0,
          "categories": [
           {
            "name": "Crime|Drama",
            "count": 5
           }
          ]
         }
        },
        {
         "name": "release_year",
         "dtype": "float64",
         "stats": {
          "unique_count": 1,
          "nan_count": 0,
          "min": "1994.0",
          "max": "1994.0",
          "histogram": [
           {
            "bin_start": 1993.5,
            "bin_end": 1993.6,
            "count": 0
           },
           {
            "bin_start": 1993.6,
            "bin_end": 1993.7,
            "count": 0
           },
           {
            "bin_start": 1993.7,
            "bin_end": 1993.8,
            "count": 0
           },
           {
            "bin_start": 1993.8,
            "bin_end": 1993.9,
            "count": 0
           },
           {
            "bin_start": 1993.9,
            "bin_end": 1994,
            "count": 0
           },
           {
            "bin_start": 1994,
            "bin_end": 1994.1,
            "count": 5
           },
           {
            "bin_start": 1994.1,
            "bin_end": 1994.2,
            "count": 0
           },
           {
            "bin_start": 1994.2,
            "bin_end": 1994.3,
            "count": 0
           },
           {
            "bin_start": 1994.3,
            "bin_end": 1994.4,
            "count": 0
           },
           {
            "bin_start": 1994.4,
            "bin_end": 1994.5,
            "count": 0
           }
          ]
         }
        },
        {
         "name": "_deepnote_index_column",
         "dtype": "int64"
        }
       ],
       "rows": [
        {
         "userId": 2,
         "movieId": 318,
         "rating": 3,
         "title": "Shawshank Redemption, The",
         "genres": "Crime|Drama",
         "release_year": 1994,
         "_deepnote_index_column": 16296
        },
        {
         "userId": 5,
         "movieId": 318,
         "rating": 3,
         "title": "Shawshank Redemption, The",
         "genres": "Crime|Drama",
         "release_year": 1994,
         "_deepnote_index_column": 16297
        },
        {
         "userId": 6,
         "movieId": 318,
         "rating": 5,
         "title": "Shawshank Redemption, The",
         "genres": "Crime|Drama",
         "release_year": 1994,
         "_deepnote_index_column": 16298
        },
        {
         "userId": 8,
         "movieId": 318,
         "rating": 5,
         "title": "Shawshank Redemption, The",
         "genres": "Crime|Drama",
         "release_year": 1994,
         "_deepnote_index_column": 16299
        },
        {
         "userId": 11,
         "movieId": 318,
         "rating": 4,
         "title": "Shawshank Redemption, The",
         "genres": "Crime|Drama",
         "release_year": 1994,
         "_deepnote_index_column": 16300
        }
       ]
      },
      "text/plain": "       userId  movieId  rating                      title       genres  \\\n16296       2      318     3.0  Shawshank Redemption, The  Crime|Drama   \n16297       5      318     3.0  Shawshank Redemption, The  Crime|Drama   \n16298       6      318     5.0  Shawshank Redemption, The  Crime|Drama   \n16299       8      318     5.0  Shawshank Redemption, The  Crime|Drama   \n16300      11      318     4.0  Shawshank Redemption, The  Crime|Drama   \n\n       release_year  \n16296        1994.0  \n16297        1994.0  \n16298        1994.0  \n16299        1994.0  \n16300        1994.0  ",
      "text/html": "<div>\n<style scoped>\n    .dataframe tbody tr th:only-of-type {\n        vertical-align: middle;\n    }\n\n    .dataframe tbody tr th {\n        vertical-align: top;\n    }\n\n    .dataframe thead th {\n        text-align: right;\n    }\n</style>\n<table border=\"1\" class=\"dataframe\">\n  <thead>\n    <tr style=\"text-align: right;\">\n      <th></th>\n      <th>userId</th>\n      <th>movieId</th>\n      <th>rating</th>\n      <th>title</th>\n      <th>genres</th>\n      <th>release_year</th>\n    </tr>\n  </thead>\n  <tbody>\n    <tr>\n      <th>16296</th>\n      <td>2</td>\n      <td>318</td>\n      <td>3.0</td>\n      <td>Shawshank Redemption, The</td>\n      <td>Crime|Drama</td>\n      <td>1994.0</td>\n    </tr>\n    <tr>\n      <th>16297</th>\n      <td>5</td>\n      <td>318</td>\n      <td>3.0</td>\n      <td>Shawshank Redemption, The</td>\n      <td>Crime|Drama</td>\n      <td>1994.0</td>\n    </tr>\n    <tr>\n      <th>16298</th>\n      <td>6</td>\n      <td>318</td>\n      <td>5.0</td>\n      <td>Shawshank Redemption, The</td>\n      <td>Crime|Drama</td>\n      <td>1994.0</td>\n    </tr>\n    <tr>\n      <th>16299</th>\n      <td>8</td>\n      <td>318</td>\n      <td>5.0</td>\n      <td>Shawshank Redemption, The</td>\n      <td>Crime|Drama</td>\n      <td>1994.0</td>\n    </tr>\n    <tr>\n      <th>16300</th>\n      <td>11</td>\n      <td>318</td>\n      <td>4.0</td>\n      <td>Shawshank Redemption, The</td>\n      <td>Crime|Drama</td>\n      <td>1994.0</td>\n    </tr>\n  </tbody>\n</table>\n</div>"
     },
     "metadata": {}
    }
   ],
   "execution_count": 67
  },
  {
   "cell_type": "code",
   "source": "df_296 = df_movies[df_movies['movieId']==296]\ndf_296.head()",
   "metadata": {
    "cell_id": "e89763d8c0df4d6ba6551cb60536c5f0",
    "tags": [],
    "deepnote_to_be_reexecuted": false,
    "source_hash": "4ebe2ab2",
    "execution_start": 1658155413104,
    "execution_millis": 55,
    "deepnote_cell_type": "code",
    "deepnote_cell_height": 430
   },
   "outputs": [
    {
     "output_type": "execute_result",
     "execution_count": 68,
     "data": {
      "application/vnd.deepnote.dataframe.v3+json": {
       "column_count": 6,
       "row_count": 5,
       "columns": [
        {
         "name": "userId",
         "dtype": "int64",
         "stats": {
          "unique_count": 5,
          "nan_count": 0,
          "min": "1",
          "max": "8",
          "histogram": [
           {
            "bin_start": 1,
            "bin_end": 1.7,
            "count": 1
           },
           {
            "bin_start": 1.7,
            "bin_end": 2.4,
            "count": 0
           },
           {
            "bin_start": 2.4,
            "bin_end": 3.0999999999999996,
            "count": 0
           },
           {
            "bin_start": 3.0999999999999996,
            "bin_end": 3.8,
            "count": 0
           },
           {
            "bin_start": 3.8,
            "bin_end": 4.5,
            "count": 1
           },
           {
            "bin_start": 4.5,
            "bin_end": 5.199999999999999,
            "count": 1
           },
           {
            "bin_start": 5.199999999999999,
            "bin_end": 5.8999999999999995,
            "count": 0
           },
           {
            "bin_start": 5.8999999999999995,
            "bin_end": 6.6,
            "count": 1
           },
           {
            "bin_start": 6.6,
            "bin_end": 7.3,
            "count": 0
           },
           {
            "bin_start": 7.3,
            "bin_end": 8,
            "count": 1
           }
          ]
         }
        },
        {
         "name": "movieId",
         "dtype": "int64",
         "stats": {
          "unique_count": 1,
          "nan_count": 0,
          "min": "296",
          "max": "296",
          "histogram": [
           {
            "bin_start": 295.5,
            "bin_end": 295.6,
            "count": 0
           },
           {
            "bin_start": 295.6,
            "bin_end": 295.7,
            "count": 0
           },
           {
            "bin_start": 295.7,
            "bin_end": 295.8,
            "count": 0
           },
           {
            "bin_start": 295.8,
            "bin_end": 295.9,
            "count": 0
           },
           {
            "bin_start": 295.9,
            "bin_end": 296,
            "count": 0
           },
           {
            "bin_start": 296,
            "bin_end": 296.1,
            "count": 5
           },
           {
            "bin_start": 296.1,
            "bin_end": 296.2,
            "count": 0
           },
           {
            "bin_start": 296.2,
            "bin_end": 296.3,
            "count": 0
           },
           {
            "bin_start": 296.3,
            "bin_end": 296.4,
            "count": 0
           },
           {
            "bin_start": 296.4,
            "bin_end": 296.5,
            "count": 0
           }
          ]
         }
        },
        {
         "name": "rating",
         "dtype": "float64",
         "stats": {
          "unique_count": 5,
          "nan_count": 0,
          "min": "1.0",
          "max": "5.0",
          "histogram": [
           {
            "bin_start": 1,
            "bin_end": 1.4,
            "count": 1
           },
           {
            "bin_start": 1.4,
            "bin_end": 1.8,
            "count": 0
           },
           {
            "bin_start": 1.8,
            "bin_end": 2.2,
            "count": 1
           },
           {
            "bin_start": 2.2,
            "bin_end": 2.6,
            "count": 0
           },
           {
            "bin_start": 2.6,
            "bin_end": 3,
            "count": 0
           },
           {
            "bin_start": 3,
            "bin_end": 3.4000000000000004,
            "count": 1
           },
           {
            "bin_start": 3.4000000000000004,
            "bin_end": 3.8000000000000003,
            "count": 0
           },
           {
            "bin_start": 3.8000000000000003,
            "bin_end": 4.2,
            "count": 1
           },
           {
            "bin_start": 4.2,
            "bin_end": 4.6,
            "count": 0
           },
           {
            "bin_start": 4.6,
            "bin_end": 5,
            "count": 1
           }
          ]
         }
        },
        {
         "name": "title",
         "dtype": "object",
         "stats": {
          "unique_count": 1,
          "nan_count": 0,
          "categories": [
           {
            "name": "Pulp Fiction",
            "count": 5
           }
          ]
         }
        },
        {
         "name": "genres",
         "dtype": "object",
         "stats": {
          "unique_count": 1,
          "nan_count": 0,
          "categories": [
           {
            "name": "Comedy|Crime|Drama|Thriller",
            "count": 5
           }
          ]
         }
        },
        {
         "name": "release_year",
         "dtype": "float64",
         "stats": {
          "unique_count": 1,
          "nan_count": 0,
          "min": "1994.0",
          "max": "1994.0",
          "histogram": [
           {
            "bin_start": 1993.5,
            "bin_end": 1993.6,
            "count": 0
           },
           {
            "bin_start": 1993.6,
            "bin_end": 1993.7,
            "count": 0
           },
           {
            "bin_start": 1993.7,
            "bin_end": 1993.8,
            "count": 0
           },
           {
            "bin_start": 1993.8,
            "bin_end": 1993.9,
            "count": 0
           },
           {
            "bin_start": 1993.9,
            "bin_end": 1994,
            "count": 0
           },
           {
            "bin_start": 1994,
            "bin_end": 1994.1,
            "count": 5
           },
           {
            "bin_start": 1994.1,
            "bin_end": 1994.2,
            "count": 0
           },
           {
            "bin_start": 1994.2,
            "bin_end": 1994.3,
            "count": 0
           },
           {
            "bin_start": 1994.3,
            "bin_end": 1994.4,
            "count": 0
           },
           {
            "bin_start": 1994.4,
            "bin_end": 1994.5,
            "count": 0
           }
          ]
         }
        },
        {
         "name": "_deepnote_index_column",
         "dtype": "int64"
        }
       ],
       "rows": [
        {
         "userId": 1,
         "movieId": 296,
         "rating": 3,
         "title": "Pulp Fiction",
         "genres": "Comedy|Crime|Drama|Thriller",
         "release_year": 1994,
         "_deepnote_index_column": 1819
        },
        {
         "userId": 4,
         "movieId": 296,
         "rating": 1,
         "title": "Pulp Fiction",
         "genres": "Comedy|Crime|Drama|Thriller",
         "release_year": 1994,
         "_deepnote_index_column": 1820
        },
        {
         "userId": 5,
         "movieId": 296,
         "rating": 5,
         "title": "Pulp Fiction",
         "genres": "Comedy|Crime|Drama|Thriller",
         "release_year": 1994,
         "_deepnote_index_column": 1821
        },
        {
         "userId": 6,
         "movieId": 296,
         "rating": 2,
         "title": "Pulp Fiction",
         "genres": "Comedy|Crime|Drama|Thriller",
         "release_year": 1994,
         "_deepnote_index_column": 1822
        },
        {
         "userId": 8,
         "movieId": 296,
         "rating": 4,
         "title": "Pulp Fiction",
         "genres": "Comedy|Crime|Drama|Thriller",
         "release_year": 1994,
         "_deepnote_index_column": 1823
        }
       ]
      },
      "text/plain": "      userId  movieId  rating         title                       genres  \\\n1819       1      296     3.0  Pulp Fiction  Comedy|Crime|Drama|Thriller   \n1820       4      296     1.0  Pulp Fiction  Comedy|Crime|Drama|Thriller   \n1821       5      296     5.0  Pulp Fiction  Comedy|Crime|Drama|Thriller   \n1822       6      296     2.0  Pulp Fiction  Comedy|Crime|Drama|Thriller   \n1823       8      296     4.0  Pulp Fiction  Comedy|Crime|Drama|Thriller   \n\n      release_year  \n1819        1994.0  \n1820        1994.0  \n1821        1994.0  \n1822        1994.0  \n1823        1994.0  ",
      "text/html": "<div>\n<style scoped>\n    .dataframe tbody tr th:only-of-type {\n        vertical-align: middle;\n    }\n\n    .dataframe tbody tr th {\n        vertical-align: top;\n    }\n\n    .dataframe thead th {\n        text-align: right;\n    }\n</style>\n<table border=\"1\" class=\"dataframe\">\n  <thead>\n    <tr style=\"text-align: right;\">\n      <th></th>\n      <th>userId</th>\n      <th>movieId</th>\n      <th>rating</th>\n      <th>title</th>\n      <th>genres</th>\n      <th>release_year</th>\n    </tr>\n  </thead>\n  <tbody>\n    <tr>\n      <th>1819</th>\n      <td>1</td>\n      <td>296</td>\n      <td>3.0</td>\n      <td>Pulp Fiction</td>\n      <td>Comedy|Crime|Drama|Thriller</td>\n      <td>1994.0</td>\n    </tr>\n    <tr>\n      <th>1820</th>\n      <td>4</td>\n      <td>296</td>\n      <td>1.0</td>\n      <td>Pulp Fiction</td>\n      <td>Comedy|Crime|Drama|Thriller</td>\n      <td>1994.0</td>\n    </tr>\n    <tr>\n      <th>1821</th>\n      <td>5</td>\n      <td>296</td>\n      <td>5.0</td>\n      <td>Pulp Fiction</td>\n      <td>Comedy|Crime|Drama|Thriller</td>\n      <td>1994.0</td>\n    </tr>\n    <tr>\n      <th>1822</th>\n      <td>6</td>\n      <td>296</td>\n      <td>2.0</td>\n      <td>Pulp Fiction</td>\n      <td>Comedy|Crime|Drama|Thriller</td>\n      <td>1994.0</td>\n    </tr>\n    <tr>\n      <th>1823</th>\n      <td>8</td>\n      <td>296</td>\n      <td>4.0</td>\n      <td>Pulp Fiction</td>\n      <td>Comedy|Crime|Drama|Thriller</td>\n      <td>1994.0</td>\n    </tr>\n  </tbody>\n</table>\n</div>"
     },
     "metadata": {}
    }
   ],
   "execution_count": 68
  },
  {
   "cell_type": "code",
   "source": "df_593 = df_movies[df_movies['movieId']==593]\ndf_593.head()",
   "metadata": {
    "cell_id": "ce16d1ed3d474c279b0901b435035a9f",
    "tags": [],
    "deepnote_to_be_reexecuted": false,
    "source_hash": "9c795eeb",
    "execution_start": 1658155487285,
    "execution_millis": 6,
    "deepnote_cell_type": "code",
    "deepnote_cell_height": 430
   },
   "outputs": [
    {
     "output_type": "execute_result",
     "execution_count": 69,
     "data": {
      "application/vnd.deepnote.dataframe.v3+json": {
       "column_count": 6,
       "row_count": 5,
       "columns": [
        {
         "name": "userId",
         "dtype": "int64",
         "stats": {
          "unique_count": 5,
          "nan_count": 0,
          "min": "1",
          "max": "8",
          "histogram": [
           {
            "bin_start": 1,
            "bin_end": 1.7,
            "count": 1
           },
           {
            "bin_start": 1.7,
            "bin_end": 2.4,
            "count": 0
           },
           {
            "bin_start": 2.4,
            "bin_end": 3.0999999999999996,
            "count": 0
           },
           {
            "bin_start": 3.0999999999999996,
            "bin_end": 3.8,
            "count": 0
           },
           {
            "bin_start": 3.8,
            "bin_end": 4.5,
            "count": 1
           },
           {
            "bin_start": 4.5,
            "bin_end": 5.199999999999999,
            "count": 0
           },
           {
            "bin_start": 5.199999999999999,
            "bin_end": 5.8999999999999995,
            "count": 0
           },
           {
            "bin_start": 5.8999999999999995,
            "bin_end": 6.6,
            "count": 1
           },
           {
            "bin_start": 6.6,
            "bin_end": 7.3,
            "count": 1
           },
           {
            "bin_start": 7.3,
            "bin_end": 8,
            "count": 1
           }
          ]
         }
        },
        {
         "name": "movieId",
         "dtype": "int64",
         "stats": {
          "unique_count": 1,
          "nan_count": 0,
          "min": "593",
          "max": "593",
          "histogram": [
           {
            "bin_start": 592.5,
            "bin_end": 592.6,
            "count": 0
           },
           {
            "bin_start": 592.6,
            "bin_end": 592.7,
            "count": 0
           },
           {
            "bin_start": 592.7,
            "bin_end": 592.8,
            "count": 0
           },
           {
            "bin_start": 592.8,
            "bin_end": 592.9,
            "count": 0
           },
           {
            "bin_start": 592.9,
            "bin_end": 593,
            "count": 0
           },
           {
            "bin_start": 593,
            "bin_end": 593.1,
            "count": 5
           },
           {
            "bin_start": 593.1,
            "bin_end": 593.2,
            "count": 0
           },
           {
            "bin_start": 593.2,
            "bin_end": 593.3,
            "count": 0
           },
           {
            "bin_start": 593.3,
            "bin_end": 593.4,
            "count": 0
           },
           {
            "bin_start": 593.4,
            "bin_end": 593.5,
            "count": 0
           }
          ]
         }
        },
        {
         "name": "rating",
         "dtype": "float64",
         "stats": {
          "unique_count": 2,
          "nan_count": 0,
          "min": "4.0",
          "max": "5.0",
          "histogram": [
           {
            "bin_start": 4,
            "bin_end": 4.1,
            "count": 3
           },
           {
            "bin_start": 4.1,
            "bin_end": 4.2,
            "count": 0
           },
           {
            "bin_start": 4.2,
            "bin_end": 4.3,
            "count": 0
           },
           {
            "bin_start": 4.3,
            "bin_end": 4.4,
            "count": 0
           },
           {
            "bin_start": 4.4,
            "bin_end": 4.5,
            "count": 0
           },
           {
            "bin_start": 4.5,
            "bin_end": 4.6,
            "count": 0
           },
           {
            "bin_start": 4.6,
            "bin_end": 4.7,
            "count": 0
           },
           {
            "bin_start": 4.7,
            "bin_end": 4.8,
            "count": 0
           },
           {
            "bin_start": 4.8,
            "bin_end": 4.9,
            "count": 0
           },
           {
            "bin_start": 4.9,
            "bin_end": 5,
            "count": 2
           }
          ]
         }
        },
        {
         "name": "title",
         "dtype": "object",
         "stats": {
          "unique_count": 1,
          "nan_count": 0,
          "categories": [
           {
            "name": "Silence of the Lambs, The",
            "count": 5
           }
          ]
         }
        },
        {
         "name": "genres",
         "dtype": "object",
         "stats": {
          "unique_count": 1,
          "nan_count": 0,
          "categories": [
           {
            "name": "Crime|Horror|Thriller",
            "count": 5
           }
          ]
         }
        },
        {
         "name": "release_year",
         "dtype": "float64",
         "stats": {
          "unique_count": 1,
          "nan_count": 0,
          "min": "1991.0",
          "max": "1991.0",
          "histogram": [
           {
            "bin_start": 1990.5,
            "bin_end": 1990.6,
            "count": 0
           },
           {
            "bin_start": 1990.6,
            "bin_end": 1990.7,
            "count": 0
           },
           {
            "bin_start": 1990.7,
            "bin_end": 1990.8,
            "count": 0
           },
           {
            "bin_start": 1990.8,
            "bin_end": 1990.9,
            "count": 0
           },
           {
            "bin_start": 1990.9,
            "bin_end": 1991,
            "count": 0
           },
           {
            "bin_start": 1991,
            "bin_end": 1991.1,
            "count": 5
           },
           {
            "bin_start": 1991.1,
            "bin_end": 1991.2,
            "count": 0
           },
           {
            "bin_start": 1991.2,
            "bin_end": 1991.3,
            "count": 0
           },
           {
            "bin_start": 1991.3,
            "bin_end": 1991.4,
            "count": 0
           },
           {
            "bin_start": 1991.4,
            "bin_end": 1991.5,
            "count": 0
           }
          ]
         }
        },
        {
         "name": "_deepnote_index_column",
         "dtype": "int64"
        }
       ],
       "rows": [
        {
         "userId": 1,
         "movieId": 593,
         "rating": 4,
         "title": "Silence of the Lambs, The",
         "genres": "Crime|Horror|Thriller",
         "release_year": 1991,
         "_deepnote_index_column": 4310
        },
        {
         "userId": 4,
         "movieId": 593,
         "rating": 5,
         "title": "Silence of the Lambs, The",
         "genres": "Crime|Horror|Thriller",
         "release_year": 1991,
         "_deepnote_index_column": 4311
        },
        {
         "userId": 6,
         "movieId": 593,
         "rating": 4,
         "title": "Silence of the Lambs, The",
         "genres": "Crime|Horror|Thriller",
         "release_year": 1991,
         "_deepnote_index_column": 4312
        },
        {
         "userId": 7,
         "movieId": 593,
         "rating": 5,
         "title": "Silence of the Lambs, The",
         "genres": "Crime|Horror|Thriller",
         "release_year": 1991,
         "_deepnote_index_column": 4313
        },
        {
         "userId": 8,
         "movieId": 593,
         "rating": 4,
         "title": "Silence of the Lambs, The",
         "genres": "Crime|Horror|Thriller",
         "release_year": 1991,
         "_deepnote_index_column": 4314
        }
       ]
      },
      "text/plain": "      userId  movieId  rating                      title  \\\n4310       1      593     4.0  Silence of the Lambs, The   \n4311       4      593     5.0  Silence of the Lambs, The   \n4312       6      593     4.0  Silence of the Lambs, The   \n4313       7      593     5.0  Silence of the Lambs, The   \n4314       8      593     4.0  Silence of the Lambs, The   \n\n                     genres  release_year  \n4310  Crime|Horror|Thriller        1991.0  \n4311  Crime|Horror|Thriller        1991.0  \n4312  Crime|Horror|Thriller        1991.0  \n4313  Crime|Horror|Thriller        1991.0  \n4314  Crime|Horror|Thriller        1991.0  ",
      "text/html": "<div>\n<style scoped>\n    .dataframe tbody tr th:only-of-type {\n        vertical-align: middle;\n    }\n\n    .dataframe tbody tr th {\n        vertical-align: top;\n    }\n\n    .dataframe thead th {\n        text-align: right;\n    }\n</style>\n<table border=\"1\" class=\"dataframe\">\n  <thead>\n    <tr style=\"text-align: right;\">\n      <th></th>\n      <th>userId</th>\n      <th>movieId</th>\n      <th>rating</th>\n      <th>title</th>\n      <th>genres</th>\n      <th>release_year</th>\n    </tr>\n  </thead>\n  <tbody>\n    <tr>\n      <th>4310</th>\n      <td>1</td>\n      <td>593</td>\n      <td>4.0</td>\n      <td>Silence of the Lambs, The</td>\n      <td>Crime|Horror|Thriller</td>\n      <td>1991.0</td>\n    </tr>\n    <tr>\n      <th>4311</th>\n      <td>4</td>\n      <td>593</td>\n      <td>5.0</td>\n      <td>Silence of the Lambs, The</td>\n      <td>Crime|Horror|Thriller</td>\n      <td>1991.0</td>\n    </tr>\n    <tr>\n      <th>4312</th>\n      <td>6</td>\n      <td>593</td>\n      <td>4.0</td>\n      <td>Silence of the Lambs, The</td>\n      <td>Crime|Horror|Thriller</td>\n      <td>1991.0</td>\n    </tr>\n    <tr>\n      <th>4313</th>\n      <td>7</td>\n      <td>593</td>\n      <td>5.0</td>\n      <td>Silence of the Lambs, The</td>\n      <td>Crime|Horror|Thriller</td>\n      <td>1991.0</td>\n    </tr>\n    <tr>\n      <th>4314</th>\n      <td>8</td>\n      <td>593</td>\n      <td>4.0</td>\n      <td>Silence of the Lambs, The</td>\n      <td>Crime|Horror|Thriller</td>\n      <td>1991.0</td>\n    </tr>\n  </tbody>\n</table>\n</div>"
     },
     "metadata": {}
    }
   ],
   "execution_count": 69
  },
  {
   "cell_type": "code",
   "source": "df_2571 = df_movies[df_movies['movieId']==2571]\ndf_2571.head()",
   "metadata": {
    "cell_id": "2c10fdbceab44940b3e7f22178f19b6d",
    "tags": [],
    "deepnote_to_be_reexecuted": false,
    "source_hash": "ded9c264",
    "execution_start": 1658155578506,
    "execution_millis": 10,
    "deepnote_cell_type": "code",
    "deepnote_cell_height": 430
   },
   "outputs": [
    {
     "output_type": "execute_result",
     "execution_count": 70,
     "data": {
      "application/vnd.deepnote.dataframe.v3+json": {
       "column_count": 6,
       "row_count": 5,
       "columns": [
        {
         "name": "userId",
         "dtype": "int64",
         "stats": {
          "unique_count": 5,
          "nan_count": 0,
          "min": "1",
          "max": "15",
          "histogram": [
           {
            "bin_start": 1,
            "bin_end": 2.4,
            "count": 1
           },
           {
            "bin_start": 2.4,
            "bin_end": 3.8,
            "count": 0
           },
           {
            "bin_start": 3.8,
            "bin_end": 5.199999999999999,
            "count": 1
           },
           {
            "bin_start": 5.199999999999999,
            "bin_end": 6.6,
            "count": 0
           },
           {
            "bin_start": 6.6,
            "bin_end": 8,
            "count": 0
           },
           {
            "bin_start": 8,
            "bin_end": 9.399999999999999,
            "count": 0
           },
           {
            "bin_start": 9.399999999999999,
            "bin_end": 10.799999999999999,
            "count": 1
           },
           {
            "bin_start": 10.799999999999999,
            "bin_end": 12.2,
            "count": 0
           },
           {
            "bin_start": 12.2,
            "bin_end": 13.6,
            "count": 1
           },
           {
            "bin_start": 13.6,
            "bin_end": 15,
            "count": 1
           }
          ]
         }
        },
        {
         "name": "movieId",
         "dtype": "int64",
         "stats": {
          "unique_count": 1,
          "nan_count": 0,
          "min": "2571",
          "max": "2571",
          "histogram": [
           {
            "bin_start": 2570.5,
            "bin_end": 2570.6,
            "count": 0
           },
           {
            "bin_start": 2570.6,
            "bin_end": 2570.7,
            "count": 0
           },
           {
            "bin_start": 2570.7,
            "bin_end": 2570.8,
            "count": 0
           },
           {
            "bin_start": 2570.8,
            "bin_end": 2570.9,
            "count": 0
           },
           {
            "bin_start": 2570.9,
            "bin_end": 2571,
            "count": 0
           },
           {
            "bin_start": 2571,
            "bin_end": 2571.1,
            "count": 5
           },
           {
            "bin_start": 2571.1,
            "bin_end": 2571.2,
            "count": 0
           },
           {
            "bin_start": 2571.2,
            "bin_end": 2571.3,
            "count": 0
           },
           {
            "bin_start": 2571.3,
            "bin_end": 2571.4,
            "count": 0
           },
           {
            "bin_start": 2571.4,
            "bin_end": 2571.5,
            "count": 0
           }
          ]
         }
        },
        {
         "name": "rating",
         "dtype": "float64",
         "stats": {
          "unique_count": 4,
          "nan_count": 0,
          "min": "0.5",
          "max": "5.0",
          "histogram": [
           {
            "bin_start": 0.5,
            "bin_end": 0.95,
            "count": 1
           },
           {
            "bin_start": 0.95,
            "bin_end": 1.4,
            "count": 1
           },
           {
            "bin_start": 1.4,
            "bin_end": 1.85,
            "count": 0
           },
           {
            "bin_start": 1.85,
            "bin_end": 2.3,
            "count": 0
           },
           {
            "bin_start": 2.3,
            "bin_end": 2.75,
            "count": 0
           },
           {
            "bin_start": 2.75,
            "bin_end": 3.2,
            "count": 0
           },
           {
            "bin_start": 3.2,
            "bin_end": 3.65,
            "count": 0
           },
           {
            "bin_start": 3.65,
            "bin_end": 4.1,
            "count": 1
           },
           {
            "bin_start": 4.1,
            "bin_end": 4.55,
            "count": 0
           },
           {
            "bin_start": 4.55,
            "bin_end": 5,
            "count": 2
           }
          ]
         }
        },
        {
         "name": "title",
         "dtype": "object",
         "stats": {
          "unique_count": 1,
          "nan_count": 0,
          "categories": [
           {
            "name": "Matrix, The",
            "count": 5
           }
          ]
         }
        },
        {
         "name": "genres",
         "dtype": "object",
         "stats": {
          "unique_count": 1,
          "nan_count": 0,
          "categories": [
           {
            "name": "Action|Sci-Fi|Thriller",
            "count": 5
           }
          ]
         }
        },
        {
         "name": "release_year",
         "dtype": "float64",
         "stats": {
          "unique_count": 1,
          "nan_count": 0,
          "min": "1999.0",
          "max": "1999.0",
          "histogram": [
           {
            "bin_start": 1998.5,
            "bin_end": 1998.6,
            "count": 0
           },
           {
            "bin_start": 1998.6,
            "bin_end": 1998.7,
            "count": 0
           },
           {
            "bin_start": 1998.7,
            "bin_end": 1998.8,
            "count": 0
           },
           {
            "bin_start": 1998.8,
            "bin_end": 1998.9,
            "count": 0
           },
           {
            "bin_start": 1998.9,
            "bin_end": 1999,
            "count": 0
           },
           {
            "bin_start": 1999,
            "bin_end": 1999.1,
            "count": 5
           },
           {
            "bin_start": 1999.1,
            "bin_end": 1999.2,
            "count": 0
           },
           {
            "bin_start": 1999.2,
            "bin_end": 1999.3,
            "count": 0
           },
           {
            "bin_start": 1999.3,
            "bin_end": 1999.4,
            "count": 0
           },
           {
            "bin_start": 1999.4,
            "bin_end": 1999.5,
            "count": 0
           }
          ]
         }
        },
        {
         "name": "_deepnote_index_column",
         "dtype": "int64"
        }
       ],
       "rows": [
        {
         "userId": 1,
         "movieId": 2571,
         "rating": 5,
         "title": "Matrix, The",
         "genres": "Action|Sci-Fi|Thriller",
         "release_year": 1999,
         "_deepnote_index_column": 12642
        },
        {
         "userId": 4,
         "movieId": 2571,
         "rating": 1,
         "title": "Matrix, The",
         "genres": "Action|Sci-Fi|Thriller",
         "release_year": 1999,
         "_deepnote_index_column": 12643
        },
        {
         "userId": 10,
         "movieId": 2571,
         "rating": 0.5,
         "title": "Matrix, The",
         "genres": "Action|Sci-Fi|Thriller",
         "release_year": 1999,
         "_deepnote_index_column": 12644
        },
        {
         "userId": 13,
         "movieId": 2571,
         "rating": 5,
         "title": "Matrix, The",
         "genres": "Action|Sci-Fi|Thriller",
         "release_year": 1999,
         "_deepnote_index_column": 12645
        },
        {
         "userId": 15,
         "movieId": 2571,
         "rating": 4,
         "title": "Matrix, The",
         "genres": "Action|Sci-Fi|Thriller",
         "release_year": 1999,
         "_deepnote_index_column": 12646
        }
       ]
      },
      "text/plain": "       userId  movieId  rating        title                  genres  \\\n12642       1     2571     5.0  Matrix, The  Action|Sci-Fi|Thriller   \n12643       4     2571     1.0  Matrix, The  Action|Sci-Fi|Thriller   \n12644      10     2571     0.5  Matrix, The  Action|Sci-Fi|Thriller   \n12645      13     2571     5.0  Matrix, The  Action|Sci-Fi|Thriller   \n12646      15     2571     4.0  Matrix, The  Action|Sci-Fi|Thriller   \n\n       release_year  \n12642        1999.0  \n12643        1999.0  \n12644        1999.0  \n12645        1999.0  \n12646        1999.0  ",
      "text/html": "<div>\n<style scoped>\n    .dataframe tbody tr th:only-of-type {\n        vertical-align: middle;\n    }\n\n    .dataframe tbody tr th {\n        vertical-align: top;\n    }\n\n    .dataframe thead th {\n        text-align: right;\n    }\n</style>\n<table border=\"1\" class=\"dataframe\">\n  <thead>\n    <tr style=\"text-align: right;\">\n      <th></th>\n      <th>userId</th>\n      <th>movieId</th>\n      <th>rating</th>\n      <th>title</th>\n      <th>genres</th>\n      <th>release_year</th>\n    </tr>\n  </thead>\n  <tbody>\n    <tr>\n      <th>12642</th>\n      <td>1</td>\n      <td>2571</td>\n      <td>5.0</td>\n      <td>Matrix, The</td>\n      <td>Action|Sci-Fi|Thriller</td>\n      <td>1999.0</td>\n    </tr>\n    <tr>\n      <th>12643</th>\n      <td>4</td>\n      <td>2571</td>\n      <td>1.0</td>\n      <td>Matrix, The</td>\n      <td>Action|Sci-Fi|Thriller</td>\n      <td>1999.0</td>\n    </tr>\n    <tr>\n      <th>12644</th>\n      <td>10</td>\n      <td>2571</td>\n      <td>0.5</td>\n      <td>Matrix, The</td>\n      <td>Action|Sci-Fi|Thriller</td>\n      <td>1999.0</td>\n    </tr>\n    <tr>\n      <th>12645</th>\n      <td>13</td>\n      <td>2571</td>\n      <td>5.0</td>\n      <td>Matrix, The</td>\n      <td>Action|Sci-Fi|Thriller</td>\n      <td>1999.0</td>\n    </tr>\n    <tr>\n      <th>12646</th>\n      <td>15</td>\n      <td>2571</td>\n      <td>4.0</td>\n      <td>Matrix, The</td>\n      <td>Action|Sci-Fi|Thriller</td>\n      <td>1999.0</td>\n    </tr>\n  </tbody>\n</table>\n</div>"
     },
     "metadata": {}
    }
   ],
   "execution_count": 70
  },
  {
   "cell_type": "code",
   "source": "#Concatenating of all extracted movie id data into a single datframe.\ndf_mostrated= pd.concat([df_2571,df_593,df_296,df_318, df_356])",
   "metadata": {
    "cell_id": "c48ef38c31cc48f89e9d6c7ca2505dca",
    "tags": [],
    "deepnote_to_be_reexecuted": false,
    "source_hash": "1e16609b",
    "execution_start": 1658155725462,
    "execution_millis": 7,
    "deepnote_cell_type": "code",
    "deepnote_cell_height": 99
   },
   "outputs": [],
   "execution_count": 71
  },
  {
   "cell_type": "markdown",
   "source": "The top five most rated movies were all produced in the 1990s with three produced in the same year(1994) ",
   "metadata": {
    "cell_id": "c22e170a10234808bb4f3acc3d6f4020",
    "tags": [],
    "is_collapsed": false,
    "formattedRanges": [],
    "deepnote_cell_type": "text-cell-p"
   }
  },
  {
   "cell_type": "code",
   "source": "G = nx.Graph()\nG = nx.from_pandas_edgelist(df_mostrated, 'title', 'release_year')\nnx.draw(G, with_labels=True)\nplt.show()",
   "metadata": {
    "cell_id": "abdc10190e064e3f82aa5119c02f3acc",
    "tags": [],
    "deepnote_to_be_reexecuted": false,
    "source_hash": "3330c6fc",
    "execution_start": 1658155827355,
    "execution_millis": 376,
    "deepnote_cell_type": "code",
    "deepnote_cell_height": 455,
    "deepnote_output_heights": [
     304
    ]
   },
   "outputs": [
    {
     "data": {
      "text/plain": "<Figure size 432x288 with 1 Axes>",
      "image/png": "[encoded data removed]"
     },
     "metadata": {
      "image/png": {
       "width": 446,
       "height": 302
      }
     },
     "output_type": "display_data"
    }
   ],
   "execution_count": 76
  },
  {
   "cell_type": "markdown",
   "source": "### Relationship between the least rated movies(Movie to Movie similarities)",
   "metadata": {
    "cell_id": "9a60cd1fee064473b3efd9eb4cd962af",
    "tags": [],
    "is_collapsed": false,
    "formattedRanges": [],
    "deepnote_cell_type": "text-cell-h3"
   }
  },
  {
   "cell_type": "code",
   "source": "# Lets see the count of each rating given by users\ndf_movies.groupby('title')['rating'].count().sort_values(ascending=False).tail(10)",
   "metadata": {
    "cell_id": "98eb06877da346468aa362333195a7db",
    "tags": [],
    "deepnote_to_be_reexecuted": false,
    "source_hash": "d2804731",
    "execution_start": 1658156601198,
    "execution_millis": 24,
    "deepnote_cell_type": "code",
    "deepnote_cell_height": 347.34375,
    "deepnote_output_heights": [
     232.34375
    ]
   },
   "outputs": [
    {
     "output_type": "execute_result",
     "execution_count": 91,
     "data": {
      "text/plain": "title\nKizumonogatari Part 1: Tekketsu        1\nKizumonogatari II: Passionate Blood    1\nKing's Ransom                          1\nKite                                   1\nKiss me Kismet                         1\nKiss Me, Stupid                        1\nKiss Me Kate                           1\nKiss Me Goodbye                        1\nKingsglaive: Final Fantasy XV          1\nÀ nous la liberté (Freedom for Us)     1\nName: rating, dtype: int64"
     },
     "metadata": {}
    }
   ],
   "execution_count": 91
  },
  {
   "cell_type": "code",
   "source": "df_6578 = df_movies[df_movies['movieId']==6578]\ndf_6578.head()",
   "metadata": {
    "cell_id": "2daf8e095c384dd7a4e1dde842f62c83",
    "tags": [],
    "deepnote_to_be_reexecuted": false,
    "source_hash": "f6c1bd06",
    "execution_start": 1658156216948,
    "execution_millis": 33,
    "deepnote_cell_type": "code",
    "deepnote_cell_height": 266
   },
   "outputs": [
    {
     "output_type": "execute_result",
     "execution_count": 84,
     "data": {
      "application/vnd.deepnote.dataframe.v3+json": {
       "column_count": 6,
       "row_count": 1,
       "columns": [
        {
         "name": "userId",
         "dtype": "int64",
         "stats": {
          "unique_count": 1,
          "nan_count": 0,
          "min": "606",
          "max": "606",
          "histogram": [
           {
            "bin_start": 605.5,
            "bin_end": 605.6,
            "count": 0
           },
           {
            "bin_start": 605.6,
            "bin_end": 605.7,
            "count": 0
           },
           {
            "bin_start": 605.7,
            "bin_end": 605.8,
            "count": 0
           },
           {
            "bin_start": 605.8,
            "bin_end": 605.9,
            "count": 0
           },
           {
            "bin_start": 605.9,
            "bin_end": 606,
            "count": 0
           },
           {
            "bin_start": 606,
            "bin_end": 606.1,
            "count": 1
           },
           {
            "bin_start": 606.1,
            "bin_end": 606.2,
            "count": 0
           },
           {
            "bin_start": 606.2,
            "bin_end": 606.3,
            "count": 0
           },
           {
            "bin_start": 606.3,
            "bin_end": 606.4,
            "count": 0
           },
           {
            "bin_start": 606.4,
            "bin_end": 606.5,
            "count": 0
           }
          ]
         }
        },
        {
         "name": "movieId",
         "dtype": "int64",
         "stats": {
          "unique_count": 1,
          "nan_count": 0,
          "min": "6578",
          "max": "6578",
          "histogram": [
           {
            "bin_start": 6577.5,
            "bin_end": 6577.6,
            "count": 0
           },
           {
            "bin_start": 6577.6,
            "bin_end": 6577.7,
            "count": 0
           },
           {
            "bin_start": 6577.7,
            "bin_end": 6577.8,
            "count": 0
           },
           {
            "bin_start": 6577.8,
            "bin_end": 6577.9,
            "count": 0
           },
           {
            "bin_start": 6577.9,
            "bin_end": 6578,
            "count": 0
           },
           {
            "bin_start": 6578,
            "bin_end": 6578.1,
            "count": 1
           },
           {
            "bin_start": 6578.1,
            "bin_end": 6578.2,
            "count": 0
           },
           {
            "bin_start": 6578.2,
            "bin_end": 6578.3,
            "count": 0
           },
           {
            "bin_start": 6578.3,
            "bin_end": 6578.4,
            "count": 0
           },
           {
            "bin_start": 6578.4,
            "bin_end": 6578.5,
            "count": 0
           }
          ]
         }
        },
        {
         "name": "rating",
         "dtype": "float64",
         "stats": {
          "unique_count": 1,
          "nan_count": 0,
          "min": "3.5",
          "max": "3.5",
          "histogram": [
           {
            "bin_start": 3,
            "bin_end": 3.1,
            "count": 0
           },
           {
            "bin_start": 3.1,
            "bin_end": 3.2,
            "count": 0
           },
           {
            "bin_start": 3.2,
            "bin_end": 3.3,
            "count": 0
           },
           {
            "bin_start": 3.3,
            "bin_end": 3.4,
            "count": 0
           },
           {
            "bin_start": 3.4,
            "bin_end": 3.5,
            "count": 0
           },
           {
            "bin_start": 3.5,
            "bin_end": 3.6,
            "count": 1
           },
           {
            "bin_start": 3.6,
            "bin_end": 3.7,
            "count": 0
           },
           {
            "bin_start": 3.7,
            "bin_end": 3.8,
            "count": 0
           },
           {
            "bin_start": 3.8,
            "bin_end": 3.9,
            "count": 0
           },
           {
            "bin_start": 3.9,
            "bin_end": 4,
            "count": 0
           }
          ]
         }
        },
        {
         "name": "title",
         "dtype": "object",
         "stats": {
          "unique_count": 1,
          "nan_count": 0,
          "categories": [
           {
            "name": "Kiss Me, Stupid",
            "count": 1
           }
          ]
         }
        },
        {
         "name": "genres",
         "dtype": "object",
         "stats": {
          "unique_count": 1,
          "nan_count": 0,
          "categories": [
           {
            "name": "Comedy",
            "count": 1
           }
          ]
         }
        },
        {
         "name": "release_year",
         "dtype": "float64",
         "stats": {
          "unique_count": 1,
          "nan_count": 0,
          "min": "1964.0",
          "max": "1964.0",
          "histogram": [
           {
            "bin_start": 1963.5,
            "bin_end": 1963.6,
            "count": 0
           },
           {
            "bin_start": 1963.6,
            "bin_end": 1963.7,
            "count": 0
           },
           {
            "bin_start": 1963.7,
            "bin_end": 1963.8,
            "count": 0
           },
           {
            "bin_start": 1963.8,
            "bin_end": 1963.9,
            "count": 0
           },
           {
            "bin_start": 1963.9,
            "bin_end": 1964,
            "count": 0
           },
           {
            "bin_start": 1964,
            "bin_end": 1964.1,
            "count": 1
           },
           {
            "bin_start": 1964.1,
            "bin_end": 1964.2,
            "count": 0
           },
           {
            "bin_start": 1964.2,
            "bin_end": 1964.3,
            "count": 0
           },
           {
            "bin_start": 1964.3,
            "bin_end": 1964.4,
            "count": 0
           },
           {
            "bin_start": 1964.4,
            "bin_end": 1964.5,
            "count": 0
           }
          ]
         }
        },
        {
         "name": "_deepnote_index_column",
         "dtype": "int64"
        }
       ],
       "rows": [
        {
         "userId": 606,
         "movieId": 6578,
         "rating": 3.5,
         "title": "Kiss Me, Stupid",
         "genres": "Comedy",
         "release_year": 1964,
         "_deepnote_index_column": 100597
        }
       ]
      },
      "text/plain": "        userId  movieId  rating            title  genres  release_year\n100597     606     6578     3.5  Kiss Me, Stupid  Comedy        1964.0",
      "text/html": "<div>\n<style scoped>\n    .dataframe tbody tr th:only-of-type {\n        vertical-align: middle;\n    }\n\n    .dataframe tbody tr th {\n        vertical-align: top;\n    }\n\n    .dataframe thead th {\n        text-align: right;\n    }\n</style>\n<table border=\"1\" class=\"dataframe\">\n  <thead>\n    <tr style=\"text-align: right;\">\n      <th></th>\n      <th>userId</th>\n      <th>movieId</th>\n      <th>rating</th>\n      <th>title</th>\n      <th>genres</th>\n      <th>release_year</th>\n    </tr>\n  </thead>\n  <tbody>\n    <tr>\n      <th>100597</th>\n      <td>606</td>\n      <td>6578</td>\n      <td>3.5</td>\n      <td>Kiss Me, Stupid</td>\n      <td>Comedy</td>\n      <td>1964.0</td>\n    </tr>\n  </tbody>\n</table>\n</div>"
     },
     "metadata": {}
    }
   ],
   "execution_count": 84
  },
  {
   "cell_type": "code",
   "source": "df_6358 = df_movies[df_movies['movieId']==6358]\ndf_6358.head()",
   "metadata": {
    "cell_id": "ae39fa55636346229cd1f855faf10264",
    "tags": [],
    "deepnote_to_be_reexecuted": false,
    "source_hash": "ef8f70a6",
    "execution_start": 1658156254691,
    "execution_millis": 8,
    "deepnote_cell_type": "code",
    "deepnote_cell_height": 266
   },
   "outputs": [
    {
     "output_type": "execute_result",
     "execution_count": 85,
     "data": {
      "application/vnd.deepnote.dataframe.v3+json": {
       "column_count": 6,
       "row_count": 1,
       "columns": [
        {
         "name": "userId",
         "dtype": "int64",
         "stats": {
          "unique_count": 1,
          "nan_count": 0,
          "min": "20",
          "max": "20",
          "histogram": [
           {
            "bin_start": 19.5,
            "bin_end": 19.6,
            "count": 0
           },
           {
            "bin_start": 19.6,
            "bin_end": 19.7,
            "count": 0
           },
           {
            "bin_start": 19.7,
            "bin_end": 19.8,
            "count": 0
           },
           {
            "bin_start": 19.8,
            "bin_end": 19.9,
            "count": 0
           },
           {
            "bin_start": 19.9,
            "bin_end": 20,
            "count": 0
           },
           {
            "bin_start": 20,
            "bin_end": 20.1,
            "count": 1
           },
           {
            "bin_start": 20.1,
            "bin_end": 20.2,
            "count": 0
           },
           {
            "bin_start": 20.2,
            "bin_end": 20.3,
            "count": 0
           },
           {
            "bin_start": 20.3,
            "bin_end": 20.4,
            "count": 0
           },
           {
            "bin_start": 20.4,
            "bin_end": 20.5,
            "count": 0
           }
          ]
         }
        },
        {
         "name": "movieId",
         "dtype": "int64",
         "stats": {
          "unique_count": 1,
          "nan_count": 0,
          "min": "6358",
          "max": "6358",
          "histogram": [
           {
            "bin_start": 6357.5,
            "bin_end": 6357.6,
            "count": 0
           },
           {
            "bin_start": 6357.6,
            "bin_end": 6357.7,
            "count": 0
           },
           {
            "bin_start": 6357.7,
            "bin_end": 6357.8,
            "count": 0
           },
           {
            "bin_start": 6357.8,
            "bin_end": 6357.9,
            "count": 0
           },
           {
            "bin_start": 6357.9,
            "bin_end": 6358,
            "count": 0
           },
           {
            "bin_start": 6358,
            "bin_end": 6358.1,
            "count": 1
           },
           {
            "bin_start": 6358.1,
            "bin_end": 6358.2,
            "count": 0
           },
           {
            "bin_start": 6358.2,
            "bin_end": 6358.3,
            "count": 0
           },
           {
            "bin_start": 6358.3,
            "bin_end": 6358.4,
            "count": 0
           },
           {
            "bin_start": 6358.4,
            "bin_end": 6358.5,
            "count": 0
           }
          ]
         }
        },
        {
         "name": "rating",
         "dtype": "float64",
         "stats": {
          "unique_count": 1,
          "nan_count": 0,
          "min": "3.5",
          "max": "3.5",
          "histogram": [
           {
            "bin_start": 3,
            "bin_end": 3.1,
            "count": 0
           },
           {
            "bin_start": 3.1,
            "bin_end": 3.2,
            "count": 0
           },
           {
            "bin_start": 3.2,
            "bin_end": 3.3,
            "count": 0
           },
           {
            "bin_start": 3.3,
            "bin_end": 3.4,
            "count": 0
           },
           {
            "bin_start": 3.4,
            "bin_end": 3.5,
            "count": 0
           },
           {
            "bin_start": 3.5,
            "bin_end": 3.6,
            "count": 1
           },
           {
            "bin_start": 3.6,
            "bin_end": 3.7,
            "count": 0
           },
           {
            "bin_start": 3.7,
            "bin_end": 3.8,
            "count": 0
           },
           {
            "bin_start": 3.8,
            "bin_end": 3.9,
            "count": 0
           },
           {
            "bin_start": 3.9,
            "bin_end": 4,
            "count": 0
           }
          ]
         }
        },
        {
         "name": "title",
         "dtype": "object",
         "stats": {
          "unique_count": 1,
          "nan_count": 0,
          "categories": [
           {
            "name": "Kiss Me Kate",
            "count": 1
           }
          ]
         }
        },
        {
         "name": "genres",
         "dtype": "object",
         "stats": {
          "unique_count": 1,
          "nan_count": 0,
          "categories": [
           {
            "name": "Comedy|Musical|Romance",
            "count": 1
           }
          ]
         }
        },
        {
         "name": "release_year",
         "dtype": "float64",
         "stats": {
          "unique_count": 1,
          "nan_count": 0,
          "min": "1953.0",
          "max": "1953.0",
          "histogram": [
           {
            "bin_start": 1952.5,
            "bin_end": 1952.6,
            "count": 0
           },
           {
            "bin_start": 1952.6,
            "bin_end": 1952.7,
            "count": 0
           },
           {
            "bin_start": 1952.7,
            "bin_end": 1952.8,
            "count": 0
           },
           {
            "bin_start": 1952.8,
            "bin_end": 1952.9,
            "count": 0
           },
           {
            "bin_start": 1952.9,
            "bin_end": 1953,
            "count": 0
           },
           {
            "bin_start": 1953,
            "bin_end": 1953.1,
            "count": 1
           },
           {
            "bin_start": 1953.1,
            "bin_end": 1953.2,
            "count": 0
           },
           {
            "bin_start": 1953.2,
            "bin_end": 1953.3,
            "count": 0
           },
           {
            "bin_start": 1953.3,
            "bin_end": 1953.4,
            "count": 0
           },
           {
            "bin_start": 1953.4,
            "bin_end": 1953.5,
            "count": 0
           }
          ]
         }
        },
        {
         "name": "_deepnote_index_column",
         "dtype": "int64"
        }
       ],
       "rows": [
        {
         "userId": 20,
         "movieId": 6358,
         "rating": 3.5,
         "title": "Kiss Me Kate",
         "genres": "Comedy|Musical|Romance",
         "release_year": 1953,
         "_deepnote_index_column": 66361
        }
       ]
      },
      "text/plain": "       userId  movieId  rating         title                  genres  \\\n66361      20     6358     3.5  Kiss Me Kate  Comedy|Musical|Romance   \n\n       release_year  \n66361        1953.0  ",
      "text/html": "<div>\n<style scoped>\n    .dataframe tbody tr th:only-of-type {\n        vertical-align: middle;\n    }\n\n    .dataframe tbody tr th {\n        vertical-align: top;\n    }\n\n    .dataframe thead th {\n        text-align: right;\n    }\n</style>\n<table border=\"1\" class=\"dataframe\">\n  <thead>\n    <tr style=\"text-align: right;\">\n      <th></th>\n      <th>userId</th>\n      <th>movieId</th>\n      <th>rating</th>\n      <th>title</th>\n      <th>genres</th>\n      <th>release_year</th>\n    </tr>\n  </thead>\n  <tbody>\n    <tr>\n      <th>66361</th>\n      <td>20</td>\n      <td>6358</td>\n      <td>3.5</td>\n      <td>Kiss Me Kate</td>\n      <td>Comedy|Musical|Romance</td>\n      <td>1953.0</td>\n    </tr>\n  </tbody>\n</table>\n</div>"
     },
     "metadata": {}
    }
   ],
   "execution_count": 85
  },
  {
   "cell_type": "code",
   "source": "df_6090 = df_movies[df_movies['movieId']==6090]\ndf_6090.head()\n",
   "metadata": {
    "cell_id": "53e75623542d4678a7e958d3e2b12cec",
    "tags": [],
    "deepnote_to_be_reexecuted": false,
    "source_hash": "6c99b9e",
    "execution_start": 1658156300005,
    "execution_millis": 31,
    "deepnote_cell_type": "code",
    "deepnote_cell_height": 284
   },
   "outputs": [
    {
     "output_type": "execute_result",
     "execution_count": 86,
     "data": {
      "application/vnd.deepnote.dataframe.v3+json": {
       "column_count": 6,
       "row_count": 1,
       "columns": [
        {
         "name": "userId",
         "dtype": "int64",
         "stats": {
          "unique_count": 1,
          "nan_count": 0,
          "min": "474",
          "max": "474",
          "histogram": [
           {
            "bin_start": 473.5,
            "bin_end": 473.6,
            "count": 0
           },
           {
            "bin_start": 473.6,
            "bin_end": 473.7,
            "count": 0
           },
           {
            "bin_start": 473.7,
            "bin_end": 473.8,
            "count": 0
           },
           {
            "bin_start": 473.8,
            "bin_end": 473.9,
            "count": 0
           },
           {
            "bin_start": 473.9,
            "bin_end": 474,
            "count": 0
           },
           {
            "bin_start": 474,
            "bin_end": 474.1,
            "count": 1
           },
           {
            "bin_start": 474.1,
            "bin_end": 474.2,
            "count": 0
           },
           {
            "bin_start": 474.2,
            "bin_end": 474.3,
            "count": 0
           },
           {
            "bin_start": 474.3,
            "bin_end": 474.4,
            "count": 0
           },
           {
            "bin_start": 474.4,
            "bin_end": 474.5,
            "count": 0
           }
          ]
         }
        },
        {
         "name": "movieId",
         "dtype": "int64",
         "stats": {
          "unique_count": 1,
          "nan_count": 0,
          "min": "6090",
          "max": "6090",
          "histogram": [
           {
            "bin_start": 6089.5,
            "bin_end": 6089.6,
            "count": 0
           },
           {
            "bin_start": 6089.6,
            "bin_end": 6089.7,
            "count": 0
           },
           {
            "bin_start": 6089.7,
            "bin_end": 6089.8,
            "count": 0
           },
           {
            "bin_start": 6089.8,
            "bin_end": 6089.9,
            "count": 0
           },
           {
            "bin_start": 6089.9,
            "bin_end": 6090,
            "count": 0
           },
           {
            "bin_start": 6090,
            "bin_end": 6090.1,
            "count": 1
           },
           {
            "bin_start": 6090.1,
            "bin_end": 6090.2,
            "count": 0
           },
           {
            "bin_start": 6090.2,
            "bin_end": 6090.3,
            "count": 0
           },
           {
            "bin_start": 6090.3,
            "bin_end": 6090.4,
            "count": 0
           },
           {
            "bin_start": 6090.4,
            "bin_end": 6090.5,
            "count": 0
           }
          ]
         }
        },
        {
         "name": "rating",
         "dtype": "float64",
         "stats": {
          "unique_count": 1,
          "nan_count": 0,
          "min": "3.5",
          "max": "3.5",
          "histogram": [
           {
            "bin_start": 3,
            "bin_end": 3.1,
            "count": 0
           },
           {
            "bin_start": 3.1,
            "bin_end": 3.2,
            "count": 0
           },
           {
            "bin_start": 3.2,
            "bin_end": 3.3,
            "count": 0
           },
           {
            "bin_start": 3.3,
            "bin_end": 3.4,
            "count": 0
           },
           {
            "bin_start": 3.4,
            "bin_end": 3.5,
            "count": 0
           },
           {
            "bin_start": 3.5,
            "bin_end": 3.6,
            "count": 1
           },
           {
            "bin_start": 3.6,
            "bin_end": 3.7,
            "count": 0
           },
           {
            "bin_start": 3.7,
            "bin_end": 3.8,
            "count": 0
           },
           {
            "bin_start": 3.8,
            "bin_end": 3.9,
            "count": 0
           },
           {
            "bin_start": 3.9,
            "bin_end": 4,
            "count": 0
           }
          ]
         }
        },
        {
         "name": "title",
         "dtype": "object",
         "stats": {
          "unique_count": 1,
          "nan_count": 0,
          "categories": [
           {
            "name": "Kiss Me Goodbye",
            "count": 1
           }
          ]
         }
        },
        {
         "name": "genres",
         "dtype": "object",
         "stats": {
          "unique_count": 1,
          "nan_count": 0,
          "categories": [
           {
            "name": "Comedy",
            "count": 1
           }
          ]
         }
        },
        {
         "name": "release_year",
         "dtype": "float64",
         "stats": {
          "unique_count": 1,
          "nan_count": 0,
          "min": "1982.0",
          "max": "1982.0",
          "histogram": [
           {
            "bin_start": 1981.5,
            "bin_end": 1981.6,
            "count": 0
           },
           {
            "bin_start": 1981.6,
            "bin_end": 1981.7,
            "count": 0
           },
           {
            "bin_start": 1981.7,
            "bin_end": 1981.8,
            "count": 0
           },
           {
            "bin_start": 1981.8,
            "bin_end": 1981.9,
            "count": 0
           },
           {
            "bin_start": 1981.9,
            "bin_end": 1982,
            "count": 0
           },
           {
            "bin_start": 1982,
            "bin_end": 1982.1,
            "count": 1
           },
           {
            "bin_start": 1982.1,
            "bin_end": 1982.2,
            "count": 0
           },
           {
            "bin_start": 1982.2,
            "bin_end": 1982.3,
            "count": 0
           },
           {
            "bin_start": 1982.3,
            "bin_end": 1982.4,
            "count": 0
           },
           {
            "bin_start": 1982.4,
            "bin_end": 1982.5,
            "count": 0
           }
          ]
         }
        },
        {
         "name": "_deepnote_index_column",
         "dtype": "int64"
        }
       ],
       "rows": [
        {
         "userId": 474,
         "movieId": 6090,
         "rating": 3.5,
         "title": "Kiss Me Goodbye",
         "genres": "Comedy",
         "release_year": 1982,
         "_deepnote_index_column": 99201
        }
       ]
      },
      "text/plain": "       userId  movieId  rating            title  genres  release_year\n99201     474     6090     3.5  Kiss Me Goodbye  Comedy        1982.0",
      "text/html": "<div>\n<style scoped>\n    .dataframe tbody tr th:only-of-type {\n        vertical-align: middle;\n    }\n\n    .dataframe tbody tr th {\n        vertical-align: top;\n    }\n\n    .dataframe thead th {\n        text-align: right;\n    }\n</style>\n<table border=\"1\" class=\"dataframe\">\n  <thead>\n    <tr style=\"text-align: right;\">\n      <th></th>\n      <th>userId</th>\n      <th>movieId</th>\n      <th>rating</th>\n      <th>title</th>\n      <th>genres</th>\n      <th>release_year</th>\n    </tr>\n  </thead>\n  <tbody>\n    <tr>\n      <th>99201</th>\n      <td>474</td>\n      <td>6090</td>\n      <td>3.5</td>\n      <td>Kiss Me Goodbye</td>\n      <td>Comedy</td>\n      <td>1982.0</td>\n    </tr>\n  </tbody>\n</table>\n</div>"
     },
     "metadata": {}
    }
   ],
   "execution_count": 86
  },
  {
   "cell_type": "code",
   "source": "\ndf_161594 = df_movies[df_movies['movieId']==161594]\ndf_161594.head()",
   "metadata": {
    "cell_id": "a3379279a2e04e6793f0efdc24c2c853",
    "tags": [],
    "deepnote_to_be_reexecuted": false,
    "source_hash": "2cbe3036",
    "execution_start": 1658156408968,
    "execution_millis": 8,
    "deepnote_cell_type": "code",
    "deepnote_cell_height": 284
   },
   "outputs": [
    {
     "output_type": "execute_result",
     "execution_count": 87,
     "data": {
      "application/vnd.deepnote.dataframe.v3+json": {
       "column_count": 6,
       "row_count": 1,
       "columns": [
        {
         "name": "userId",
         "dtype": "int64",
         "stats": {
          "unique_count": 1,
          "nan_count": 0,
          "min": "184",
          "max": "184",
          "histogram": [
           {
            "bin_start": 183.5,
            "bin_end": 183.6,
            "count": 0
           },
           {
            "bin_start": 183.6,
            "bin_end": 183.7,
            "count": 0
           },
           {
            "bin_start": 183.7,
            "bin_end": 183.8,
            "count": 0
           },
           {
            "bin_start": 183.8,
            "bin_end": 183.9,
            "count": 0
           },
           {
            "bin_start": 183.9,
            "bin_end": 184,
            "count": 0
           },
           {
            "bin_start": 184,
            "bin_end": 184.1,
            "count": 1
           },
           {
            "bin_start": 184.1,
            "bin_end": 184.2,
            "count": 0
           },
           {
            "bin_start": 184.2,
            "bin_end": 184.3,
            "count": 0
           },
           {
            "bin_start": 184.3,
            "bin_end": 184.4,
            "count": 0
           },
           {
            "bin_start": 184.4,
            "bin_end": 184.5,
            "count": 0
           }
          ]
         }
        },
        {
         "name": "movieId",
         "dtype": "int64",
         "stats": {
          "unique_count": 1,
          "nan_count": 0,
          "min": "161594",
          "max": "161594",
          "histogram": [
           {
            "bin_start": 161593.5,
            "bin_end": 161593.6,
            "count": 0
           },
           {
            "bin_start": 161593.6,
            "bin_end": 161593.7,
            "count": 0
           },
           {
            "bin_start": 161593.7,
            "bin_end": 161593.8,
            "count": 0
           },
           {
            "bin_start": 161593.8,
            "bin_end": 161593.9,
            "count": 0
           },
           {
            "bin_start": 161593.9,
            "bin_end": 161594,
            "count": 0
           },
           {
            "bin_start": 161594,
            "bin_end": 161594.1,
            "count": 1
           },
           {
            "bin_start": 161594.1,
            "bin_end": 161594.2,
            "count": 0
           },
           {
            "bin_start": 161594.2,
            "bin_end": 161594.3,
            "count": 0
           },
           {
            "bin_start": 161594.3,
            "bin_end": 161594.4,
            "count": 0
           },
           {
            "bin_start": 161594.4,
            "bin_end": 161594.5,
            "count": 0
           }
          ]
         }
        },
        {
         "name": "rating",
         "dtype": "float64",
         "stats": {
          "unique_count": 1,
          "nan_count": 0,
          "min": "3.5",
          "max": "3.5",
          "histogram": [
           {
            "bin_start": 3,
            "bin_end": 3.1,
            "count": 0
           },
           {
            "bin_start": 3.1,
            "bin_end": 3.2,
            "count": 0
           },
           {
            "bin_start": 3.2,
            "bin_end": 3.3,
            "count": 0
           },
           {
            "bin_start": 3.3,
            "bin_end": 3.4,
            "count": 0
           },
           {
            "bin_start": 3.4,
            "bin_end": 3.5,
            "count": 0
           },
           {
            "bin_start": 3.5,
            "bin_end": 3.6,
            "count": 1
           },
           {
            "bin_start": 3.6,
            "bin_end": 3.7,
            "count": 0
           },
           {
            "bin_start": 3.7,
            "bin_end": 3.8,
            "count": 0
           },
           {
            "bin_start": 3.8,
            "bin_end": 3.9,
            "count": 0
           },
           {
            "bin_start": 3.9,
            "bin_end": 4,
            "count": 0
           }
          ]
         }
        },
        {
         "name": "title",
         "dtype": "object",
         "stats": {
          "unique_count": 1,
          "nan_count": 0,
          "categories": [
           {
            "name": "Kingsglaive: Final Fantasy XV",
            "count": 1
           }
          ]
         }
        },
        {
         "name": "genres",
         "dtype": "object",
         "stats": {
          "unique_count": 1,
          "nan_count": 0,
          "categories": [
           {
            "name": "Action|Adventure|Animation|Drama|Fantasy|Sci-Fi",
            "count": 1
           }
          ]
         }
        },
        {
         "name": "release_year",
         "dtype": "float64",
         "stats": {
          "unique_count": 1,
          "nan_count": 0,
          "min": "2016.0",
          "max": "2016.0",
          "histogram": [
           {
            "bin_start": 2015.5,
            "bin_end": 2015.6,
            "count": 0
           },
           {
            "bin_start": 2015.6,
            "bin_end": 2015.7,
            "count": 0
           },
           {
            "bin_start": 2015.7,
            "bin_end": 2015.8,
            "count": 0
           },
           {
            "bin_start": 2015.8,
            "bin_end": 2015.9,
            "count": 0
           },
           {
            "bin_start": 2015.9,
            "bin_end": 2016,
            "count": 0
           },
           {
            "bin_start": 2016,
            "bin_end": 2016.1,
            "count": 1
           },
           {
            "bin_start": 2016.1,
            "bin_end": 2016.2,
            "count": 0
           },
           {
            "bin_start": 2016.2,
            "bin_end": 2016.3,
            "count": 0
           },
           {
            "bin_start": 2016.3,
            "bin_end": 2016.4,
            "count": 0
           },
           {
            "bin_start": 2016.4,
            "bin_end": 2016.5,
            "count": 0
           }
          ]
         }
        },
        {
         "name": "_deepnote_index_column",
         "dtype": "int64"
        }
       ],
       "rows": [
        {
         "userId": 184,
         "movieId": 161594,
         "rating": 3.5,
         "title": "Kingsglaive: Final Fantasy XV",
         "genres": "Action|Adventure|Animation|Drama|Fantasy|Sci-Fi",
         "release_year": 2016,
         "_deepnote_index_column": 92920
        }
       ]
      },
      "text/plain": "       userId  movieId  rating                          title  \\\n92920     184   161594     3.5  Kingsglaive: Final Fantasy XV   \n\n                                                genres  release_year  \n92920  Action|Adventure|Animation|Drama|Fantasy|Sci-Fi        2016.0  ",
      "text/html": "<div>\n<style scoped>\n    .dataframe tbody tr th:only-of-type {\n        vertical-align: middle;\n    }\n\n    .dataframe tbody tr th {\n        vertical-align: top;\n    }\n\n    .dataframe thead th {\n        text-align: right;\n    }\n</style>\n<table border=\"1\" class=\"dataframe\">\n  <thead>\n    <tr style=\"text-align: right;\">\n      <th></th>\n      <th>userId</th>\n      <th>movieId</th>\n      <th>rating</th>\n      <th>title</th>\n      <th>genres</th>\n      <th>release_year</th>\n    </tr>\n  </thead>\n  <tbody>\n    <tr>\n      <th>92920</th>\n      <td>184</td>\n      <td>161594</td>\n      <td>3.5</td>\n      <td>Kingsglaive: Final Fantasy XV</td>\n      <td>Action|Adventure|Animation|Drama|Fantasy|Sci-Fi</td>\n      <td>2016.0</td>\n    </tr>\n  </tbody>\n</table>\n</div>"
     },
     "metadata": {}
    }
   ],
   "execution_count": 87
  },
  {
   "cell_type": "code",
   "source": "\ndf_5560 = df_movies[df_movies['movieId']==5560]\ndf_5560.head()",
   "metadata": {
    "cell_id": "40d8d571093543acad0d2652bbd574a3",
    "tags": [],
    "deepnote_to_be_reexecuted": false,
    "source_hash": "85c0ebe5",
    "execution_start": 1658156471359,
    "execution_millis": 33,
    "deepnote_cell_type": "code",
    "deepnote_cell_height": 284
   },
   "outputs": [
    {
     "output_type": "execute_result",
     "execution_count": 88,
     "data": {
      "application/vnd.deepnote.dataframe.v3+json": {
       "column_count": 6,
       "row_count": 1,
       "columns": [
        {
         "name": "userId",
         "dtype": "int64",
         "stats": {
          "unique_count": 1,
          "nan_count": 0,
          "min": "527",
          "max": "527",
          "histogram": [
           {
            "bin_start": 526.5,
            "bin_end": 526.6,
            "count": 0
           },
           {
            "bin_start": 526.6,
            "bin_end": 526.7,
            "count": 0
           },
           {
            "bin_start": 526.7,
            "bin_end": 526.8,
            "count": 0
           },
           {
            "bin_start": 526.8,
            "bin_end": 526.9,
            "count": 0
           },
           {
            "bin_start": 526.9,
            "bin_end": 527,
            "count": 0
           },
           {
            "bin_start": 527,
            "bin_end": 527.1,
            "count": 1
           },
           {
            "bin_start": 527.1,
            "bin_end": 527.2,
            "count": 0
           },
           {
            "bin_start": 527.2,
            "bin_end": 527.3,
            "count": 0
           },
           {
            "bin_start": 527.3,
            "bin_end": 527.4,
            "count": 0
           },
           {
            "bin_start": 527.4,
            "bin_end": 527.5,
            "count": 0
           }
          ]
         }
        },
        {
         "name": "movieId",
         "dtype": "int64",
         "stats": {
          "unique_count": 1,
          "nan_count": 0,
          "min": "5560",
          "max": "5560",
          "histogram": [
           {
            "bin_start": 5559.5,
            "bin_end": 5559.6,
            "count": 0
           },
           {
            "bin_start": 5559.6,
            "bin_end": 5559.7,
            "count": 0
           },
           {
            "bin_start": 5559.7,
            "bin_end": 5559.8,
            "count": 0
           },
           {
            "bin_start": 5559.8,
            "bin_end": 5559.9,
            "count": 0
           },
           {
            "bin_start": 5559.9,
            "bin_end": 5560,
            "count": 0
           },
           {
            "bin_start": 5560,
            "bin_end": 5560.1,
            "count": 1
           },
           {
            "bin_start": 5560.1,
            "bin_end": 5560.2,
            "count": 0
           },
           {
            "bin_start": 5560.2,
            "bin_end": 5560.3,
            "count": 0
           },
           {
            "bin_start": 5560.3,
            "bin_end": 5560.4,
            "count": 0
           },
           {
            "bin_start": 5560.4,
            "bin_end": 5560.5,
            "count": 0
           }
          ]
         }
        },
        {
         "name": "rating",
         "dtype": "float64",
         "stats": {
          "unique_count": 1,
          "nan_count": 0,
          "min": "1.0",
          "max": "1.0",
          "histogram": [
           {
            "bin_start": 0.5,
            "bin_end": 0.6,
            "count": 0
           },
           {
            "bin_start": 0.6,
            "bin_end": 0.7,
            "count": 0
           },
           {
            "bin_start": 0.7,
            "bin_end": 0.8,
            "count": 0
           },
           {
            "bin_start": 0.8,
            "bin_end": 0.9,
            "count": 0
           },
           {
            "bin_start": 0.9,
            "bin_end": 1,
            "count": 0
           },
           {
            "bin_start": 1,
            "bin_end": 1.1,
            "count": 1
           },
           {
            "bin_start": 1.1,
            "bin_end": 1.2000000000000002,
            "count": 0
           },
           {
            "bin_start": 1.2000000000000002,
            "bin_end": 1.3,
            "count": 0
           },
           {
            "bin_start": 1.3,
            "bin_end": 1.4,
            "count": 0
           },
           {
            "bin_start": 1.4,
            "bin_end": 1.5,
            "count": 0
           }
          ]
         }
        },
        {
         "name": "title",
         "dtype": "object",
         "stats": {
          "unique_count": 1,
          "nan_count": 0,
          "categories": [
           {
            "name": "À nous la liberté (Freedom for Us)",
            "count": 1
           }
          ]
         }
        },
        {
         "name": "genres",
         "dtype": "object",
         "stats": {
          "unique_count": 1,
          "nan_count": 0,
          "categories": [
           {
            "name": "Comedy|Musical",
            "count": 1
           }
          ]
         }
        },
        {
         "name": "release_year",
         "dtype": "float64",
         "stats": {
          "unique_count": 1,
          "nan_count": 0,
          "min": "1931.0",
          "max": "1931.0",
          "histogram": [
           {
            "bin_start": 1930.5,
            "bin_end": 1930.6,
            "count": 0
           },
           {
            "bin_start": 1930.6,
            "bin_end": 1930.7,
            "count": 0
           },
           {
            "bin_start": 1930.7,
            "bin_end": 1930.8,
            "count": 0
           },
           {
            "bin_start": 1930.8,
            "bin_end": 1930.9,
            "count": 0
           },
           {
            "bin_start": 1930.9,
            "bin_end": 1931,
            "count": 0
           },
           {
            "bin_start": 1931,
            "bin_end": 1931.1,
            "count": 1
           },
           {
            "bin_start": 1931.1,
            "bin_end": 1931.2,
            "count": 0
           },
           {
            "bin_start": 1931.2,
            "bin_end": 1931.3,
            "count": 0
           },
           {
            "bin_start": 1931.3,
            "bin_end": 1931.4,
            "count": 0
           },
           {
            "bin_start": 1931.4,
            "bin_end": 1931.5,
            "count": 0
           }
          ]
         }
        },
        {
         "name": "_deepnote_index_column",
         "dtype": "int64"
        }
       ],
       "rows": [
        {
         "userId": 527,
         "movieId": 5560,
         "rating": 1,
         "title": "À nous la liberté (Freedom for Us)",
         "genres": "Comedy|Musical",
         "release_year": 1931,
         "_deepnote_index_column": 99724
        }
       ]
      },
      "text/plain": "       userId  movieId  rating                               title  \\\n99724     527     5560     1.0  À nous la liberté (Freedom for Us)   \n\n               genres  release_year  \n99724  Comedy|Musical        1931.0  ",
      "text/html": "<div>\n<style scoped>\n    .dataframe tbody tr th:only-of-type {\n        vertical-align: middle;\n    }\n\n    .dataframe tbody tr th {\n        vertical-align: top;\n    }\n\n    .dataframe thead th {\n        text-align: right;\n    }\n</style>\n<table border=\"1\" class=\"dataframe\">\n  <thead>\n    <tr style=\"text-align: right;\">\n      <th></th>\n      <th>userId</th>\n      <th>movieId</th>\n      <th>rating</th>\n      <th>title</th>\n      <th>genres</th>\n      <th>release_year</th>\n    </tr>\n  </thead>\n  <tbody>\n    <tr>\n      <th>99724</th>\n      <td>527</td>\n      <td>5560</td>\n      <td>1.0</td>\n      <td>À nous la liberté (Freedom for Us)</td>\n      <td>Comedy|Musical</td>\n      <td>1931.0</td>\n    </tr>\n  </tbody>\n</table>\n</div>"
     },
     "metadata": {}
    }
   ],
   "execution_count": 88
  },
  {
   "cell_type": "code",
   "source": "\ndf_136838 = df_movies[df_movies['movieId']==136838]\ndf_136838.head()",
   "metadata": {
    "cell_id": "66c25654685041de83aedd5033836a81",
    "tags": [],
    "deepnote_to_be_reexecuted": false,
    "source_hash": "fe4f108d",
    "execution_start": 1658156851523,
    "execution_millis": 2,
    "deepnote_cell_type": "code",
    "deepnote_cell_height": 284
   },
   "outputs": [
    {
     "output_type": "execute_result",
     "execution_count": 92,
     "data": {
      "application/vnd.deepnote.dataframe.v3+json": {
       "column_count": 6,
       "row_count": 1,
       "columns": [
        {
         "name": "userId",
         "dtype": "int64",
         "stats": {
          "unique_count": 1,
          "nan_count": 0,
          "min": "509",
          "max": "509",
          "histogram": [
           {
            "bin_start": 508.5,
            "bin_end": 508.6,
            "count": 0
           },
           {
            "bin_start": 508.6,
            "bin_end": 508.7,
            "count": 0
           },
           {
            "bin_start": 508.7,
            "bin_end": 508.8,
            "count": 0
           },
           {
            "bin_start": 508.8,
            "bin_end": 508.9,
            "count": 0
           },
           {
            "bin_start": 508.9,
            "bin_end": 509,
            "count": 0
           },
           {
            "bin_start": 509,
            "bin_end": 509.1,
            "count": 1
           },
           {
            "bin_start": 509.1,
            "bin_end": 509.2,
            "count": 0
           },
           {
            "bin_start": 509.2,
            "bin_end": 509.3,
            "count": 0
           },
           {
            "bin_start": 509.3,
            "bin_end": 509.4,
            "count": 0
           },
           {
            "bin_start": 509.4,
            "bin_end": 509.5,
            "count": 0
           }
          ]
         }
        },
        {
         "name": "movieId",
         "dtype": "int64",
         "stats": {
          "unique_count": 1,
          "nan_count": 0,
          "min": "136838",
          "max": "136838",
          "histogram": [
           {
            "bin_start": 136837.5,
            "bin_end": 136837.6,
            "count": 0
           },
           {
            "bin_start": 136837.6,
            "bin_end": 136837.7,
            "count": 0
           },
           {
            "bin_start": 136837.7,
            "bin_end": 136837.8,
            "count": 0
           },
           {
            "bin_start": 136837.8,
            "bin_end": 136837.9,
            "count": 0
           },
           {
            "bin_start": 136837.9,
            "bin_end": 136838,
            "count": 0
           },
           {
            "bin_start": 136838,
            "bin_end": 136838.1,
            "count": 1
           },
           {
            "bin_start": 136838.1,
            "bin_end": 136838.2,
            "count": 0
           },
           {
            "bin_start": 136838.2,
            "bin_end": 136838.3,
            "count": 0
           },
           {
            "bin_start": 136838.3,
            "bin_end": 136838.4,
            "count": 0
           },
           {
            "bin_start": 136838.4,
            "bin_end": 136838.5,
            "count": 0
           }
          ]
         }
        },
        {
         "name": "rating",
         "dtype": "float64",
         "stats": {
          "unique_count": 1,
          "nan_count": 0,
          "min": "2.5",
          "max": "2.5",
          "histogram": [
           {
            "bin_start": 2,
            "bin_end": 2.1,
            "count": 0
           },
           {
            "bin_start": 2.1,
            "bin_end": 2.2,
            "count": 0
           },
           {
            "bin_start": 2.2,
            "bin_end": 2.3,
            "count": 0
           },
           {
            "bin_start": 2.3,
            "bin_end": 2.4,
            "count": 0
           },
           {
            "bin_start": 2.4,
            "bin_end": 2.5,
            "count": 0
           },
           {
            "bin_start": 2.5,
            "bin_end": 2.6,
            "count": 1
           },
           {
            "bin_start": 2.6,
            "bin_end": 2.7,
            "count": 0
           },
           {
            "bin_start": 2.7,
            "bin_end": 2.8,
            "count": 0
           },
           {
            "bin_start": 2.8,
            "bin_end": 2.9,
            "count": 0
           },
           {
            "bin_start": 2.9,
            "bin_end": 3,
            "count": 0
           }
          ]
         }
        },
        {
         "name": "title",
         "dtype": "object",
         "stats": {
          "unique_count": 1,
          "nan_count": 0,
          "categories": [
           {
            "name": "Kiss me Kismet",
            "count": 1
           }
          ]
         }
        },
        {
         "name": "genres",
         "dtype": "object",
         "stats": {
          "unique_count": 1,
          "nan_count": 0,
          "categories": [
           {
            "name": "Comedy|Romance",
            "count": 1
           }
          ]
         }
        },
        {
         "name": "release_year",
         "dtype": "float64",
         "stats": {
          "unique_count": 1,
          "nan_count": 0,
          "min": "2006.0",
          "max": "2006.0",
          "histogram": [
           {
            "bin_start": 2005.5,
            "bin_end": 2005.6,
            "count": 0
           },
           {
            "bin_start": 2005.6,
            "bin_end": 2005.7,
            "count": 0
           },
           {
            "bin_start": 2005.7,
            "bin_end": 2005.8,
            "count": 0
           },
           {
            "bin_start": 2005.8,
            "bin_end": 2005.9,
            "count": 0
           },
           {
            "bin_start": 2005.9,
            "bin_end": 2006,
            "count": 0
           },
           {
            "bin_start": 2006,
            "bin_end": 2006.1,
            "count": 1
           },
           {
            "bin_start": 2006.1,
            "bin_end": 2006.2,
            "count": 0
           },
           {
            "bin_start": 2006.2,
            "bin_end": 2006.3,
            "count": 0
           },
           {
            "bin_start": 2006.3,
            "bin_end": 2006.4,
            "count": 0
           },
           {
            "bin_start": 2006.4,
            "bin_end": 2006.5,
            "count": 0
           }
          ]
         }
        },
        {
         "name": "_deepnote_index_column",
         "dtype": "int64"
        }
       ],
       "rows": [
        {
         "userId": 509,
         "movieId": 136838,
         "rating": 2.5,
         "title": "Kiss me Kismet",
         "genres": "Comedy|Romance",
         "release_year": 2006,
         "_deepnote_index_column": 99626
        }
       ]
      },
      "text/plain": "       userId  movieId  rating           title          genres  release_year\n99626     509   136838     2.5  Kiss me Kismet  Comedy|Romance        2006.0",
      "text/html": "<div>\n<style scoped>\n    .dataframe tbody tr th:only-of-type {\n        vertical-align: middle;\n    }\n\n    .dataframe tbody tr th {\n        vertical-align: top;\n    }\n\n    .dataframe thead th {\n        text-align: right;\n    }\n</style>\n<table border=\"1\" class=\"dataframe\">\n  <thead>\n    <tr style=\"text-align: right;\">\n      <th></th>\n      <th>userId</th>\n      <th>movieId</th>\n      <th>rating</th>\n      <th>title</th>\n      <th>genres</th>\n      <th>release_year</th>\n    </tr>\n  </thead>\n  <tbody>\n    <tr>\n      <th>99626</th>\n      <td>509</td>\n      <td>136838</td>\n      <td>2.5</td>\n      <td>Kiss me Kismet</td>\n      <td>Comedy|Romance</td>\n      <td>2006.0</td>\n    </tr>\n  </tbody>\n</table>\n</div>"
     },
     "metadata": {}
    }
   ],
   "execution_count": 92
  },
  {
   "cell_type": "code",
   "source": "\ndf_33148 = df_movies[df_movies['movieId']==33148]\ndf_33148.head()",
   "metadata": {
    "cell_id": "74f06a9a81a8492c99a3ad9f94631bab",
    "tags": [],
    "deepnote_to_be_reexecuted": false,
    "source_hash": "586f752a",
    "execution_start": 1658157067480,
    "execution_millis": 304,
    "deepnote_cell_type": "code",
    "deepnote_cell_height": 284
   },
   "outputs": [
    {
     "output_type": "execute_result",
     "execution_count": 93,
     "data": {
      "application/vnd.deepnote.dataframe.v3+json": {
       "column_count": 6,
       "row_count": 1,
       "columns": [
        {
         "name": "userId",
         "dtype": "int64",
         "stats": {
          "unique_count": 1,
          "nan_count": 0,
          "min": "232",
          "max": "232",
          "histogram": [
           {
            "bin_start": 231.5,
            "bin_end": 231.6,
            "count": 0
           },
           {
            "bin_start": 231.6,
            "bin_end": 231.7,
            "count": 0
           },
           {
            "bin_start": 231.7,
            "bin_end": 231.8,
            "count": 0
           },
           {
            "bin_start": 231.8,
            "bin_end": 231.9,
            "count": 0
           },
           {
            "bin_start": 231.9,
            "bin_end": 232,
            "count": 0
           },
           {
            "bin_start": 232,
            "bin_end": 232.1,
            "count": 1
           },
           {
            "bin_start": 232.1,
            "bin_end": 232.2,
            "count": 0
           },
           {
            "bin_start": 232.2,
            "bin_end": 232.3,
            "count": 0
           },
           {
            "bin_start": 232.3,
            "bin_end": 232.4,
            "count": 0
           },
           {
            "bin_start": 232.4,
            "bin_end": 232.5,
            "count": 0
           }
          ]
         }
        },
        {
         "name": "movieId",
         "dtype": "int64",
         "stats": {
          "unique_count": 1,
          "nan_count": 0,
          "min": "33148",
          "max": "33148",
          "histogram": [
           {
            "bin_start": 33147.5,
            "bin_end": 33147.6,
            "count": 0
           },
           {
            "bin_start": 33147.6,
            "bin_end": 33147.7,
            "count": 0
           },
           {
            "bin_start": 33147.7,
            "bin_end": 33147.8,
            "count": 0
           },
           {
            "bin_start": 33147.8,
            "bin_end": 33147.9,
            "count": 0
           },
           {
            "bin_start": 33147.9,
            "bin_end": 33148,
            "count": 0
           },
           {
            "bin_start": 33148,
            "bin_end": 33148.1,
            "count": 1
           },
           {
            "bin_start": 33148.1,
            "bin_end": 33148.2,
            "count": 0
           },
           {
            "bin_start": 33148.2,
            "bin_end": 33148.3,
            "count": 0
           },
           {
            "bin_start": 33148.3,
            "bin_end": 33148.4,
            "count": 0
           },
           {
            "bin_start": 33148.4,
            "bin_end": 33148.5,
            "count": 0
           }
          ]
         }
        },
        {
         "name": "rating",
         "dtype": "float64",
         "stats": {
          "unique_count": 1,
          "nan_count": 0,
          "min": "2.5",
          "max": "2.5",
          "histogram": [
           {
            "bin_start": 2,
            "bin_end": 2.1,
            "count": 0
           },
           {
            "bin_start": 2.1,
            "bin_end": 2.2,
            "count": 0
           },
           {
            "bin_start": 2.2,
            "bin_end": 2.3,
            "count": 0
           },
           {
            "bin_start": 2.3,
            "bin_end": 2.4,
            "count": 0
           },
           {
            "bin_start": 2.4,
            "bin_end": 2.5,
            "count": 0
           },
           {
            "bin_start": 2.5,
            "bin_end": 2.6,
            "count": 1
           },
           {
            "bin_start": 2.6,
            "bin_end": 2.7,
            "count": 0
           },
           {
            "bin_start": 2.7,
            "bin_end": 2.8,
            "count": 0
           },
           {
            "bin_start": 2.8,
            "bin_end": 2.9,
            "count": 0
           },
           {
            "bin_start": 2.9,
            "bin_end": 3,
            "count": 0
           }
          ]
         }
        },
        {
         "name": "title",
         "dtype": "object",
         "stats": {
          "unique_count": 1,
          "nan_count": 0,
          "categories": [
           {
            "name": "King's Ransom",
            "count": 1
           }
          ]
         }
        },
        {
         "name": "genres",
         "dtype": "object",
         "stats": {
          "unique_count": 1,
          "nan_count": 0,
          "categories": [
           {
            "name": "Comedy|Crime",
            "count": 1
           }
          ]
         }
        },
        {
         "name": "release_year",
         "dtype": "float64",
         "stats": {
          "unique_count": 1,
          "nan_count": 0,
          "min": "2005.0",
          "max": "2005.0",
          "histogram": [
           {
            "bin_start": 2004.5,
            "bin_end": 2004.6,
            "count": 0
           },
           {
            "bin_start": 2004.6,
            "bin_end": 2004.7,
            "count": 0
           },
           {
            "bin_start": 2004.7,
            "bin_end": 2004.8,
            "count": 0
           },
           {
            "bin_start": 2004.8,
            "bin_end": 2004.9,
            "count": 0
           },
           {
            "bin_start": 2004.9,
            "bin_end": 2005,
            "count": 0
           },
           {
            "bin_start": 2005,
            "bin_end": 2005.1,
            "count": 1
           },
           {
            "bin_start": 2005.1,
            "bin_end": 2005.2,
            "count": 0
           },
           {
            "bin_start": 2005.2,
            "bin_end": 2005.3,
            "count": 0
           },
           {
            "bin_start": 2005.3,
            "bin_end": 2005.4,
            "count": 0
           },
           {
            "bin_start": 2005.4,
            "bin_end": 2005.5,
            "count": 0
           }
          ]
         }
        },
        {
         "name": "_deepnote_index_column",
         "dtype": "int64"
        }
       ],
       "rows": [
        {
         "userId": 232,
         "movieId": 33148,
         "rating": 2.5,
         "title": "King's Ransom",
         "genres": "Comedy|Crime",
         "release_year": 2005,
         "_deepnote_index_column": 94426
        }
       ]
      },
      "text/plain": "       userId  movieId  rating          title        genres  release_year\n94426     232    33148     2.5  King's Ransom  Comedy|Crime        2005.0",
      "text/html": "<div>\n<style scoped>\n    .dataframe tbody tr th:only-of-type {\n        vertical-align: middle;\n    }\n\n    .dataframe tbody tr th {\n        vertical-align: top;\n    }\n\n    .dataframe thead th {\n        text-align: right;\n    }\n</style>\n<table border=\"1\" class=\"dataframe\">\n  <thead>\n    <tr style=\"text-align: right;\">\n      <th></th>\n      <th>userId</th>\n      <th>movieId</th>\n      <th>rating</th>\n      <th>title</th>\n      <th>genres</th>\n      <th>release_year</th>\n    </tr>\n  </thead>\n  <tbody>\n    <tr>\n      <th>94426</th>\n      <td>232</td>\n      <td>33148</td>\n      <td>2.5</td>\n      <td>King's Ransom</td>\n      <td>Comedy|Crime</td>\n      <td>2005.0</td>\n    </tr>\n  </tbody>\n</table>\n</div>"
     },
     "metadata": {}
    }
   ],
   "execution_count": 93
  },
  {
   "cell_type": "code",
   "source": "#Concatenating of all extracted movie id data into a single datframe.\ndf_leastrated= pd.concat([df_5560,df_161594,df_6090,df_6578, df_6358, df_136838, df_33148])\ndf_leastrated.head(7)\n",
   "metadata": {
    "cell_id": "c1187ccd80c648628c83d89da3ddd34a",
    "tags": [],
    "deepnote_to_be_reexecuted": false,
    "source_hash": "2588303f",
    "execution_start": 1658157135833,
    "execution_millis": 48,
    "deepnote_cell_type": "code",
    "deepnote_cell_height": 548
   },
   "outputs": [
    {
     "output_type": "execute_result",
     "execution_count": 95,
     "data": {
      "application/vnd.deepnote.dataframe.v3+json": {
       "column_count": 6,
       "row_count": 7,
       "columns": [
        {
         "name": "userId",
         "dtype": "int64",
         "stats": {
          "unique_count": 7,
          "nan_count": 0,
          "min": "20",
          "max": "606",
          "histogram": [
           {
            "bin_start": 20,
            "bin_end": 78.6,
            "count": 1
           },
           {
            "bin_start": 78.6,
            "bin_end": 137.2,
            "count": 0
           },
           {
            "bin_start": 137.2,
            "bin_end": 195.8,
            "count": 1
           },
           {
            "bin_start": 195.8,
            "bin_end": 254.4,
            "count": 1
           },
           {
            "bin_start": 254.4,
            "bin_end": 313,
            "count": 0
           },
           {
            "bin_start": 313,
            "bin_end": 371.6,
            "count": 0
           },
           {
            "bin_start": 371.6,
            "bin_end": 430.2,
            "count": 0
           },
           {
            "bin_start": 430.2,
            "bin_end": 488.8,
            "count": 1
           },
           {
            "bin_start": 488.8,
            "bin_end": 547.4,
            "count": 2
           },
           {
            "bin_start": 547.4,
            "bin_end": 606,
            "count": 1
           }
          ]
         }
        },
        {
         "name": "movieId",
         "dtype": "int64",
         "stats": {
          "unique_count": 7,
          "nan_count": 0,
          "min": "5560",
          "max": "161594",
          "histogram": [
           {
            "bin_start": 5560,
            "bin_end": 21163.4,
            "count": 4
           },
           {
            "bin_start": 21163.4,
            "bin_end": 36766.8,
            "count": 1
           },
           {
            "bin_start": 36766.8,
            "bin_end": 52370.2,
            "count": 0
           },
           {
            "bin_start": 52370.2,
            "bin_end": 67973.6,
            "count": 0
           },
           {
            "bin_start": 67973.6,
            "bin_end": 83577,
            "count": 0
           },
           {
            "bin_start": 83577,
            "bin_end": 99180.4,
            "count": 0
           },
           {
            "bin_start": 99180.4,
            "bin_end": 114783.8,
            "count": 0
           },
           {
            "bin_start": 114783.8,
            "bin_end": 130387.2,
            "count": 0
           },
           {
            "bin_start": 130387.2,
            "bin_end": 145990.6,
            "count": 1
           },
           {
            "bin_start": 145990.6,
            "bin_end": 161594,
            "count": 1
           }
          ]
         }
        },
        {
         "name": "rating",
         "dtype": "float64",
         "stats": {
          "unique_count": 3,
          "nan_count": 0,
          "min": "1.0",
          "max": "3.5",
          "histogram": [
           {
            "bin_start": 1,
            "bin_end": 1.25,
            "count": 1
           },
           {
            "bin_start": 1.25,
            "bin_end": 1.5,
            "count": 0
           },
           {
            "bin_start": 1.5,
            "bin_end": 1.75,
            "count": 0
           },
           {
            "bin_start": 1.75,
            "bin_end": 2,
            "count": 0
           },
           {
            "bin_start": 2,
            "bin_end": 2.25,
            "count": 0
           },
           {
            "bin_start": 2.25,
            "bin_end": 2.5,
            "count": 0
           },
           {
            "bin_start": 2.5,
            "bin_end": 2.75,
            "count": 2
           },
           {
            "bin_start": 2.75,
            "bin_end": 3,
            "count": 0
           },
           {
            "bin_start": 3,
            "bin_end": 3.25,
            "count": 0
           },
           {
            "bin_start": 3.25,
            "bin_end": 3.5,
            "count": 4
           }
          ]
         }
        },
        {
         "name": "title",
         "dtype": "object",
         "stats": {
          "unique_count": 7,
          "nan_count": 0,
          "categories": [
           {
            "name": "À nous la liberté (Freedom for Us)",
            "count": 1
           },
           {
            "name": "Kingsglaive: Final Fantasy XV",
            "count": 1
           },
           {
            "name": "5 others",
            "count": 5
           }
          ]
         }
        },
        {
         "name": "genres",
         "dtype": "object",
         "stats": {
          "unique_count": 6,
          "nan_count": 0,
          "categories": [
           {
            "name": "Comedy",
            "count": 2
           },
           {
            "name": "Comedy|Musical",
            "count": 1
           },
           {
            "name": "4 others",
            "count": 4
           }
          ]
         }
        },
        {
         "name": "release_year",
         "dtype": "float64",
         "stats": {
          "unique_count": 7,
          "nan_count": 0,
          "min": "1931.0",
          "max": "2016.0",
          "histogram": [
           {
            "bin_start": 1931,
            "bin_end": 1939.5,
            "count": 1
           },
           {
            "bin_start": 1939.5,
            "bin_end": 1948,
            "count": 0
           },
           {
            "bin_start": 1948,
            "bin_end": 1956.5,
            "count": 1
           },
           {
            "bin_start": 1956.5,
            "bin_end": 1965,
            "count": 1
           },
           {
            "bin_start": 1965,
            "bin_end": 1973.5,
            "count": 0
           },
           {
            "bin_start": 1973.5,
            "bin_end": 1982,
            "count": 0
           },
           {
            "bin_start": 1982,
            "bin_end": 1990.5,
            "count": 1
           },
           {
            "bin_start": 1990.5,
            "bin_end": 1999,
            "count": 0
           },
           {
            "bin_start": 1999,
            "bin_end": 2007.5,
            "count": 2
           },
           {
            "bin_start": 2007.5,
            "bin_end": 2016,
            "count": 1
           }
          ]
         }
        },
        {
         "name": "_deepnote_index_column",
         "dtype": "int64"
        }
       ],
       "rows": [
        {
         "userId": 527,
         "movieId": 5560,
         "rating": 1,
         "title": "À nous la liberté (Freedom for Us)",
         "genres": "Comedy|Musical",
         "release_year": 1931,
         "_deepnote_index_column": 99724
        },
        {
         "userId": 184,
         "movieId": 161594,
         "rating": 3.5,
         "title": "Kingsglaive: Final Fantasy XV",
         "genres": "Action|Adventure|Animation|Drama|Fantasy|Sci-Fi",
         "release_year": 2016,
         "_deepnote_index_column": 92920
        },
        {
         "userId": 474,
         "movieId": 6090,
         "rating": 3.5,
         "title": "Kiss Me Goodbye",
         "genres": "Comedy",
         "release_year": 1982,
         "_deepnote_index_column": 99201
        },
        {
         "userId": 606,
         "movieId": 6578,
         "rating": 3.5,
         "title": "Kiss Me, Stupid",
         "genres": "Comedy",
         "release_year": 1964,
         "_deepnote_index_column": 100597
        },
        {
         "userId": 20,
         "movieId": 6358,
         "rating": 3.5,
         "title": "Kiss Me Kate",
         "genres": "Comedy|Musical|Romance",
         "release_year": 1953,
         "_deepnote_index_column": 66361
        },
        {
         "userId": 509,
         "movieId": 136838,
         "rating": 2.5,
         "title": "Kiss me Kismet",
         "genres": "Comedy|Romance",
         "release_year": 2006,
         "_deepnote_index_column": 99626
        },
        {
         "userId": 232,
         "movieId": 33148,
         "rating": 2.5,
         "title": "King's Ransom",
         "genres": "Comedy|Crime",
         "release_year": 2005,
         "_deepnote_index_column": 94426
        }
       ]
      },
      "text/plain": "        userId  movieId  rating                               title  \\\n99724      527     5560     1.0  À nous la liberté (Freedom for Us)   \n92920      184   161594     3.5       Kingsglaive: Final Fantasy XV   \n99201      474     6090     3.5                     Kiss Me Goodbye   \n100597     606     6578     3.5                     Kiss Me, Stupid   \n66361       20     6358     3.5                        Kiss Me Kate   \n99626      509   136838     2.5                      Kiss me Kismet   \n94426      232    33148     2.5                       King's Ransom   \n\n                                                 genres  release_year  \n99724                                    Comedy|Musical        1931.0  \n92920   Action|Adventure|Animation|Drama|Fantasy|Sci-Fi        2016.0  \n99201                                            Comedy        1982.0  \n100597                                           Comedy        1964.0  \n66361                            Comedy|Musical|Romance        1953.0  \n99626                                    Comedy|Romance        2006.0  \n94426                                      Comedy|Crime        2005.0  ",
      "text/html": "<div>\n<style scoped>\n    .dataframe tbody tr th:only-of-type {\n        vertical-align: middle;\n    }\n\n    .dataframe tbody tr th {\n        vertical-align: top;\n    }\n\n    .dataframe thead th {\n        text-align: right;\n    }\n</style>\n<table border=\"1\" class=\"dataframe\">\n  <thead>\n    <tr style=\"text-align: right;\">\n      <th></th>\n      <th>userId</th>\n      <th>movieId</th>\n      <th>rating</th>\n      <th>title</th>\n      <th>genres</th>\n      <th>release_year</th>\n    </tr>\n  </thead>\n  <tbody>\n    <tr>\n      <th>99724</th>\n      <td>527</td>\n      <td>5560</td>\n      <td>1.0</td>\n      <td>À nous la liberté (Freedom for Us)</td>\n      <td>Comedy|Musical</td>\n      <td>1931.0</td>\n    </tr>\n    <tr>\n      <th>92920</th>\n      <td>184</td>\n      <td>161594</td>\n      <td>3.5</td>\n      <td>Kingsglaive: Final Fantasy XV</td>\n      <td>Action|Adventure|Animation|Drama|Fantasy|Sci-Fi</td>\n      <td>2016.0</td>\n    </tr>\n    <tr>\n      <th>99201</th>\n      <td>474</td>\n      <td>6090</td>\n      <td>3.5</td>\n      <td>Kiss Me Goodbye</td>\n      <td>Comedy</td>\n      <td>1982.0</td>\n    </tr>\n    <tr>\n      <th>100597</th>\n      <td>606</td>\n      <td>6578</td>\n      <td>3.5</td>\n      <td>Kiss Me, Stupid</td>\n      <td>Comedy</td>\n      <td>1964.0</td>\n    </tr>\n    <tr>\n      <th>66361</th>\n      <td>20</td>\n      <td>6358</td>\n      <td>3.5</td>\n      <td>Kiss Me Kate</td>\n      <td>Comedy|Musical|Romance</td>\n      <td>1953.0</td>\n    </tr>\n    <tr>\n      <th>99626</th>\n      <td>509</td>\n      <td>136838</td>\n      <td>2.5</td>\n      <td>Kiss me Kismet</td>\n      <td>Comedy|Romance</td>\n      <td>2006.0</td>\n    </tr>\n    <tr>\n      <th>94426</th>\n      <td>232</td>\n      <td>33148</td>\n      <td>2.5</td>\n      <td>King's Ransom</td>\n      <td>Comedy|Crime</td>\n      <td>2005.0</td>\n    </tr>\n  </tbody>\n</table>\n</div>"
     },
     "metadata": {}
    }
   ],
   "execution_count": 95
  },
  {
   "cell_type": "markdown",
   "source": "The seven least rated movies were mostly comedy movies with a common phrase 'Kiss'.",
   "metadata": {
    "cell_id": "9fe4bbb6e6414007894ef3f0182e2b74",
    "tags": [],
    "is_collapsed": false,
    "formattedRanges": [],
    "owner_user_id": "9cdef791-3a09-4134-b581-24a4b894f9ab",
    "deepnote_cell_type": "text-cell-p"
   }
  },
  {
   "cell_type": "code",
   "source": "G = nx.Graph()\nG = nx.from_pandas_edgelist(df_mostrated, 'movieId', 'genres')\nnx.draw(G, with_labels=True)\nplt.show()",
   "metadata": {
    "cell_id": "910f7ec569204adc8b8965bc6f15ca45",
    "tags": [],
    "deepnote_to_be_reexecuted": false,
    "source_hash": "c2c2e00b",
    "execution_start": 1658157524348,
    "execution_millis": 901,
    "deepnote_cell_type": "code",
    "deepnote_cell_height": 455,
    "deepnote_output_heights": [
     304
    ]
   },
   "outputs": [
    {
     "data": {
      "text/plain": "<Figure size 432x288 with 1 Axes>",
      "image/png": "[encoded data removed]"
     },
     "metadata": {
      "image/png": {
       "width": 446,
       "height": 302
      }
     },
     "output_type": "display_data"
    }
   ],
   "execution_count": 97
  },
  {
   "cell_type": "markdown",
   "source": "<a style='text-decoration:none;line-height:16px;display:flex;color:#5B5B62;padding:10px;justify-content:end;' href='https://deepnote.com?utm_source=created-in-deepnote-cell&projectId=27bcd221-b64d-46f2-83dc-8fb199a7eed4' target=\"_blank\">\n<img alt='Created in deepnote.com' style='display:inline;max-height:16px;margin:0px;margin-right:7.5px;' src='data:image/svg+xml;base64,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' > </img>\nCreated in <span style='font-weight:600;margin-left:4px;'>Deepnote</span></a>",
   "metadata": {
    "tags": [],
    "created_in_deepnote_cell": true,
    "deepnote_cell_type": "markdown"
   }
  }
 ],
 "nbformat": 4,
 "nbformat_minor": 2,
 "metadata": {
  "orig_nbformat": 2,
  "deepnote": {},
  "deepnote_notebook_id": "e7f92856-e387-45f0-92b0-f7c91fa6ad08",
  "deepnote_execution_queue": []
 }
}